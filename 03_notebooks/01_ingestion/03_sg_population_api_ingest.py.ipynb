{
 "cells": [
  {
   "cell_type": "code",
   "execution_count": 0,
   "metadata": {
    "application/vnd.databricks.v1+cell": {
     "cellMetadata": {},
     "inputWidgets": {},
     "nuid": "4b406630-15ee-4f84-8058-d7641ec8462d",
     "showTitle": false,
     "tableResultSettingsMap": {},
     "title": ""
    }
   },
   "outputs": [],
   "source": [
    "import requests\n",
    "import pandas as pd\n",
    "from pyspark.sql import SparkSession\n",
    "\n",
    "# Dataset ID\n",
    "dataset_id = \"d_3cf667d761b4bdc6d4d3d3aeec37dea5\"\n",
    "url = f\"https://data.gov.sg/api/action/datastore_search?resource_id={dataset_id}&limit=5000\"\n",
    "\n",
    "# Fetch data\n",
    "response = requests.get(url)\n",
    "if response.status_code != 200:\n",
    "    raise Exception(f\"Failed: {response.status_code}\")\n",
    "\n",
    "data_json = response.json()\n",
    "records = data_json['result']['records']\n",
    "df_raw = pd.DataFrame(records)\n",
    "\n",
    "# Convert numeric year columns to int where possible\n",
    "year_cols = [col for col in df_raw.columns if col.isdigit()]\n",
    "df_raw[year_cols] = df_raw[year_cols].apply(pd.to_numeric, errors='coerce')\n",
    "\n",
    "# Melt the wide-format dataframe to long-format\n",
    "df_long = df_raw.melt(\n",
    "    id_vars=[\"DataSeries\"], \n",
    "    value_vars=year_cols,\n",
    "    var_name=\"year\", \n",
    "    value_name=\"population\"\n",
    ")\n",
    "\n",
    "# Rename columns\n",
    "df_long.rename(columns={\"DataSeries\": \"age_group\"}, inplace=True)\n",
    "\n",
    "# Convert year to int\n",
    "df_long[\"year\"] = df_long[\"year\"].astype(int)\n",
    "df_long[\"population\"] = pd.to_numeric(df_long[\"population\"], errors=\"coerce\")\n",
    "\n",
    "# Drop nulls if any\n",
    "df_long.dropna(subset=[\"population\"], inplace=True)\n",
    "\n",
    "# Convert to Spark DataFrame\n",
    "df_spark = spark.createDataFrame(df_long)\n",
    "\n",
    "# Display sample\n",
    "df_spark.display()\n",
    "\n",
    "df_spark.write.mode(\"overwrite\").format(\"delta\").saveAsTable(\"civAI.raw.sdoh_age_population\")\n"
   ]
  }
 ],
 "metadata": {
  "application/vnd.databricks.v1+notebook": {
   "computePreferences": null,
   "dashboards": [],
   "environmentMetadata": {
    "base_environment": "",
    "environment_version": "2"
   },
   "inputWidgetPreferences": null,
   "language": "python",
   "notebookMetadata": {
    "pythonIndentUnit": 4
   },
   "notebookName": "03_sg_population_api_ingest.py",
   "widgets": {}
  },
  "language_info": {
   "name": "python"
  }
 },
 "nbformat": 4,
 "nbformat_minor": 0
}
