{
 "cells": [
  {
   "cell_type": "code",
   "execution_count": 0,
   "metadata": {
    "application/vnd.databricks.v1+cell": {
     "cellMetadata": {},
     "inputWidgets": {},
     "nuid": "6081223c-157d-4d0e-93c5-064b0db39b01",
     "showTitle": false,
     "tableResultSettingsMap": {},
     "title": ""
    }
   },
   "outputs": [],
   "source": [
    "from pyspark.sql.functions import expr, regexp_replace, trim, col\n",
    "\n",
    "# Read both datasets\n",
    "df_sdoh = spark.table(\"civAI.raw.sdoh_age_population\")\n",
    "df_dist = spark.table(\"civAI.raw.age_group_distribution\")\n",
    "\n",
    "# Unpivot age columns from df_dist\n",
    "age_columns = [col for col in df_dist.columns if col.startswith(\"total_\") and col != \"total_total\"]\n",
    "expr_str = \",\".join([f\"'{col}', `{col}`\" for col in age_columns])\n",
    "\n",
    "df_dist_long = df_dist.selectExpr(\n",
    "    \"Number as region\",\n",
    "    f\"stack({len(age_columns)}, {expr_str}) as (age_group_col, population)\"\n",
    ")\n",
    "\n",
    "# Clean age group column\n",
    "df_dist_long = df_dist_long.withColumn(\n",
    "    \"age_group\",\n",
    "    trim(regexp_replace(\"age_group_col\", \"total_\", \"\"))\n",
    ").drop(\"age_group_col\")\n",
    "\n",
    "# Add year\n",
    "df_dist_long = df_dist_long.withColumn(\"year\", expr(\"2024\"))\n",
    "\n",
    "# Ensure population is treated as string in both sources before union\n",
    "df_sdoh = df_sdoh.select(\n",
    "    col(\"age_group\"),\n",
    "    col(\"year\"),\n",
    "    col(\"population\").cast(\"string\").alias(\"population\")\n",
    ")\n",
    "\n",
    "df_dist_long = df_dist_long.select(\n",
    "    col(\"age_group\"),\n",
    "    col(\"year\"),\n",
    "    col(\"population\").cast(\"string\").alias(\"population\")\n",
    ")\n",
    "\n",
    "# Union\n",
    "df_combined = df_sdoh.unionByName(df_dist_long)\n",
    "\n",
    "# Filter numeric-only population rows\n",
    "filtered_df = df_combined.filter(col(\"population\").rlike(\"^[0-9]+(\\\\.[0-9]+)?$\"))\n",
    "\n",
    "# Safe cast to double\n",
    "cleaned_df = filtered_df.withColumn(\"population\", col(\"population\").cast(\"double\"))\n",
    "\n",
    "# Write to Delta\n",
    "cleaned_df.write.mode(\"overwrite\").format(\"delta\").saveAsTable(\"civAI.raw.combined_age_population\")\n"
   ]
  }
 ],
 "metadata": {
  "application/vnd.databricks.v1+notebook": {
   "computePreferences": null,
   "dashboards": [],
   "environmentMetadata": {
    "base_environment": "",
    "environment_version": "2"
   },
   "inputWidgetPreferences": null,
   "language": "python",
   "notebookMetadata": {
    "pythonIndentUnit": 4
   },
   "notebookName": "05_unpivot_population_distribution.py",
   "widgets": {}
  },
  "language_info": {
   "name": "python"
  }
 },
 "nbformat": 4,
 "nbformat_minor": 0
}
