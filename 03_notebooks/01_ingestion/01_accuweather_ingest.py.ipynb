{
 "cells": [
  {
   "cell_type": "code",
   "execution_count": 0,
   "metadata": {
    "application/vnd.databricks.v1+cell": {
     "cellMetadata": {},
     "inputWidgets": {},
     "nuid": "07d83d18-32a5-4b2e-8225-9b1f41b9ab10",
     "showTitle": false,
     "tableResultSettingsMap": {},
     "title": ""
    }
   },
   "outputs": [],
   "source": [
    "import requests\n",
    "from pyspark.sql.functions import lit, current_timestamp, col\n",
    "import json\n",
    "\n",
    "# === API Setup ===\n",
    "API_KEY = \"zuNatlvzr6ZwlKh4Y9j2nQG6spfv1x2X\"\n",
    "LOCATION_KEY = \"300597\"  # Singapore\n",
    "\n",
    "url = f\"http://dataservice.accuweather.com/forecasts/v1/daily/5day/{LOCATION_KEY}?apikey={API_KEY}&metric=true\"\n",
    "response = requests.get(url)\n",
    "forecast_data = response.json()\n",
    "\n",
    "# === Extract DailyForecasts only ===\n",
    "daily_forecasts = forecast_data.get(\"DailyForecasts\", [])\n",
    "df_weather = spark.createDataFrame(daily_forecasts)\n",
    "\n",
    "# === Flatten the structure ===\n",
    "df_flat = df_weather.select(\n",
    "    col(\"Date\"),\n",
    "    col(\"EpochDate\"),\n",
    "    col(\"Temperature.Minimum.Value\").alias(\"MinTemp_C\"),\n",
    "    col(\"Temperature.Maximum.Value\").alias(\"MaxTemp_C\"),\n",
    "    col(\"Day.IconPhrase\").alias(\"DayForecast\"),\n",
    "    col(\"Night.IconPhrase\").alias(\"NightForecast\"),\n",
    "    col(\"Sources\"),\n",
    "    col(\"MobileLink\"),\n",
    "    col(\"Link\")\n",
    ").withColumn(\"source\", lit(\"accuweather\")) \\\n",
    " .withColumn(\"ingestion_timestamp\", current_timestamp())\n",
    "\n",
    "# === Save as a managed Delta table under your Unity Catalog ===\n",
    "df_flat.write.format(\"delta\") \\\n",
    "    .mode(\"overwrite\") \\\n",
    "    .option(\"overwriteSchema\", \"true\") \\\n",
    "    .saveAsTable(\"civAI.raw.accuweather_forecast\")\n",
    "\n",
    "# === Confirm it was saved and inspect ===\n",
    "display(spark.sql(\"SELECT * FROM civAI.raw.accuweather_forecast\"))\n"
   ]
  }
 ],
 "metadata": {
  "application/vnd.databricks.v1+notebook": {
   "computePreferences": null,
   "dashboards": [],
   "environmentMetadata": {
    "base_environment": "",
    "environment_version": "2"
   },
   "inputWidgetPreferences": null,
   "language": "python",
   "notebookMetadata": {
    "pythonIndentUnit": 4
   },
   "notebookName": "01_accuweather_ingest.py",
   "widgets": {}
  },
  "language_info": {
   "name": "python"
  }
 },
 "nbformat": 4,
 "nbformat_minor": 0
}
