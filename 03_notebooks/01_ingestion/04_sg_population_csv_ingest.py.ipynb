{
 "cells": [
  {
   "cell_type": "code",
   "execution_count": 0,
   "metadata": {
    "application/vnd.databricks.v1+cell": {
     "cellMetadata": {},
     "inputWidgets": {},
     "nuid": "e3c02939-a41e-4847-a283-dcb1bd9472ff",
     "showTitle": false,
     "tableResultSettingsMap": {},
     "title": ""
    }
   },
   "outputs": [],
   "source": [
    "import pandas as pd\n",
    "from pyspark.sql import SparkSession\n",
    "\n",
    "# Initialize Spark session\n",
    "spark = SparkSession.builder.appName(\"CivAI_Ingestion\").getOrCreate()\n",
    "\n",
    "# Define the path to the downloaded CSV file\n",
    "csv_file_path = \"/Volumes/civai/raw/singaporegovdata/ResidentPopulationbyPlanningAreaSubzoneofResidenceAgeGroupandSexCensusofPopulation2020.csv\"\n",
    "\n",
    "# Read the CSV file into a pandas DataFrame\n",
    "df_pd = pd.read_csv(csv_file_path)\n",
    "\n",
    "# Display the first few rows\n",
    "print(df_pd.head())\n",
    "\n",
    "# Convert pandas DataFrame to Spark DataFrame\n",
    "df_spark = spark.createDataFrame(df_pd)\n",
    "\n",
    "# Rename columns if necessary\n",
    "df_spark = df_spark.withColumnRenamed(\"YourPlanningAreaColumn\", \"planning_area\") \\\n",
    "                   .withColumnRenamed(\"YourSubzoneColumn\", \"subzone\") \\\n",
    "                   .withColumnRenamed(\"YourAgeGroupColumn\", \"age_group\") \\\n",
    "                   .withColumnRenamed(\"YourSexColumn\", \"sex\") \\\n",
    "                   .withColumnRenamed(\"YourPopulationColumn\", \"population\")\n",
    "\n",
    "\n",
    "df_spark = df_spark.toDF(*[col.strip().replace(\" \", \"_\").lower() for col in df_spark.columns])\n",
    "\n",
    "df_spark = df_spark.withColumn(\"Number\", df_spark[\"Number\"].cast(\"string\"))\n",
    "\n",
    "# Show the Spark DataFrame\n",
    "df_spark.show()\n",
    "\n",
    "df_spark.write.mode(\"overwrite\").format(\"delta\").saveAsTable(\"civAI.raw.age_group_distribution\")\n"
   ]
  }
 ],
 "metadata": {
  "application/vnd.databricks.v1+notebook": {
   "computePreferences": null,
   "dashboards": [],
   "environmentMetadata": {
    "base_environment": "",
    "environment_version": "2"
   },
   "inputWidgetPreferences": null,
   "language": "python",
   "notebookMetadata": {
    "pythonIndentUnit": 4
   },
   "notebookName": "04_sg_population_csv_ingest.py",
   "widgets": {}
  },
  "language_info": {
   "name": "python"
  }
 },
 "nbformat": 4,
 "nbformat_minor": 0
}
