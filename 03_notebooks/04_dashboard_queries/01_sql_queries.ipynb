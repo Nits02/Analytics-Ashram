{
 "cells": [
  {
   "cell_type": "code",
   "execution_count": null,
   "id": "556ee1d9",
   "metadata": {
    "vscode": {
     "languageId": "plaintext"
    }
   },
   "outputs": [],
   "source": [
    "%sql\n",
    "\n",
    "SELECT region, ROUND(AVG(drpi_score), 2) as avg_drpi\n",
    "FROM civAI.gold.drpi_scores\n",
    "GROUP BY region\n",
    "ORDER BY avg_drpi DESC\n",
    "\n",
    "\n",
    "SELECT start_date, ROUND(AVG(drpi_score), 2) AS avg_drpi\n",
    "FROM civAI.gold.drpi_scores\n",
    "GROUP BY start_date\n",
    "ORDER BY start_date\n",
    "\n",
    "SELECT disaster_type, ROUND(AVG(drpi_score), 2) as avg_score\n",
    "FROM civAI.gold.drpi_scores\n",
    "GROUP BY disaster_type\n",
    "ORDER BY avg_score DESC\n",
    "\n",
    "\n",
    "SELECT region, disaster_type, start_date, ROUND(drpi_score, 2) AS drpi_score\n",
    "FROM civAI.gold.drpi_scores\n",
    "ORDER BY drpi_score ASC\n",
    "LIMIT 20\n"
   ]
  }
 ],
 "metadata": {
  "language_info": {
   "name": "python"
  }
 },
 "nbformat": 4,
 "nbformat_minor": 5
}
