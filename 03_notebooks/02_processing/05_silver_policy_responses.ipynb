{
 "cells": [
  {
   "cell_type": "code",
   "execution_count": null,
   "id": "e669952b",
   "metadata": {
    "vscode": {
     "languageId": "plaintext"
    }
   },
   "outputs": [],
   "source": [
    "from pyspark.sql.functions import col, to_date\n",
    "\n",
    "df = spark.read.table(\"civAI.raw.bronze_policy_responses\")\n",
    "\n",
    "df_cleaned = df.select(\n",
    "    col(\"policy_id\"),\n",
    "    col(\"policy_type\"),\n",
    "    col(\"region\"),\n",
    "    col(\"applies_to_disaster\").alias(\"disaster_type\"),\n",
    "    to_date(col(\"start_date\"), \"yyyy-MM-dd\").alias(\"start_date\"),\n",
    "    to_date(col(\"end_date\"), \"yyyy-MM-dd\").alias(\"end_date\"),\n",
    "    col(\"budget_allocation_musd\").cast(\"double\")\n",
    ").filter(\n",
    "    col(\"region\").isNotNull() & col(\"policy_type\").isNotNull()\n",
    ")\n",
    "\n",
    "df_cleaned.write.format(\"delta\").mode(\"overwrite\").saveAsTable(\"civAI.silver.silver_policy_responses\")\n"
   ]
  }
 ],
 "metadata": {
  "language_info": {
   "name": "python"
  }
 },
 "nbformat": 4,
 "nbformat_minor": 5
}
