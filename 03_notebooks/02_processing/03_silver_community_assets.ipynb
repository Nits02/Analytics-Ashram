{
 "cells": [
  {
   "cell_type": "code",
   "execution_count": null,
   "id": "4ac9bdcb",
   "metadata": {
    "vscode": {
     "languageId": "plaintext"
    }
   },
   "outputs": [],
   "source": [
    "from pyspark.sql.functions import col, trim\n",
    "\n",
    "df = spark.read.table(\"civAI.raw.bronze_community_assets\")\n",
    "\n",
    "df_cleaned = df.select(\n",
    "    trim(col(\"facility_id\")).alias(\"facility_id\"),\n",
    "    trim(col(\"facility_type\")).alias(\"facility_type\"),\n",
    "    trim(col(\"location\")).alias(\"region\"),\n",
    "    col(\"latitude\").cast(\"double\"),\n",
    "    col(\"longitude\").cast(\"double\"),\n",
    "    col(\"capacity\").cast(\"int\"),\n",
    "    col(\"criticality_score\").cast(\"double\")\n",
    ").filter(\n",
    "    col(\"latitude\").isNotNull() & col(\"longitude\").isNotNull()\n",
    ")\n",
    "\n",
    "df_cleaned.write.format(\"delta\").mode(\"overwrite\").saveAsTable(\"civAI.silver.silver_community_assets\")\n"
   ]
  }
 ],
 "metadata": {
  "language_info": {
   "name": "python"
  }
 },
 "nbformat": 4,
 "nbformat_minor": 5
}
