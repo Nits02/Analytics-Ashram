{
 "cells": [
  {
   "cell_type": "code",
   "execution_count": 0,
   "metadata": {
    "application/vnd.databricks.v1+cell": {
     "cellMetadata": {
      "byteLimit": 2048000,
      "implicitDf": true,
      "rowLimit": 10000
     },
     "inputWidgets": {},
     "nuid": "c2da6665-bcdc-42c1-a4db-ab5e4c7e1eb9",
     "showTitle": false,
     "tableResultSettingsMap": {},
     "title": ""
    }
   },
   "outputs": [
    {
     "output_type": "display_data",
     "data": {
      "text/html": [
       "<style scoped>\n",
       "  .table-result-container {\n",
       "    max-height: 300px;\n",
       "    overflow: auto;\n",
       "  }\n",
       "  table, th, td {\n",
       "    border: 1px solid black;\n",
       "    border-collapse: collapse;\n",
       "  }\n",
       "  th, td {\n",
       "    padding: 5px;\n",
       "  }\n",
       "  th {\n",
       "    text-align: left;\n",
       "  }\n",
       "</style><div class='table-result-container'><table class='table-result'><thead style='background-color: white'><tr><th>Date</th><th>EpochDate</th><th>MinTemp_C</th><th>MaxTemp_C</th><th>DayForecast</th><th>NightForecast</th><th>Sources</th><th>MobileLink</th><th>Link</th><th>source</th><th>ingestion_timestamp</th></tr></thead><tbody><tr><td>2025-05-26T07:00:00+08:00</td><td>1748214000</td><td>26.6</td><td>32.8</td><td>Intermittent clouds</td><td>Intermittent clouds</td><td>List(AccuWeather)</td><td>http://www.accuweather.com/en/sg/singapore/300597/daily-weather-forecast/300597?day=1&unit=c&lang=en-us</td><td>http://www.accuweather.com/en/sg/singapore/300597/daily-weather-forecast/300597?day=1&unit=c&lang=en-us</td><td>accuweather</td><td>2025-05-26T11:08:51.799Z</td></tr><tr><td>2025-05-27T07:00:00+08:00</td><td>1748300400</td><td>26.6</td><td>35.0</td><td>Partly sunny w/ t-storms</td><td>Mostly clear</td><td>List(AccuWeather)</td><td>http://www.accuweather.com/en/sg/singapore/300597/daily-weather-forecast/300597?day=2&unit=c&lang=en-us</td><td>http://www.accuweather.com/en/sg/singapore/300597/daily-weather-forecast/300597?day=2&unit=c&lang=en-us</td><td>accuweather</td><td>2025-05-26T11:08:51.799Z</td></tr><tr><td>2025-05-28T07:00:00+08:00</td><td>1748386800</td><td>26.9</td><td>34.7</td><td>Partly sunny w/ t-storms</td><td>Mostly cloudy</td><td>List(AccuWeather)</td><td>http://www.accuweather.com/en/sg/singapore/300597/daily-weather-forecast/300597?day=3&unit=c&lang=en-us</td><td>http://www.accuweather.com/en/sg/singapore/300597/daily-weather-forecast/300597?day=3&unit=c&lang=en-us</td><td>accuweather</td><td>2025-05-26T11:08:51.799Z</td></tr><tr><td>2025-05-29T07:00:00+08:00</td><td>1748473200</td><td>27.0</td><td>31.3</td><td>Thunderstorms</td><td>Partly cloudy</td><td>List(AccuWeather)</td><td>http://www.accuweather.com/en/sg/singapore/300597/daily-weather-forecast/300597?day=4&unit=c&lang=en-us</td><td>http://www.accuweather.com/en/sg/singapore/300597/daily-weather-forecast/300597?day=4&unit=c&lang=en-us</td><td>accuweather</td><td>2025-05-26T11:08:51.799Z</td></tr><tr><td>2025-05-30T07:00:00+08:00</td><td>1748559600</td><td>27.7</td><td>33.1</td><td>Showers</td><td>Intermittent clouds</td><td>List(AccuWeather)</td><td>http://www.accuweather.com/en/sg/singapore/300597/daily-weather-forecast/300597?day=5&unit=c&lang=en-us</td><td>http://www.accuweather.com/en/sg/singapore/300597/daily-weather-forecast/300597?day=5&unit=c&lang=en-us</td><td>accuweather</td><td>2025-05-26T11:08:51.799Z</td></tr></tbody></table></div>"
      ]
     },
     "metadata": {
      "application/vnd.databricks.v1+output": {
       "addedWidgets": {},
       "aggData": [],
       "aggError": "",
       "aggOverflow": false,
       "aggSchema": [],
       "aggSeriesLimitReached": false,
       "aggType": "",
       "arguments": {},
       "columnCustomDisplayInfos": {},
       "data": [
        [
         "2025-05-26T07:00:00+08:00",
         1748214000,
         "26.6",
         "32.8",
         "Intermittent clouds",
         "Intermittent clouds",
         [
          "AccuWeather"
         ],
         "http://www.accuweather.com/en/sg/singapore/300597/daily-weather-forecast/300597?day=1&unit=c&lang=en-us",
         "http://www.accuweather.com/en/sg/singapore/300597/daily-weather-forecast/300597?day=1&unit=c&lang=en-us",
         "accuweather",
         "2025-05-26T11:08:51.799Z"
        ],
        [
         "2025-05-27T07:00:00+08:00",
         1748300400,
         "26.6",
         "35.0",
         "Partly sunny w/ t-storms",
         "Mostly clear",
         [
          "AccuWeather"
         ],
         "http://www.accuweather.com/en/sg/singapore/300597/daily-weather-forecast/300597?day=2&unit=c&lang=en-us",
         "http://www.accuweather.com/en/sg/singapore/300597/daily-weather-forecast/300597?day=2&unit=c&lang=en-us",
         "accuweather",
         "2025-05-26T11:08:51.799Z"
        ],
        [
         "2025-05-28T07:00:00+08:00",
         1748386800,
         "26.9",
         "34.7",
         "Partly sunny w/ t-storms",
         "Mostly cloudy",
         [
          "AccuWeather"
         ],
         "http://www.accuweather.com/en/sg/singapore/300597/daily-weather-forecast/300597?day=3&unit=c&lang=en-us",
         "http://www.accuweather.com/en/sg/singapore/300597/daily-weather-forecast/300597?day=3&unit=c&lang=en-us",
         "accuweather",
         "2025-05-26T11:08:51.799Z"
        ],
        [
         "2025-05-29T07:00:00+08:00",
         1748473200,
         "27.0",
         "31.3",
         "Thunderstorms",
         "Partly cloudy",
         [
          "AccuWeather"
         ],
         "http://www.accuweather.com/en/sg/singapore/300597/daily-weather-forecast/300597?day=4&unit=c&lang=en-us",
         "http://www.accuweather.com/en/sg/singapore/300597/daily-weather-forecast/300597?day=4&unit=c&lang=en-us",
         "accuweather",
         "2025-05-26T11:08:51.799Z"
        ],
        [
         "2025-05-30T07:00:00+08:00",
         1748559600,
         "27.7",
         "33.1",
         "Showers",
         "Intermittent clouds",
         [
          "AccuWeather"
         ],
         "http://www.accuweather.com/en/sg/singapore/300597/daily-weather-forecast/300597?day=5&unit=c&lang=en-us",
         "http://www.accuweather.com/en/sg/singapore/300597/daily-weather-forecast/300597?day=5&unit=c&lang=en-us",
         "accuweather",
         "2025-05-26T11:08:51.799Z"
        ]
       ],
       "datasetInfos": [
        {
         "name": "_sqldf",
         "schema": {
          "fields": [
           {
            "metadata": {},
            "name": "Date",
            "nullable": true,
            "type": "string"
           },
           {
            "metadata": {},
            "name": "EpochDate",
            "nullable": true,
            "type": "long"
           },
           {
            "metadata": {},
            "name": "MinTemp_C",
            "nullable": true,
            "type": "string"
           },
           {
            "metadata": {},
            "name": "MaxTemp_C",
            "nullable": true,
            "type": "string"
           },
           {
            "metadata": {},
            "name": "DayForecast",
            "nullable": true,
            "type": "string"
           },
           {
            "metadata": {},
            "name": "NightForecast",
            "nullable": true,
            "type": "string"
           },
           {
            "metadata": {},
            "name": "Sources",
            "nullable": true,
            "type": {
             "containsNull": true,
             "elementType": "string",
             "type": "array"
            }
           },
           {
            "metadata": {},
            "name": "MobileLink",
            "nullable": true,
            "type": "string"
           },
           {
            "metadata": {},
            "name": "Link",
            "nullable": true,
            "type": "string"
           },
           {
            "metadata": {},
            "name": "source",
            "nullable": true,
            "type": "string"
           },
           {
            "metadata": {},
            "name": "ingestion_timestamp",
            "nullable": true,
            "type": "timestamp"
           }
          ],
          "type": "struct"
         },
         "tableIdentifier": null,
         "typeStr": "pyspark.sql.connect.dataframe.DataFrame"
        }
       ],
       "dbfsResultPath": null,
       "isJsonSchema": true,
       "metadata": {
        "createTempViewForImplicitDf": true,
        "dataframeName": "_sqldf",
        "executionCount": 19
       },
       "overflow": false,
       "plotOptions": {
        "customPlotOptions": {},
        "displayType": "table",
        "pivotAggregation": null,
        "pivotColumns": null,
        "xColumns": null,
        "yColumns": null
       },
       "removedWidgets": [],
       "schema": [
        {
         "metadata": "{}",
         "name": "Date",
         "type": "\"string\""
        },
        {
         "metadata": "{}",
         "name": "EpochDate",
         "type": "\"long\""
        },
        {
         "metadata": "{}",
         "name": "MinTemp_C",
         "type": "\"string\""
        },
        {
         "metadata": "{}",
         "name": "MaxTemp_C",
         "type": "\"string\""
        },
        {
         "metadata": "{}",
         "name": "DayForecast",
         "type": "\"string\""
        },
        {
         "metadata": "{}",
         "name": "NightForecast",
         "type": "\"string\""
        },
        {
         "metadata": "{}",
         "name": "Sources",
         "type": "{\"containsNull\":true,\"elementType\":\"string\",\"type\":\"array\"}"
        },
        {
         "metadata": "{}",
         "name": "MobileLink",
         "type": "\"string\""
        },
        {
         "metadata": "{}",
         "name": "Link",
         "type": "\"string\""
        },
        {
         "metadata": "{}",
         "name": "source",
         "type": "\"string\""
        },
        {
         "metadata": "{}",
         "name": "ingestion_timestamp",
         "type": "\"timestamp\""
        }
       ],
       "type": "table"
      }
     },
     "output_type": "display_data"
    }
   ],
   "source": [
    "%sql\n",
    "select * from civai.raw.accuweather_forecast limit 5;"
   ]
  },
  {
   "cell_type": "code",
   "execution_count": 0,
   "metadata": {
    "application/vnd.databricks.v1+cell": {
     "cellMetadata": {
      "byteLimit": 2048000,
      "implicitDf": true,
      "rowLimit": 10000
     },
     "inputWidgets": {},
     "nuid": "252c48cf-4832-4947-bd2e-78635734f476",
     "showTitle": false,
     "tableResultSettingsMap": {},
     "title": ""
    }
   },
   "outputs": [
    {
     "output_type": "display_data",
     "data": {
      "text/html": [
       "<style scoped>\n",
       "  .table-result-container {\n",
       "    max-height: 300px;\n",
       "    overflow: auto;\n",
       "  }\n",
       "  table, th, td {\n",
       "    border: 1px solid black;\n",
       "    border-collapse: collapse;\n",
       "  }\n",
       "  th, td {\n",
       "    padding: 5px;\n",
       "  }\n",
       "  th {\n",
       "    text-align: left;\n",
       "  }\n",
       "</style><div class='table-result-container'><table class='table-result'><thead style='background-color: white'><tr><th>count(*)</th></tr></thead><tbody><tr><td>100</td></tr></tbody></table></div>"
      ]
     },
     "metadata": {
      "application/vnd.databricks.v1+output": {
       "addedWidgets": {},
       "aggData": [],
       "aggError": "",
       "aggOverflow": false,
       "aggSchema": [],
       "aggSeriesLimitReached": false,
       "aggType": "",
       "arguments": {},
       "columnCustomDisplayInfos": {},
       "data": [
        [
         100
        ]
       ],
       "datasetInfos": [
        {
         "name": "_sqldf",
         "schema": {
          "fields": [
           {
            "metadata": {},
            "name": "count(*)",
            "nullable": false,
            "type": "long"
           }
          ],
          "type": "struct"
         },
         "tableIdentifier": null,
         "typeStr": "pyspark.sql.connect.dataframe.DataFrame"
        }
       ],
       "dbfsResultPath": null,
       "isJsonSchema": true,
       "metadata": {
        "createTempViewForImplicitDf": true,
        "dataframeName": "_sqldf",
        "executionCount": 2
       },
       "overflow": false,
       "plotOptions": {
        "customPlotOptions": {},
        "displayType": "table",
        "pivotAggregation": null,
        "pivotColumns": null,
        "xColumns": null,
        "yColumns": null
       },
       "removedWidgets": [],
       "schema": [
        {
         "metadata": "{}",
         "name": "count(*)",
         "type": "\"long\""
        }
       ],
       "type": "table"
      }
     },
     "output_type": "display_data"
    }
   ],
   "source": [
    "%sql\n",
    "select count(*) from civai.raw.predict_hq_events limit 4;"
   ]
  },
  {
   "cell_type": "code",
   "execution_count": 0,
   "metadata": {
    "application/vnd.databricks.v1+cell": {
     "cellMetadata": {
      "byteLimit": 2048000,
      "implicitDf": true,
      "rowLimit": 10000
     },
     "inputWidgets": {},
     "nuid": "5681f504-b526-4336-a95a-9422724c1622",
     "showTitle": false,
     "tableResultSettingsMap": {},
     "title": ""
    }
   },
   "outputs": [
    {
     "output_type": "display_data",
     "data": {
      "text/html": [
       "<style scoped>\n",
       "  .table-result-container {\n",
       "    max-height: 300px;\n",
       "    overflow: auto;\n",
       "  }\n",
       "  table, th, td {\n",
       "    border: 1px solid black;\n",
       "    border-collapse: collapse;\n",
       "  }\n",
       "  th, td {\n",
       "    padding: 5px;\n",
       "  }\n",
       "  th {\n",
       "    text-align: left;\n",
       "  }\n",
       "</style><div class='table-result-container'><table class='table-result'><thead style='background-color: white'><tr><th>lon</th><th>lat</th></tr></thead><tbody><tr><td>103.9121866</td><td>1.3007842</td></tr><tr><td>103.8492521</td><td>1.3005405</td></tr><tr><td>103.8488704</td><td>1.2890745</td></tr><tr><td>103.8454791</td><td>1.2813466</td></tr><tr><td>103.8278754</td><td>1.2456916</td></tr><tr><td>103.8522423</td><td>1.2976311</td></tr><tr><td>103.8386992</td><td>1.2928106</td></tr><tr><td>103.9033741</td><td>1.3050787</td></tr><tr><td>103.8585559</td><td>1.3094718</td></tr><tr><td>103.83599</td><td>1.28581</td></tr><tr><td>103.8492738</td><td>1.2877507</td></tr><tr><td>103.8851743</td><td>1.315004</td></tr><tr><td>103.8410082</td><td>1.3337256</td></tr><tr><td>103.9311249</td><td>1.3090129</td></tr><tr><td>103.8626778</td><td>1.301204</td></tr><tr><td>103.8477673</td><td>1.287403</td></tr><tr><td>103.8386992</td><td>1.2928106</td></tr><tr><td>103.847686</td><td>1.279795</td></tr><tr><td>103.8704735</td><td>1.3389621</td></tr><tr><td>103.8391876</td><td>1.29026</td></tr><tr><td>103.8451817</td><td>1.2871749</td></tr><tr><td>103.813778</td><td>1.2843525</td></tr><tr><td>103.7905907</td><td>1.3436072</td></tr><tr><td>103.6352005</td><td>1.3428554</td></tr><tr><td>103.8729085</td><td>1.3009806</td></tr><tr><td>103.847686</td><td>1.279795</td></tr><tr><td>103.8815035</td><td>1.3167465</td></tr><tr><td>103.8384283</td><td>1.2898458</td></tr><tr><td>103.8583015</td><td>1.2950324</td></tr><tr><td>103.836752</td><td>1.2719533</td></tr><tr><td>103.8659939</td><td>1.3152118</td></tr><tr><td>103.8523563</td><td>1.300401</td></tr><tr><td>103.8636132</td><td>1.2815683</td></tr><tr><td>103.9030415</td><td>1.3069323</td></tr><tr><td>103.8383565</td><td>1.4266024</td></tr><tr><td>103.8734359</td><td>1.3015106</td></tr><tr><td>103.847686</td><td>1.279795</td></tr><tr><td>103.819836</td><td>1.352083</td></tr><tr><td>103.8427145</td><td>1.2989404</td></tr><tr><td>103.8440929</td><td>1.285631</td></tr><tr><td>103.8223871</td><td>1.2804176</td></tr><tr><td>103.8516618</td><td>1.3027771</td></tr><tr><td>103.8571812</td><td>1.2940814</td></tr><tr><td>103.854865</td><td>1.2984504</td></tr><tr><td>103.8502937</td><td>1.2932477</td></tr><tr><td>103.854865</td><td>1.2984504</td></tr><tr><td>103.8406922</td><td>1.287062</td></tr><tr><td>103.904113</td><td>1.306851</td></tr><tr><td>103.8871113</td><td>1.3335017</td></tr><tr><td>103.85713</td><td>1.31652</td></tr><tr><td>103.8450399</td><td>1.273767</td></tr><tr><td>103.8364761</td><td>1.3118244</td></tr><tr><td>103.8924922</td><td>1.3196896</td></tr><tr><td>103.85853079999993</td><td>1.282302</td></tr><tr><td>103.8458497</td><td>1.2764491</td></tr><tr><td>103.8507719</td><td>1.2782749</td></tr><tr><td>103.8533468</td><td>1.2939556</td></tr><tr><td>103.824441</td><td>1.249431</td></tr><tr><td>103.819836</td><td>1.352083</td></tr><tr><td>103.847686</td><td>1.279795</td></tr><tr><td>103.8522423</td><td>1.2976311</td></tr><tr><td>103.8451817</td><td>1.2871749</td></tr><tr><td>103.88553</td><td>1.34174</td></tr><tr><td>103.8543081</td><td>1.2975884</td></tr><tr><td>103.8526975</td><td>1.2845452</td></tr><tr><td>103.8486276</td><td>1.3329648</td></tr><tr><td>103.8534191</td><td>1.2932041</td></tr><tr><td>103.786382</td><td>1.2998769</td></tr><tr><td>103.8536697</td><td>1.3004652</td></tr><tr><td>103.847686</td><td>1.279795</td></tr><tr><td>103.8480065</td><td>1.2975672</td></tr><tr><td>103.850166</td><td>1.293284</td></tr><tr><td>103.8503404</td><td>1.2811866</td></tr><tr><td>103.8548685</td><td>1.2798897</td></tr><tr><td>103.8532166</td><td>1.2989271</td></tr><tr><td>103.8157393</td><td>1.2960465</td></tr><tr><td>103.77731700000004</td><td>1.290427</td></tr><tr><td>103.8541438</td><td>1.2974415</td></tr><tr><td>103.8492068</td><td>1.2800305</td></tr><tr><td>103.8478027</td><td>1.2848998</td></tr><tr><td>103.8603322</td><td>1.2935752</td></tr><tr><td>103.8475434</td><td>1.2881179</td></tr><tr><td>103.847686</td><td>1.279795</td></tr><tr><td>103.8588103</td><td>1.2815835</td></tr><tr><td>103.787759</td><td>1.3050514</td></tr><tr><td>103.847686</td><td>1.279795</td></tr><tr><td>103.8611647</td><td>1.301388</td></tr><tr><td>103.847686</td><td>1.279795</td></tr><tr><td>103.857108</td><td>1.29182</td></tr><tr><td>103.857108</td><td>1.29182</td></tr><tr><td>103.824441</td><td>1.249431</td></tr><tr><td>103.8577631</td><td>1.2968094</td></tr><tr><td>103.8490608</td><td>1.2864528</td></tr><tr><td>103.8522423</td><td>1.2976311</td></tr><tr><td>103.847686</td><td>1.279795</td></tr><tr><td>103.8451817</td><td>1.2871749</td></tr><tr><td>103.8536697</td><td>1.3004652</td></tr><tr><td>103.775964</td><td>1.441188</td></tr><tr><td>103.8458098</td><td>1.2756998</td></tr><tr><td>103.902914</td><td>1.303766</td></tr></tbody></table></div>"
      ]
     },
     "metadata": {
      "application/vnd.databricks.v1+output": {
       "addedWidgets": {},
       "aggData": [],
       "aggError": "",
       "aggOverflow": false,
       "aggSchema": [],
       "aggSeriesLimitReached": false,
       "aggType": "",
       "arguments": {},
       "columnCustomDisplayInfos": {},
       "data": [
        [
         103.9121866,
         1.3007842
        ],
        [
         103.8492521,
         1.3005405
        ],
        [
         103.8488704,
         1.2890745
        ],
        [
         103.8454791,
         1.2813466
        ],
        [
         103.8278754,
         1.2456916
        ],
        [
         103.8522423,
         1.2976311
        ],
        [
         103.8386992,
         1.2928106
        ],
        [
         103.9033741,
         1.3050787
        ],
        [
         103.8585559,
         1.3094718
        ],
        [
         103.83599,
         1.28581
        ],
        [
         103.8492738,
         1.2877507
        ],
        [
         103.8851743,
         1.315004
        ],
        [
         103.8410082,
         1.3337256
        ],
        [
         103.9311249,
         1.3090129
        ],
        [
         103.8626778,
         1.301204
        ],
        [
         103.8477673,
         1.287403
        ],
        [
         103.8386992,
         1.2928106
        ],
        [
         103.847686,
         1.279795
        ],
        [
         103.8704735,
         1.3389621
        ],
        [
         103.8391876,
         1.29026
        ],
        [
         103.8451817,
         1.2871749
        ],
        [
         103.813778,
         1.2843525
        ],
        [
         103.7905907,
         1.3436072
        ],
        [
         103.6352005,
         1.3428554
        ],
        [
         103.8729085,
         1.3009806
        ],
        [
         103.847686,
         1.279795
        ],
        [
         103.8815035,
         1.3167465
        ],
        [
         103.8384283,
         1.2898458
        ],
        [
         103.8583015,
         1.2950324
        ],
        [
         103.836752,
         1.2719533
        ],
        [
         103.8659939,
         1.3152118
        ],
        [
         103.8523563,
         1.300401
        ],
        [
         103.8636132,
         1.2815683
        ],
        [
         103.9030415,
         1.3069323
        ],
        [
         103.8383565,
         1.4266024
        ],
        [
         103.8734359,
         1.3015106
        ],
        [
         103.847686,
         1.279795
        ],
        [
         103.819836,
         1.352083
        ],
        [
         103.8427145,
         1.2989404
        ],
        [
         103.8440929,
         1.285631
        ],
        [
         103.8223871,
         1.2804176
        ],
        [
         103.8516618,
         1.3027771
        ],
        [
         103.8571812,
         1.2940814
        ],
        [
         103.854865,
         1.2984504
        ],
        [
         103.8502937,
         1.2932477
        ],
        [
         103.854865,
         1.2984504
        ],
        [
         103.8406922,
         1.287062
        ],
        [
         103.904113,
         1.306851
        ],
        [
         103.8871113,
         1.3335017
        ],
        [
         103.85713,
         1.31652
        ],
        [
         103.8450399,
         1.273767
        ],
        [
         103.8364761,
         1.3118244
        ],
        [
         103.8924922,
         1.3196896
        ],
        [
         103.85853079999993,
         1.282302
        ],
        [
         103.8458497,
         1.2764491
        ],
        [
         103.8507719,
         1.2782749
        ],
        [
         103.8533468,
         1.2939556
        ],
        [
         103.824441,
         1.249431
        ],
        [
         103.819836,
         1.352083
        ],
        [
         103.847686,
         1.279795
        ],
        [
         103.8522423,
         1.2976311
        ],
        [
         103.8451817,
         1.2871749
        ],
        [
         103.88553,
         1.34174
        ],
        [
         103.8543081,
         1.2975884
        ],
        [
         103.8526975,
         1.2845452
        ],
        [
         103.8486276,
         1.3329648
        ],
        [
         103.8534191,
         1.2932041
        ],
        [
         103.786382,
         1.2998769
        ],
        [
         103.8536697,
         1.3004652
        ],
        [
         103.847686,
         1.279795
        ],
        [
         103.8480065,
         1.2975672
        ],
        [
         103.850166,
         1.293284
        ],
        [
         103.8503404,
         1.2811866
        ],
        [
         103.8548685,
         1.2798897
        ],
        [
         103.8532166,
         1.2989271
        ],
        [
         103.8157393,
         1.2960465
        ],
        [
         103.77731700000004,
         1.290427
        ],
        [
         103.8541438,
         1.2974415
        ],
        [
         103.8492068,
         1.2800305
        ],
        [
         103.8478027,
         1.2848998
        ],
        [
         103.8603322,
         1.2935752
        ],
        [
         103.8475434,
         1.2881179
        ],
        [
         103.847686,
         1.279795
        ],
        [
         103.8588103,
         1.2815835
        ],
        [
         103.787759,
         1.3050514
        ],
        [
         103.847686,
         1.279795
        ],
        [
         103.8611647,
         1.301388
        ],
        [
         103.847686,
         1.279795
        ],
        [
         103.857108,
         1.29182
        ],
        [
         103.857108,
         1.29182
        ],
        [
         103.824441,
         1.249431
        ],
        [
         103.8577631,
         1.2968094
        ],
        [
         103.8490608,
         1.2864528
        ],
        [
         103.8522423,
         1.2976311
        ],
        [
         103.847686,
         1.279795
        ],
        [
         103.8451817,
         1.2871749
        ],
        [
         103.8536697,
         1.3004652
        ],
        [
         103.775964,
         1.441188
        ],
        [
         103.8458098,
         1.2756998
        ],
        [
         103.902914,
         1.303766
        ]
       ],
       "datasetInfos": [
        {
         "name": "_sqldf",
         "schema": {
          "fields": [
           {
            "metadata": {},
            "name": "lon",
            "nullable": true,
            "type": "double"
           },
           {
            "metadata": {},
            "name": "lat",
            "nullable": true,
            "type": "double"
           }
          ],
          "type": "struct"
         },
         "tableIdentifier": null,
         "typeStr": "pyspark.sql.connect.dataframe.DataFrame"
        }
       ],
       "dbfsResultPath": null,
       "isJsonSchema": true,
       "metadata": {
        "createTempViewForImplicitDf": true,
        "dataframeName": "_sqldf",
        "executionCount": 13
       },
       "overflow": false,
       "plotOptions": {
        "customPlotOptions": {},
        "displayType": "table",
        "pivotAggregation": null,
        "pivotColumns": null,
        "xColumns": null,
        "yColumns": null
       },
       "removedWidgets": [],
       "schema": [
        {
         "metadata": "{}",
         "name": "lon",
         "type": "\"double\""
        },
        {
         "metadata": "{}",
         "name": "lat",
         "type": "\"double\""
        }
       ],
       "type": "table"
      }
     },
     "output_type": "display_data"
    }
   ],
   "source": [
    "%sql\n",
    "select lon,lat from civai.raw.predict_hq_events;"
   ]
  },
  {
   "cell_type": "code",
   "execution_count": 0,
   "metadata": {
    "application/vnd.databricks.v1+cell": {
     "cellMetadata": {
      "byteLimit": 2048000,
      "rowLimit": 10000
     },
     "inputWidgets": {},
     "nuid": "5905e4a3-4b43-418b-8350-18a3d590ab6b",
     "showTitle": false,
     "tableResultSettingsMap": {},
     "title": ""
    }
   },
   "outputs": [
    {
     "output_type": "execute_result",
     "data": {
      "text/html": [
       "<div>\n",
       "<style scoped>\n",
       "    .dataframe tbody tr th:only-of-type {\n",
       "        vertical-align: middle;\n",
       "    }\n",
       "\n",
       "    .dataframe tbody tr th {\n",
       "        vertical-align: top;\n",
       "    }\n",
       "\n",
       "    .dataframe thead th {\n",
       "        text-align: right;\n",
       "    }\n",
       "</style>\n",
       "<table border=\"1\" class=\"dataframe\">\n",
       "  <thead>\n",
       "    <tr style=\"text-align: right;\">\n",
       "      <th></th>\n",
       "      <th>lon</th>\n",
       "      <th>lat</th>\n",
       "    </tr>\n",
       "  </thead>\n",
       "  <tbody>\n",
       "    <tr>\n",
       "      <th>0</th>\n",
       "      <td>103.912187</td>\n",
       "      <td>1.300784</td>\n",
       "    </tr>\n",
       "    <tr>\n",
       "      <th>1</th>\n",
       "      <td>103.849252</td>\n",
       "      <td>1.300541</td>\n",
       "    </tr>\n",
       "    <tr>\n",
       "      <th>2</th>\n",
       "      <td>103.848870</td>\n",
       "      <td>1.289074</td>\n",
       "    </tr>\n",
       "    <tr>\n",
       "      <th>3</th>\n",
       "      <td>103.845479</td>\n",
       "      <td>1.281347</td>\n",
       "    </tr>\n",
       "    <tr>\n",
       "      <th>4</th>\n",
       "      <td>103.827875</td>\n",
       "      <td>1.245692</td>\n",
       "    </tr>\n",
       "  </tbody>\n",
       "</table>\n",
       "</div>"
      ],
      "text/plain": [
       "          lon       lat\n",
       "0  103.912187  1.300784\n",
       "1  103.849252  1.300541\n",
       "2  103.848870  1.289074\n",
       "3  103.845479  1.281347\n",
       "4  103.827875  1.245692"
      ]
     },
     "execution_count": 14,
     "metadata": {},
     "output_type": "execute_result"
    }
   ],
   "source": [
    "lon_lat_df = _sqldf.toPandas()\n",
    "lon_lat_df.head()"
   ]
  },
  {
   "cell_type": "code",
   "execution_count": 0,
   "metadata": {
    "application/vnd.databricks.v1+cell": {
     "cellMetadata": {
      "byteLimit": 2048000,
      "rowLimit": 10000
     },
     "inputWidgets": {},
     "nuid": "fa291b9f-bb22-4674-9740-a212d3762088",
     "showTitle": false,
     "tableResultSettingsMap": {},
     "title": ""
    }
   },
   "outputs": [
    {
     "output_type": "execute_result",
     "data": {
      "text/plain": [
       "82"
      ]
     },
     "execution_count": 15,
     "metadata": {},
     "output_type": "execute_result"
    }
   ],
   "source": [
    "coord_count = {}\n",
    "\n",
    "for _,row in lon_lat_df.iterrows():\n",
    "    lat = row['lat']\n",
    "    lng = row['lon']\n",
    "    coord = f\"{lat},{lng}\"\n",
    "    try:\n",
    "        coord_count[coord] += 1\n",
    "    except:\n",
    "        coord_count[coord] = 1\n",
    "\n",
    "len(coord_count.keys())"
   ]
  },
  {
   "cell_type": "code",
   "execution_count": 0,
   "metadata": {
    "application/vnd.databricks.v1+cell": {
     "cellMetadata": {
      "byteLimit": 2048000,
      "rowLimit": 10000
     },
     "inputWidgets": {},
     "nuid": "a31848cf-4a59-4d64-a139-eb7f12a3fdc6",
     "showTitle": false,
     "tableResultSettingsMap": {},
     "title": ""
    }
   },
   "outputs": [
    {
     "output_type": "execute_result",
     "data": {
      "text/plain": [
       "{'1.3007842,103.9121866': 1,\n",
       " '1.3005405,103.8492521': 1,\n",
       " '1.2890745,103.8488704': 1,\n",
       " '1.2813466,103.8454791': 1,\n",
       " '1.2456916,103.8278754': 1,\n",
       " '1.2976311,103.8522423': 3,\n",
       " '1.2928106,103.8386992': 2,\n",
       " '1.3050787,103.9033741': 1,\n",
       " '1.3094718,103.8585559': 1,\n",
       " '1.28581,103.83599': 1,\n",
       " '1.2877507,103.8492738': 1,\n",
       " '1.315004,103.8851743': 1,\n",
       " '1.3337256,103.8410082': 1,\n",
       " '1.3090129,103.9311249': 1,\n",
       " '1.301204,103.8626778': 1,\n",
       " '1.287403,103.8477673': 1,\n",
       " '1.279795,103.847686': 9,\n",
       " '1.3389621,103.8704735': 1,\n",
       " '1.29026,103.8391876': 1,\n",
       " '1.2871749,103.8451817': 3,\n",
       " '1.2843525,103.813778': 1,\n",
       " '1.3436072,103.7905907': 1,\n",
       " '1.3428554,103.6352005': 1,\n",
       " '1.3009806,103.8729085': 1,\n",
       " '1.3167465,103.8815035': 1,\n",
       " '1.2898458,103.8384283': 1,\n",
       " '1.2950324,103.8583015': 1,\n",
       " '1.2719533,103.836752': 1,\n",
       " '1.3152118,103.8659939': 1,\n",
       " '1.300401,103.8523563': 1,\n",
       " '1.2815683,103.8636132': 1,\n",
       " '1.3069323,103.9030415': 1,\n",
       " '1.4266024,103.8383565': 1,\n",
       " '1.3015106,103.8734359': 1,\n",
       " '1.352083,103.819836': 2,\n",
       " '1.2989404,103.8427145': 1,\n",
       " '1.285631,103.8440929': 1,\n",
       " '1.2804176,103.8223871': 1,\n",
       " '1.3027771,103.8516618': 1,\n",
       " '1.2940814,103.8571812': 1,\n",
       " '1.2984504,103.854865': 2,\n",
       " '1.2932477,103.8502937': 1,\n",
       " '1.287062,103.8406922': 1,\n",
       " '1.306851,103.904113': 1,\n",
       " '1.3335017,103.8871113': 1,\n",
       " '1.31652,103.85713': 1,\n",
       " '1.273767,103.8450399': 1,\n",
       " '1.3118244,103.8364761': 1,\n",
       " '1.3196896,103.8924922': 1,\n",
       " '1.282302,103.85853079999993': 1,\n",
       " '1.2764491,103.8458497': 1,\n",
       " '1.2782749,103.8507719': 1,\n",
       " '1.2939556,103.8533468': 1,\n",
       " '1.249431,103.824441': 2,\n",
       " '1.34174,103.88553': 1,\n",
       " '1.2975884,103.8543081': 1,\n",
       " '1.2845452,103.8526975': 1,\n",
       " '1.3329648,103.8486276': 1,\n",
       " '1.2932041,103.8534191': 1,\n",
       " '1.2998769,103.786382': 1,\n",
       " '1.3004652,103.8536697': 2,\n",
       " '1.2975672,103.8480065': 1,\n",
       " '1.293284,103.850166': 1,\n",
       " '1.2811866,103.8503404': 1,\n",
       " '1.2798897,103.8548685': 1,\n",
       " '1.2989271,103.8532166': 1,\n",
       " '1.2960465,103.8157393': 1,\n",
       " '1.290427,103.77731700000004': 1,\n",
       " '1.2974415,103.8541438': 1,\n",
       " '1.2800305,103.8492068': 1,\n",
       " '1.2848998,103.8478027': 1,\n",
       " '1.2935752,103.8603322': 1,\n",
       " '1.2881179,103.8475434': 1,\n",
       " '1.2815835,103.8588103': 1,\n",
       " '1.3050514,103.787759': 1,\n",
       " '1.301388,103.8611647': 1,\n",
       " '1.29182,103.857108': 2,\n",
       " '1.2968094,103.8577631': 1,\n",
       " '1.2864528,103.8490608': 1,\n",
       " '1.441188,103.775964': 1,\n",
       " '1.2756998,103.8458098': 1,\n",
       " '1.303766,103.902914': 1}"
      ]
     },
     "execution_count": 16,
     "metadata": {},
     "output_type": "execute_result"
    }
   ],
   "source": [
    "coord_count"
   ]
  },
  {
   "cell_type": "code",
   "execution_count": 0,
   "metadata": {
    "application/vnd.databricks.v1+cell": {
     "cellMetadata": {
      "byteLimit": 2048000,
      "rowLimit": 10000
     },
     "inputWidgets": {},
     "nuid": "72b0fde3-3e0f-4394-b088-cc3e91fc0340",
     "showTitle": false,
     "tableResultSettingsMap": {},
     "title": ""
    }
   },
   "outputs": [
    {
     "output_type": "execute_result",
     "data": {
      "text/plain": [
       "{'1.2976311,103.8522423': 3,\n",
       " '1.2928106,103.8386992': 2,\n",
       " '1.279795,103.847686': 9,\n",
       " '1.2871749,103.8451817': 3,\n",
       " '1.352083,103.819836': 2,\n",
       " '1.2984504,103.854865': 2,\n",
       " '1.249431,103.824441': 2,\n",
       " '1.3004652,103.8536697': 2,\n",
       " '1.29182,103.857108': 2}"
      ]
     },
     "execution_count": 18,
     "metadata": {},
     "output_type": "execute_result"
    }
   ],
   "source": [
    "{k: v for k, v in coord_count.items() if v > 1}"
   ]
  },
  {
   "cell_type": "code",
   "execution_count": 0,
   "metadata": {
    "application/vnd.databricks.v1+cell": {
     "cellMetadata": {
      "byteLimit": 2048000,
      "implicitDf": true,
      "rowLimit": 10000
     },
     "inputWidgets": {},
     "nuid": "891912a2-a8b5-4883-8ff9-8df12dbb653c",
     "showTitle": false,
     "tableResultSettingsMap": {},
     "title": ""
    }
   },
   "outputs": [
    {
     "output_type": "display_data",
     "data": {
      "text/html": [
       "<style scoped>\n",
       "  .table-result-container {\n",
       "    max-height: 300px;\n",
       "    overflow: auto;\n",
       "  }\n",
       "  table, th, td {\n",
       "    border: 1px solid black;\n",
       "    border-collapse: collapse;\n",
       "  }\n",
       "  th, td {\n",
       "    padding: 5px;\n",
       "  }\n",
       "  th {\n",
       "    text-align: left;\n",
       "  }\n",
       "</style><div class='table-result-container'><table class='table-result'><thead style='background-color: white'><tr><th>relevance</th><th>id</th><th>title</th><th>description</th><th>category</th><th>rank</th><th>local_rank</th><th>phq_attendance</th><th>entities</th><th>duration</th><th>start</th><th>start_local</th><th>end</th><th>end_local</th><th>updated</th><th>first_seen</th><th>timezone</th><th>impact_patterns</th><th>scope</th><th>country</th><th>place_hierarchies</th><th>state</th><th>brand_safe</th><th>private</th><th>predicted_event_spend</th><th>predicted_event_spend_industries</th><th>phq_labels</th><th>predicted_end</th><th>predicted_end_local</th><th>alternate_titles</th><th>lon</th><th>lat</th><th>source</th><th>ingestion_timestamp</th></tr></thead><tbody><tr><td>0.0</td><td>93WGY5RrwzT3ernqB2</td><td>INDULGE IN REST: CRYSTAL BOWLS + CHIMES SOUND HEALING</td><td>Sourced from predicthq.com - Amidst the fast-paced nature of today’s world, finding time for rest has peculiarly transformed into a form of luxury.</td><td>concerts</td><td>35</td><td>44</td><td>179.0</td><td>List(List(null, null, n92UGPhhPdTbU6Pijza2YB, 2B Stanley St, Singapore 068721, null, SPACE2B, null, venue), List(concerts, Amidst the fast-paced nature of today’s world, finding time for rest has peculiarly transformed into a form of luxury., 4j8Zam8BqsmF5rxK4b5H9D, 2B Stanley Street, Singapore, 068721, Singapore, List(concert, event-group, music, religion), INDULGE IN REST: CRYSTAL BOWLS + CHIMES SOUND HEALING, Asia/Singapore, event-group))</td><td>3600</td><td>2025-05-31T09:00:00Z</td><td>2025-05-31T17:00:00</td><td>2025-05-31T10:00:00Z</td><td>2025-05-31T18:00:00</td><td>2025-05-24T16:37:23Z</td><td>2025-05-24T16:31:13Z</td><td>Asia/Singapore</td><td>List(List(phq_attendance, List(List(2025-05-31, event_day, 179)), accommodation), List(phq_attendance, List(List(2025-05-31, event_day, 179)), hospitality), List(phq_attendance, List(List(2025-05-31, event_day, 179)), retail))</td><td>locality</td><td>SG</td><td>List(List(6295630, 6255147, 1880251, 1880252))</td><td>active</td><td>true</td><td>false</td><td>3215.0</td><td>List(0, 2475, 740)</td><td>null</td><td>null</td><td>null</td><td>null</td><td>103.847686</td><td>1.279795</td><td>PredictHQ</td><td>2025-05-26T11:10:48.769Z</td></tr><tr><td>0.0</td><td>Bni4AgkSe5vPJcWavq</td><td>SELF-LOVE AND GRATITUDE SOUND BATH</td><td>Sourced from predicthq.com - Come join us for a relaxing sound bath to cultivate self-love and gratitude!</td><td>concerts</td><td>35</td><td>44</td><td>169.0</td><td>List(List(null, null, n92UGPhhPdTbU6Pijza2YB, 2B Stanley St, Singapore 068721, null, SPACE2B, null, venue), List(concerts, Come join us for a relaxing sound bath to cultivate self-love and gratitude!, 8avefdQEGS4NAdHeqSe52z, 2B Stanley Street, Singapore, 068721, Singapore, List(concert, event-group, music, religion), SELF-LOVE AND GRATITUDE SOUND BATH, Asia/Singapore, event-group))</td><td>3600</td><td>2025-05-31T07:30:00Z</td><td>2025-05-31T15:30:00</td><td>2025-05-31T08:30:00Z</td><td>2025-05-31T16:30:00</td><td>2025-05-24T16:37:31Z</td><td>2025-05-24T16:30:36Z</td><td>Asia/Singapore</td><td>List(List(phq_attendance, List(List(2025-05-31, event_day, 169)), accommodation), List(phq_attendance, List(List(2025-05-31, event_day, 169)), hospitality), List(phq_attendance, List(List(2025-05-31, event_day, 169)), retail))</td><td>locality</td><td>SG</td><td>List(List(6295630, 6255147, 1880251, 1880252))</td><td>active</td><td>true</td><td>false</td><td>3035.0</td><td>List(0, 2337, 698)</td><td>null</td><td>null</td><td>null</td><td>null</td><td>103.847686</td><td>1.279795</td><td>PredictHQ</td><td>2025-05-26T11:10:48.769Z</td></tr><tr><td>0.0</td><td>9LcjXLT8iwEwhEjMPR</td><td>CHAKRA HARMONY: A SOUND JOURNEY FOR WELL-BEING AND BALANCE</td><td>Sourced from predicthq.com - Unlock the flow of energy and restore harmony within your body through a powerful chakra balancing session.</td><td>concerts</td><td>35</td><td>44</td><td>179.0</td><td>List(List(null, null, n92UGPhhPdTbU6Pijza2YB, 2B Stanley St, Singapore 068721, null, SPACE2B, null, venue), List(concerts, Unlock the flow of energy and restore harmony within your body through a powerful chakra balancing session., 3BDfvS3iPjq7kAz7pb9VKkN, 2B Stanley Street, Singapore, 068721, Singapore, List(concert, event-group, music, religion), CHAKRA HARMONY: A SOUND JOURNEY FOR WELL-BEING AND BALANCE, Asia/Singapore, event-group))</td><td>3600</td><td>2025-05-31T06:00:00Z</td><td>2025-05-31T14:00:00</td><td>2025-05-31T07:00:00Z</td><td>2025-05-31T15:00:00</td><td>2025-05-24T16:37:08Z</td><td>2025-05-24T16:31:13Z</td><td>Asia/Singapore</td><td>List(List(phq_attendance, List(List(2025-05-31, event_day, 179)), accommodation), List(phq_attendance, List(List(2025-05-31, event_day, 179)), hospitality), List(phq_attendance, List(List(2025-05-31, event_day, 179)), retail))</td><td>locality</td><td>SG</td><td>List(List(6295630, 6255147, 1880251, 1880252))</td><td>active</td><td>true</td><td>false</td><td>3215.0</td><td>List(0, 2475, 740)</td><td>null</td><td>null</td><td>null</td><td>null</td><td>103.847686</td><td>1.279795</td><td>PredictHQ</td><td>2025-05-26T11:10:48.769Z</td></tr><tr><td>0.0</td><td>EoHgPFsTcxA3Nossp9</td><td>UNDER THE STARS PLANET SOUND HEALING</td><td>Sourced from predicthq.com - Imagine lying down under the stars while tuning into Crystal bowls vibrations and planetary energies..</td><td>concerts</td><td>35</td><td>44</td><td>169.0</td><td>List(List(null, null, n92UGPhhPdTbU6Pijza2YB, 2B Stanley St, Singapore 068721, null, SPACE2B, null, venue), List(concerts, Imagine lying down under the stars while tuning into Crystal bowls vibrations and planetary energies.., sTg7XVvupW54xFXUzr8q65, 2B Stanley Street, Singapore, 068721, Singapore, List(concert, event-group, health, music), UNDER THE STARS PLANET SOUND HEALING, Asia/Singapore, event-group))</td><td>3600</td><td>2025-05-28T12:00:00Z</td><td>2025-05-28T20:00:00</td><td>2025-05-28T13:00:00Z</td><td>2025-05-28T21:00:00</td><td>2025-05-22T04:25:56Z</td><td>2025-05-22T04:25:40Z</td><td>Asia/Singapore</td><td>List(List(phq_attendance, List(List(2025-05-28, event_day, 169)), accommodation), List(phq_attendance, List(List(2025-05-28, event_day, 169)), hospitality), List(phq_attendance, List(List(2025-05-28, event_day, 169)), retail))</td><td>locality</td><td>SG</td><td>List(List(6295630, 6255147, 1880251, 1880252))</td><td>active</td><td>true</td><td>false</td><td>3035.0</td><td>List(0, 2337, 698)</td><td>null</td><td>null</td><td>null</td><td>null</td><td>103.847686</td><td>1.279795</td><td>PredictHQ</td><td>2025-05-26T11:10:48.769Z</td></tr><tr><td>0.0</td><td>4EuSRkm5D7V9MXSauE</td><td>LEMURIAN CRYSTAL TEMPLE- SACRED LIGHT & LOVE CRYSTAL SOUND HEALING</td><td>Sourced from predicthq.com - Lemurian Crystal Bowls connect us to the ancient world of Lemuria, where a wealth of knowledge has been preserved since the dawn of time.</td><td>concerts</td><td>39</td><td>48</td><td>272.0</td><td>List(List(null, null, n92UGPhhPdTbU6Pijza2YB, 2B Stanley St, Singapore 068721, null, SPACE2B, null, venue), List(concerts, Lemurian Crystal Bowls connect us to the ancient world of Lemuria, where a wealth of knowledge has been preserved since the dawn of time., HKr7sAsCEW6yZtBfizbgid, 2B Stanley Street, Singapore, 068721, Singapore, List(concert, event-group, music, religion), LEMURIAN CRYSTAL TEMPLE- SACRED LIGHT & LOVE CRYSTAL SOUND HEALING, Asia/Singapore, event-group))</td><td>3600</td><td>2025-05-28T10:30:00Z</td><td>2025-05-28T18:30:00</td><td>2025-05-28T11:30:00Z</td><td>2025-05-28T19:30:00</td><td>2025-05-15T03:19:42Z</td><td>2025-05-15T03:10:35Z</td><td>Asia/Singapore</td><td>List(List(phq_attendance, List(List(2025-05-28, event_day, 272)), accommodation), List(phq_attendance, List(List(2025-05-28, event_day, 272)), hospitality), List(phq_attendance, List(List(2025-05-28, event_day, 272)), retail))</td><td>locality</td><td>SG</td><td>List(List(6295630, 6255147, 1880251, 1880252))</td><td>active</td><td>true</td><td>false</td><td>4886.0</td><td>List(0, 3761, 1124)</td><td>null</td><td>null</td><td>null</td><td>null</td><td>103.847686</td><td>1.279795</td><td>PredictHQ</td><td>2025-05-26T11:10:48.769Z</td></tr><tr><td>0.0</td><td>AJmyqco9BGwEedMVCj</td><td>Cosmic Resonance Gong Bath</td><td>Sourced from predicthq.com - Immerse yourself in an extraordinary sonic experience that resonates with the rhythm of the universe.</td><td>concerts</td><td>35</td><td>44</td><td>179.0</td><td>List(List(null, null, n92UGPhhPdTbU6Pijza2YB, 2B Stanley St, Singapore 068721, null, SPACE2B, null, venue), List(concerts, Immerse yourself in an extraordinary sonic experience that resonates with the rhythm of the universe., aCLzhNijzhE36Gt3jrc7q5, 2B Stanley Street, Singapore, 068721, Singapore, List(concert, event-group, music, religion), Cosmic Resonance Gong Bath, Asia/Singapore, event-group))</td><td>3600</td><td>2025-05-28T06:00:00Z</td><td>2025-05-28T14:00:00</td><td>2025-05-28T07:00:00Z</td><td>2025-05-28T15:00:00</td><td>2025-05-22T04:33:23Z</td><td>2025-05-22T04:31:40Z</td><td>Asia/Singapore</td><td>List(List(phq_attendance, List(List(2025-05-28, event_day, 179)), accommodation), List(phq_attendance, List(List(2025-05-28, event_day, 179)), hospitality), List(phq_attendance, List(List(2025-05-28, event_day, 179)), retail))</td><td>locality</td><td>SG</td><td>List(List(6295630, 6255147, 1880251, 1880252))</td><td>active</td><td>true</td><td>false</td><td>3215.0</td><td>List(0, 2475, 740)</td><td>null</td><td>null</td><td>null</td><td>null</td><td>103.847686</td><td>1.279795</td><td>PredictHQ</td><td>2025-05-26T11:10:48.769Z</td></tr><tr><td>0.0</td><td>8FA5uhzup5rubwA9K9</td><td>Coming Home to Yourself with Tibetan Singing Bowls</td><td>Sourced from predicthq.com - Embark on a transformative sound healing session with Tibetan Singing bowls</td><td>concerts</td><td>35</td><td>44</td><td>169.0</td><td>List(List(null, null, n92UGPhhPdTbU6Pijza2YB, 2B Stanley St, Singapore 068721, null, SPACE2B, null, venue), List(concerts, Embark on a transformative sound healing session with Tibetan Singing bowls, bQ3vFD5Tn7T9yvHWTPfgy5, 2B Stanley Street, Singapore, 068721, Singapore, List(concert, event-group, music, religion), Coming Home to Yourself with Tibetan Singing Bowls, Asia/Singapore, event-group))</td><td>3600</td><td>2025-05-28T04:30:00Z</td><td>2025-05-28T12:30:00</td><td>2025-05-28T05:30:00Z</td><td>2025-05-28T13:30:00</td><td>2025-05-24T18:53:03Z</td><td>2025-05-24T18:52:51Z</td><td>Asia/Singapore</td><td>List(List(phq_attendance, List(List(2025-05-28, event_day, 169)), accommodation), List(phq_attendance, List(List(2025-05-28, event_day, 169)), hospitality), List(phq_attendance, List(List(2025-05-28, event_day, 169)), retail))</td><td>locality</td><td>SG</td><td>List(List(6295630, 6255147, 1880251, 1880252))</td><td>active</td><td>true</td><td>false</td><td>3035.0</td><td>List(0, 2337, 698)</td><td>null</td><td>null</td><td>null</td><td>null</td><td>103.847686</td><td>1.279795</td><td>PredictHQ</td><td>2025-05-26T11:10:48.769Z</td></tr><tr><td>0.0</td><td>Gijny6ikbFbum6YzPA</td><td>GROUND YOURSELF, CLARITY OF MIND – SOUND BATH WITH SINGING BOWLS AND DRUMS</td><td>Sourced from predicthq.com - Come into this session, to ground yourself and clear your mind. With singing bowls and ocean drum.</td><td>concerts</td><td>35</td><td>44</td><td>169.0</td><td>List(List(null, null, n92UGPhhPdTbU6Pijza2YB, 2B Stanley St, Singapore 068721, null, SPACE2B, null, venue), List(concerts, Come into this session, to ground yourself and clear your mind. With singing bowls and ocean drum., 9WVWaVMA3g2Ukhm4VJ9akd, 2B Stanley Street, Singapore, 068721, Singapore, List(concert, event-group, music, religion), GROUND YOURSELF, CLARITY OF MIND – SOUND BATH WITH SINGING BOWLS AND DRUMS, Asia/Singapore, event-group))</td><td>3600</td><td>2025-05-28T03:00:00Z</td><td>2025-05-28T11:00:00</td><td>2025-05-28T04:00:00Z</td><td>2025-05-28T12:00:00</td><td>2025-05-24T18:53:03Z</td><td>2025-05-24T18:52:51Z</td><td>Asia/Singapore</td><td>List(List(phq_attendance, List(List(2025-05-28, event_day, 169)), accommodation), List(phq_attendance, List(List(2025-05-28, event_day, 169)), hospitality), List(phq_attendance, List(List(2025-05-28, event_day, 169)), retail))</td><td>locality</td><td>SG</td><td>List(List(6295630, 6255147, 1880251, 1880252))</td><td>active</td><td>true</td><td>false</td><td>3035.0</td><td>List(0, 2337, 698)</td><td>null</td><td>null</td><td>null</td><td>null</td><td>103.847686</td><td>1.279795</td><td>PredictHQ</td><td>2025-05-26T11:10:48.769Z</td></tr><tr><td>0.0</td><td>HJwN8y3wdHrLSxCH9B</td><td>HEAL FROM WITHIN: AFFIRMATIONS + TIBETAN SINGING BOWLS + OCEAN DRUM</td><td>Sourced from predicthq.com - This practice allows you to reignite your own self-healing ability.</td><td>concerts</td><td>35</td><td>44</td><td>179.0</td><td>List(List(null, null, n92UGPhhPdTbU6Pijza2YB, 2B Stanley St, Singapore 068721, null, SPACE2B, null, venue), List(concerts, This practice allows you to reignite your own self-healing ability., usY8XBHsRn9aetZetrMgdt, 2B Stanley Street, Singapore, 068721, Singapore, List(concert, event-group, health, music), HEAL FROM WITHIN: AFFIRMATIONS + TIBETAN SINGING BOWLS + OCEAN DRUM, Asia/Singapore, event-group))</td><td>3600</td><td>2025-05-27T12:00:00Z</td><td>2025-05-27T20:00:00</td><td>2025-05-27T13:00:00Z</td><td>2025-05-27T21:00:00</td><td>2025-05-22T13:30:44Z</td><td>2025-05-22T13:29:22Z</td><td>Asia/Singapore</td><td>List(List(phq_attendance, List(List(2025-05-27, event_day, 179)), accommodation), List(phq_attendance, List(List(2025-05-27, event_day, 179)), hospitality), List(phq_attendance, List(List(2025-05-27, event_day, 179)), retail))</td><td>locality</td><td>SG</td><td>List(List(6295630, 6255147, 1880251, 1880252))</td><td>active</td><td>true</td><td>false</td><td>3215.0</td><td>List(0, 2475, 740)</td><td>null</td><td>null</td><td>null</td><td>null</td><td>103.847686</td><td>1.279795</td><td>PredictHQ</td><td>2025-05-26T11:10:48.769Z</td></tr></tbody></table></div>"
      ]
     },
     "metadata": {
      "application/vnd.databricks.v1+output": {
       "addedWidgets": {},
       "aggData": [],
       "aggError": "",
       "aggOverflow": false,
       "aggSchema": [],
       "aggSeriesLimitReached": false,
       "aggType": "",
       "arguments": {},
       "columnCustomDisplayInfos": {},
       "data": [
        [
         0.0,
         "93WGY5RrwzT3ernqB2",
         "INDULGE IN REST: CRYSTAL BOWLS + CHIMES SOUND HEALING",
         "Sourced from predicthq.com - Amidst the fast-paced nature of today’s world, finding time for rest has peculiarly transformed into a form of luxury.",
         "concerts",
         35,
         44,
         179.0,
         [
          [
           null,
           null,
           "n92UGPhhPdTbU6Pijza2YB",
           "2B Stanley St, Singapore 068721",
           null,
           "SPACE2B",
           null,
           "venue"
          ],
          [
           "concerts",
           "Amidst the fast-paced nature of today’s world, finding time for rest has peculiarly transformed into a form of luxury.",
           "4j8Zam8BqsmF5rxK4b5H9D",
           "2B Stanley Street, Singapore, 068721, Singapore",
           [
            "concert",
            "event-group",
            "music",
            "religion"
           ],
           "INDULGE IN REST: CRYSTAL BOWLS + CHIMES SOUND HEALING",
           "Asia/Singapore",
           "event-group"
          ]
         ],
         3600,
         "2025-05-31T09:00:00Z",
         "2025-05-31T17:00:00",
         "2025-05-31T10:00:00Z",
         "2025-05-31T18:00:00",
         "2025-05-24T16:37:23Z",
         "2025-05-24T16:31:13Z",
         "Asia/Singapore",
         [
          [
           "phq_attendance",
           [
            [
             "2025-05-31",
             "event_day",
             179
            ]
           ],
           "accommodation"
          ],
          [
           "phq_attendance",
           [
            [
             "2025-05-31",
             "event_day",
             179
            ]
           ],
           "hospitality"
          ],
          [
           "phq_attendance",
           [
            [
             "2025-05-31",
             "event_day",
             179
            ]
           ],
           "retail"
          ]
         ],
         "locality",
         "SG",
         [
          [
           "6295630",
           "6255147",
           "1880251",
           "1880252"
          ]
         ],
         "active",
         true,
         false,
         3215.0,
         [
          0,
          2475,
          740
         ],
         null,
         null,
         null,
         null,
         103.847686,
         1.279795,
         "PredictHQ",
         "2025-05-26T11:10:48.769Z"
        ],
        [
         0.0,
         "Bni4AgkSe5vPJcWavq",
         "SELF-LOVE AND GRATITUDE SOUND BATH",
         "Sourced from predicthq.com - Come join us for a relaxing sound bath to cultivate self-love and gratitude!",
         "concerts",
         35,
         44,
         169.0,
         [
          [
           null,
           null,
           "n92UGPhhPdTbU6Pijza2YB",
           "2B Stanley St, Singapore 068721",
           null,
           "SPACE2B",
           null,
           "venue"
          ],
          [
           "concerts",
           "Come join us for a relaxing sound bath to cultivate self-love and gratitude!",
           "8avefdQEGS4NAdHeqSe52z",
           "2B Stanley Street, Singapore, 068721, Singapore",
           [
            "concert",
            "event-group",
            "music",
            "religion"
           ],
           "SELF-LOVE AND GRATITUDE SOUND BATH",
           "Asia/Singapore",
           "event-group"
          ]
         ],
         3600,
         "2025-05-31T07:30:00Z",
         "2025-05-31T15:30:00",
         "2025-05-31T08:30:00Z",
         "2025-05-31T16:30:00",
         "2025-05-24T16:37:31Z",
         "2025-05-24T16:30:36Z",
         "Asia/Singapore",
         [
          [
           "phq_attendance",
           [
            [
             "2025-05-31",
             "event_day",
             169
            ]
           ],
           "accommodation"
          ],
          [
           "phq_attendance",
           [
            [
             "2025-05-31",
             "event_day",
             169
            ]
           ],
           "hospitality"
          ],
          [
           "phq_attendance",
           [
            [
             "2025-05-31",
             "event_day",
             169
            ]
           ],
           "retail"
          ]
         ],
         "locality",
         "SG",
         [
          [
           "6295630",
           "6255147",
           "1880251",
           "1880252"
          ]
         ],
         "active",
         true,
         false,
         3035.0,
         [
          0,
          2337,
          698
         ],
         null,
         null,
         null,
         null,
         103.847686,
         1.279795,
         "PredictHQ",
         "2025-05-26T11:10:48.769Z"
        ],
        [
         0.0,
         "9LcjXLT8iwEwhEjMPR",
         "CHAKRA HARMONY: A SOUND JOURNEY FOR WELL-BEING AND BALANCE",
         "Sourced from predicthq.com - Unlock the flow of energy and restore harmony within your body through a powerful chakra balancing session.",
         "concerts",
         35,
         44,
         179.0,
         [
          [
           null,
           null,
           "n92UGPhhPdTbU6Pijza2YB",
           "2B Stanley St, Singapore 068721",
           null,
           "SPACE2B",
           null,
           "venue"
          ],
          [
           "concerts",
           "Unlock the flow of energy and restore harmony within your body through a powerful chakra balancing session.",
           "3BDfvS3iPjq7kAz7pb9VKkN",
           "2B Stanley Street, Singapore, 068721, Singapore",
           [
            "concert",
            "event-group",
            "music",
            "religion"
           ],
           "CHAKRA HARMONY: A SOUND JOURNEY FOR WELL-BEING AND BALANCE",
           "Asia/Singapore",
           "event-group"
          ]
         ],
         3600,
         "2025-05-31T06:00:00Z",
         "2025-05-31T14:00:00",
         "2025-05-31T07:00:00Z",
         "2025-05-31T15:00:00",
         "2025-05-24T16:37:08Z",
         "2025-05-24T16:31:13Z",
         "Asia/Singapore",
         [
          [
           "phq_attendance",
           [
            [
             "2025-05-31",
             "event_day",
             179
            ]
           ],
           "accommodation"
          ],
          [
           "phq_attendance",
           [
            [
             "2025-05-31",
             "event_day",
             179
            ]
           ],
           "hospitality"
          ],
          [
           "phq_attendance",
           [
            [
             "2025-05-31",
             "event_day",
             179
            ]
           ],
           "retail"
          ]
         ],
         "locality",
         "SG",
         [
          [
           "6295630",
           "6255147",
           "1880251",
           "1880252"
          ]
         ],
         "active",
         true,
         false,
         3215.0,
         [
          0,
          2475,
          740
         ],
         null,
         null,
         null,
         null,
         103.847686,
         1.279795,
         "PredictHQ",
         "2025-05-26T11:10:48.769Z"
        ],
        [
         0.0,
         "EoHgPFsTcxA3Nossp9",
         "UNDER THE STARS PLANET SOUND HEALING",
         "Sourced from predicthq.com - Imagine lying down under the stars while tuning into Crystal bowls vibrations and planetary energies..",
         "concerts",
         35,
         44,
         169.0,
         [
          [
           null,
           null,
           "n92UGPhhPdTbU6Pijza2YB",
           "2B Stanley St, Singapore 068721",
           null,
           "SPACE2B",
           null,
           "venue"
          ],
          [
           "concerts",
           "Imagine lying down under the stars while tuning into Crystal bowls vibrations and planetary energies..",
           "sTg7XVvupW54xFXUzr8q65",
           "2B Stanley Street, Singapore, 068721, Singapore",
           [
            "concert",
            "event-group",
            "health",
            "music"
           ],
           "UNDER THE STARS PLANET SOUND HEALING",
           "Asia/Singapore",
           "event-group"
          ]
         ],
         3600,
         "2025-05-28T12:00:00Z",
         "2025-05-28T20:00:00",
         "2025-05-28T13:00:00Z",
         "2025-05-28T21:00:00",
         "2025-05-22T04:25:56Z",
         "2025-05-22T04:25:40Z",
         "Asia/Singapore",
         [
          [
           "phq_attendance",
           [
            [
             "2025-05-28",
             "event_day",
             169
            ]
           ],
           "accommodation"
          ],
          [
           "phq_attendance",
           [
            [
             "2025-05-28",
             "event_day",
             169
            ]
           ],
           "hospitality"
          ],
          [
           "phq_attendance",
           [
            [
             "2025-05-28",
             "event_day",
             169
            ]
           ],
           "retail"
          ]
         ],
         "locality",
         "SG",
         [
          [
           "6295630",
           "6255147",
           "1880251",
           "1880252"
          ]
         ],
         "active",
         true,
         false,
         3035.0,
         [
          0,
          2337,
          698
         ],
         null,
         null,
         null,
         null,
         103.847686,
         1.279795,
         "PredictHQ",
         "2025-05-26T11:10:48.769Z"
        ],
        [
         0.0,
         "4EuSRkm5D7V9MXSauE",
         "LEMURIAN CRYSTAL TEMPLE- SACRED LIGHT & LOVE CRYSTAL SOUND HEALING",
         "Sourced from predicthq.com - Lemurian Crystal Bowls connect us to the ancient world of Lemuria, where a wealth of knowledge has been preserved since the dawn of time.",
         "concerts",
         39,
         48,
         272.0,
         [
          [
           null,
           null,
           "n92UGPhhPdTbU6Pijza2YB",
           "2B Stanley St, Singapore 068721",
           null,
           "SPACE2B",
           null,
           "venue"
          ],
          [
           "concerts",
           "Lemurian Crystal Bowls connect us to the ancient world of Lemuria, where a wealth of knowledge has been preserved since the dawn of time.",
           "HKr7sAsCEW6yZtBfizbgid",
           "2B Stanley Street, Singapore, 068721, Singapore",
           [
            "concert",
            "event-group",
            "music",
            "religion"
           ],
           "LEMURIAN CRYSTAL TEMPLE- SACRED LIGHT & LOVE CRYSTAL SOUND HEALING",
           "Asia/Singapore",
           "event-group"
          ]
         ],
         3600,
         "2025-05-28T10:30:00Z",
         "2025-05-28T18:30:00",
         "2025-05-28T11:30:00Z",
         "2025-05-28T19:30:00",
         "2025-05-15T03:19:42Z",
         "2025-05-15T03:10:35Z",
         "Asia/Singapore",
         [
          [
           "phq_attendance",
           [
            [
             "2025-05-28",
             "event_day",
             272
            ]
           ],
           "accommodation"
          ],
          [
           "phq_attendance",
           [
            [
             "2025-05-28",
             "event_day",
             272
            ]
           ],
           "hospitality"
          ],
          [
           "phq_attendance",
           [
            [
             "2025-05-28",
             "event_day",
             272
            ]
           ],
           "retail"
          ]
         ],
         "locality",
         "SG",
         [
          [
           "6295630",
           "6255147",
           "1880251",
           "1880252"
          ]
         ],
         "active",
         true,
         false,
         4886.0,
         [
          0,
          3761,
          1124
         ],
         null,
         null,
         null,
         null,
         103.847686,
         1.279795,
         "PredictHQ",
         "2025-05-26T11:10:48.769Z"
        ],
        [
         0.0,
         "AJmyqco9BGwEedMVCj",
         "Cosmic Resonance Gong Bath",
         "Sourced from predicthq.com - Immerse yourself in an extraordinary sonic experience that resonates with the rhythm of the universe.",
         "concerts",
         35,
         44,
         179.0,
         [
          [
           null,
           null,
           "n92UGPhhPdTbU6Pijza2YB",
           "2B Stanley St, Singapore 068721",
           null,
           "SPACE2B",
           null,
           "venue"
          ],
          [
           "concerts",
           "Immerse yourself in an extraordinary sonic experience that resonates with the rhythm of the universe.",
           "aCLzhNijzhE36Gt3jrc7q5",
           "2B Stanley Street, Singapore, 068721, Singapore",
           [
            "concert",
            "event-group",
            "music",
            "religion"
           ],
           "Cosmic Resonance Gong Bath",
           "Asia/Singapore",
           "event-group"
          ]
         ],
         3600,
         "2025-05-28T06:00:00Z",
         "2025-05-28T14:00:00",
         "2025-05-28T07:00:00Z",
         "2025-05-28T15:00:00",
         "2025-05-22T04:33:23Z",
         "2025-05-22T04:31:40Z",
         "Asia/Singapore",
         [
          [
           "phq_attendance",
           [
            [
             "2025-05-28",
             "event_day",
             179
            ]
           ],
           "accommodation"
          ],
          [
           "phq_attendance",
           [
            [
             "2025-05-28",
             "event_day",
             179
            ]
           ],
           "hospitality"
          ],
          [
           "phq_attendance",
           [
            [
             "2025-05-28",
             "event_day",
             179
            ]
           ],
           "retail"
          ]
         ],
         "locality",
         "SG",
         [
          [
           "6295630",
           "6255147",
           "1880251",
           "1880252"
          ]
         ],
         "active",
         true,
         false,
         3215.0,
         [
          0,
          2475,
          740
         ],
         null,
         null,
         null,
         null,
         103.847686,
         1.279795,
         "PredictHQ",
         "2025-05-26T11:10:48.769Z"
        ],
        [
         0.0,
         "8FA5uhzup5rubwA9K9",
         "Coming Home to Yourself with Tibetan Singing Bowls",
         "Sourced from predicthq.com - Embark on a transformative sound healing session with Tibetan Singing bowls",
         "concerts",
         35,
         44,
         169.0,
         [
          [
           null,
           null,
           "n92UGPhhPdTbU6Pijza2YB",
           "2B Stanley St, Singapore 068721",
           null,
           "SPACE2B",
           null,
           "venue"
          ],
          [
           "concerts",
           "Embark on a transformative sound healing session with Tibetan Singing bowls",
           "bQ3vFD5Tn7T9yvHWTPfgy5",
           "2B Stanley Street, Singapore, 068721, Singapore",
           [
            "concert",
            "event-group",
            "music",
            "religion"
           ],
           "Coming Home to Yourself with Tibetan Singing Bowls",
           "Asia/Singapore",
           "event-group"
          ]
         ],
         3600,
         "2025-05-28T04:30:00Z",
         "2025-05-28T12:30:00",
         "2025-05-28T05:30:00Z",
         "2025-05-28T13:30:00",
         "2025-05-24T18:53:03Z",
         "2025-05-24T18:52:51Z",
         "Asia/Singapore",
         [
          [
           "phq_attendance",
           [
            [
             "2025-05-28",
             "event_day",
             169
            ]
           ],
           "accommodation"
          ],
          [
           "phq_attendance",
           [
            [
             "2025-05-28",
             "event_day",
             169
            ]
           ],
           "hospitality"
          ],
          [
           "phq_attendance",
           [
            [
             "2025-05-28",
             "event_day",
             169
            ]
           ],
           "retail"
          ]
         ],
         "locality",
         "SG",
         [
          [
           "6295630",
           "6255147",
           "1880251",
           "1880252"
          ]
         ],
         "active",
         true,
         false,
         3035.0,
         [
          0,
          2337,
          698
         ],
         null,
         null,
         null,
         null,
         103.847686,
         1.279795,
         "PredictHQ",
         "2025-05-26T11:10:48.769Z"
        ],
        [
         0.0,
         "Gijny6ikbFbum6YzPA",
         "GROUND YOURSELF, CLARITY OF MIND – SOUND BATH WITH SINGING BOWLS AND DRUMS",
         "Sourced from predicthq.com - Come into this session, to ground yourself and clear your mind. With singing bowls and ocean drum.",
         "concerts",
         35,
         44,
         169.0,
         [
          [
           null,
           null,
           "n92UGPhhPdTbU6Pijza2YB",
           "2B Stanley St, Singapore 068721",
           null,
           "SPACE2B",
           null,
           "venue"
          ],
          [
           "concerts",
           "Come into this session, to ground yourself and clear your mind. With singing bowls and ocean drum.",
           "9WVWaVMA3g2Ukhm4VJ9akd",
           "2B Stanley Street, Singapore, 068721, Singapore",
           [
            "concert",
            "event-group",
            "music",
            "religion"
           ],
           "GROUND YOURSELF, CLARITY OF MIND – SOUND BATH WITH SINGING BOWLS AND DRUMS",
           "Asia/Singapore",
           "event-group"
          ]
         ],
         3600,
         "2025-05-28T03:00:00Z",
         "2025-05-28T11:00:00",
         "2025-05-28T04:00:00Z",
         "2025-05-28T12:00:00",
         "2025-05-24T18:53:03Z",
         "2025-05-24T18:52:51Z",
         "Asia/Singapore",
         [
          [
           "phq_attendance",
           [
            [
             "2025-05-28",
             "event_day",
             169
            ]
           ],
           "accommodation"
          ],
          [
           "phq_attendance",
           [
            [
             "2025-05-28",
             "event_day",
             169
            ]
           ],
           "hospitality"
          ],
          [
           "phq_attendance",
           [
            [
             "2025-05-28",
             "event_day",
             169
            ]
           ],
           "retail"
          ]
         ],
         "locality",
         "SG",
         [
          [
           "6295630",
           "6255147",
           "1880251",
           "1880252"
          ]
         ],
         "active",
         true,
         false,
         3035.0,
         [
          0,
          2337,
          698
         ],
         null,
         null,
         null,
         null,
         103.847686,
         1.279795,
         "PredictHQ",
         "2025-05-26T11:10:48.769Z"
        ],
        [
         0.0,
         "HJwN8y3wdHrLSxCH9B",
         "HEAL FROM WITHIN: AFFIRMATIONS + TIBETAN SINGING BOWLS + OCEAN DRUM",
         "Sourced from predicthq.com - This practice allows you to reignite your own self-healing ability.",
         "concerts",
         35,
         44,
         179.0,
         [
          [
           null,
           null,
           "n92UGPhhPdTbU6Pijza2YB",
           "2B Stanley St, Singapore 068721",
           null,
           "SPACE2B",
           null,
           "venue"
          ],
          [
           "concerts",
           "This practice allows you to reignite your own self-healing ability.",
           "usY8XBHsRn9aetZetrMgdt",
           "2B Stanley Street, Singapore, 068721, Singapore",
           [
            "concert",
            "event-group",
            "health",
            "music"
           ],
           "HEAL FROM WITHIN: AFFIRMATIONS + TIBETAN SINGING BOWLS + OCEAN DRUM",
           "Asia/Singapore",
           "event-group"
          ]
         ],
         3600,
         "2025-05-27T12:00:00Z",
         "2025-05-27T20:00:00",
         "2025-05-27T13:00:00Z",
         "2025-05-27T21:00:00",
         "2025-05-22T13:30:44Z",
         "2025-05-22T13:29:22Z",
         "Asia/Singapore",
         [
          [
           "phq_attendance",
           [
            [
             "2025-05-27",
             "event_day",
             179
            ]
           ],
           "accommodation"
          ],
          [
           "phq_attendance",
           [
            [
             "2025-05-27",
             "event_day",
             179
            ]
           ],
           "hospitality"
          ],
          [
           "phq_attendance",
           [
            [
             "2025-05-27",
             "event_day",
             179
            ]
           ],
           "retail"
          ]
         ],
         "locality",
         "SG",
         [
          [
           "6295630",
           "6255147",
           "1880251",
           "1880252"
          ]
         ],
         "active",
         true,
         false,
         3215.0,
         [
          0,
          2475,
          740
         ],
         null,
         null,
         null,
         null,
         103.847686,
         1.279795,
         "PredictHQ",
         "2025-05-26T11:10:48.769Z"
        ]
       ],
       "datasetInfos": [
        {
         "name": "_sqldf",
         "schema": {
          "fields": [
           {
            "metadata": {},
            "name": "relevance",
            "nullable": true,
            "type": "double"
           },
           {
            "metadata": {},
            "name": "id",
            "nullable": true,
            "type": "string"
           },
           {
            "metadata": {},
            "name": "title",
            "nullable": true,
            "type": "string"
           },
           {
            "metadata": {},
            "name": "description",
            "nullable": true,
            "type": "string"
           },
           {
            "metadata": {},
            "name": "category",
            "nullable": true,
            "type": "string"
           },
           {
            "metadata": {},
            "name": "rank",
            "nullable": true,
            "type": "long"
           },
           {
            "metadata": {},
            "name": "local_rank",
            "nullable": true,
            "type": "long"
           },
           {
            "metadata": {},
            "name": "phq_attendance",
            "nullable": true,
            "type": "double"
           },
           {
            "metadata": {},
            "name": "entities",
            "nullable": true,
            "type": {
             "containsNull": true,
             "elementType": {
              "fields": [
               {
                "metadata": {},
                "name": "category",
                "nullable": true,
                "type": "string"
               },
               {
                "metadata": {},
                "name": "description",
                "nullable": true,
                "type": "string"
               },
               {
                "metadata": {},
                "name": "entity_id",
                "nullable": true,
                "type": "string"
               },
               {
                "metadata": {},
                "name": "formatted_address",
                "nullable": true,
                "type": "string"
               },
               {
                "metadata": {},
                "name": "labels",
                "nullable": true,
                "type": {
                 "containsNull": true,
                 "elementType": "string",
                 "type": "array"
                }
               },
               {
                "metadata": {},
                "name": "name",
                "nullable": true,
                "type": "string"
               },
               {
                "metadata": {},
                "name": "timezone",
                "nullable": true,
                "type": "string"
               },
               {
                "metadata": {},
                "name": "type",
                "nullable": true,
                "type": "string"
               }
              ],
              "type": "struct"
             },
             "type": "array"
            }
           },
           {
            "metadata": {},
            "name": "duration",
            "nullable": true,
            "type": "long"
           },
           {
            "metadata": {},
            "name": "start",
            "nullable": true,
            "type": "string"
           },
           {
            "metadata": {},
            "name": "start_local",
            "nullable": true,
            "type": "string"
           },
           {
            "metadata": {},
            "name": "end",
            "nullable": true,
            "type": "string"
           },
           {
            "metadata": {},
            "name": "end_local",
            "nullable": true,
            "type": "string"
           },
           {
            "metadata": {},
            "name": "updated",
            "nullable": true,
            "type": "string"
           },
           {
            "metadata": {},
            "name": "first_seen",
            "nullable": true,
            "type": "string"
           },
           {
            "metadata": {},
            "name": "timezone",
            "nullable": true,
            "type": "string"
           },
           {
            "metadata": {},
            "name": "impact_patterns",
            "nullable": true,
            "type": {
             "containsNull": true,
             "elementType": {
              "fields": [
               {
                "metadata": {},
                "name": "impact_type",
                "nullable": true,
                "type": "string"
               },
               {
                "metadata": {},
                "name": "impacts",
                "nullable": true,
                "type": {
                 "containsNull": true,
                 "elementType": {
                  "fields": [
                   {
                    "metadata": {},
                    "name": "date_local",
                    "nullable": true,
                    "type": "string"
                   },
                   {
                    "metadata": {},
                    "name": "position",
                    "nullable": true,
                    "type": "string"
                   },
                   {
                    "metadata": {},
                    "name": "value",
                    "nullable": true,
                    "type": "long"
                   }
                  ],
                  "type": "struct"
                 },
                 "type": "array"
                }
               },
               {
                "metadata": {},
                "name": "vertical",
                "nullable": true,
                "type": "string"
               }
              ],
              "type": "struct"
             },
             "type": "array"
            }
           },
           {
            "metadata": {},
            "name": "scope",
            "nullable": true,
            "type": "string"
           },
           {
            "metadata": {},
            "name": "country",
            "nullable": true,
            "type": "string"
           },
           {
            "metadata": {},
            "name": "place_hierarchies",
            "nullable": true,
            "type": {
             "containsNull": true,
             "elementType": {
              "containsNull": true,
              "elementType": "string",
              "type": "array"
             },
             "type": "array"
            }
           },
           {
            "metadata": {},
            "name": "state",
            "nullable": true,
            "type": "string"
           },
           {
            "metadata": {},
            "name": "brand_safe",
            "nullable": true,
            "type": "boolean"
           },
           {
            "metadata": {},
            "name": "private",
            "nullable": true,
            "type": "boolean"
           },
           {
            "metadata": {},
            "name": "predicted_event_spend",
            "nullable": true,
            "type": "double"
           },
           {
            "metadata": {},
            "name": "predicted_event_spend_industries",
            "nullable": true,
            "type": {
             "fields": [
              {
               "metadata": {},
               "name": "accommodation",
               "nullable": true,
               "type": "long"
              },
              {
               "metadata": {},
               "name": "hospitality",
               "nullable": true,
               "type": "long"
              },
              {
               "metadata": {},
               "name": "transportation",
               "nullable": true,
               "type": "long"
              }
             ],
             "type": "struct"
            }
           },
           {
            "metadata": {},
            "name": "phq_labels",
            "nullable": true,
            "type": {
             "containsNull": true,
             "elementType": {
              "fields": [
               {
                "metadata": {},
                "name": "label",
                "nullable": true,
                "type": "string"
               },
               {
                "metadata": {},
                "name": "weight",
                "nullable": true,
                "type": "double"
               }
              ],
              "type": "struct"
             },
             "type": "array"
            }
           },
           {
            "metadata": {},
            "name": "predicted_end",
            "nullable": true,
            "type": "string"
           },
           {
            "metadata": {},
            "name": "predicted_end_local",
            "nullable": true,
            "type": "string"
           },
           {
            "metadata": {},
            "name": "alternate_titles",
            "nullable": true,
            "type": {
             "containsNull": true,
             "elementType": "string",
             "type": "array"
            }
           },
           {
            "metadata": {},
            "name": "lon",
            "nullable": true,
            "type": "double"
           },
           {
            "metadata": {},
            "name": "lat",
            "nullable": true,
            "type": "double"
           },
           {
            "metadata": {},
            "name": "source",
            "nullable": true,
            "type": "string"
           },
           {
            "metadata": {},
            "name": "ingestion_timestamp",
            "nullable": true,
            "type": "timestamp"
           }
          ],
          "type": "struct"
         },
         "tableIdentifier": null,
         "typeStr": "pyspark.sql.connect.dataframe.DataFrame"
        }
       ],
       "dbfsResultPath": null,
       "isJsonSchema": true,
       "metadata": {
        "createTempViewForImplicitDf": true,
        "dataframeName": "_sqldf",
        "executionCount": 201
       },
       "overflow": false,
       "plotOptions": {
        "customPlotOptions": {},
        "displayType": "table",
        "pivotAggregation": null,
        "pivotColumns": null,
        "xColumns": null,
        "yColumns": null
       },
       "removedWidgets": [],
       "schema": [
        {
         "metadata": "{}",
         "name": "relevance",
         "type": "\"double\""
        },
        {
         "metadata": "{}",
         "name": "id",
         "type": "\"string\""
        },
        {
         "metadata": "{}",
         "name": "title",
         "type": "\"string\""
        },
        {
         "metadata": "{}",
         "name": "description",
         "type": "\"string\""
        },
        {
         "metadata": "{}",
         "name": "category",
         "type": "\"string\""
        },
        {
         "metadata": "{}",
         "name": "rank",
         "type": "\"long\""
        },
        {
         "metadata": "{}",
         "name": "local_rank",
         "type": "\"long\""
        },
        {
         "metadata": "{}",
         "name": "phq_attendance",
         "type": "\"double\""
        },
        {
         "metadata": "{}",
         "name": "entities",
         "type": "{\"containsNull\":true,\"elementType\":{\"fields\":[{\"metadata\":{},\"name\":\"category\",\"nullable\":true,\"type\":\"string\"},{\"metadata\":{},\"name\":\"description\",\"nullable\":true,\"type\":\"string\"},{\"metadata\":{},\"name\":\"entity_id\",\"nullable\":true,\"type\":\"string\"},{\"metadata\":{},\"name\":\"formatted_address\",\"nullable\":true,\"type\":\"string\"},{\"metadata\":{},\"name\":\"labels\",\"nullable\":true,\"type\":{\"containsNull\":true,\"elementType\":\"string\",\"type\":\"array\"}},{\"metadata\":{},\"name\":\"name\",\"nullable\":true,\"type\":\"string\"},{\"metadata\":{},\"name\":\"timezone\",\"nullable\":true,\"type\":\"string\"},{\"metadata\":{},\"name\":\"type\",\"nullable\":true,\"type\":\"string\"}],\"type\":\"struct\"},\"type\":\"array\"}"
        },
        {
         "metadata": "{}",
         "name": "duration",
         "type": "\"long\""
        },
        {
         "metadata": "{}",
         "name": "start",
         "type": "\"string\""
        },
        {
         "metadata": "{}",
         "name": "start_local",
         "type": "\"string\""
        },
        {
         "metadata": "{}",
         "name": "end",
         "type": "\"string\""
        },
        {
         "metadata": "{}",
         "name": "end_local",
         "type": "\"string\""
        },
        {
         "metadata": "{}",
         "name": "updated",
         "type": "\"string\""
        },
        {
         "metadata": "{}",
         "name": "first_seen",
         "type": "\"string\""
        },
        {
         "metadata": "{}",
         "name": "timezone",
         "type": "\"string\""
        },
        {
         "metadata": "{}",
         "name": "impact_patterns",
         "type": "{\"containsNull\":true,\"elementType\":{\"fields\":[{\"metadata\":{},\"name\":\"impact_type\",\"nullable\":true,\"type\":\"string\"},{\"metadata\":{},\"name\":\"impacts\",\"nullable\":true,\"type\":{\"containsNull\":true,\"elementType\":{\"fields\":[{\"metadata\":{},\"name\":\"date_local\",\"nullable\":true,\"type\":\"string\"},{\"metadata\":{},\"name\":\"position\",\"nullable\":true,\"type\":\"string\"},{\"metadata\":{},\"name\":\"value\",\"nullable\":true,\"type\":\"long\"}],\"type\":\"struct\"},\"type\":\"array\"}},{\"metadata\":{},\"name\":\"vertical\",\"nullable\":true,\"type\":\"string\"}],\"type\":\"struct\"},\"type\":\"array\"}"
        },
        {
         "metadata": "{}",
         "name": "scope",
         "type": "\"string\""
        },
        {
         "metadata": "{}",
         "name": "country",
         "type": "\"string\""
        },
        {
         "metadata": "{}",
         "name": "place_hierarchies",
         "type": "{\"containsNull\":true,\"elementType\":{\"containsNull\":true,\"elementType\":\"string\",\"type\":\"array\"},\"type\":\"array\"}"
        },
        {
         "metadata": "{}",
         "name": "state",
         "type": "\"string\""
        },
        {
         "metadata": "{}",
         "name": "brand_safe",
         "type": "\"boolean\""
        },
        {
         "metadata": "{}",
         "name": "private",
         "type": "\"boolean\""
        },
        {
         "metadata": "{}",
         "name": "predicted_event_spend",
         "type": "\"double\""
        },
        {
         "metadata": "{}",
         "name": "predicted_event_spend_industries",
         "type": "{\"fields\":[{\"metadata\":{},\"name\":\"accommodation\",\"nullable\":true,\"type\":\"long\"},{\"metadata\":{},\"name\":\"hospitality\",\"nullable\":true,\"type\":\"long\"},{\"metadata\":{},\"name\":\"transportation\",\"nullable\":true,\"type\":\"long\"}],\"type\":\"struct\"}"
        },
        {
         "metadata": "{}",
         "name": "phq_labels",
         "type": "{\"containsNull\":true,\"elementType\":{\"fields\":[{\"metadata\":{},\"name\":\"label\",\"nullable\":true,\"type\":\"string\"},{\"metadata\":{},\"name\":\"weight\",\"nullable\":true,\"type\":\"double\"}],\"type\":\"struct\"},\"type\":\"array\"}"
        },
        {
         "metadata": "{}",
         "name": "predicted_end",
         "type": "\"string\""
        },
        {
         "metadata": "{}",
         "name": "predicted_end_local",
         "type": "\"string\""
        },
        {
         "metadata": "{}",
         "name": "alternate_titles",
         "type": "{\"containsNull\":true,\"elementType\":\"string\",\"type\":\"array\"}"
        },
        {
         "metadata": "{}",
         "name": "lon",
         "type": "\"double\""
        },
        {
         "metadata": "{}",
         "name": "lat",
         "type": "\"double\""
        },
        {
         "metadata": "{}",
         "name": "source",
         "type": "\"string\""
        },
        {
         "metadata": "{}",
         "name": "ingestion_timestamp",
         "type": "\"timestamp\""
        }
       ],
       "type": "table"
      }
     },
     "output_type": "display_data"
    }
   ],
   "source": [
    "%sql\n",
    "select * from civai.raw.predict_hq_events where lat==1.279795 and lon==103.847686"
   ]
  },
  {
   "cell_type": "code",
   "execution_count": 0,
   "metadata": {
    "application/vnd.databricks.v1+cell": {
     "cellMetadata": {
      "byteLimit": 2048000,
      "rowLimit": 10000
     },
     "inputWidgets": {},
     "nuid": "66cccdc6-1430-4aaa-80e1-690f12738678",
     "showTitle": false,
     "tableResultSettingsMap": {},
     "title": ""
    }
   },
   "outputs": [
    {
     "output_type": "execute_result",
     "data": {
      "text/html": [
       "<div>\n",
       "<style scoped>\n",
       "    .dataframe tbody tr th:only-of-type {\n",
       "        vertical-align: middle;\n",
       "    }\n",
       "\n",
       "    .dataframe tbody tr th {\n",
       "        vertical-align: top;\n",
       "    }\n",
       "\n",
       "    .dataframe thead th {\n",
       "        text-align: right;\n",
       "    }\n",
       "</style>\n",
       "<table border=\"1\" class=\"dataframe\">\n",
       "  <thead>\n",
       "    <tr style=\"text-align: right;\">\n",
       "      <th></th>\n",
       "      <th>relevance</th>\n",
       "      <th>id</th>\n",
       "      <th>title</th>\n",
       "      <th>description</th>\n",
       "      <th>category</th>\n",
       "      <th>rank</th>\n",
       "      <th>local_rank</th>\n",
       "      <th>phq_attendance</th>\n",
       "      <th>entities</th>\n",
       "      <th>duration</th>\n",
       "      <th>start</th>\n",
       "      <th>start_local</th>\n",
       "      <th>end</th>\n",
       "      <th>end_local</th>\n",
       "      <th>updated</th>\n",
       "      <th>first_seen</th>\n",
       "      <th>timezone</th>\n",
       "      <th>impact_patterns</th>\n",
       "      <th>scope</th>\n",
       "      <th>country</th>\n",
       "      <th>place_hierarchies</th>\n",
       "      <th>state</th>\n",
       "      <th>brand_safe</th>\n",
       "      <th>private</th>\n",
       "      <th>predicted_event_spend</th>\n",
       "      <th>predicted_event_spend_industries</th>\n",
       "      <th>phq_labels</th>\n",
       "      <th>predicted_end</th>\n",
       "      <th>predicted_end_local</th>\n",
       "      <th>alternate_titles</th>\n",
       "      <th>lon</th>\n",
       "      <th>lat</th>\n",
       "      <th>source</th>\n",
       "      <th>ingestion_timestamp</th>\n",
       "    </tr>\n",
       "  </thead>\n",
       "  <tbody>\n",
       "    <tr>\n",
       "      <th>0</th>\n",
       "      <td>0.0</td>\n",
       "      <td>93WGY5RrwzT3ernqB2</td>\n",
       "      <td>INDULGE IN REST: CRYSTAL BOWLS + CHIMES SOUND ...</td>\n",
       "      <td>Sourced from predicthq.com - Amidst the fast-p...</td>\n",
       "      <td>concerts</td>\n",
       "      <td>35</td>\n",
       "      <td>44</td>\n",
       "      <td>179.0</td>\n",
       "      <td>[{'category': None, 'description': None, 'enti...</td>\n",
       "      <td>3600</td>\n",
       "      <td>2025-05-31T09:00:00Z</td>\n",
       "      <td>2025-05-31T17:00:00</td>\n",
       "      <td>2025-05-31T10:00:00Z</td>\n",
       "      <td>2025-05-31T18:00:00</td>\n",
       "      <td>2025-05-24T16:37:23Z</td>\n",
       "      <td>2025-05-24T16:31:13Z</td>\n",
       "      <td>Asia/Singapore</td>\n",
       "      <td>[{'impact_type': 'phq_attendance', 'impacts': ...</td>\n",
       "      <td>locality</td>\n",
       "      <td>SG</td>\n",
       "      <td>[[6295630, 6255147, 1880251, 1880252]]</td>\n",
       "      <td>active</td>\n",
       "      <td>True</td>\n",
       "      <td>False</td>\n",
       "      <td>3215.0</td>\n",
       "      <td>{'accommodation': 0, 'hospitality': 2475, 'tra...</td>\n",
       "      <td>None</td>\n",
       "      <td>None</td>\n",
       "      <td>None</td>\n",
       "      <td>None</td>\n",
       "      <td>103.847686</td>\n",
       "      <td>1.279795</td>\n",
       "      <td>PredictHQ</td>\n",
       "      <td>2025-05-26 11:10:48.769275</td>\n",
       "    </tr>\n",
       "    <tr>\n",
       "      <th>1</th>\n",
       "      <td>0.0</td>\n",
       "      <td>Bni4AgkSe5vPJcWavq</td>\n",
       "      <td>SELF-LOVE AND GRATITUDE SOUND BATH</td>\n",
       "      <td>Sourced from predicthq.com - Come join us for ...</td>\n",
       "      <td>concerts</td>\n",
       "      <td>35</td>\n",
       "      <td>44</td>\n",
       "      <td>169.0</td>\n",
       "      <td>[{'category': None, 'description': None, 'enti...</td>\n",
       "      <td>3600</td>\n",
       "      <td>2025-05-31T07:30:00Z</td>\n",
       "      <td>2025-05-31T15:30:00</td>\n",
       "      <td>2025-05-31T08:30:00Z</td>\n",
       "      <td>2025-05-31T16:30:00</td>\n",
       "      <td>2025-05-24T16:37:31Z</td>\n",
       "      <td>2025-05-24T16:30:36Z</td>\n",
       "      <td>Asia/Singapore</td>\n",
       "      <td>[{'impact_type': 'phq_attendance', 'impacts': ...</td>\n",
       "      <td>locality</td>\n",
       "      <td>SG</td>\n",
       "      <td>[[6295630, 6255147, 1880251, 1880252]]</td>\n",
       "      <td>active</td>\n",
       "      <td>True</td>\n",
       "      <td>False</td>\n",
       "      <td>3035.0</td>\n",
       "      <td>{'accommodation': 0, 'hospitality': 2337, 'tra...</td>\n",
       "      <td>None</td>\n",
       "      <td>None</td>\n",
       "      <td>None</td>\n",
       "      <td>None</td>\n",
       "      <td>103.847686</td>\n",
       "      <td>1.279795</td>\n",
       "      <td>PredictHQ</td>\n",
       "      <td>2025-05-26 11:10:48.769275</td>\n",
       "    </tr>\n",
       "    <tr>\n",
       "      <th>2</th>\n",
       "      <td>0.0</td>\n",
       "      <td>9LcjXLT8iwEwhEjMPR</td>\n",
       "      <td>CHAKRA HARMONY: A SOUND JOURNEY FOR WELL-BEING...</td>\n",
       "      <td>Sourced from predicthq.com - Unlock the flow o...</td>\n",
       "      <td>concerts</td>\n",
       "      <td>35</td>\n",
       "      <td>44</td>\n",
       "      <td>179.0</td>\n",
       "      <td>[{'category': None, 'description': None, 'enti...</td>\n",
       "      <td>3600</td>\n",
       "      <td>2025-05-31T06:00:00Z</td>\n",
       "      <td>2025-05-31T14:00:00</td>\n",
       "      <td>2025-05-31T07:00:00Z</td>\n",
       "      <td>2025-05-31T15:00:00</td>\n",
       "      <td>2025-05-24T16:37:08Z</td>\n",
       "      <td>2025-05-24T16:31:13Z</td>\n",
       "      <td>Asia/Singapore</td>\n",
       "      <td>[{'impact_type': 'phq_attendance', 'impacts': ...</td>\n",
       "      <td>locality</td>\n",
       "      <td>SG</td>\n",
       "      <td>[[6295630, 6255147, 1880251, 1880252]]</td>\n",
       "      <td>active</td>\n",
       "      <td>True</td>\n",
       "      <td>False</td>\n",
       "      <td>3215.0</td>\n",
       "      <td>{'accommodation': 0, 'hospitality': 2475, 'tra...</td>\n",
       "      <td>None</td>\n",
       "      <td>None</td>\n",
       "      <td>None</td>\n",
       "      <td>None</td>\n",
       "      <td>103.847686</td>\n",
       "      <td>1.279795</td>\n",
       "      <td>PredictHQ</td>\n",
       "      <td>2025-05-26 11:10:48.769275</td>\n",
       "    </tr>\n",
       "    <tr>\n",
       "      <th>3</th>\n",
       "      <td>0.0</td>\n",
       "      <td>EoHgPFsTcxA3Nossp9</td>\n",
       "      <td>UNDER THE STARS PLANET SOUND HEALING</td>\n",
       "      <td>Sourced from predicthq.com - Imagine lying dow...</td>\n",
       "      <td>concerts</td>\n",
       "      <td>35</td>\n",
       "      <td>44</td>\n",
       "      <td>169.0</td>\n",
       "      <td>[{'category': None, 'description': None, 'enti...</td>\n",
       "      <td>3600</td>\n",
       "      <td>2025-05-28T12:00:00Z</td>\n",
       "      <td>2025-05-28T20:00:00</td>\n",
       "      <td>2025-05-28T13:00:00Z</td>\n",
       "      <td>2025-05-28T21:00:00</td>\n",
       "      <td>2025-05-22T04:25:56Z</td>\n",
       "      <td>2025-05-22T04:25:40Z</td>\n",
       "      <td>Asia/Singapore</td>\n",
       "      <td>[{'impact_type': 'phq_attendance', 'impacts': ...</td>\n",
       "      <td>locality</td>\n",
       "      <td>SG</td>\n",
       "      <td>[[6295630, 6255147, 1880251, 1880252]]</td>\n",
       "      <td>active</td>\n",
       "      <td>True</td>\n",
       "      <td>False</td>\n",
       "      <td>3035.0</td>\n",
       "      <td>{'accommodation': 0, 'hospitality': 2337, 'tra...</td>\n",
       "      <td>None</td>\n",
       "      <td>None</td>\n",
       "      <td>None</td>\n",
       "      <td>None</td>\n",
       "      <td>103.847686</td>\n",
       "      <td>1.279795</td>\n",
       "      <td>PredictHQ</td>\n",
       "      <td>2025-05-26 11:10:48.769275</td>\n",
       "    </tr>\n",
       "    <tr>\n",
       "      <th>4</th>\n",
       "      <td>0.0</td>\n",
       "      <td>4EuSRkm5D7V9MXSauE</td>\n",
       "      <td>LEMURIAN CRYSTAL TEMPLE- SACRED LIGHT &amp; LOVE C...</td>\n",
       "      <td>Sourced from predicthq.com - Lemurian Crystal ...</td>\n",
       "      <td>concerts</td>\n",
       "      <td>39</td>\n",
       "      <td>48</td>\n",
       "      <td>272.0</td>\n",
       "      <td>[{'category': None, 'description': None, 'enti...</td>\n",
       "      <td>3600</td>\n",
       "      <td>2025-05-28T10:30:00Z</td>\n",
       "      <td>2025-05-28T18:30:00</td>\n",
       "      <td>2025-05-28T11:30:00Z</td>\n",
       "      <td>2025-05-28T19:30:00</td>\n",
       "      <td>2025-05-15T03:19:42Z</td>\n",
       "      <td>2025-05-15T03:10:35Z</td>\n",
       "      <td>Asia/Singapore</td>\n",
       "      <td>[{'impact_type': 'phq_attendance', 'impacts': ...</td>\n",
       "      <td>locality</td>\n",
       "      <td>SG</td>\n",
       "      <td>[[6295630, 6255147, 1880251, 1880252]]</td>\n",
       "      <td>active</td>\n",
       "      <td>True</td>\n",
       "      <td>False</td>\n",
       "      <td>4886.0</td>\n",
       "      <td>{'accommodation': 0, 'hospitality': 3761, 'tra...</td>\n",
       "      <td>None</td>\n",
       "      <td>None</td>\n",
       "      <td>None</td>\n",
       "      <td>None</td>\n",
       "      <td>103.847686</td>\n",
       "      <td>1.279795</td>\n",
       "      <td>PredictHQ</td>\n",
       "      <td>2025-05-26 11:10:48.769275</td>\n",
       "    </tr>\n",
       "  </tbody>\n",
       "</table>\n",
       "</div>"
      ],
      "text/plain": [
       "   relevance                  id  ...     source        ingestion_timestamp\n",
       "0        0.0  93WGY5RrwzT3ernqB2  ...  PredictHQ 2025-05-26 11:10:48.769275\n",
       "1        0.0  Bni4AgkSe5vPJcWavq  ...  PredictHQ 2025-05-26 11:10:48.769275\n",
       "2        0.0  9LcjXLT8iwEwhEjMPR  ...  PredictHQ 2025-05-26 11:10:48.769275\n",
       "3        0.0  EoHgPFsTcxA3Nossp9  ...  PredictHQ 2025-05-26 11:10:48.769275\n",
       "4        0.0  4EuSRkm5D7V9MXSauE  ...  PredictHQ 2025-05-26 11:10:48.769275\n",
       "\n",
       "[5 rows x 34 columns]"
      ]
     },
     "execution_count": 202,
     "metadata": {},
     "output_type": "execute_result"
    }
   ],
   "source": [
    "predict_hq1 = _sqldf.toPandas()\n",
    "predict_hq1.head()"
   ]
  },
  {
   "cell_type": "code",
   "execution_count": 0,
   "metadata": {
    "application/vnd.databricks.v1+cell": {
     "cellMetadata": {
      "byteLimit": 2048000,
      "implicitDf": true,
      "rowLimit": 10000
     },
     "collapsed": true,
     "inputWidgets": {},
     "nuid": "a5d33e15-5d2e-4502-bc2a-964831d5e57a",
     "showTitle": false,
     "tableResultSettingsMap": {},
     "title": ""
    }
   },
   "outputs": [
    {
     "output_type": "display_data",
     "data": {
      "text/html": [
       "<style scoped>\n",
       "  .table-result-container {\n",
       "    max-height: 300px;\n",
       "    overflow: auto;\n",
       "  }\n",
       "  table, th, td {\n",
       "    border: 1px solid black;\n",
       "    border-collapse: collapse;\n",
       "  }\n",
       "  th, td {\n",
       "    padding: 5px;\n",
       "  }\n",
       "  th {\n",
       "    text-align: left;\n",
       "  }\n",
       "</style><div class='table-result-container'><table class='table-result'><thead style='background-color: white'><tr><th>lat</th><th>lon</th></tr></thead><tbody><tr><td>1.2456916</td><td>103.8278754</td></tr><tr><td>1.249431</td><td>103.824441</td></tr><tr><td>1.249431</td><td>103.824441</td></tr><tr><td>1.2719533</td><td>103.836752</td></tr><tr><td>1.273767</td><td>103.8450399</td></tr><tr><td>1.2756998</td><td>103.8458098</td></tr><tr><td>1.2764491</td><td>103.8458497</td></tr><tr><td>1.2782749</td><td>103.8507719</td></tr><tr><td>1.279795</td><td>103.847686</td></tr><tr><td>1.279795</td><td>103.847686</td></tr><tr><td>1.279795</td><td>103.847686</td></tr><tr><td>1.279795</td><td>103.847686</td></tr><tr><td>1.279795</td><td>103.847686</td></tr><tr><td>1.279795</td><td>103.847686</td></tr><tr><td>1.279795</td><td>103.847686</td></tr><tr><td>1.279795</td><td>103.847686</td></tr><tr><td>1.279795</td><td>103.847686</td></tr><tr><td>1.2798897</td><td>103.8548685</td></tr><tr><td>1.2800305</td><td>103.8492068</td></tr><tr><td>1.2804176</td><td>103.8223871</td></tr><tr><td>1.2811866</td><td>103.8503404</td></tr><tr><td>1.2813466</td><td>103.8454791</td></tr><tr><td>1.2815683</td><td>103.8636132</td></tr><tr><td>1.2815835</td><td>103.8588103</td></tr><tr><td>1.282302</td><td>103.85853079999993</td></tr><tr><td>1.2843525</td><td>103.813778</td></tr><tr><td>1.2845452</td><td>103.8526975</td></tr><tr><td>1.2848998</td><td>103.8478027</td></tr><tr><td>1.285631</td><td>103.8440929</td></tr><tr><td>1.28581</td><td>103.83599</td></tr><tr><td>1.2864528</td><td>103.8490608</td></tr><tr><td>1.287062</td><td>103.8406922</td></tr><tr><td>1.2871749</td><td>103.8451817</td></tr><tr><td>1.2871749</td><td>103.8451817</td></tr><tr><td>1.2871749</td><td>103.8451817</td></tr><tr><td>1.287403</td><td>103.8477673</td></tr><tr><td>1.2877507</td><td>103.8492738</td></tr><tr><td>1.2881179</td><td>103.8475434</td></tr><tr><td>1.2890745</td><td>103.8488704</td></tr><tr><td>1.2898458</td><td>103.8384283</td></tr><tr><td>1.29026</td><td>103.8391876</td></tr><tr><td>1.290427</td><td>103.77731700000004</td></tr><tr><td>1.29182</td><td>103.857108</td></tr><tr><td>1.29182</td><td>103.857108</td></tr><tr><td>1.2928106</td><td>103.8386992</td></tr><tr><td>1.2928106</td><td>103.8386992</td></tr><tr><td>1.2932041</td><td>103.8534191</td></tr><tr><td>1.2932477</td><td>103.8502937</td></tr><tr><td>1.293284</td><td>103.850166</td></tr><tr><td>1.2935752</td><td>103.8603322</td></tr><tr><td>1.2939556</td><td>103.8533468</td></tr><tr><td>1.2940814</td><td>103.8571812</td></tr><tr><td>1.2950324</td><td>103.8583015</td></tr><tr><td>1.2960465</td><td>103.8157393</td></tr><tr><td>1.2968094</td><td>103.8577631</td></tr><tr><td>1.2974415</td><td>103.8541438</td></tr><tr><td>1.2975672</td><td>103.8480065</td></tr><tr><td>1.2975884</td><td>103.8543081</td></tr><tr><td>1.2976311</td><td>103.8522423</td></tr><tr><td>1.2976311</td><td>103.8522423</td></tr><tr><td>1.2976311</td><td>103.8522423</td></tr><tr><td>1.2984504</td><td>103.854865</td></tr><tr><td>1.2984504</td><td>103.854865</td></tr><tr><td>1.2989271</td><td>103.8532166</td></tr><tr><td>1.2989404</td><td>103.8427145</td></tr><tr><td>1.2998769</td><td>103.786382</td></tr><tr><td>1.300401</td><td>103.8523563</td></tr><tr><td>1.3004652</td><td>103.8536697</td></tr><tr><td>1.3004652</td><td>103.8536697</td></tr><tr><td>1.3005405</td><td>103.8492521</td></tr><tr><td>1.3007842</td><td>103.9121866</td></tr><tr><td>1.3009806</td><td>103.8729085</td></tr><tr><td>1.301204</td><td>103.8626778</td></tr><tr><td>1.301388</td><td>103.8611647</td></tr><tr><td>1.3015106</td><td>103.8734359</td></tr><tr><td>1.3027771</td><td>103.8516618</td></tr><tr><td>1.303766</td><td>103.902914</td></tr><tr><td>1.3050514</td><td>103.787759</td></tr><tr><td>1.3050787</td><td>103.9033741</td></tr><tr><td>1.306851</td><td>103.904113</td></tr><tr><td>1.3069323</td><td>103.9030415</td></tr><tr><td>1.3090129</td><td>103.9311249</td></tr><tr><td>1.3094718</td><td>103.8585559</td></tr><tr><td>1.3118244</td><td>103.8364761</td></tr><tr><td>1.315004</td><td>103.8851743</td></tr><tr><td>1.3152118</td><td>103.8659939</td></tr><tr><td>1.31652</td><td>103.85713</td></tr><tr><td>1.3167465</td><td>103.8815035</td></tr><tr><td>1.3196896</td><td>103.8924922</td></tr><tr><td>1.3329648</td><td>103.8486276</td></tr><tr><td>1.3335017</td><td>103.8871113</td></tr><tr><td>1.3337256</td><td>103.8410082</td></tr><tr><td>1.3389621</td><td>103.8704735</td></tr><tr><td>1.34174</td><td>103.88553</td></tr><tr><td>1.3428554</td><td>103.6352005</td></tr><tr><td>1.3436072</td><td>103.7905907</td></tr><tr><td>1.352083</td><td>103.819836</td></tr><tr><td>1.352083</td><td>103.819836</td></tr><tr><td>1.4266024</td><td>103.8383565</td></tr><tr><td>1.441188</td><td>103.775964</td></tr></tbody></table></div>"
      ]
     },
     "metadata": {
      "application/vnd.databricks.v1+output": {
       "addedWidgets": {},
       "aggData": [],
       "aggError": "",
       "aggOverflow": false,
       "aggSchema": [],
       "aggSeriesLimitReached": false,
       "aggType": "",
       "arguments": {},
       "columnCustomDisplayInfos": {},
       "data": [
        [
         1.2456916,
         103.8278754
        ],
        [
         1.249431,
         103.824441
        ],
        [
         1.249431,
         103.824441
        ],
        [
         1.2719533,
         103.836752
        ],
        [
         1.273767,
         103.8450399
        ],
        [
         1.2756998,
         103.8458098
        ],
        [
         1.2764491,
         103.8458497
        ],
        [
         1.2782749,
         103.8507719
        ],
        [
         1.279795,
         103.847686
        ],
        [
         1.279795,
         103.847686
        ],
        [
         1.279795,
         103.847686
        ],
        [
         1.279795,
         103.847686
        ],
        [
         1.279795,
         103.847686
        ],
        [
         1.279795,
         103.847686
        ],
        [
         1.279795,
         103.847686
        ],
        [
         1.279795,
         103.847686
        ],
        [
         1.279795,
         103.847686
        ],
        [
         1.2798897,
         103.8548685
        ],
        [
         1.2800305,
         103.8492068
        ],
        [
         1.2804176,
         103.8223871
        ],
        [
         1.2811866,
         103.8503404
        ],
        [
         1.2813466,
         103.8454791
        ],
        [
         1.2815683,
         103.8636132
        ],
        [
         1.2815835,
         103.8588103
        ],
        [
         1.282302,
         103.85853079999993
        ],
        [
         1.2843525,
         103.813778
        ],
        [
         1.2845452,
         103.8526975
        ],
        [
         1.2848998,
         103.8478027
        ],
        [
         1.285631,
         103.8440929
        ],
        [
         1.28581,
         103.83599
        ],
        [
         1.2864528,
         103.8490608
        ],
        [
         1.287062,
         103.8406922
        ],
        [
         1.2871749,
         103.8451817
        ],
        [
         1.2871749,
         103.8451817
        ],
        [
         1.2871749,
         103.8451817
        ],
        [
         1.287403,
         103.8477673
        ],
        [
         1.2877507,
         103.8492738
        ],
        [
         1.2881179,
         103.8475434
        ],
        [
         1.2890745,
         103.8488704
        ],
        [
         1.2898458,
         103.8384283
        ],
        [
         1.29026,
         103.8391876
        ],
        [
         1.290427,
         103.77731700000004
        ],
        [
         1.29182,
         103.857108
        ],
        [
         1.29182,
         103.857108
        ],
        [
         1.2928106,
         103.8386992
        ],
        [
         1.2928106,
         103.8386992
        ],
        [
         1.2932041,
         103.8534191
        ],
        [
         1.2932477,
         103.8502937
        ],
        [
         1.293284,
         103.850166
        ],
        [
         1.2935752,
         103.8603322
        ],
        [
         1.2939556,
         103.8533468
        ],
        [
         1.2940814,
         103.8571812
        ],
        [
         1.2950324,
         103.8583015
        ],
        [
         1.2960465,
         103.8157393
        ],
        [
         1.2968094,
         103.8577631
        ],
        [
         1.2974415,
         103.8541438
        ],
        [
         1.2975672,
         103.8480065
        ],
        [
         1.2975884,
         103.8543081
        ],
        [
         1.2976311,
         103.8522423
        ],
        [
         1.2976311,
         103.8522423
        ],
        [
         1.2976311,
         103.8522423
        ],
        [
         1.2984504,
         103.854865
        ],
        [
         1.2984504,
         103.854865
        ],
        [
         1.2989271,
         103.8532166
        ],
        [
         1.2989404,
         103.8427145
        ],
        [
         1.2998769,
         103.786382
        ],
        [
         1.300401,
         103.8523563
        ],
        [
         1.3004652,
         103.8536697
        ],
        [
         1.3004652,
         103.8536697
        ],
        [
         1.3005405,
         103.8492521
        ],
        [
         1.3007842,
         103.9121866
        ],
        [
         1.3009806,
         103.8729085
        ],
        [
         1.301204,
         103.8626778
        ],
        [
         1.301388,
         103.8611647
        ],
        [
         1.3015106,
         103.8734359
        ],
        [
         1.3027771,
         103.8516618
        ],
        [
         1.303766,
         103.902914
        ],
        [
         1.3050514,
         103.787759
        ],
        [
         1.3050787,
         103.9033741
        ],
        [
         1.306851,
         103.904113
        ],
        [
         1.3069323,
         103.9030415
        ],
        [
         1.3090129,
         103.9311249
        ],
        [
         1.3094718,
         103.8585559
        ],
        [
         1.3118244,
         103.8364761
        ],
        [
         1.315004,
         103.8851743
        ],
        [
         1.3152118,
         103.8659939
        ],
        [
         1.31652,
         103.85713
        ],
        [
         1.3167465,
         103.8815035
        ],
        [
         1.3196896,
         103.8924922
        ],
        [
         1.3329648,
         103.8486276
        ],
        [
         1.3335017,
         103.8871113
        ],
        [
         1.3337256,
         103.8410082
        ],
        [
         1.3389621,
         103.8704735
        ],
        [
         1.34174,
         103.88553
        ],
        [
         1.3428554,
         103.6352005
        ],
        [
         1.3436072,
         103.7905907
        ],
        [
         1.352083,
         103.819836
        ],
        [
         1.352083,
         103.819836
        ],
        [
         1.4266024,
         103.8383565
        ],
        [
         1.441188,
         103.775964
        ]
       ],
       "datasetInfos": [
        {
         "name": "_sqldf",
         "schema": {
          "fields": [
           {
            "metadata": {},
            "name": "lat",
            "nullable": true,
            "type": "double"
           },
           {
            "metadata": {},
            "name": "lon",
            "nullable": true,
            "type": "double"
           }
          ],
          "type": "struct"
         },
         "tableIdentifier": null,
         "typeStr": "pyspark.sql.connect.dataframe.DataFrame"
        }
       ],
       "dbfsResultPath": null,
       "isJsonSchema": true,
       "metadata": {
        "createTempViewForImplicitDf": true,
        "dataframeName": "_sqldf",
        "executionCount": 181
       },
       "overflow": false,
       "plotOptions": {
        "customPlotOptions": {},
        "displayType": "table",
        "pivotAggregation": null,
        "pivotColumns": null,
        "xColumns": null,
        "yColumns": null
       },
       "removedWidgets": [],
       "schema": [
        {
         "metadata": "{}",
         "name": "lat",
         "type": "\"double\""
        },
        {
         "metadata": "{}",
         "name": "lon",
         "type": "\"double\""
        }
       ],
       "type": "table"
      }
     },
     "output_type": "display_data"
    }
   ],
   "source": [
    "%sql\n",
    "select lat,lon from civai.raw.predict_hq_events order by lat asc;"
   ]
  },
  {
   "cell_type": "code",
   "execution_count": 0,
   "metadata": {
    "application/vnd.databricks.v1+cell": {
     "cellMetadata": {
      "byteLimit": 2048000,
      "implicitDf": true,
      "rowLimit": 10000
     },
     "inputWidgets": {},
     "nuid": "b0ebf2a6-5ffd-4063-a422-4d3384b6604d",
     "showTitle": false,
     "tableResultSettingsMap": {},
     "title": ""
    }
   },
   "outputs": [
    {
     "output_type": "display_data",
     "data": {
      "text/html": [
       "<style scoped>\n",
       "  .table-result-container {\n",
       "    max-height: 300px;\n",
       "    overflow: auto;\n",
       "  }\n",
       "  table, th, td {\n",
       "    border: 1px solid black;\n",
       "    border-collapse: collapse;\n",
       "  }\n",
       "  th, td {\n",
       "    padding: 5px;\n",
       "  }\n",
       "  th {\n",
       "    text-align: left;\n",
       "  }\n",
       "</style><div class='table-result-container'><table class='table-result'><thead style='background-color: white'><tr><th>relevance</th><th>id</th><th>title</th><th>description</th><th>category</th><th>rank</th><th>local_rank</th><th>phq_attendance</th><th>entities</th><th>duration</th><th>start</th><th>start_local</th><th>end</th><th>end_local</th><th>updated</th><th>first_seen</th><th>timezone</th><th>impact_patterns</th><th>scope</th><th>country</th><th>place_hierarchies</th><th>state</th><th>brand_safe</th><th>private</th><th>predicted_event_spend</th><th>predicted_event_spend_industries</th><th>phq_labels</th><th>predicted_end</th><th>predicted_end_local</th><th>alternate_titles</th><th>lon</th><th>lat</th><th>source</th><th>ingestion_timestamp</th></tr></thead><tbody><tr><td>0.0</td><td>EcrqqgZe5zeDnVdZTd</td><td>Tell Me a JazzTime Story by Eric Lee Trio</td><td>Sourced from predicthq.com - Maduro presents Eric Lee Trio on this unforgettably fun evening of timeless jazz tales that tell stories of mischief, memories and more</td><td>concerts</td><td>40</td><td>47</td><td>330.0</td><td>List()</td><td>10800</td><td>2025-05-31T12:30:00Z</td><td>2025-05-31T20:30:00</td><td>2025-05-31T15:30:00Z</td><td>2025-05-31T23:30:00</td><td>2025-05-01T08:28:42Z</td><td>2025-05-01T07:37:08Z</td><td>Asia/Singapore</td><td>List(List(phq_attendance, List(List(2025-05-31, event_day, 330)), accommodation), List(phq_attendance, List(List(2025-05-31, event_day, 330)), hospitality), List(phq_attendance, List(List(2025-05-31, event_day, 330)), retail))</td><td>locality</td><td>SG</td><td>List(List(6295630, 6255147, 1880251, 7289766), List(6295630, 6255147, 1880251, 1880252))</td><td>active</td><td>true</td><td>false</td><td>5927.0</td><td>List(0, 4563, 1364)</td><td>List(List(jazz-and-classical, 1.0))</td><td>null</td><td>null</td><td>null</td><td>103.8278754</td><td>1.2456916</td><td>PredictHQ</td><td>2025-05-26T11:10:48.769Z</td></tr><tr><td>0.0</td><td>Rotet8Eazj4kjQaHJa</td><td>NuHarmony Choir Presents: From Screen to Stage</td><td>Sourced from predicthq.com - Join us for \"NuHarmony Choir Presents: From Screen to Stage\" where we bring your favorite movie and musical soundtracks to life!</td><td>performing-arts</td><td>37</td><td>43</td><td>223.0</td><td>List()</td><td>12600</td><td>2025-05-31T11:30:00Z</td><td>2025-05-31T19:30:00</td><td>2025-05-31T15:00:00Z</td><td>2025-05-31T23:00:00</td><td>2025-04-03T07:22:33Z</td><td>2025-04-03T07:22:00Z</td><td>Asia/Singapore</td><td>List(List(phq_attendance, List(List(2025-05-31, event_day, 223)), accommodation), List(phq_attendance, List(List(2025-05-31, event_day, 223)), hospitality), List(phq_attendance, List(List(2025-05-31, event_day, 223)), retail))</td><td>locality</td><td>SG</td><td>List(List(6295630, 6255147, 1880251, 7281987), List(6295630, 6255147, 1880251, 1880252))</td><td>active</td><td>true</td><td>false</td><td>4005.0</td><td>List(0, 3083, 922)</td><td>List(List(general-theatre, 0.36), List(concert, 0.341), List(movie, 0.299))</td><td>null</td><td>null</td><td>null</td><td>103.8410082</td><td>1.3337256</td><td>PredictHQ</td><td>2025-05-26T11:10:48.769Z</td></tr><tr><td>0.0</td><td>93WGY5RrwzT3ernqB2</td><td>INDULGE IN REST: CRYSTAL BOWLS + CHIMES SOUND HEALING</td><td>Sourced from predicthq.com - Amidst the fast-paced nature of today’s world, finding time for rest has peculiarly transformed into a form of luxury.</td><td>concerts</td><td>35</td><td>44</td><td>179.0</td><td>List(List(null, null, n92UGPhhPdTbU6Pijza2YB, 2B Stanley St, Singapore 068721, null, SPACE2B, null, venue), List(concerts, Amidst the fast-paced nature of today’s world, finding time for rest has peculiarly transformed into a form of luxury., 4j8Zam8BqsmF5rxK4b5H9D, 2B Stanley Street, Singapore, 068721, Singapore, List(concert, event-group, music, religion), INDULGE IN REST: CRYSTAL BOWLS + CHIMES SOUND HEALING, Asia/Singapore, event-group))</td><td>3600</td><td>2025-05-31T09:00:00Z</td><td>2025-05-31T17:00:00</td><td>2025-05-31T10:00:00Z</td><td>2025-05-31T18:00:00</td><td>2025-05-24T16:37:23Z</td><td>2025-05-24T16:31:13Z</td><td>Asia/Singapore</td><td>List(List(phq_attendance, List(List(2025-05-31, event_day, 179)), accommodation), List(phq_attendance, List(List(2025-05-31, event_day, 179)), hospitality), List(phq_attendance, List(List(2025-05-31, event_day, 179)), retail))</td><td>locality</td><td>SG</td><td>List(List(6295630, 6255147, 1880251, 1880252))</td><td>active</td><td>true</td><td>false</td><td>3215.0</td><td>List(0, 2475, 740)</td><td>null</td><td>null</td><td>null</td><td>null</td><td>103.847686</td><td>1.279795</td><td>PredictHQ</td><td>2025-05-26T11:10:48.769Z</td></tr><tr><td>0.0</td><td>Bni4AgkSe5vPJcWavq</td><td>SELF-LOVE AND GRATITUDE SOUND BATH</td><td>Sourced from predicthq.com - Come join us for a relaxing sound bath to cultivate self-love and gratitude!</td><td>concerts</td><td>35</td><td>44</td><td>169.0</td><td>List(List(null, null, n92UGPhhPdTbU6Pijza2YB, 2B Stanley St, Singapore 068721, null, SPACE2B, null, venue), List(concerts, Come join us for a relaxing sound bath to cultivate self-love and gratitude!, 8avefdQEGS4NAdHeqSe52z, 2B Stanley Street, Singapore, 068721, Singapore, List(concert, event-group, music, religion), SELF-LOVE AND GRATITUDE SOUND BATH, Asia/Singapore, event-group))</td><td>3600</td><td>2025-05-31T07:30:00Z</td><td>2025-05-31T15:30:00</td><td>2025-05-31T08:30:00Z</td><td>2025-05-31T16:30:00</td><td>2025-05-24T16:37:31Z</td><td>2025-05-24T16:30:36Z</td><td>Asia/Singapore</td><td>List(List(phq_attendance, List(List(2025-05-31, event_day, 169)), accommodation), List(phq_attendance, List(List(2025-05-31, event_day, 169)), hospitality), List(phq_attendance, List(List(2025-05-31, event_day, 169)), retail))</td><td>locality</td><td>SG</td><td>List(List(6295630, 6255147, 1880251, 1880252))</td><td>active</td><td>true</td><td>false</td><td>3035.0</td><td>List(0, 2337, 698)</td><td>null</td><td>null</td><td>null</td><td>null</td><td>103.847686</td><td>1.279795</td><td>PredictHQ</td><td>2025-05-26T11:10:48.769Z</td></tr><tr><td>0.0</td><td>7hod4fxkNieSedsEhk</td><td>EQ Café - Authenticity: Tapping into what’s real</td><td>Sourced from predicthq.com - EQ Cafés are interactive, informal workshops created by Six Seconds, the global nonprofit supporting a more emotionally intelligent world.</td><td>conferences</td><td>29</td><td>30</td><td>85.0</td><td>List(List(null, null, 3BvyGZbZB9Nj8KYQKq3hDgv, 30A Yishun Central 1, Singapore 768796, null, Tzu Chi Humanistic Youth Centre, null, venue))</td><td>5400</td><td>2025-05-31T06:00:00Z</td><td>2025-05-31T14:00:00</td><td>2025-05-31T07:30:00Z</td><td>2025-05-31T15:30:00</td><td>2025-04-17T02:14:35Z</td><td>2025-04-17T01:56:56Z</td><td>Asia/Singapore</td><td>List(List(phq_attendance, List(List(2025-05-31, event_day, 85)), accommodation), List(phq_attendance, List(List(2025-05-31, event_day, 85)), hospitality), List(phq_attendance, List(List(2025-05-31, event_day, 85)), retail))</td><td>locality</td><td>SG</td><td>List(List(6295630, 6255147, 1880251, 1882155), List(6295630, 6255147, 1880251, 1880252))</td><td>active</td><td>true</td><td>false</td><td>1820.0</td><td>List(0, 1469, 351)</td><td>List(List(education-and-careers, 0.439), List(lifestyle, 0.299), List(art-and-cultural, 0.262))</td><td>null</td><td>null</td><td>null</td><td>103.8383565</td><td>1.4266024</td><td>PredictHQ</td><td>2025-05-26T11:10:48.769Z</td></tr><tr><td>0.0</td><td>9LcjXLT8iwEwhEjMPR</td><td>CHAKRA HARMONY: A SOUND JOURNEY FOR WELL-BEING AND BALANCE</td><td>Sourced from predicthq.com - Unlock the flow of energy and restore harmony within your body through a powerful chakra balancing session.</td><td>concerts</td><td>35</td><td>44</td><td>179.0</td><td>List(List(null, null, n92UGPhhPdTbU6Pijza2YB, 2B Stanley St, Singapore 068721, null, SPACE2B, null, venue), List(concerts, Unlock the flow of energy and restore harmony within your body through a powerful chakra balancing session., 3BDfvS3iPjq7kAz7pb9VKkN, 2B Stanley Street, Singapore, 068721, Singapore, List(concert, event-group, music, religion), CHAKRA HARMONY: A SOUND JOURNEY FOR WELL-BEING AND BALANCE, Asia/Singapore, event-group))</td><td>3600</td><td>2025-05-31T06:00:00Z</td><td>2025-05-31T14:00:00</td><td>2025-05-31T07:00:00Z</td><td>2025-05-31T15:00:00</td><td>2025-05-24T16:37:08Z</td><td>2025-05-24T16:31:13Z</td><td>Asia/Singapore</td><td>List(List(phq_attendance, List(List(2025-05-31, event_day, 179)), accommodation), List(phq_attendance, List(List(2025-05-31, event_day, 179)), hospitality), List(phq_attendance, List(List(2025-05-31, event_day, 179)), retail))</td><td>locality</td><td>SG</td><td>List(List(6295630, 6255147, 1880251, 1880252))</td><td>active</td><td>true</td><td>false</td><td>3215.0</td><td>List(0, 2475, 740)</td><td>null</td><td>null</td><td>null</td><td>null</td><td>103.847686</td><td>1.279795</td><td>PredictHQ</td><td>2025-05-26T11:10:48.769Z</td></tr><tr><td>0.0</td><td>EoHgPFsTcxA3Nossp9</td><td>UNDER THE STARS PLANET SOUND HEALING</td><td>Sourced from predicthq.com - Imagine lying down under the stars while tuning into Crystal bowls vibrations and planetary energies..</td><td>concerts</td><td>35</td><td>44</td><td>169.0</td><td>List(List(null, null, n92UGPhhPdTbU6Pijza2YB, 2B Stanley St, Singapore 068721, null, SPACE2B, null, venue), List(concerts, Imagine lying down under the stars while tuning into Crystal bowls vibrations and planetary energies.., sTg7XVvupW54xFXUzr8q65, 2B Stanley Street, Singapore, 068721, Singapore, List(concert, event-group, health, music), UNDER THE STARS PLANET SOUND HEALING, Asia/Singapore, event-group))</td><td>3600</td><td>2025-05-28T12:00:00Z</td><td>2025-05-28T20:00:00</td><td>2025-05-28T13:00:00Z</td><td>2025-05-28T21:00:00</td><td>2025-05-22T04:25:56Z</td><td>2025-05-22T04:25:40Z</td><td>Asia/Singapore</td><td>List(List(phq_attendance, List(List(2025-05-28, event_day, 169)), accommodation), List(phq_attendance, List(List(2025-05-28, event_day, 169)), hospitality), List(phq_attendance, List(List(2025-05-28, event_day, 169)), retail))</td><td>locality</td><td>SG</td><td>List(List(6295630, 6255147, 1880251, 1880252))</td><td>active</td><td>true</td><td>false</td><td>3035.0</td><td>List(0, 2337, 698)</td><td>null</td><td>null</td><td>null</td><td>null</td><td>103.847686</td><td>1.279795</td><td>PredictHQ</td><td>2025-05-26T11:10:48.769Z</td></tr><tr><td>0.0</td><td>4EuSRkm5D7V9MXSauE</td><td>LEMURIAN CRYSTAL TEMPLE- SACRED LIGHT & LOVE CRYSTAL SOUND HEALING</td><td>Sourced from predicthq.com - Lemurian Crystal Bowls connect us to the ancient world of Lemuria, where a wealth of knowledge has been preserved since the dawn of time.</td><td>concerts</td><td>39</td><td>48</td><td>272.0</td><td>List(List(null, null, n92UGPhhPdTbU6Pijza2YB, 2B Stanley St, Singapore 068721, null, SPACE2B, null, venue), List(concerts, Lemurian Crystal Bowls connect us to the ancient world of Lemuria, where a wealth of knowledge has been preserved since the dawn of time., HKr7sAsCEW6yZtBfizbgid, 2B Stanley Street, Singapore, 068721, Singapore, List(concert, event-group, music, religion), LEMURIAN CRYSTAL TEMPLE- SACRED LIGHT & LOVE CRYSTAL SOUND HEALING, Asia/Singapore, event-group))</td><td>3600</td><td>2025-05-28T10:30:00Z</td><td>2025-05-28T18:30:00</td><td>2025-05-28T11:30:00Z</td><td>2025-05-28T19:30:00</td><td>2025-05-15T03:19:42Z</td><td>2025-05-15T03:10:35Z</td><td>Asia/Singapore</td><td>List(List(phq_attendance, List(List(2025-05-28, event_day, 272)), accommodation), List(phq_attendance, List(List(2025-05-28, event_day, 272)), hospitality), List(phq_attendance, List(List(2025-05-28, event_day, 272)), retail))</td><td>locality</td><td>SG</td><td>List(List(6295630, 6255147, 1880251, 1880252))</td><td>active</td><td>true</td><td>false</td><td>4886.0</td><td>List(0, 3761, 1124)</td><td>null</td><td>null</td><td>null</td><td>null</td><td>103.847686</td><td>1.279795</td><td>PredictHQ</td><td>2025-05-26T11:10:48.769Z</td></tr><tr><td>0.0</td><td>AJmyqco9BGwEedMVCj</td><td>Cosmic Resonance Gong Bath</td><td>Sourced from predicthq.com - Immerse yourself in an extraordinary sonic experience that resonates with the rhythm of the universe.</td><td>concerts</td><td>35</td><td>44</td><td>179.0</td><td>List(List(null, null, n92UGPhhPdTbU6Pijza2YB, 2B Stanley St, Singapore 068721, null, SPACE2B, null, venue), List(concerts, Immerse yourself in an extraordinary sonic experience that resonates with the rhythm of the universe., aCLzhNijzhE36Gt3jrc7q5, 2B Stanley Street, Singapore, 068721, Singapore, List(concert, event-group, music, religion), Cosmic Resonance Gong Bath, Asia/Singapore, event-group))</td><td>3600</td><td>2025-05-28T06:00:00Z</td><td>2025-05-28T14:00:00</td><td>2025-05-28T07:00:00Z</td><td>2025-05-28T15:00:00</td><td>2025-05-22T04:33:23Z</td><td>2025-05-22T04:31:40Z</td><td>Asia/Singapore</td><td>List(List(phq_attendance, List(List(2025-05-28, event_day, 179)), accommodation), List(phq_attendance, List(List(2025-05-28, event_day, 179)), hospitality), List(phq_attendance, List(List(2025-05-28, event_day, 179)), retail))</td><td>locality</td><td>SG</td><td>List(List(6295630, 6255147, 1880251, 1880252))</td><td>active</td><td>true</td><td>false</td><td>3215.0</td><td>List(0, 2475, 740)</td><td>null</td><td>null</td><td>null</td><td>null</td><td>103.847686</td><td>1.279795</td><td>PredictHQ</td><td>2025-05-26T11:10:48.769Z</td></tr><tr><td>0.0</td><td>8FA5uhzup5rubwA9K9</td><td>Coming Home to Yourself with Tibetan Singing Bowls</td><td>Sourced from predicthq.com - Embark on a transformative sound healing session with Tibetan Singing bowls</td><td>concerts</td><td>35</td><td>44</td><td>169.0</td><td>List(List(null, null, n92UGPhhPdTbU6Pijza2YB, 2B Stanley St, Singapore 068721, null, SPACE2B, null, venue), List(concerts, Embark on a transformative sound healing session with Tibetan Singing bowls, bQ3vFD5Tn7T9yvHWTPfgy5, 2B Stanley Street, Singapore, 068721, Singapore, List(concert, event-group, music, religion), Coming Home to Yourself with Tibetan Singing Bowls, Asia/Singapore, event-group))</td><td>3600</td><td>2025-05-28T04:30:00Z</td><td>2025-05-28T12:30:00</td><td>2025-05-28T05:30:00Z</td><td>2025-05-28T13:30:00</td><td>2025-05-24T18:53:03Z</td><td>2025-05-24T18:52:51Z</td><td>Asia/Singapore</td><td>List(List(phq_attendance, List(List(2025-05-28, event_day, 169)), accommodation), List(phq_attendance, List(List(2025-05-28, event_day, 169)), hospitality), List(phq_attendance, List(List(2025-05-28, event_day, 169)), retail))</td><td>locality</td><td>SG</td><td>List(List(6295630, 6255147, 1880251, 1880252))</td><td>active</td><td>true</td><td>false</td><td>3035.0</td><td>List(0, 2337, 698)</td><td>null</td><td>null</td><td>null</td><td>null</td><td>103.847686</td><td>1.279795</td><td>PredictHQ</td><td>2025-05-26T11:10:48.769Z</td></tr><tr><td>0.0</td><td>Gijny6ikbFbum6YzPA</td><td>GROUND YOURSELF, CLARITY OF MIND – SOUND BATH WITH SINGING BOWLS AND DRUMS</td><td>Sourced from predicthq.com - Come into this session, to ground yourself and clear your mind. With singing bowls and ocean drum.</td><td>concerts</td><td>35</td><td>44</td><td>169.0</td><td>List(List(null, null, n92UGPhhPdTbU6Pijza2YB, 2B Stanley St, Singapore 068721, null, SPACE2B, null, venue), List(concerts, Come into this session, to ground yourself and clear your mind. With singing bowls and ocean drum., 9WVWaVMA3g2Ukhm4VJ9akd, 2B Stanley Street, Singapore, 068721, Singapore, List(concert, event-group, music, religion), GROUND YOURSELF, CLARITY OF MIND – SOUND BATH WITH SINGING BOWLS AND DRUMS, Asia/Singapore, event-group))</td><td>3600</td><td>2025-05-28T03:00:00Z</td><td>2025-05-28T11:00:00</td><td>2025-05-28T04:00:00Z</td><td>2025-05-28T12:00:00</td><td>2025-05-24T18:53:03Z</td><td>2025-05-24T18:52:51Z</td><td>Asia/Singapore</td><td>List(List(phq_attendance, List(List(2025-05-28, event_day, 169)), accommodation), List(phq_attendance, List(List(2025-05-28, event_day, 169)), hospitality), List(phq_attendance, List(List(2025-05-28, event_day, 169)), retail))</td><td>locality</td><td>SG</td><td>List(List(6295630, 6255147, 1880251, 1880252))</td><td>active</td><td>true</td><td>false</td><td>3035.0</td><td>List(0, 2337, 698)</td><td>null</td><td>null</td><td>null</td><td>null</td><td>103.847686</td><td>1.279795</td><td>PredictHQ</td><td>2025-05-26T11:10:48.769Z</td></tr><tr><td>0.0</td><td>HJwN8y3wdHrLSxCH9B</td><td>HEAL FROM WITHIN: AFFIRMATIONS + TIBETAN SINGING BOWLS + OCEAN DRUM</td><td>Sourced from predicthq.com - This practice allows you to reignite your own self-healing ability.</td><td>concerts</td><td>35</td><td>44</td><td>179.0</td><td>List(List(null, null, n92UGPhhPdTbU6Pijza2YB, 2B Stanley St, Singapore 068721, null, SPACE2B, null, venue), List(concerts, This practice allows you to reignite your own self-healing ability., usY8XBHsRn9aetZetrMgdt, 2B Stanley Street, Singapore, 068721, Singapore, List(concert, event-group, health, music), HEAL FROM WITHIN: AFFIRMATIONS + TIBETAN SINGING BOWLS + OCEAN DRUM, Asia/Singapore, event-group))</td><td>3600</td><td>2025-05-27T12:00:00Z</td><td>2025-05-27T20:00:00</td><td>2025-05-27T13:00:00Z</td><td>2025-05-27T21:00:00</td><td>2025-05-22T13:30:44Z</td><td>2025-05-22T13:29:22Z</td><td>Asia/Singapore</td><td>List(List(phq_attendance, List(List(2025-05-27, event_day, 179)), accommodation), List(phq_attendance, List(List(2025-05-27, event_day, 179)), hospitality), List(phq_attendance, List(List(2025-05-27, event_day, 179)), retail))</td><td>locality</td><td>SG</td><td>List(List(6295630, 6255147, 1880251, 1880252))</td><td>active</td><td>true</td><td>false</td><td>3215.0</td><td>List(0, 2475, 740)</td><td>null</td><td>null</td><td>null</td><td>null</td><td>103.847686</td><td>1.279795</td><td>PredictHQ</td><td>2025-05-26T11:10:48.769Z</td></tr><tr><td>0.0</td><td>4fap8QjcxeNsybopy7</td><td>How The Top 1% Of Leaders Manage Their Time Like Clockwork Using T5 System</td><td>Sourced from predicthq.com - You will learn essential skills that will increase your productivity so you have more margin in your life and business.</td><td>conferences</td><td>29</td><td>30</td><td>93.0</td><td>List()</td><td>3600</td><td>2025-05-27T11:00:00Z</td><td>2025-05-27T19:00:00</td><td>2025-05-27T12:00:00Z</td><td>2025-05-27T20:00:00</td><td>2025-05-08T02:01:14Z</td><td>2025-05-08T02:00:43Z</td><td>Asia/Singapore</td><td>List(List(phq_attendance, List(List(2025-05-27, event_day, 93)), accommodation), List(phq_attendance, List(List(2025-05-27, event_day, 93)), hospitality), List(phq_attendance, List(List(2025-05-27, event_day, 93)), retail))</td><td>locality</td><td>SG</td><td>List(List(6295630, 6255147, 1880251, 1880469), List(6295630, 6255147, 1880251, 1880252))</td><td>active</td><td>true</td><td>false</td><td>1992.0</td><td>List(0, 1607, 384)</td><td>List(List(education-and-careers, 1.0))</td><td>null</td><td>null</td><td>null</td><td>103.775964</td><td>1.441188</td><td>PredictHQ</td><td>2025-05-26T11:10:48.769Z</td></tr></tbody></table></div>"
      ]
     },
     "metadata": {
      "application/vnd.databricks.v1+output": {
       "addedWidgets": {},
       "aggData": [],
       "aggError": "",
       "aggOverflow": false,
       "aggSchema": [],
       "aggSeriesLimitReached": false,
       "aggType": "",
       "arguments": {},
       "columnCustomDisplayInfos": {},
       "data": [
        [
         0.0,
         "EcrqqgZe5zeDnVdZTd",
         "Tell Me a JazzTime Story by Eric Lee Trio",
         "Sourced from predicthq.com - Maduro presents Eric Lee Trio on this unforgettably fun evening of timeless jazz tales that tell stories of mischief, memories and more",
         "concerts",
         40,
         47,
         330.0,
         [],
         10800,
         "2025-05-31T12:30:00Z",
         "2025-05-31T20:30:00",
         "2025-05-31T15:30:00Z",
         "2025-05-31T23:30:00",
         "2025-05-01T08:28:42Z",
         "2025-05-01T07:37:08Z",
         "Asia/Singapore",
         [
          [
           "phq_attendance",
           [
            [
             "2025-05-31",
             "event_day",
             330
            ]
           ],
           "accommodation"
          ],
          [
           "phq_attendance",
           [
            [
             "2025-05-31",
             "event_day",
             330
            ]
           ],
           "hospitality"
          ],
          [
           "phq_attendance",
           [
            [
             "2025-05-31",
             "event_day",
             330
            ]
           ],
           "retail"
          ]
         ],
         "locality",
         "SG",
         [
          [
           "6295630",
           "6255147",
           "1880251",
           "7289766"
          ],
          [
           "6295630",
           "6255147",
           "1880251",
           "1880252"
          ]
         ],
         "active",
         true,
         false,
         5927.0,
         [
          0,
          4563,
          1364
         ],
         [
          [
           "jazz-and-classical",
           1.0
          ]
         ],
         null,
         null,
         null,
         103.8278754,
         1.2456916,
         "PredictHQ",
         "2025-05-26T11:10:48.769Z"
        ],
        [
         0.0,
         "Rotet8Eazj4kjQaHJa",
         "NuHarmony Choir Presents: From Screen to Stage",
         "Sourced from predicthq.com - Join us for \"NuHarmony Choir Presents: From Screen to Stage\" where we bring your favorite movie and musical soundtracks to life!",
         "performing-arts",
         37,
         43,
         223.0,
         [],
         12600,
         "2025-05-31T11:30:00Z",
         "2025-05-31T19:30:00",
         "2025-05-31T15:00:00Z",
         "2025-05-31T23:00:00",
         "2025-04-03T07:22:33Z",
         "2025-04-03T07:22:00Z",
         "Asia/Singapore",
         [
          [
           "phq_attendance",
           [
            [
             "2025-05-31",
             "event_day",
             223
            ]
           ],
           "accommodation"
          ],
          [
           "phq_attendance",
           [
            [
             "2025-05-31",
             "event_day",
             223
            ]
           ],
           "hospitality"
          ],
          [
           "phq_attendance",
           [
            [
             "2025-05-31",
             "event_day",
             223
            ]
           ],
           "retail"
          ]
         ],
         "locality",
         "SG",
         [
          [
           "6295630",
           "6255147",
           "1880251",
           "7281987"
          ],
          [
           "6295630",
           "6255147",
           "1880251",
           "1880252"
          ]
         ],
         "active",
         true,
         false,
         4005.0,
         [
          0,
          3083,
          922
         ],
         [
          [
           "general-theatre",
           0.36
          ],
          [
           "concert",
           0.341
          ],
          [
           "movie",
           0.299
          ]
         ],
         null,
         null,
         null,
         103.8410082,
         1.3337256,
         "PredictHQ",
         "2025-05-26T11:10:48.769Z"
        ],
        [
         0.0,
         "93WGY5RrwzT3ernqB2",
         "INDULGE IN REST: CRYSTAL BOWLS + CHIMES SOUND HEALING",
         "Sourced from predicthq.com - Amidst the fast-paced nature of today’s world, finding time for rest has peculiarly transformed into a form of luxury.",
         "concerts",
         35,
         44,
         179.0,
         [
          [
           null,
           null,
           "n92UGPhhPdTbU6Pijza2YB",
           "2B Stanley St, Singapore 068721",
           null,
           "SPACE2B",
           null,
           "venue"
          ],
          [
           "concerts",
           "Amidst the fast-paced nature of today’s world, finding time for rest has peculiarly transformed into a form of luxury.",
           "4j8Zam8BqsmF5rxK4b5H9D",
           "2B Stanley Street, Singapore, 068721, Singapore",
           [
            "concert",
            "event-group",
            "music",
            "religion"
           ],
           "INDULGE IN REST: CRYSTAL BOWLS + CHIMES SOUND HEALING",
           "Asia/Singapore",
           "event-group"
          ]
         ],
         3600,
         "2025-05-31T09:00:00Z",
         "2025-05-31T17:00:00",
         "2025-05-31T10:00:00Z",
         "2025-05-31T18:00:00",
         "2025-05-24T16:37:23Z",
         "2025-05-24T16:31:13Z",
         "Asia/Singapore",
         [
          [
           "phq_attendance",
           [
            [
             "2025-05-31",
             "event_day",
             179
            ]
           ],
           "accommodation"
          ],
          [
           "phq_attendance",
           [
            [
             "2025-05-31",
             "event_day",
             179
            ]
           ],
           "hospitality"
          ],
          [
           "phq_attendance",
           [
            [
             "2025-05-31",
             "event_day",
             179
            ]
           ],
           "retail"
          ]
         ],
         "locality",
         "SG",
         [
          [
           "6295630",
           "6255147",
           "1880251",
           "1880252"
          ]
         ],
         "active",
         true,
         false,
         3215.0,
         [
          0,
          2475,
          740
         ],
         null,
         null,
         null,
         null,
         103.847686,
         1.279795,
         "PredictHQ",
         "2025-05-26T11:10:48.769Z"
        ],
        [
         0.0,
         "Bni4AgkSe5vPJcWavq",
         "SELF-LOVE AND GRATITUDE SOUND BATH",
         "Sourced from predicthq.com - Come join us for a relaxing sound bath to cultivate self-love and gratitude!",
         "concerts",
         35,
         44,
         169.0,
         [
          [
           null,
           null,
           "n92UGPhhPdTbU6Pijza2YB",
           "2B Stanley St, Singapore 068721",
           null,
           "SPACE2B",
           null,
           "venue"
          ],
          [
           "concerts",
           "Come join us for a relaxing sound bath to cultivate self-love and gratitude!",
           "8avefdQEGS4NAdHeqSe52z",
           "2B Stanley Street, Singapore, 068721, Singapore",
           [
            "concert",
            "event-group",
            "music",
            "religion"
           ],
           "SELF-LOVE AND GRATITUDE SOUND BATH",
           "Asia/Singapore",
           "event-group"
          ]
         ],
         3600,
         "2025-05-31T07:30:00Z",
         "2025-05-31T15:30:00",
         "2025-05-31T08:30:00Z",
         "2025-05-31T16:30:00",
         "2025-05-24T16:37:31Z",
         "2025-05-24T16:30:36Z",
         "Asia/Singapore",
         [
          [
           "phq_attendance",
           [
            [
             "2025-05-31",
             "event_day",
             169
            ]
           ],
           "accommodation"
          ],
          [
           "phq_attendance",
           [
            [
             "2025-05-31",
             "event_day",
             169
            ]
           ],
           "hospitality"
          ],
          [
           "phq_attendance",
           [
            [
             "2025-05-31",
             "event_day",
             169
            ]
           ],
           "retail"
          ]
         ],
         "locality",
         "SG",
         [
          [
           "6295630",
           "6255147",
           "1880251",
           "1880252"
          ]
         ],
         "active",
         true,
         false,
         3035.0,
         [
          0,
          2337,
          698
         ],
         null,
         null,
         null,
         null,
         103.847686,
         1.279795,
         "PredictHQ",
         "2025-05-26T11:10:48.769Z"
        ],
        [
         0.0,
         "7hod4fxkNieSedsEhk",
         "EQ Café - Authenticity: Tapping into what’s real",
         "Sourced from predicthq.com - EQ Cafés are interactive, informal workshops created by Six Seconds, the global nonprofit supporting a more emotionally intelligent world.",
         "conferences",
         29,
         30,
         85.0,
         [
          [
           null,
           null,
           "3BvyGZbZB9Nj8KYQKq3hDgv",
           "30A Yishun Central 1, Singapore 768796",
           null,
           "Tzu Chi Humanistic Youth Centre",
           null,
           "venue"
          ]
         ],
         5400,
         "2025-05-31T06:00:00Z",
         "2025-05-31T14:00:00",
         "2025-05-31T07:30:00Z",
         "2025-05-31T15:30:00",
         "2025-04-17T02:14:35Z",
         "2025-04-17T01:56:56Z",
         "Asia/Singapore",
         [
          [
           "phq_attendance",
           [
            [
             "2025-05-31",
             "event_day",
             85
            ]
           ],
           "accommodation"
          ],
          [
           "phq_attendance",
           [
            [
             "2025-05-31",
             "event_day",
             85
            ]
           ],
           "hospitality"
          ],
          [
           "phq_attendance",
           [
            [
             "2025-05-31",
             "event_day",
             85
            ]
           ],
           "retail"
          ]
         ],
         "locality",
         "SG",
         [
          [
           "6295630",
           "6255147",
           "1880251",
           "1882155"
          ],
          [
           "6295630",
           "6255147",
           "1880251",
           "1880252"
          ]
         ],
         "active",
         true,
         false,
         1820.0,
         [
          0,
          1469,
          351
         ],
         [
          [
           "education-and-careers",
           0.439
          ],
          [
           "lifestyle",
           0.299
          ],
          [
           "art-and-cultural",
           0.262
          ]
         ],
         null,
         null,
         null,
         103.8383565,
         1.4266024,
         "PredictHQ",
         "2025-05-26T11:10:48.769Z"
        ],
        [
         0.0,
         "9LcjXLT8iwEwhEjMPR",
         "CHAKRA HARMONY: A SOUND JOURNEY FOR WELL-BEING AND BALANCE",
         "Sourced from predicthq.com - Unlock the flow of energy and restore harmony within your body through a powerful chakra balancing session.",
         "concerts",
         35,
         44,
         179.0,
         [
          [
           null,
           null,
           "n92UGPhhPdTbU6Pijza2YB",
           "2B Stanley St, Singapore 068721",
           null,
           "SPACE2B",
           null,
           "venue"
          ],
          [
           "concerts",
           "Unlock the flow of energy and restore harmony within your body through a powerful chakra balancing session.",
           "3BDfvS3iPjq7kAz7pb9VKkN",
           "2B Stanley Street, Singapore, 068721, Singapore",
           [
            "concert",
            "event-group",
            "music",
            "religion"
           ],
           "CHAKRA HARMONY: A SOUND JOURNEY FOR WELL-BEING AND BALANCE",
           "Asia/Singapore",
           "event-group"
          ]
         ],
         3600,
         "2025-05-31T06:00:00Z",
         "2025-05-31T14:00:00",
         "2025-05-31T07:00:00Z",
         "2025-05-31T15:00:00",
         "2025-05-24T16:37:08Z",
         "2025-05-24T16:31:13Z",
         "Asia/Singapore",
         [
          [
           "phq_attendance",
           [
            [
             "2025-05-31",
             "event_day",
             179
            ]
           ],
           "accommodation"
          ],
          [
           "phq_attendance",
           [
            [
             "2025-05-31",
             "event_day",
             179
            ]
           ],
           "hospitality"
          ],
          [
           "phq_attendance",
           [
            [
             "2025-05-31",
             "event_day",
             179
            ]
           ],
           "retail"
          ]
         ],
         "locality",
         "SG",
         [
          [
           "6295630",
           "6255147",
           "1880251",
           "1880252"
          ]
         ],
         "active",
         true,
         false,
         3215.0,
         [
          0,
          2475,
          740
         ],
         null,
         null,
         null,
         null,
         103.847686,
         1.279795,
         "PredictHQ",
         "2025-05-26T11:10:48.769Z"
        ],
        [
         0.0,
         "EoHgPFsTcxA3Nossp9",
         "UNDER THE STARS PLANET SOUND HEALING",
         "Sourced from predicthq.com - Imagine lying down under the stars while tuning into Crystal bowls vibrations and planetary energies..",
         "concerts",
         35,
         44,
         169.0,
         [
          [
           null,
           null,
           "n92UGPhhPdTbU6Pijza2YB",
           "2B Stanley St, Singapore 068721",
           null,
           "SPACE2B",
           null,
           "venue"
          ],
          [
           "concerts",
           "Imagine lying down under the stars while tuning into Crystal bowls vibrations and planetary energies..",
           "sTg7XVvupW54xFXUzr8q65",
           "2B Stanley Street, Singapore, 068721, Singapore",
           [
            "concert",
            "event-group",
            "health",
            "music"
           ],
           "UNDER THE STARS PLANET SOUND HEALING",
           "Asia/Singapore",
           "event-group"
          ]
         ],
         3600,
         "2025-05-28T12:00:00Z",
         "2025-05-28T20:00:00",
         "2025-05-28T13:00:00Z",
         "2025-05-28T21:00:00",
         "2025-05-22T04:25:56Z",
         "2025-05-22T04:25:40Z",
         "Asia/Singapore",
         [
          [
           "phq_attendance",
           [
            [
             "2025-05-28",
             "event_day",
             169
            ]
           ],
           "accommodation"
          ],
          [
           "phq_attendance",
           [
            [
             "2025-05-28",
             "event_day",
             169
            ]
           ],
           "hospitality"
          ],
          [
           "phq_attendance",
           [
            [
             "2025-05-28",
             "event_day",
             169
            ]
           ],
           "retail"
          ]
         ],
         "locality",
         "SG",
         [
          [
           "6295630",
           "6255147",
           "1880251",
           "1880252"
          ]
         ],
         "active",
         true,
         false,
         3035.0,
         [
          0,
          2337,
          698
         ],
         null,
         null,
         null,
         null,
         103.847686,
         1.279795,
         "PredictHQ",
         "2025-05-26T11:10:48.769Z"
        ],
        [
         0.0,
         "4EuSRkm5D7V9MXSauE",
         "LEMURIAN CRYSTAL TEMPLE- SACRED LIGHT & LOVE CRYSTAL SOUND HEALING",
         "Sourced from predicthq.com - Lemurian Crystal Bowls connect us to the ancient world of Lemuria, where a wealth of knowledge has been preserved since the dawn of time.",
         "concerts",
         39,
         48,
         272.0,
         [
          [
           null,
           null,
           "n92UGPhhPdTbU6Pijza2YB",
           "2B Stanley St, Singapore 068721",
           null,
           "SPACE2B",
           null,
           "venue"
          ],
          [
           "concerts",
           "Lemurian Crystal Bowls connect us to the ancient world of Lemuria, where a wealth of knowledge has been preserved since the dawn of time.",
           "HKr7sAsCEW6yZtBfizbgid",
           "2B Stanley Street, Singapore, 068721, Singapore",
           [
            "concert",
            "event-group",
            "music",
            "religion"
           ],
           "LEMURIAN CRYSTAL TEMPLE- SACRED LIGHT & LOVE CRYSTAL SOUND HEALING",
           "Asia/Singapore",
           "event-group"
          ]
         ],
         3600,
         "2025-05-28T10:30:00Z",
         "2025-05-28T18:30:00",
         "2025-05-28T11:30:00Z",
         "2025-05-28T19:30:00",
         "2025-05-15T03:19:42Z",
         "2025-05-15T03:10:35Z",
         "Asia/Singapore",
         [
          [
           "phq_attendance",
           [
            [
             "2025-05-28",
             "event_day",
             272
            ]
           ],
           "accommodation"
          ],
          [
           "phq_attendance",
           [
            [
             "2025-05-28",
             "event_day",
             272
            ]
           ],
           "hospitality"
          ],
          [
           "phq_attendance",
           [
            [
             "2025-05-28",
             "event_day",
             272
            ]
           ],
           "retail"
          ]
         ],
         "locality",
         "SG",
         [
          [
           "6295630",
           "6255147",
           "1880251",
           "1880252"
          ]
         ],
         "active",
         true,
         false,
         4886.0,
         [
          0,
          3761,
          1124
         ],
         null,
         null,
         null,
         null,
         103.847686,
         1.279795,
         "PredictHQ",
         "2025-05-26T11:10:48.769Z"
        ],
        [
         0.0,
         "AJmyqco9BGwEedMVCj",
         "Cosmic Resonance Gong Bath",
         "Sourced from predicthq.com - Immerse yourself in an extraordinary sonic experience that resonates with the rhythm of the universe.",
         "concerts",
         35,
         44,
         179.0,
         [
          [
           null,
           null,
           "n92UGPhhPdTbU6Pijza2YB",
           "2B Stanley St, Singapore 068721",
           null,
           "SPACE2B",
           null,
           "venue"
          ],
          [
           "concerts",
           "Immerse yourself in an extraordinary sonic experience that resonates with the rhythm of the universe.",
           "aCLzhNijzhE36Gt3jrc7q5",
           "2B Stanley Street, Singapore, 068721, Singapore",
           [
            "concert",
            "event-group",
            "music",
            "religion"
           ],
           "Cosmic Resonance Gong Bath",
           "Asia/Singapore",
           "event-group"
          ]
         ],
         3600,
         "2025-05-28T06:00:00Z",
         "2025-05-28T14:00:00",
         "2025-05-28T07:00:00Z",
         "2025-05-28T15:00:00",
         "2025-05-22T04:33:23Z",
         "2025-05-22T04:31:40Z",
         "Asia/Singapore",
         [
          [
           "phq_attendance",
           [
            [
             "2025-05-28",
             "event_day",
             179
            ]
           ],
           "accommodation"
          ],
          [
           "phq_attendance",
           [
            [
             "2025-05-28",
             "event_day",
             179
            ]
           ],
           "hospitality"
          ],
          [
           "phq_attendance",
           [
            [
             "2025-05-28",
             "event_day",
             179
            ]
           ],
           "retail"
          ]
         ],
         "locality",
         "SG",
         [
          [
           "6295630",
           "6255147",
           "1880251",
           "1880252"
          ]
         ],
         "active",
         true,
         false,
         3215.0,
         [
          0,
          2475,
          740
         ],
         null,
         null,
         null,
         null,
         103.847686,
         1.279795,
         "PredictHQ",
         "2025-05-26T11:10:48.769Z"
        ],
        [
         0.0,
         "8FA5uhzup5rubwA9K9",
         "Coming Home to Yourself with Tibetan Singing Bowls",
         "Sourced from predicthq.com - Embark on a transformative sound healing session with Tibetan Singing bowls",
         "concerts",
         35,
         44,
         169.0,
         [
          [
           null,
           null,
           "n92UGPhhPdTbU6Pijza2YB",
           "2B Stanley St, Singapore 068721",
           null,
           "SPACE2B",
           null,
           "venue"
          ],
          [
           "concerts",
           "Embark on a transformative sound healing session with Tibetan Singing bowls",
           "bQ3vFD5Tn7T9yvHWTPfgy5",
           "2B Stanley Street, Singapore, 068721, Singapore",
           [
            "concert",
            "event-group",
            "music",
            "religion"
           ],
           "Coming Home to Yourself with Tibetan Singing Bowls",
           "Asia/Singapore",
           "event-group"
          ]
         ],
         3600,
         "2025-05-28T04:30:00Z",
         "2025-05-28T12:30:00",
         "2025-05-28T05:30:00Z",
         "2025-05-28T13:30:00",
         "2025-05-24T18:53:03Z",
         "2025-05-24T18:52:51Z",
         "Asia/Singapore",
         [
          [
           "phq_attendance",
           [
            [
             "2025-05-28",
             "event_day",
             169
            ]
           ],
           "accommodation"
          ],
          [
           "phq_attendance",
           [
            [
             "2025-05-28",
             "event_day",
             169
            ]
           ],
           "hospitality"
          ],
          [
           "phq_attendance",
           [
            [
             "2025-05-28",
             "event_day",
             169
            ]
           ],
           "retail"
          ]
         ],
         "locality",
         "SG",
         [
          [
           "6295630",
           "6255147",
           "1880251",
           "1880252"
          ]
         ],
         "active",
         true,
         false,
         3035.0,
         [
          0,
          2337,
          698
         ],
         null,
         null,
         null,
         null,
         103.847686,
         1.279795,
         "PredictHQ",
         "2025-05-26T11:10:48.769Z"
        ],
        [
         0.0,
         "Gijny6ikbFbum6YzPA",
         "GROUND YOURSELF, CLARITY OF MIND – SOUND BATH WITH SINGING BOWLS AND DRUMS",
         "Sourced from predicthq.com - Come into this session, to ground yourself and clear your mind. With singing bowls and ocean drum.",
         "concerts",
         35,
         44,
         169.0,
         [
          [
           null,
           null,
           "n92UGPhhPdTbU6Pijza2YB",
           "2B Stanley St, Singapore 068721",
           null,
           "SPACE2B",
           null,
           "venue"
          ],
          [
           "concerts",
           "Come into this session, to ground yourself and clear your mind. With singing bowls and ocean drum.",
           "9WVWaVMA3g2Ukhm4VJ9akd",
           "2B Stanley Street, Singapore, 068721, Singapore",
           [
            "concert",
            "event-group",
            "music",
            "religion"
           ],
           "GROUND YOURSELF, CLARITY OF MIND – SOUND BATH WITH SINGING BOWLS AND DRUMS",
           "Asia/Singapore",
           "event-group"
          ]
         ],
         3600,
         "2025-05-28T03:00:00Z",
         "2025-05-28T11:00:00",
         "2025-05-28T04:00:00Z",
         "2025-05-28T12:00:00",
         "2025-05-24T18:53:03Z",
         "2025-05-24T18:52:51Z",
         "Asia/Singapore",
         [
          [
           "phq_attendance",
           [
            [
             "2025-05-28",
             "event_day",
             169
            ]
           ],
           "accommodation"
          ],
          [
           "phq_attendance",
           [
            [
             "2025-05-28",
             "event_day",
             169
            ]
           ],
           "hospitality"
          ],
          [
           "phq_attendance",
           [
            [
             "2025-05-28",
             "event_day",
             169
            ]
           ],
           "retail"
          ]
         ],
         "locality",
         "SG",
         [
          [
           "6295630",
           "6255147",
           "1880251",
           "1880252"
          ]
         ],
         "active",
         true,
         false,
         3035.0,
         [
          0,
          2337,
          698
         ],
         null,
         null,
         null,
         null,
         103.847686,
         1.279795,
         "PredictHQ",
         "2025-05-26T11:10:48.769Z"
        ],
        [
         0.0,
         "HJwN8y3wdHrLSxCH9B",
         "HEAL FROM WITHIN: AFFIRMATIONS + TIBETAN SINGING BOWLS + OCEAN DRUM",
         "Sourced from predicthq.com - This practice allows you to reignite your own self-healing ability.",
         "concerts",
         35,
         44,
         179.0,
         [
          [
           null,
           null,
           "n92UGPhhPdTbU6Pijza2YB",
           "2B Stanley St, Singapore 068721",
           null,
           "SPACE2B",
           null,
           "venue"
          ],
          [
           "concerts",
           "This practice allows you to reignite your own self-healing ability.",
           "usY8XBHsRn9aetZetrMgdt",
           "2B Stanley Street, Singapore, 068721, Singapore",
           [
            "concert",
            "event-group",
            "health",
            "music"
           ],
           "HEAL FROM WITHIN: AFFIRMATIONS + TIBETAN SINGING BOWLS + OCEAN DRUM",
           "Asia/Singapore",
           "event-group"
          ]
         ],
         3600,
         "2025-05-27T12:00:00Z",
         "2025-05-27T20:00:00",
         "2025-05-27T13:00:00Z",
         "2025-05-27T21:00:00",
         "2025-05-22T13:30:44Z",
         "2025-05-22T13:29:22Z",
         "Asia/Singapore",
         [
          [
           "phq_attendance",
           [
            [
             "2025-05-27",
             "event_day",
             179
            ]
           ],
           "accommodation"
          ],
          [
           "phq_attendance",
           [
            [
             "2025-05-27",
             "event_day",
             179
            ]
           ],
           "hospitality"
          ],
          [
           "phq_attendance",
           [
            [
             "2025-05-27",
             "event_day",
             179
            ]
           ],
           "retail"
          ]
         ],
         "locality",
         "SG",
         [
          [
           "6295630",
           "6255147",
           "1880251",
           "1880252"
          ]
         ],
         "active",
         true,
         false,
         3215.0,
         [
          0,
          2475,
          740
         ],
         null,
         null,
         null,
         null,
         103.847686,
         1.279795,
         "PredictHQ",
         "2025-05-26T11:10:48.769Z"
        ],
        [
         0.0,
         "4fap8QjcxeNsybopy7",
         "How The Top 1% Of Leaders Manage Their Time Like Clockwork Using T5 System",
         "Sourced from predicthq.com - You will learn essential skills that will increase your productivity so you have more margin in your life and business.",
         "conferences",
         29,
         30,
         93.0,
         [],
         3600,
         "2025-05-27T11:00:00Z",
         "2025-05-27T19:00:00",
         "2025-05-27T12:00:00Z",
         "2025-05-27T20:00:00",
         "2025-05-08T02:01:14Z",
         "2025-05-08T02:00:43Z",
         "Asia/Singapore",
         [
          [
           "phq_attendance",
           [
            [
             "2025-05-27",
             "event_day",
             93
            ]
           ],
           "accommodation"
          ],
          [
           "phq_attendance",
           [
            [
             "2025-05-27",
             "event_day",
             93
            ]
           ],
           "hospitality"
          ],
          [
           "phq_attendance",
           [
            [
             "2025-05-27",
             "event_day",
             93
            ]
           ],
           "retail"
          ]
         ],
         "locality",
         "SG",
         [
          [
           "6295630",
           "6255147",
           "1880251",
           "1880469"
          ],
          [
           "6295630",
           "6255147",
           "1880251",
           "1880252"
          ]
         ],
         "active",
         true,
         false,
         1992.0,
         [
          0,
          1607,
          384
         ],
         [
          [
           "education-and-careers",
           1.0
          ]
         ],
         null,
         null,
         null,
         103.775964,
         1.441188,
         "PredictHQ",
         "2025-05-26T11:10:48.769Z"
        ]
       ],
       "datasetInfos": [
        {
         "name": "_sqldf",
         "schema": {
          "fields": [
           {
            "metadata": {},
            "name": "relevance",
            "nullable": true,
            "type": "double"
           },
           {
            "metadata": {},
            "name": "id",
            "nullable": true,
            "type": "string"
           },
           {
            "metadata": {},
            "name": "title",
            "nullable": true,
            "type": "string"
           },
           {
            "metadata": {},
            "name": "description",
            "nullable": true,
            "type": "string"
           },
           {
            "metadata": {},
            "name": "category",
            "nullable": true,
            "type": "string"
           },
           {
            "metadata": {},
            "name": "rank",
            "nullable": true,
            "type": "long"
           },
           {
            "metadata": {},
            "name": "local_rank",
            "nullable": true,
            "type": "long"
           },
           {
            "metadata": {},
            "name": "phq_attendance",
            "nullable": true,
            "type": "double"
           },
           {
            "metadata": {},
            "name": "entities",
            "nullable": true,
            "type": {
             "containsNull": true,
             "elementType": {
              "fields": [
               {
                "metadata": {},
                "name": "category",
                "nullable": true,
                "type": "string"
               },
               {
                "metadata": {},
                "name": "description",
                "nullable": true,
                "type": "string"
               },
               {
                "metadata": {},
                "name": "entity_id",
                "nullable": true,
                "type": "string"
               },
               {
                "metadata": {},
                "name": "formatted_address",
                "nullable": true,
                "type": "string"
               },
               {
                "metadata": {},
                "name": "labels",
                "nullable": true,
                "type": {
                 "containsNull": true,
                 "elementType": "string",
                 "type": "array"
                }
               },
               {
                "metadata": {},
                "name": "name",
                "nullable": true,
                "type": "string"
               },
               {
                "metadata": {},
                "name": "timezone",
                "nullable": true,
                "type": "string"
               },
               {
                "metadata": {},
                "name": "type",
                "nullable": true,
                "type": "string"
               }
              ],
              "type": "struct"
             },
             "type": "array"
            }
           },
           {
            "metadata": {},
            "name": "duration",
            "nullable": true,
            "type": "long"
           },
           {
            "metadata": {},
            "name": "start",
            "nullable": true,
            "type": "string"
           },
           {
            "metadata": {},
            "name": "start_local",
            "nullable": true,
            "type": "string"
           },
           {
            "metadata": {},
            "name": "end",
            "nullable": true,
            "type": "string"
           },
           {
            "metadata": {},
            "name": "end_local",
            "nullable": true,
            "type": "string"
           },
           {
            "metadata": {},
            "name": "updated",
            "nullable": true,
            "type": "string"
           },
           {
            "metadata": {},
            "name": "first_seen",
            "nullable": true,
            "type": "string"
           },
           {
            "metadata": {},
            "name": "timezone",
            "nullable": true,
            "type": "string"
           },
           {
            "metadata": {},
            "name": "impact_patterns",
            "nullable": true,
            "type": {
             "containsNull": true,
             "elementType": {
              "fields": [
               {
                "metadata": {},
                "name": "impact_type",
                "nullable": true,
                "type": "string"
               },
               {
                "metadata": {},
                "name": "impacts",
                "nullable": true,
                "type": {
                 "containsNull": true,
                 "elementType": {
                  "fields": [
                   {
                    "metadata": {},
                    "name": "date_local",
                    "nullable": true,
                    "type": "string"
                   },
                   {
                    "metadata": {},
                    "name": "position",
                    "nullable": true,
                    "type": "string"
                   },
                   {
                    "metadata": {},
                    "name": "value",
                    "nullable": true,
                    "type": "long"
                   }
                  ],
                  "type": "struct"
                 },
                 "type": "array"
                }
               },
               {
                "metadata": {},
                "name": "vertical",
                "nullable": true,
                "type": "string"
               }
              ],
              "type": "struct"
             },
             "type": "array"
            }
           },
           {
            "metadata": {},
            "name": "scope",
            "nullable": true,
            "type": "string"
           },
           {
            "metadata": {},
            "name": "country",
            "nullable": true,
            "type": "string"
           },
           {
            "metadata": {},
            "name": "place_hierarchies",
            "nullable": true,
            "type": {
             "containsNull": true,
             "elementType": {
              "containsNull": true,
              "elementType": "string",
              "type": "array"
             },
             "type": "array"
            }
           },
           {
            "metadata": {},
            "name": "state",
            "nullable": true,
            "type": "string"
           },
           {
            "metadata": {},
            "name": "brand_safe",
            "nullable": true,
            "type": "boolean"
           },
           {
            "metadata": {},
            "name": "private",
            "nullable": true,
            "type": "boolean"
           },
           {
            "metadata": {},
            "name": "predicted_event_spend",
            "nullable": true,
            "type": "double"
           },
           {
            "metadata": {},
            "name": "predicted_event_spend_industries",
            "nullable": true,
            "type": {
             "fields": [
              {
               "metadata": {},
               "name": "accommodation",
               "nullable": true,
               "type": "long"
              },
              {
               "metadata": {},
               "name": "hospitality",
               "nullable": true,
               "type": "long"
              },
              {
               "metadata": {},
               "name": "transportation",
               "nullable": true,
               "type": "long"
              }
             ],
             "type": "struct"
            }
           },
           {
            "metadata": {},
            "name": "phq_labels",
            "nullable": true,
            "type": {
             "containsNull": true,
             "elementType": {
              "fields": [
               {
                "metadata": {},
                "name": "label",
                "nullable": true,
                "type": "string"
               },
               {
                "metadata": {},
                "name": "weight",
                "nullable": true,
                "type": "double"
               }
              ],
              "type": "struct"
             },
             "type": "array"
            }
           },
           {
            "metadata": {},
            "name": "predicted_end",
            "nullable": true,
            "type": "string"
           },
           {
            "metadata": {},
            "name": "predicted_end_local",
            "nullable": true,
            "type": "string"
           },
           {
            "metadata": {},
            "name": "alternate_titles",
            "nullable": true,
            "type": {
             "containsNull": true,
             "elementType": "string",
             "type": "array"
            }
           },
           {
            "metadata": {},
            "name": "lon",
            "nullable": true,
            "type": "double"
           },
           {
            "metadata": {},
            "name": "lat",
            "nullable": true,
            "type": "double"
           },
           {
            "metadata": {},
            "name": "source",
            "nullable": true,
            "type": "string"
           },
           {
            "metadata": {},
            "name": "ingestion_timestamp",
            "nullable": true,
            "type": "timestamp"
           }
          ],
          "type": "struct"
         },
         "tableIdentifier": null,
         "typeStr": "pyspark.sql.connect.dataframe.DataFrame"
        }
       ],
       "dbfsResultPath": null,
       "isJsonSchema": true,
       "metadata": {
        "createTempViewForImplicitDf": true,
        "dataframeName": "_sqldf",
        "executionCount": 392
       },
       "overflow": false,
       "plotOptions": {
        "customPlotOptions": {},
        "displayType": "table",
        "pivotAggregation": null,
        "pivotColumns": null,
        "xColumns": null,
        "yColumns": null
       },
       "removedWidgets": [],
       "schema": [
        {
         "metadata": "{}",
         "name": "relevance",
         "type": "\"double\""
        },
        {
         "metadata": "{}",
         "name": "id",
         "type": "\"string\""
        },
        {
         "metadata": "{}",
         "name": "title",
         "type": "\"string\""
        },
        {
         "metadata": "{}",
         "name": "description",
         "type": "\"string\""
        },
        {
         "metadata": "{}",
         "name": "category",
         "type": "\"string\""
        },
        {
         "metadata": "{}",
         "name": "rank",
         "type": "\"long\""
        },
        {
         "metadata": "{}",
         "name": "local_rank",
         "type": "\"long\""
        },
        {
         "metadata": "{}",
         "name": "phq_attendance",
         "type": "\"double\""
        },
        {
         "metadata": "{}",
         "name": "entities",
         "type": "{\"containsNull\":true,\"elementType\":{\"fields\":[{\"metadata\":{},\"name\":\"category\",\"nullable\":true,\"type\":\"string\"},{\"metadata\":{},\"name\":\"description\",\"nullable\":true,\"type\":\"string\"},{\"metadata\":{},\"name\":\"entity_id\",\"nullable\":true,\"type\":\"string\"},{\"metadata\":{},\"name\":\"formatted_address\",\"nullable\":true,\"type\":\"string\"},{\"metadata\":{},\"name\":\"labels\",\"nullable\":true,\"type\":{\"containsNull\":true,\"elementType\":\"string\",\"type\":\"array\"}},{\"metadata\":{},\"name\":\"name\",\"nullable\":true,\"type\":\"string\"},{\"metadata\":{},\"name\":\"timezone\",\"nullable\":true,\"type\":\"string\"},{\"metadata\":{},\"name\":\"type\",\"nullable\":true,\"type\":\"string\"}],\"type\":\"struct\"},\"type\":\"array\"}"
        },
        {
         "metadata": "{}",
         "name": "duration",
         "type": "\"long\""
        },
        {
         "metadata": "{}",
         "name": "start",
         "type": "\"string\""
        },
        {
         "metadata": "{}",
         "name": "start_local",
         "type": "\"string\""
        },
        {
         "metadata": "{}",
         "name": "end",
         "type": "\"string\""
        },
        {
         "metadata": "{}",
         "name": "end_local",
         "type": "\"string\""
        },
        {
         "metadata": "{}",
         "name": "updated",
         "type": "\"string\""
        },
        {
         "metadata": "{}",
         "name": "first_seen",
         "type": "\"string\""
        },
        {
         "metadata": "{}",
         "name": "timezone",
         "type": "\"string\""
        },
        {
         "metadata": "{}",
         "name": "impact_patterns",
         "type": "{\"containsNull\":true,\"elementType\":{\"fields\":[{\"metadata\":{},\"name\":\"impact_type\",\"nullable\":true,\"type\":\"string\"},{\"metadata\":{},\"name\":\"impacts\",\"nullable\":true,\"type\":{\"containsNull\":true,\"elementType\":{\"fields\":[{\"metadata\":{},\"name\":\"date_local\",\"nullable\":true,\"type\":\"string\"},{\"metadata\":{},\"name\":\"position\",\"nullable\":true,\"type\":\"string\"},{\"metadata\":{},\"name\":\"value\",\"nullable\":true,\"type\":\"long\"}],\"type\":\"struct\"},\"type\":\"array\"}},{\"metadata\":{},\"name\":\"vertical\",\"nullable\":true,\"type\":\"string\"}],\"type\":\"struct\"},\"type\":\"array\"}"
        },
        {
         "metadata": "{}",
         "name": "scope",
         "type": "\"string\""
        },
        {
         "metadata": "{}",
         "name": "country",
         "type": "\"string\""
        },
        {
         "metadata": "{}",
         "name": "place_hierarchies",
         "type": "{\"containsNull\":true,\"elementType\":{\"containsNull\":true,\"elementType\":\"string\",\"type\":\"array\"},\"type\":\"array\"}"
        },
        {
         "metadata": "{}",
         "name": "state",
         "type": "\"string\""
        },
        {
         "metadata": "{}",
         "name": "brand_safe",
         "type": "\"boolean\""
        },
        {
         "metadata": "{}",
         "name": "private",
         "type": "\"boolean\""
        },
        {
         "metadata": "{}",
         "name": "predicted_event_spend",
         "type": "\"double\""
        },
        {
         "metadata": "{}",
         "name": "predicted_event_spend_industries",
         "type": "{\"fields\":[{\"metadata\":{},\"name\":\"accommodation\",\"nullable\":true,\"type\":\"long\"},{\"metadata\":{},\"name\":\"hospitality\",\"nullable\":true,\"type\":\"long\"},{\"metadata\":{},\"name\":\"transportation\",\"nullable\":true,\"type\":\"long\"}],\"type\":\"struct\"}"
        },
        {
         "metadata": "{}",
         "name": "phq_labels",
         "type": "{\"containsNull\":true,\"elementType\":{\"fields\":[{\"metadata\":{},\"name\":\"label\",\"nullable\":true,\"type\":\"string\"},{\"metadata\":{},\"name\":\"weight\",\"nullable\":true,\"type\":\"double\"}],\"type\":\"struct\"},\"type\":\"array\"}"
        },
        {
         "metadata": "{}",
         "name": "predicted_end",
         "type": "\"string\""
        },
        {
         "metadata": "{}",
         "name": "predicted_end_local",
         "type": "\"string\""
        },
        {
         "metadata": "{}",
         "name": "alternate_titles",
         "type": "{\"containsNull\":true,\"elementType\":\"string\",\"type\":\"array\"}"
        },
        {
         "metadata": "{}",
         "name": "lon",
         "type": "\"double\""
        },
        {
         "metadata": "{}",
         "name": "lat",
         "type": "\"double\""
        },
        {
         "metadata": "{}",
         "name": "source",
         "type": "\"string\""
        },
        {
         "metadata": "{}",
         "name": "ingestion_timestamp",
         "type": "\"timestamp\""
        }
       ],
       "type": "table"
      }
     },
     "output_type": "display_data"
    }
   ],
   "source": [
    "%sql\n",
    "-- 1.2456916\t103.8278754\n",
    "-- 1.279795,103.847686\n",
    "-- 1.3337256\t103.8410082\n",
    "-- 1.4266024\t103.8383565\n",
    "-- 1.441188\t103.775964\n",
    "select * from civai.raw.predict_hq_events where (lat==1.279795 and lon==103.847686) or (lat==1.441188 and lon==103.775964) or (lat==1.4266024 and lon==103.8383565) or (lat==1.3337256 and lon==103.8410082) or (lat==1.2456916 and lon==103.8278754)\n",
    "    "
   ]
  },
  {
   "cell_type": "code",
   "execution_count": 0,
   "metadata": {
    "application/vnd.databricks.v1+cell": {
     "cellMetadata": {
      "byteLimit": 2048000,
      "rowLimit": 10000
     },
     "inputWidgets": {},
     "nuid": "87ae5e84-3c54-48dd-9cb1-2518596f4149",
     "showTitle": false,
     "tableResultSettingsMap": {},
     "title": ""
    }
   },
   "outputs": [
    {
     "output_type": "display_data",
     "data": {
      "text/html": [
       "<style scoped>\n",
       "  .table-result-container {\n",
       "    max-height: 300px;\n",
       "    overflow: auto;\n",
       "  }\n",
       "  table, th, td {\n",
       "    border: 1px solid black;\n",
       "    border-collapse: collapse;\n",
       "  }\n",
       "  th, td {\n",
       "    padding: 5px;\n",
       "  }\n",
       "  th {\n",
       "    text-align: left;\n",
       "  }\n",
       "</style><div class='table-result-container'><table class='table-result'><thead style='background-color: white'><tr><th>relevance</th><th>id</th><th>title</th><th>description</th><th>category</th><th>rank</th><th>local_rank</th><th>phq_attendance</th><th>entities</th><th>duration</th><th>start</th><th>start_local</th><th>end</th><th>end_local</th><th>updated</th><th>first_seen</th><th>timezone</th><th>impact_patterns</th><th>scope</th><th>country</th><th>place_hierarchies</th><th>state</th><th>brand_safe</th><th>private</th><th>predicted_event_spend</th><th>predicted_event_spend_industries</th><th>phq_labels</th><th>predicted_end</th><th>predicted_end_local</th><th>alternate_titles</th><th>lon</th><th>lat</th><th>source</th><th>ingestion_timestamp</th></tr></thead><tbody><tr><td>0.0</td><td>EcrqqgZe5zeDnVdZTd</td><td>Tell Me a JazzTime Story by Eric Lee Trio</td><td>Sourced from predicthq.com - Maduro presents Eric Lee Trio on this unforgettably fun evening of timeless jazz tales that tell stories of mischief, memories and more</td><td>concerts</td><td>40</td><td>47</td><td>330.0</td><td>List()</td><td>10800</td><td>2025-05-31T12:30:00Z</td><td>2025-05-31T20:30:00</td><td>2025-05-31T15:30:00Z</td><td>2025-05-31T23:30:00</td><td>2025-05-01T08:28:42Z</td><td>2025-05-01T07:37:08Z</td><td>Asia/Singapore</td><td>List(List(phq_attendance, List(List(2025-05-31, event_day, 330)), accommodation), List(phq_attendance, List(List(2025-05-31, event_day, 330)), hospitality), List(phq_attendance, List(List(2025-05-31, event_day, 330)), retail))</td><td>locality</td><td>SG</td><td>List(List(6295630, 6255147, 1880251, 7289766), List(6295630, 6255147, 1880251, 1880252))</td><td>active</td><td>true</td><td>false</td><td>5927.0</td><td>List(0, 4563, 1364)</td><td>List(List(jazz-and-classical, 1.0))</td><td>null</td><td>null</td><td>null</td><td>103.8278754</td><td>1.2456916</td><td>PredictHQ</td><td>2025-05-26T11:10:48.769Z</td></tr><tr><td>0.0</td><td>Rotet8Eazj4kjQaHJa</td><td>NuHarmony Choir Presents: From Screen to Stage</td><td>Sourced from predicthq.com - Join us for \"NuHarmony Choir Presents: From Screen to Stage\" where we bring your favorite movie and musical soundtracks to life!</td><td>performing-arts</td><td>37</td><td>43</td><td>223.0</td><td>List()</td><td>12600</td><td>2025-05-31T11:30:00Z</td><td>2025-05-31T19:30:00</td><td>2025-05-31T15:00:00Z</td><td>2025-05-31T23:00:00</td><td>2025-04-03T07:22:33Z</td><td>2025-04-03T07:22:00Z</td><td>Asia/Singapore</td><td>List(List(phq_attendance, List(List(2025-05-31, event_day, 223)), accommodation), List(phq_attendance, List(List(2025-05-31, event_day, 223)), hospitality), List(phq_attendance, List(List(2025-05-31, event_day, 223)), retail))</td><td>locality</td><td>SG</td><td>List(List(6295630, 6255147, 1880251, 7281987), List(6295630, 6255147, 1880251, 1880252))</td><td>active</td><td>true</td><td>false</td><td>4005.0</td><td>List(0, 3083, 922)</td><td>List(List(general-theatre, 0.36), List(concert, 0.341), List(movie, 0.299))</td><td>null</td><td>null</td><td>null</td><td>103.8410082</td><td>1.3337256</td><td>PredictHQ</td><td>2025-05-26T11:10:48.769Z</td></tr><tr><td>0.0</td><td>93WGY5RrwzT3ernqB2</td><td>INDULGE IN REST: CRYSTAL BOWLS + CHIMES SOUND HEALING</td><td>Sourced from predicthq.com - Amidst the fast-paced nature of today’s world, finding time for rest has peculiarly transformed into a form of luxury.</td><td>concerts</td><td>35</td><td>44</td><td>179.0</td><td>List(List(null, null, n92UGPhhPdTbU6Pijza2YB, 2B Stanley St, Singapore 068721, null, SPACE2B, null, venue), List(concerts, Amidst the fast-paced nature of today’s world, finding time for rest has peculiarly transformed into a form of luxury., 4j8Zam8BqsmF5rxK4b5H9D, 2B Stanley Street, Singapore, 068721, Singapore, List(concert, event-group, music, religion), INDULGE IN REST: CRYSTAL BOWLS + CHIMES SOUND HEALING, Asia/Singapore, event-group))</td><td>3600</td><td>2025-05-31T09:00:00Z</td><td>2025-05-31T17:00:00</td><td>2025-05-31T10:00:00Z</td><td>2025-05-31T18:00:00</td><td>2025-05-24T16:37:23Z</td><td>2025-05-24T16:31:13Z</td><td>Asia/Singapore</td><td>List(List(phq_attendance, List(List(2025-05-31, event_day, 179)), accommodation), List(phq_attendance, List(List(2025-05-31, event_day, 179)), hospitality), List(phq_attendance, List(List(2025-05-31, event_day, 179)), retail))</td><td>locality</td><td>SG</td><td>List(List(6295630, 6255147, 1880251, 1880252))</td><td>active</td><td>true</td><td>false</td><td>3215.0</td><td>List(0, 2475, 740)</td><td>null</td><td>null</td><td>null</td><td>null</td><td>103.847686</td><td>1.279795</td><td>PredictHQ</td><td>2025-05-26T11:10:48.769Z</td></tr><tr><td>0.0</td><td>Bni4AgkSe5vPJcWavq</td><td>SELF-LOVE AND GRATITUDE SOUND BATH</td><td>Sourced from predicthq.com - Come join us for a relaxing sound bath to cultivate self-love and gratitude!</td><td>concerts</td><td>35</td><td>44</td><td>169.0</td><td>List(List(null, null, n92UGPhhPdTbU6Pijza2YB, 2B Stanley St, Singapore 068721, null, SPACE2B, null, venue), List(concerts, Come join us for a relaxing sound bath to cultivate self-love and gratitude!, 8avefdQEGS4NAdHeqSe52z, 2B Stanley Street, Singapore, 068721, Singapore, List(concert, event-group, music, religion), SELF-LOVE AND GRATITUDE SOUND BATH, Asia/Singapore, event-group))</td><td>3600</td><td>2025-05-31T07:30:00Z</td><td>2025-05-31T15:30:00</td><td>2025-05-31T08:30:00Z</td><td>2025-05-31T16:30:00</td><td>2025-05-24T16:37:31Z</td><td>2025-05-24T16:30:36Z</td><td>Asia/Singapore</td><td>List(List(phq_attendance, List(List(2025-05-31, event_day, 169)), accommodation), List(phq_attendance, List(List(2025-05-31, event_day, 169)), hospitality), List(phq_attendance, List(List(2025-05-31, event_day, 169)), retail))</td><td>locality</td><td>SG</td><td>List(List(6295630, 6255147, 1880251, 1880252))</td><td>active</td><td>true</td><td>false</td><td>3035.0</td><td>List(0, 2337, 698)</td><td>null</td><td>null</td><td>null</td><td>null</td><td>103.847686</td><td>1.279795</td><td>PredictHQ</td><td>2025-05-26T11:10:48.769Z</td></tr><tr><td>0.0</td><td>7hod4fxkNieSedsEhk</td><td>EQ Café - Authenticity: Tapping into what’s real</td><td>Sourced from predicthq.com - EQ Cafés are interactive, informal workshops created by Six Seconds, the global nonprofit supporting a more emotionally intelligent world.</td><td>conferences</td><td>29</td><td>30</td><td>85.0</td><td>List(List(null, null, 3BvyGZbZB9Nj8KYQKq3hDgv, 30A Yishun Central 1, Singapore 768796, null, Tzu Chi Humanistic Youth Centre, null, venue))</td><td>5400</td><td>2025-05-31T06:00:00Z</td><td>2025-05-31T14:00:00</td><td>2025-05-31T07:30:00Z</td><td>2025-05-31T15:30:00</td><td>2025-04-17T02:14:35Z</td><td>2025-04-17T01:56:56Z</td><td>Asia/Singapore</td><td>List(List(phq_attendance, List(List(2025-05-31, event_day, 85)), accommodation), List(phq_attendance, List(List(2025-05-31, event_day, 85)), hospitality), List(phq_attendance, List(List(2025-05-31, event_day, 85)), retail))</td><td>locality</td><td>SG</td><td>List(List(6295630, 6255147, 1880251, 1882155), List(6295630, 6255147, 1880251, 1880252))</td><td>active</td><td>true</td><td>false</td><td>1820.0</td><td>List(0, 1469, 351)</td><td>List(List(education-and-careers, 0.439), List(lifestyle, 0.299), List(art-and-cultural, 0.262))</td><td>null</td><td>null</td><td>null</td><td>103.8383565</td><td>1.4266024</td><td>PredictHQ</td><td>2025-05-26T11:10:48.769Z</td></tr><tr><td>0.0</td><td>9LcjXLT8iwEwhEjMPR</td><td>CHAKRA HARMONY: A SOUND JOURNEY FOR WELL-BEING AND BALANCE</td><td>Sourced from predicthq.com - Unlock the flow of energy and restore harmony within your body through a powerful chakra balancing session.</td><td>concerts</td><td>35</td><td>44</td><td>179.0</td><td>List(List(null, null, n92UGPhhPdTbU6Pijza2YB, 2B Stanley St, Singapore 068721, null, SPACE2B, null, venue), List(concerts, Unlock the flow of energy and restore harmony within your body through a powerful chakra balancing session., 3BDfvS3iPjq7kAz7pb9VKkN, 2B Stanley Street, Singapore, 068721, Singapore, List(concert, event-group, music, religion), CHAKRA HARMONY: A SOUND JOURNEY FOR WELL-BEING AND BALANCE, Asia/Singapore, event-group))</td><td>3600</td><td>2025-05-31T06:00:00Z</td><td>2025-05-31T14:00:00</td><td>2025-05-31T07:00:00Z</td><td>2025-05-31T15:00:00</td><td>2025-05-24T16:37:08Z</td><td>2025-05-24T16:31:13Z</td><td>Asia/Singapore</td><td>List(List(phq_attendance, List(List(2025-05-31, event_day, 179)), accommodation), List(phq_attendance, List(List(2025-05-31, event_day, 179)), hospitality), List(phq_attendance, List(List(2025-05-31, event_day, 179)), retail))</td><td>locality</td><td>SG</td><td>List(List(6295630, 6255147, 1880251, 1880252))</td><td>active</td><td>true</td><td>false</td><td>3215.0</td><td>List(0, 2475, 740)</td><td>null</td><td>null</td><td>null</td><td>null</td><td>103.847686</td><td>1.279795</td><td>PredictHQ</td><td>2025-05-26T11:10:48.769Z</td></tr><tr><td>0.0</td><td>EoHgPFsTcxA3Nossp9</td><td>UNDER THE STARS PLANET SOUND HEALING</td><td>Sourced from predicthq.com - Imagine lying down under the stars while tuning into Crystal bowls vibrations and planetary energies..</td><td>concerts</td><td>35</td><td>44</td><td>169.0</td><td>List(List(null, null, n92UGPhhPdTbU6Pijza2YB, 2B Stanley St, Singapore 068721, null, SPACE2B, null, venue), List(concerts, Imagine lying down under the stars while tuning into Crystal bowls vibrations and planetary energies.., sTg7XVvupW54xFXUzr8q65, 2B Stanley Street, Singapore, 068721, Singapore, List(concert, event-group, health, music), UNDER THE STARS PLANET SOUND HEALING, Asia/Singapore, event-group))</td><td>3600</td><td>2025-05-28T12:00:00Z</td><td>2025-05-28T20:00:00</td><td>2025-05-28T13:00:00Z</td><td>2025-05-28T21:00:00</td><td>2025-05-22T04:25:56Z</td><td>2025-05-22T04:25:40Z</td><td>Asia/Singapore</td><td>List(List(phq_attendance, List(List(2025-05-28, event_day, 169)), accommodation), List(phq_attendance, List(List(2025-05-28, event_day, 169)), hospitality), List(phq_attendance, List(List(2025-05-28, event_day, 169)), retail))</td><td>locality</td><td>SG</td><td>List(List(6295630, 6255147, 1880251, 1880252))</td><td>active</td><td>true</td><td>false</td><td>3035.0</td><td>List(0, 2337, 698)</td><td>null</td><td>null</td><td>null</td><td>null</td><td>103.847686</td><td>1.279795</td><td>PredictHQ</td><td>2025-05-26T11:10:48.769Z</td></tr><tr><td>0.0</td><td>4EuSRkm5D7V9MXSauE</td><td>LEMURIAN CRYSTAL TEMPLE- SACRED LIGHT & LOVE CRYSTAL SOUND HEALING</td><td>Sourced from predicthq.com - Lemurian Crystal Bowls connect us to the ancient world of Lemuria, where a wealth of knowledge has been preserved since the dawn of time.</td><td>concerts</td><td>39</td><td>48</td><td>272.0</td><td>List(List(null, null, n92UGPhhPdTbU6Pijza2YB, 2B Stanley St, Singapore 068721, null, SPACE2B, null, venue), List(concerts, Lemurian Crystal Bowls connect us to the ancient world of Lemuria, where a wealth of knowledge has been preserved since the dawn of time., HKr7sAsCEW6yZtBfizbgid, 2B Stanley Street, Singapore, 068721, Singapore, List(concert, event-group, music, religion), LEMURIAN CRYSTAL TEMPLE- SACRED LIGHT & LOVE CRYSTAL SOUND HEALING, Asia/Singapore, event-group))</td><td>3600</td><td>2025-05-28T10:30:00Z</td><td>2025-05-28T18:30:00</td><td>2025-05-28T11:30:00Z</td><td>2025-05-28T19:30:00</td><td>2025-05-15T03:19:42Z</td><td>2025-05-15T03:10:35Z</td><td>Asia/Singapore</td><td>List(List(phq_attendance, List(List(2025-05-28, event_day, 272)), accommodation), List(phq_attendance, List(List(2025-05-28, event_day, 272)), hospitality), List(phq_attendance, List(List(2025-05-28, event_day, 272)), retail))</td><td>locality</td><td>SG</td><td>List(List(6295630, 6255147, 1880251, 1880252))</td><td>active</td><td>true</td><td>false</td><td>4886.0</td><td>List(0, 3761, 1124)</td><td>null</td><td>null</td><td>null</td><td>null</td><td>103.847686</td><td>1.279795</td><td>PredictHQ</td><td>2025-05-26T11:10:48.769Z</td></tr><tr><td>0.0</td><td>AJmyqco9BGwEedMVCj</td><td>Cosmic Resonance Gong Bath</td><td>Sourced from predicthq.com - Immerse yourself in an extraordinary sonic experience that resonates with the rhythm of the universe.</td><td>concerts</td><td>35</td><td>44</td><td>179.0</td><td>List(List(null, null, n92UGPhhPdTbU6Pijza2YB, 2B Stanley St, Singapore 068721, null, SPACE2B, null, venue), List(concerts, Immerse yourself in an extraordinary sonic experience that resonates with the rhythm of the universe., aCLzhNijzhE36Gt3jrc7q5, 2B Stanley Street, Singapore, 068721, Singapore, List(concert, event-group, music, religion), Cosmic Resonance Gong Bath, Asia/Singapore, event-group))</td><td>3600</td><td>2025-05-28T06:00:00Z</td><td>2025-05-28T14:00:00</td><td>2025-05-28T07:00:00Z</td><td>2025-05-28T15:00:00</td><td>2025-05-22T04:33:23Z</td><td>2025-05-22T04:31:40Z</td><td>Asia/Singapore</td><td>List(List(phq_attendance, List(List(2025-05-28, event_day, 179)), accommodation), List(phq_attendance, List(List(2025-05-28, event_day, 179)), hospitality), List(phq_attendance, List(List(2025-05-28, event_day, 179)), retail))</td><td>locality</td><td>SG</td><td>List(List(6295630, 6255147, 1880251, 1880252))</td><td>active</td><td>true</td><td>false</td><td>3215.0</td><td>List(0, 2475, 740)</td><td>null</td><td>null</td><td>null</td><td>null</td><td>103.847686</td><td>1.279795</td><td>PredictHQ</td><td>2025-05-26T11:10:48.769Z</td></tr><tr><td>0.0</td><td>8FA5uhzup5rubwA9K9</td><td>Coming Home to Yourself with Tibetan Singing Bowls</td><td>Sourced from predicthq.com - Embark on a transformative sound healing session with Tibetan Singing bowls</td><td>concerts</td><td>35</td><td>44</td><td>169.0</td><td>List(List(null, null, n92UGPhhPdTbU6Pijza2YB, 2B Stanley St, Singapore 068721, null, SPACE2B, null, venue), List(concerts, Embark on a transformative sound healing session with Tibetan Singing bowls, bQ3vFD5Tn7T9yvHWTPfgy5, 2B Stanley Street, Singapore, 068721, Singapore, List(concert, event-group, music, religion), Coming Home to Yourself with Tibetan Singing Bowls, Asia/Singapore, event-group))</td><td>3600</td><td>2025-05-28T04:30:00Z</td><td>2025-05-28T12:30:00</td><td>2025-05-28T05:30:00Z</td><td>2025-05-28T13:30:00</td><td>2025-05-24T18:53:03Z</td><td>2025-05-24T18:52:51Z</td><td>Asia/Singapore</td><td>List(List(phq_attendance, List(List(2025-05-28, event_day, 169)), accommodation), List(phq_attendance, List(List(2025-05-28, event_day, 169)), hospitality), List(phq_attendance, List(List(2025-05-28, event_day, 169)), retail))</td><td>locality</td><td>SG</td><td>List(List(6295630, 6255147, 1880251, 1880252))</td><td>active</td><td>true</td><td>false</td><td>3035.0</td><td>List(0, 2337, 698)</td><td>null</td><td>null</td><td>null</td><td>null</td><td>103.847686</td><td>1.279795</td><td>PredictHQ</td><td>2025-05-26T11:10:48.769Z</td></tr><tr><td>0.0</td><td>Gijny6ikbFbum6YzPA</td><td>GROUND YOURSELF, CLARITY OF MIND – SOUND BATH WITH SINGING BOWLS AND DRUMS</td><td>Sourced from predicthq.com - Come into this session, to ground yourself and clear your mind. With singing bowls and ocean drum.</td><td>concerts</td><td>35</td><td>44</td><td>169.0</td><td>List(List(null, null, n92UGPhhPdTbU6Pijza2YB, 2B Stanley St, Singapore 068721, null, SPACE2B, null, venue), List(concerts, Come into this session, to ground yourself and clear your mind. With singing bowls and ocean drum., 9WVWaVMA3g2Ukhm4VJ9akd, 2B Stanley Street, Singapore, 068721, Singapore, List(concert, event-group, music, religion), GROUND YOURSELF, CLARITY OF MIND – SOUND BATH WITH SINGING BOWLS AND DRUMS, Asia/Singapore, event-group))</td><td>3600</td><td>2025-05-28T03:00:00Z</td><td>2025-05-28T11:00:00</td><td>2025-05-28T04:00:00Z</td><td>2025-05-28T12:00:00</td><td>2025-05-24T18:53:03Z</td><td>2025-05-24T18:52:51Z</td><td>Asia/Singapore</td><td>List(List(phq_attendance, List(List(2025-05-28, event_day, 169)), accommodation), List(phq_attendance, List(List(2025-05-28, event_day, 169)), hospitality), List(phq_attendance, List(List(2025-05-28, event_day, 169)), retail))</td><td>locality</td><td>SG</td><td>List(List(6295630, 6255147, 1880251, 1880252))</td><td>active</td><td>true</td><td>false</td><td>3035.0</td><td>List(0, 2337, 698)</td><td>null</td><td>null</td><td>null</td><td>null</td><td>103.847686</td><td>1.279795</td><td>PredictHQ</td><td>2025-05-26T11:10:48.769Z</td></tr><tr><td>0.0</td><td>HJwN8y3wdHrLSxCH9B</td><td>HEAL FROM WITHIN: AFFIRMATIONS + TIBETAN SINGING BOWLS + OCEAN DRUM</td><td>Sourced from predicthq.com - This practice allows you to reignite your own self-healing ability.</td><td>concerts</td><td>35</td><td>44</td><td>179.0</td><td>List(List(null, null, n92UGPhhPdTbU6Pijza2YB, 2B Stanley St, Singapore 068721, null, SPACE2B, null, venue), List(concerts, This practice allows you to reignite your own self-healing ability., usY8XBHsRn9aetZetrMgdt, 2B Stanley Street, Singapore, 068721, Singapore, List(concert, event-group, health, music), HEAL FROM WITHIN: AFFIRMATIONS + TIBETAN SINGING BOWLS + OCEAN DRUM, Asia/Singapore, event-group))</td><td>3600</td><td>2025-05-27T12:00:00Z</td><td>2025-05-27T20:00:00</td><td>2025-05-27T13:00:00Z</td><td>2025-05-27T21:00:00</td><td>2025-05-22T13:30:44Z</td><td>2025-05-22T13:29:22Z</td><td>Asia/Singapore</td><td>List(List(phq_attendance, List(List(2025-05-27, event_day, 179)), accommodation), List(phq_attendance, List(List(2025-05-27, event_day, 179)), hospitality), List(phq_attendance, List(List(2025-05-27, event_day, 179)), retail))</td><td>locality</td><td>SG</td><td>List(List(6295630, 6255147, 1880251, 1880252))</td><td>active</td><td>true</td><td>false</td><td>3215.0</td><td>List(0, 2475, 740)</td><td>null</td><td>null</td><td>null</td><td>null</td><td>103.847686</td><td>1.279795</td><td>PredictHQ</td><td>2025-05-26T11:10:48.769Z</td></tr><tr><td>0.0</td><td>4fap8QjcxeNsybopy7</td><td>How The Top 1% Of Leaders Manage Their Time Like Clockwork Using T5 System</td><td>Sourced from predicthq.com - You will learn essential skills that will increase your productivity so you have more margin in your life and business.</td><td>conferences</td><td>29</td><td>30</td><td>93.0</td><td>List()</td><td>3600</td><td>2025-05-27T11:00:00Z</td><td>2025-05-27T19:00:00</td><td>2025-05-27T12:00:00Z</td><td>2025-05-27T20:00:00</td><td>2025-05-08T02:01:14Z</td><td>2025-05-08T02:00:43Z</td><td>Asia/Singapore</td><td>List(List(phq_attendance, List(List(2025-05-27, event_day, 93)), accommodation), List(phq_attendance, List(List(2025-05-27, event_day, 93)), hospitality), List(phq_attendance, List(List(2025-05-27, event_day, 93)), retail))</td><td>locality</td><td>SG</td><td>List(List(6295630, 6255147, 1880251, 1880469), List(6295630, 6255147, 1880251, 1880252))</td><td>active</td><td>true</td><td>false</td><td>1992.0</td><td>List(0, 1607, 384)</td><td>List(List(education-and-careers, 1.0))</td><td>null</td><td>null</td><td>null</td><td>103.775964</td><td>1.441188</td><td>PredictHQ</td><td>2025-05-26T11:10:48.769Z</td></tr></tbody></table></div>"
      ]
     },
     "metadata": {
      "application/vnd.databricks.v1+output": {
       "addedWidgets": {},
       "aggData": [],
       "aggError": "",
       "aggOverflow": false,
       "aggSchema": [],
       "aggSeriesLimitReached": false,
       "aggType": "",
       "arguments": {},
       "columnCustomDisplayInfos": {},
       "data": [
        [
         0.0,
         "EcrqqgZe5zeDnVdZTd",
         "Tell Me a JazzTime Story by Eric Lee Trio",
         "Sourced from predicthq.com - Maduro presents Eric Lee Trio on this unforgettably fun evening of timeless jazz tales that tell stories of mischief, memories and more",
         "concerts",
         40,
         47,
         330.0,
         [],
         10800,
         "2025-05-31T12:30:00Z",
         "2025-05-31T20:30:00",
         "2025-05-31T15:30:00Z",
         "2025-05-31T23:30:00",
         "2025-05-01T08:28:42Z",
         "2025-05-01T07:37:08Z",
         "Asia/Singapore",
         [
          [
           "phq_attendance",
           [
            [
             "2025-05-31",
             "event_day",
             330
            ]
           ],
           "accommodation"
          ],
          [
           "phq_attendance",
           [
            [
             "2025-05-31",
             "event_day",
             330
            ]
           ],
           "hospitality"
          ],
          [
           "phq_attendance",
           [
            [
             "2025-05-31",
             "event_day",
             330
            ]
           ],
           "retail"
          ]
         ],
         "locality",
         "SG",
         [
          [
           "6295630",
           "6255147",
           "1880251",
           "7289766"
          ],
          [
           "6295630",
           "6255147",
           "1880251",
           "1880252"
          ]
         ],
         "active",
         true,
         false,
         5927.0,
         [
          0,
          4563,
          1364
         ],
         [
          [
           "jazz-and-classical",
           1.0
          ]
         ],
         null,
         null,
         null,
         103.8278754,
         1.2456916,
         "PredictHQ",
         "2025-05-26T11:10:48.769Z"
        ],
        [
         0.0,
         "Rotet8Eazj4kjQaHJa",
         "NuHarmony Choir Presents: From Screen to Stage",
         "Sourced from predicthq.com - Join us for \"NuHarmony Choir Presents: From Screen to Stage\" where we bring your favorite movie and musical soundtracks to life!",
         "performing-arts",
         37,
         43,
         223.0,
         [],
         12600,
         "2025-05-31T11:30:00Z",
         "2025-05-31T19:30:00",
         "2025-05-31T15:00:00Z",
         "2025-05-31T23:00:00",
         "2025-04-03T07:22:33Z",
         "2025-04-03T07:22:00Z",
         "Asia/Singapore",
         [
          [
           "phq_attendance",
           [
            [
             "2025-05-31",
             "event_day",
             223
            ]
           ],
           "accommodation"
          ],
          [
           "phq_attendance",
           [
            [
             "2025-05-31",
             "event_day",
             223
            ]
           ],
           "hospitality"
          ],
          [
           "phq_attendance",
           [
            [
             "2025-05-31",
             "event_day",
             223
            ]
           ],
           "retail"
          ]
         ],
         "locality",
         "SG",
         [
          [
           "6295630",
           "6255147",
           "1880251",
           "7281987"
          ],
          [
           "6295630",
           "6255147",
           "1880251",
           "1880252"
          ]
         ],
         "active",
         true,
         false,
         4005.0,
         [
          0,
          3083,
          922
         ],
         [
          [
           "general-theatre",
           0.36
          ],
          [
           "concert",
           0.341
          ],
          [
           "movie",
           0.299
          ]
         ],
         null,
         null,
         null,
         103.8410082,
         1.3337256,
         "PredictHQ",
         "2025-05-26T11:10:48.769Z"
        ],
        [
         0.0,
         "93WGY5RrwzT3ernqB2",
         "INDULGE IN REST: CRYSTAL BOWLS + CHIMES SOUND HEALING",
         "Sourced from predicthq.com - Amidst the fast-paced nature of today’s world, finding time for rest has peculiarly transformed into a form of luxury.",
         "concerts",
         35,
         44,
         179.0,
         [
          [
           null,
           null,
           "n92UGPhhPdTbU6Pijza2YB",
           "2B Stanley St, Singapore 068721",
           null,
           "SPACE2B",
           null,
           "venue"
          ],
          [
           "concerts",
           "Amidst the fast-paced nature of today’s world, finding time for rest has peculiarly transformed into a form of luxury.",
           "4j8Zam8BqsmF5rxK4b5H9D",
           "2B Stanley Street, Singapore, 068721, Singapore",
           [
            "concert",
            "event-group",
            "music",
            "religion"
           ],
           "INDULGE IN REST: CRYSTAL BOWLS + CHIMES SOUND HEALING",
           "Asia/Singapore",
           "event-group"
          ]
         ],
         3600,
         "2025-05-31T09:00:00Z",
         "2025-05-31T17:00:00",
         "2025-05-31T10:00:00Z",
         "2025-05-31T18:00:00",
         "2025-05-24T16:37:23Z",
         "2025-05-24T16:31:13Z",
         "Asia/Singapore",
         [
          [
           "phq_attendance",
           [
            [
             "2025-05-31",
             "event_day",
             179
            ]
           ],
           "accommodation"
          ],
          [
           "phq_attendance",
           [
            [
             "2025-05-31",
             "event_day",
             179
            ]
           ],
           "hospitality"
          ],
          [
           "phq_attendance",
           [
            [
             "2025-05-31",
             "event_day",
             179
            ]
           ],
           "retail"
          ]
         ],
         "locality",
         "SG",
         [
          [
           "6295630",
           "6255147",
           "1880251",
           "1880252"
          ]
         ],
         "active",
         true,
         false,
         3215.0,
         [
          0,
          2475,
          740
         ],
         null,
         null,
         null,
         null,
         103.847686,
         1.279795,
         "PredictHQ",
         "2025-05-26T11:10:48.769Z"
        ],
        [
         0.0,
         "Bni4AgkSe5vPJcWavq",
         "SELF-LOVE AND GRATITUDE SOUND BATH",
         "Sourced from predicthq.com - Come join us for a relaxing sound bath to cultivate self-love and gratitude!",
         "concerts",
         35,
         44,
         169.0,
         [
          [
           null,
           null,
           "n92UGPhhPdTbU6Pijza2YB",
           "2B Stanley St, Singapore 068721",
           null,
           "SPACE2B",
           null,
           "venue"
          ],
          [
           "concerts",
           "Come join us for a relaxing sound bath to cultivate self-love and gratitude!",
           "8avefdQEGS4NAdHeqSe52z",
           "2B Stanley Street, Singapore, 068721, Singapore",
           [
            "concert",
            "event-group",
            "music",
            "religion"
           ],
           "SELF-LOVE AND GRATITUDE SOUND BATH",
           "Asia/Singapore",
           "event-group"
          ]
         ],
         3600,
         "2025-05-31T07:30:00Z",
         "2025-05-31T15:30:00",
         "2025-05-31T08:30:00Z",
         "2025-05-31T16:30:00",
         "2025-05-24T16:37:31Z",
         "2025-05-24T16:30:36Z",
         "Asia/Singapore",
         [
          [
           "phq_attendance",
           [
            [
             "2025-05-31",
             "event_day",
             169
            ]
           ],
           "accommodation"
          ],
          [
           "phq_attendance",
           [
            [
             "2025-05-31",
             "event_day",
             169
            ]
           ],
           "hospitality"
          ],
          [
           "phq_attendance",
           [
            [
             "2025-05-31",
             "event_day",
             169
            ]
           ],
           "retail"
          ]
         ],
         "locality",
         "SG",
         [
          [
           "6295630",
           "6255147",
           "1880251",
           "1880252"
          ]
         ],
         "active",
         true,
         false,
         3035.0,
         [
          0,
          2337,
          698
         ],
         null,
         null,
         null,
         null,
         103.847686,
         1.279795,
         "PredictHQ",
         "2025-05-26T11:10:48.769Z"
        ],
        [
         0.0,
         "7hod4fxkNieSedsEhk",
         "EQ Café - Authenticity: Tapping into what’s real",
         "Sourced from predicthq.com - EQ Cafés are interactive, informal workshops created by Six Seconds, the global nonprofit supporting a more emotionally intelligent world.",
         "conferences",
         29,
         30,
         85.0,
         [
          [
           null,
           null,
           "3BvyGZbZB9Nj8KYQKq3hDgv",
           "30A Yishun Central 1, Singapore 768796",
           null,
           "Tzu Chi Humanistic Youth Centre",
           null,
           "venue"
          ]
         ],
         5400,
         "2025-05-31T06:00:00Z",
         "2025-05-31T14:00:00",
         "2025-05-31T07:30:00Z",
         "2025-05-31T15:30:00",
         "2025-04-17T02:14:35Z",
         "2025-04-17T01:56:56Z",
         "Asia/Singapore",
         [
          [
           "phq_attendance",
           [
            [
             "2025-05-31",
             "event_day",
             85
            ]
           ],
           "accommodation"
          ],
          [
           "phq_attendance",
           [
            [
             "2025-05-31",
             "event_day",
             85
            ]
           ],
           "hospitality"
          ],
          [
           "phq_attendance",
           [
            [
             "2025-05-31",
             "event_day",
             85
            ]
           ],
           "retail"
          ]
         ],
         "locality",
         "SG",
         [
          [
           "6295630",
           "6255147",
           "1880251",
           "1882155"
          ],
          [
           "6295630",
           "6255147",
           "1880251",
           "1880252"
          ]
         ],
         "active",
         true,
         false,
         1820.0,
         [
          0,
          1469,
          351
         ],
         [
          [
           "education-and-careers",
           0.439
          ],
          [
           "lifestyle",
           0.299
          ],
          [
           "art-and-cultural",
           0.262
          ]
         ],
         null,
         null,
         null,
         103.8383565,
         1.4266024,
         "PredictHQ",
         "2025-05-26T11:10:48.769Z"
        ],
        [
         0.0,
         "9LcjXLT8iwEwhEjMPR",
         "CHAKRA HARMONY: A SOUND JOURNEY FOR WELL-BEING AND BALANCE",
         "Sourced from predicthq.com - Unlock the flow of energy and restore harmony within your body through a powerful chakra balancing session.",
         "concerts",
         35,
         44,
         179.0,
         [
          [
           null,
           null,
           "n92UGPhhPdTbU6Pijza2YB",
           "2B Stanley St, Singapore 068721",
           null,
           "SPACE2B",
           null,
           "venue"
          ],
          [
           "concerts",
           "Unlock the flow of energy and restore harmony within your body through a powerful chakra balancing session.",
           "3BDfvS3iPjq7kAz7pb9VKkN",
           "2B Stanley Street, Singapore, 068721, Singapore",
           [
            "concert",
            "event-group",
            "music",
            "religion"
           ],
           "CHAKRA HARMONY: A SOUND JOURNEY FOR WELL-BEING AND BALANCE",
           "Asia/Singapore",
           "event-group"
          ]
         ],
         3600,
         "2025-05-31T06:00:00Z",
         "2025-05-31T14:00:00",
         "2025-05-31T07:00:00Z",
         "2025-05-31T15:00:00",
         "2025-05-24T16:37:08Z",
         "2025-05-24T16:31:13Z",
         "Asia/Singapore",
         [
          [
           "phq_attendance",
           [
            [
             "2025-05-31",
             "event_day",
             179
            ]
           ],
           "accommodation"
          ],
          [
           "phq_attendance",
           [
            [
             "2025-05-31",
             "event_day",
             179
            ]
           ],
           "hospitality"
          ],
          [
           "phq_attendance",
           [
            [
             "2025-05-31",
             "event_day",
             179
            ]
           ],
           "retail"
          ]
         ],
         "locality",
         "SG",
         [
          [
           "6295630",
           "6255147",
           "1880251",
           "1880252"
          ]
         ],
         "active",
         true,
         false,
         3215.0,
         [
          0,
          2475,
          740
         ],
         null,
         null,
         null,
         null,
         103.847686,
         1.279795,
         "PredictHQ",
         "2025-05-26T11:10:48.769Z"
        ],
        [
         0.0,
         "EoHgPFsTcxA3Nossp9",
         "UNDER THE STARS PLANET SOUND HEALING",
         "Sourced from predicthq.com - Imagine lying down under the stars while tuning into Crystal bowls vibrations and planetary energies..",
         "concerts",
         35,
         44,
         169.0,
         [
          [
           null,
           null,
           "n92UGPhhPdTbU6Pijza2YB",
           "2B Stanley St, Singapore 068721",
           null,
           "SPACE2B",
           null,
           "venue"
          ],
          [
           "concerts",
           "Imagine lying down under the stars while tuning into Crystal bowls vibrations and planetary energies..",
           "sTg7XVvupW54xFXUzr8q65",
           "2B Stanley Street, Singapore, 068721, Singapore",
           [
            "concert",
            "event-group",
            "health",
            "music"
           ],
           "UNDER THE STARS PLANET SOUND HEALING",
           "Asia/Singapore",
           "event-group"
          ]
         ],
         3600,
         "2025-05-28T12:00:00Z",
         "2025-05-28T20:00:00",
         "2025-05-28T13:00:00Z",
         "2025-05-28T21:00:00",
         "2025-05-22T04:25:56Z",
         "2025-05-22T04:25:40Z",
         "Asia/Singapore",
         [
          [
           "phq_attendance",
           [
            [
             "2025-05-28",
             "event_day",
             169
            ]
           ],
           "accommodation"
          ],
          [
           "phq_attendance",
           [
            [
             "2025-05-28",
             "event_day",
             169
            ]
           ],
           "hospitality"
          ],
          [
           "phq_attendance",
           [
            [
             "2025-05-28",
             "event_day",
             169
            ]
           ],
           "retail"
          ]
         ],
         "locality",
         "SG",
         [
          [
           "6295630",
           "6255147",
           "1880251",
           "1880252"
          ]
         ],
         "active",
         true,
         false,
         3035.0,
         [
          0,
          2337,
          698
         ],
         null,
         null,
         null,
         null,
         103.847686,
         1.279795,
         "PredictHQ",
         "2025-05-26T11:10:48.769Z"
        ],
        [
         0.0,
         "4EuSRkm5D7V9MXSauE",
         "LEMURIAN CRYSTAL TEMPLE- SACRED LIGHT & LOVE CRYSTAL SOUND HEALING",
         "Sourced from predicthq.com - Lemurian Crystal Bowls connect us to the ancient world of Lemuria, where a wealth of knowledge has been preserved since the dawn of time.",
         "concerts",
         39,
         48,
         272.0,
         [
          [
           null,
           null,
           "n92UGPhhPdTbU6Pijza2YB",
           "2B Stanley St, Singapore 068721",
           null,
           "SPACE2B",
           null,
           "venue"
          ],
          [
           "concerts",
           "Lemurian Crystal Bowls connect us to the ancient world of Lemuria, where a wealth of knowledge has been preserved since the dawn of time.",
           "HKr7sAsCEW6yZtBfizbgid",
           "2B Stanley Street, Singapore, 068721, Singapore",
           [
            "concert",
            "event-group",
            "music",
            "religion"
           ],
           "LEMURIAN CRYSTAL TEMPLE- SACRED LIGHT & LOVE CRYSTAL SOUND HEALING",
           "Asia/Singapore",
           "event-group"
          ]
         ],
         3600,
         "2025-05-28T10:30:00Z",
         "2025-05-28T18:30:00",
         "2025-05-28T11:30:00Z",
         "2025-05-28T19:30:00",
         "2025-05-15T03:19:42Z",
         "2025-05-15T03:10:35Z",
         "Asia/Singapore",
         [
          [
           "phq_attendance",
           [
            [
             "2025-05-28",
             "event_day",
             272
            ]
           ],
           "accommodation"
          ],
          [
           "phq_attendance",
           [
            [
             "2025-05-28",
             "event_day",
             272
            ]
           ],
           "hospitality"
          ],
          [
           "phq_attendance",
           [
            [
             "2025-05-28",
             "event_day",
             272
            ]
           ],
           "retail"
          ]
         ],
         "locality",
         "SG",
         [
          [
           "6295630",
           "6255147",
           "1880251",
           "1880252"
          ]
         ],
         "active",
         true,
         false,
         4886.0,
         [
          0,
          3761,
          1124
         ],
         null,
         null,
         null,
         null,
         103.847686,
         1.279795,
         "PredictHQ",
         "2025-05-26T11:10:48.769Z"
        ],
        [
         0.0,
         "AJmyqco9BGwEedMVCj",
         "Cosmic Resonance Gong Bath",
         "Sourced from predicthq.com - Immerse yourself in an extraordinary sonic experience that resonates with the rhythm of the universe.",
         "concerts",
         35,
         44,
         179.0,
         [
          [
           null,
           null,
           "n92UGPhhPdTbU6Pijza2YB",
           "2B Stanley St, Singapore 068721",
           null,
           "SPACE2B",
           null,
           "venue"
          ],
          [
           "concerts",
           "Immerse yourself in an extraordinary sonic experience that resonates with the rhythm of the universe.",
           "aCLzhNijzhE36Gt3jrc7q5",
           "2B Stanley Street, Singapore, 068721, Singapore",
           [
            "concert",
            "event-group",
            "music",
            "religion"
           ],
           "Cosmic Resonance Gong Bath",
           "Asia/Singapore",
           "event-group"
          ]
         ],
         3600,
         "2025-05-28T06:00:00Z",
         "2025-05-28T14:00:00",
         "2025-05-28T07:00:00Z",
         "2025-05-28T15:00:00",
         "2025-05-22T04:33:23Z",
         "2025-05-22T04:31:40Z",
         "Asia/Singapore",
         [
          [
           "phq_attendance",
           [
            [
             "2025-05-28",
             "event_day",
             179
            ]
           ],
           "accommodation"
          ],
          [
           "phq_attendance",
           [
            [
             "2025-05-28",
             "event_day",
             179
            ]
           ],
           "hospitality"
          ],
          [
           "phq_attendance",
           [
            [
             "2025-05-28",
             "event_day",
             179
            ]
           ],
           "retail"
          ]
         ],
         "locality",
         "SG",
         [
          [
           "6295630",
           "6255147",
           "1880251",
           "1880252"
          ]
         ],
         "active",
         true,
         false,
         3215.0,
         [
          0,
          2475,
          740
         ],
         null,
         null,
         null,
         null,
         103.847686,
         1.279795,
         "PredictHQ",
         "2025-05-26T11:10:48.769Z"
        ],
        [
         0.0,
         "8FA5uhzup5rubwA9K9",
         "Coming Home to Yourself with Tibetan Singing Bowls",
         "Sourced from predicthq.com - Embark on a transformative sound healing session with Tibetan Singing bowls",
         "concerts",
         35,
         44,
         169.0,
         [
          [
           null,
           null,
           "n92UGPhhPdTbU6Pijza2YB",
           "2B Stanley St, Singapore 068721",
           null,
           "SPACE2B",
           null,
           "venue"
          ],
          [
           "concerts",
           "Embark on a transformative sound healing session with Tibetan Singing bowls",
           "bQ3vFD5Tn7T9yvHWTPfgy5",
           "2B Stanley Street, Singapore, 068721, Singapore",
           [
            "concert",
            "event-group",
            "music",
            "religion"
           ],
           "Coming Home to Yourself with Tibetan Singing Bowls",
           "Asia/Singapore",
           "event-group"
          ]
         ],
         3600,
         "2025-05-28T04:30:00Z",
         "2025-05-28T12:30:00",
         "2025-05-28T05:30:00Z",
         "2025-05-28T13:30:00",
         "2025-05-24T18:53:03Z",
         "2025-05-24T18:52:51Z",
         "Asia/Singapore",
         [
          [
           "phq_attendance",
           [
            [
             "2025-05-28",
             "event_day",
             169
            ]
           ],
           "accommodation"
          ],
          [
           "phq_attendance",
           [
            [
             "2025-05-28",
             "event_day",
             169
            ]
           ],
           "hospitality"
          ],
          [
           "phq_attendance",
           [
            [
             "2025-05-28",
             "event_day",
             169
            ]
           ],
           "retail"
          ]
         ],
         "locality",
         "SG",
         [
          [
           "6295630",
           "6255147",
           "1880251",
           "1880252"
          ]
         ],
         "active",
         true,
         false,
         3035.0,
         [
          0,
          2337,
          698
         ],
         null,
         null,
         null,
         null,
         103.847686,
         1.279795,
         "PredictHQ",
         "2025-05-26T11:10:48.769Z"
        ],
        [
         0.0,
         "Gijny6ikbFbum6YzPA",
         "GROUND YOURSELF, CLARITY OF MIND – SOUND BATH WITH SINGING BOWLS AND DRUMS",
         "Sourced from predicthq.com - Come into this session, to ground yourself and clear your mind. With singing bowls and ocean drum.",
         "concerts",
         35,
         44,
         169.0,
         [
          [
           null,
           null,
           "n92UGPhhPdTbU6Pijza2YB",
           "2B Stanley St, Singapore 068721",
           null,
           "SPACE2B",
           null,
           "venue"
          ],
          [
           "concerts",
           "Come into this session, to ground yourself and clear your mind. With singing bowls and ocean drum.",
           "9WVWaVMA3g2Ukhm4VJ9akd",
           "2B Stanley Street, Singapore, 068721, Singapore",
           [
            "concert",
            "event-group",
            "music",
            "religion"
           ],
           "GROUND YOURSELF, CLARITY OF MIND – SOUND BATH WITH SINGING BOWLS AND DRUMS",
           "Asia/Singapore",
           "event-group"
          ]
         ],
         3600,
         "2025-05-28T03:00:00Z",
         "2025-05-28T11:00:00",
         "2025-05-28T04:00:00Z",
         "2025-05-28T12:00:00",
         "2025-05-24T18:53:03Z",
         "2025-05-24T18:52:51Z",
         "Asia/Singapore",
         [
          [
           "phq_attendance",
           [
            [
             "2025-05-28",
             "event_day",
             169
            ]
           ],
           "accommodation"
          ],
          [
           "phq_attendance",
           [
            [
             "2025-05-28",
             "event_day",
             169
            ]
           ],
           "hospitality"
          ],
          [
           "phq_attendance",
           [
            [
             "2025-05-28",
             "event_day",
             169
            ]
           ],
           "retail"
          ]
         ],
         "locality",
         "SG",
         [
          [
           "6295630",
           "6255147",
           "1880251",
           "1880252"
          ]
         ],
         "active",
         true,
         false,
         3035.0,
         [
          0,
          2337,
          698
         ],
         null,
         null,
         null,
         null,
         103.847686,
         1.279795,
         "PredictHQ",
         "2025-05-26T11:10:48.769Z"
        ],
        [
         0.0,
         "HJwN8y3wdHrLSxCH9B",
         "HEAL FROM WITHIN: AFFIRMATIONS + TIBETAN SINGING BOWLS + OCEAN DRUM",
         "Sourced from predicthq.com - This practice allows you to reignite your own self-healing ability.",
         "concerts",
         35,
         44,
         179.0,
         [
          [
           null,
           null,
           "n92UGPhhPdTbU6Pijza2YB",
           "2B Stanley St, Singapore 068721",
           null,
           "SPACE2B",
           null,
           "venue"
          ],
          [
           "concerts",
           "This practice allows you to reignite your own self-healing ability.",
           "usY8XBHsRn9aetZetrMgdt",
           "2B Stanley Street, Singapore, 068721, Singapore",
           [
            "concert",
            "event-group",
            "health",
            "music"
           ],
           "HEAL FROM WITHIN: AFFIRMATIONS + TIBETAN SINGING BOWLS + OCEAN DRUM",
           "Asia/Singapore",
           "event-group"
          ]
         ],
         3600,
         "2025-05-27T12:00:00Z",
         "2025-05-27T20:00:00",
         "2025-05-27T13:00:00Z",
         "2025-05-27T21:00:00",
         "2025-05-22T13:30:44Z",
         "2025-05-22T13:29:22Z",
         "Asia/Singapore",
         [
          [
           "phq_attendance",
           [
            [
             "2025-05-27",
             "event_day",
             179
            ]
           ],
           "accommodation"
          ],
          [
           "phq_attendance",
           [
            [
             "2025-05-27",
             "event_day",
             179
            ]
           ],
           "hospitality"
          ],
          [
           "phq_attendance",
           [
            [
             "2025-05-27",
             "event_day",
             179
            ]
           ],
           "retail"
          ]
         ],
         "locality",
         "SG",
         [
          [
           "6295630",
           "6255147",
           "1880251",
           "1880252"
          ]
         ],
         "active",
         true,
         false,
         3215.0,
         [
          0,
          2475,
          740
         ],
         null,
         null,
         null,
         null,
         103.847686,
         1.279795,
         "PredictHQ",
         "2025-05-26T11:10:48.769Z"
        ],
        [
         0.0,
         "4fap8QjcxeNsybopy7",
         "How The Top 1% Of Leaders Manage Their Time Like Clockwork Using T5 System",
         "Sourced from predicthq.com - You will learn essential skills that will increase your productivity so you have more margin in your life and business.",
         "conferences",
         29,
         30,
         93.0,
         [],
         3600,
         "2025-05-27T11:00:00Z",
         "2025-05-27T19:00:00",
         "2025-05-27T12:00:00Z",
         "2025-05-27T20:00:00",
         "2025-05-08T02:01:14Z",
         "2025-05-08T02:00:43Z",
         "Asia/Singapore",
         [
          [
           "phq_attendance",
           [
            [
             "2025-05-27",
             "event_day",
             93
            ]
           ],
           "accommodation"
          ],
          [
           "phq_attendance",
           [
            [
             "2025-05-27",
             "event_day",
             93
            ]
           ],
           "hospitality"
          ],
          [
           "phq_attendance",
           [
            [
             "2025-05-27",
             "event_day",
             93
            ]
           ],
           "retail"
          ]
         ],
         "locality",
         "SG",
         [
          [
           "6295630",
           "6255147",
           "1880251",
           "1880469"
          ],
          [
           "6295630",
           "6255147",
           "1880251",
           "1880252"
          ]
         ],
         "active",
         true,
         false,
         1992.0,
         [
          0,
          1607,
          384
         ],
         [
          [
           "education-and-careers",
           1.0
          ]
         ],
         null,
         null,
         null,
         103.775964,
         1.441188,
         "PredictHQ",
         "2025-05-26T11:10:48.769Z"
        ]
       ],
       "datasetInfos": [],
       "dbfsResultPath": null,
       "isJsonSchema": true,
       "metadata": {},
       "overflow": false,
       "plotOptions": {
        "customPlotOptions": {},
        "displayType": "table",
        "pivotAggregation": null,
        "pivotColumns": null,
        "xColumns": null,
        "yColumns": null
       },
       "removedWidgets": [],
       "schema": [
        {
         "metadata": "{}",
         "name": "relevance",
         "type": "\"double\""
        },
        {
         "metadata": "{}",
         "name": "id",
         "type": "\"string\""
        },
        {
         "metadata": "{}",
         "name": "title",
         "type": "\"string\""
        },
        {
         "metadata": "{}",
         "name": "description",
         "type": "\"string\""
        },
        {
         "metadata": "{}",
         "name": "category",
         "type": "\"string\""
        },
        {
         "metadata": "{}",
         "name": "rank",
         "type": "\"long\""
        },
        {
         "metadata": "{}",
         "name": "local_rank",
         "type": "\"long\""
        },
        {
         "metadata": "{}",
         "name": "phq_attendance",
         "type": "\"double\""
        },
        {
         "metadata": "{}",
         "name": "entities",
         "type": "{\"containsNull\":true,\"elementType\":{\"fields\":[{\"metadata\":{},\"name\":\"category\",\"nullable\":true,\"type\":\"string\"},{\"metadata\":{},\"name\":\"description\",\"nullable\":true,\"type\":\"string\"},{\"metadata\":{},\"name\":\"entity_id\",\"nullable\":true,\"type\":\"string\"},{\"metadata\":{},\"name\":\"formatted_address\",\"nullable\":true,\"type\":\"string\"},{\"metadata\":{},\"name\":\"labels\",\"nullable\":true,\"type\":{\"containsNull\":true,\"elementType\":\"string\",\"type\":\"array\"}},{\"metadata\":{},\"name\":\"name\",\"nullable\":true,\"type\":\"string\"},{\"metadata\":{},\"name\":\"timezone\",\"nullable\":true,\"type\":\"string\"},{\"metadata\":{},\"name\":\"type\",\"nullable\":true,\"type\":\"string\"}],\"type\":\"struct\"},\"type\":\"array\"}"
        },
        {
         "metadata": "{}",
         "name": "duration",
         "type": "\"long\""
        },
        {
         "metadata": "{}",
         "name": "start",
         "type": "\"string\""
        },
        {
         "metadata": "{}",
         "name": "start_local",
         "type": "\"string\""
        },
        {
         "metadata": "{}",
         "name": "end",
         "type": "\"string\""
        },
        {
         "metadata": "{}",
         "name": "end_local",
         "type": "\"string\""
        },
        {
         "metadata": "{}",
         "name": "updated",
         "type": "\"string\""
        },
        {
         "metadata": "{}",
         "name": "first_seen",
         "type": "\"string\""
        },
        {
         "metadata": "{}",
         "name": "timezone",
         "type": "\"string\""
        },
        {
         "metadata": "{}",
         "name": "impact_patterns",
         "type": "{\"containsNull\":true,\"elementType\":{\"fields\":[{\"metadata\":{},\"name\":\"impact_type\",\"nullable\":true,\"type\":\"string\"},{\"metadata\":{},\"name\":\"impacts\",\"nullable\":true,\"type\":{\"containsNull\":true,\"elementType\":{\"fields\":[{\"metadata\":{},\"name\":\"date_local\",\"nullable\":true,\"type\":\"string\"},{\"metadata\":{},\"name\":\"position\",\"nullable\":true,\"type\":\"string\"},{\"metadata\":{},\"name\":\"value\",\"nullable\":true,\"type\":\"long\"}],\"type\":\"struct\"},\"type\":\"array\"}},{\"metadata\":{},\"name\":\"vertical\",\"nullable\":true,\"type\":\"string\"}],\"type\":\"struct\"},\"type\":\"array\"}"
        },
        {
         "metadata": "{}",
         "name": "scope",
         "type": "\"string\""
        },
        {
         "metadata": "{}",
         "name": "country",
         "type": "\"string\""
        },
        {
         "metadata": "{}",
         "name": "place_hierarchies",
         "type": "{\"containsNull\":true,\"elementType\":{\"containsNull\":true,\"elementType\":\"string\",\"type\":\"array\"},\"type\":\"array\"}"
        },
        {
         "metadata": "{}",
         "name": "state",
         "type": "\"string\""
        },
        {
         "metadata": "{}",
         "name": "brand_safe",
         "type": "\"boolean\""
        },
        {
         "metadata": "{}",
         "name": "private",
         "type": "\"boolean\""
        },
        {
         "metadata": "{}",
         "name": "predicted_event_spend",
         "type": "\"double\""
        },
        {
         "metadata": "{}",
         "name": "predicted_event_spend_industries",
         "type": "{\"fields\":[{\"metadata\":{},\"name\":\"accommodation\",\"nullable\":true,\"type\":\"long\"},{\"metadata\":{},\"name\":\"hospitality\",\"nullable\":true,\"type\":\"long\"},{\"metadata\":{},\"name\":\"transportation\",\"nullable\":true,\"type\":\"long\"}],\"type\":\"struct\"}"
        },
        {
         "metadata": "{}",
         "name": "phq_labels",
         "type": "{\"containsNull\":true,\"elementType\":{\"fields\":[{\"metadata\":{},\"name\":\"label\",\"nullable\":true,\"type\":\"string\"},{\"metadata\":{},\"name\":\"weight\",\"nullable\":true,\"type\":\"double\"}],\"type\":\"struct\"},\"type\":\"array\"}"
        },
        {
         "metadata": "{}",
         "name": "predicted_end",
         "type": "\"string\""
        },
        {
         "metadata": "{}",
         "name": "predicted_end_local",
         "type": "\"string\""
        },
        {
         "metadata": "{}",
         "name": "alternate_titles",
         "type": "{\"containsNull\":true,\"elementType\":\"string\",\"type\":\"array\"}"
        },
        {
         "metadata": "{}",
         "name": "lon",
         "type": "\"double\""
        },
        {
         "metadata": "{}",
         "name": "lat",
         "type": "\"double\""
        },
        {
         "metadata": "{}",
         "name": "source",
         "type": "\"string\""
        },
        {
         "metadata": "{}",
         "name": "ingestion_timestamp",
         "type": "\"timestamp\""
        }
       ],
       "type": "table"
      }
     },
     "output_type": "display_data"
    }
   ],
   "source": [
    "predict_hq2 = _sqldf\n",
    "display(predict_hq2)"
   ]
  },
  {
   "cell_type": "code",
   "execution_count": 0,
   "metadata": {
    "application/vnd.databricks.v1+cell": {
     "cellMetadata": {
      "byteLimit": 2048000,
      "rowLimit": 10000
     },
     "inputWidgets": {},
     "nuid": "cb842b6b-b153-4263-96d8-8794eb814b9f",
     "showTitle": false,
     "tableResultSettingsMap": {},
     "title": ""
    }
   },
   "outputs": [],
   "source": [
    "#copy predict_hq2 to combined_predict_hq_spark\n",
    "combined_predict_hq_spark = predict_hq2"
   ]
  },
  {
   "cell_type": "code",
   "execution_count": 0,
   "metadata": {
    "application/vnd.databricks.v1+cell": {
     "cellMetadata": {
      "byteLimit": 2048000,
      "rowLimit": 10000
     },
     "inputWidgets": {},
     "nuid": "bfb8b78b-ff28-49a1-8697-9cc59ba06855",
     "showTitle": false,
     "tableResultSettingsMap": {},
     "title": ""
    }
   },
   "outputs": [
    {
     "output_type": "display_data",
     "data": {
      "text/html": [
       "<style scoped>\n",
       "  .table-result-container {\n",
       "    max-height: 300px;\n",
       "    overflow: auto;\n",
       "  }\n",
       "  table, th, td {\n",
       "    border: 1px solid black;\n",
       "    border-collapse: collapse;\n",
       "  }\n",
       "  th, td {\n",
       "    padding: 5px;\n",
       "  }\n",
       "  th {\n",
       "    text-align: left;\n",
       "  }\n",
       "</style><div class='table-result-container'><table class='table-result'><thead style='background-color: white'><tr><th>relevance</th><th>id</th><th>title</th><th>description</th><th>category</th><th>rank</th><th>local_rank</th><th>phq_attendance</th><th>entities</th><th>duration</th><th>start</th><th>start_local</th><th>end</th><th>end_local</th><th>updated</th><th>first_seen</th><th>timezone</th><th>impact_patterns</th><th>scope</th><th>country</th><th>place_hierarchies</th><th>state</th><th>brand_safe</th><th>private</th><th>predicted_event_spend</th><th>predicted_event_spend_industries</th><th>phq_labels</th><th>predicted_end</th><th>predicted_end_local</th><th>alternate_titles</th><th>lon</th><th>lat</th><th>source</th><th>ingestion_timestamp</th><th>date_only</th></tr></thead><tbody><tr><td>0.0</td><td>EcrqqgZe5zeDnVdZTd</td><td>Tell Me a JazzTime Story by Eric Lee Trio</td><td>Sourced from predicthq.com - Maduro presents Eric Lee Trio on this unforgettably fun evening of timeless jazz tales that tell stories of mischief, memories and more</td><td>concerts</td><td>40</td><td>47</td><td>330.0</td><td>List()</td><td>10800</td><td>2025-05-31T12:30:00Z</td><td>2025-05-31T20:30:00</td><td>2025-05-31T15:30:00Z</td><td>2025-05-31T23:30:00</td><td>2025-05-01T08:28:42Z</td><td>2025-05-01T07:37:08Z</td><td>Asia/Singapore</td><td>List(List(phq_attendance, List(List(2025-05-31, event_day, 330)), accommodation), List(phq_attendance, List(List(2025-05-31, event_day, 330)), hospitality), List(phq_attendance, List(List(2025-05-31, event_day, 330)), retail))</td><td>locality</td><td>SG</td><td>List(List(6295630, 6255147, 1880251, 7289766), List(6295630, 6255147, 1880251, 1880252))</td><td>active</td><td>true</td><td>false</td><td>5927.0</td><td>List(0, 4563, 1364)</td><td>List(List(jazz-and-classical, 1.0))</td><td>null</td><td>null</td><td>null</td><td>103.8278754</td><td>1.2456916</td><td>PredictHQ</td><td>2025-05-26T11:10:48.769Z</td><td>2025-05-31</td></tr><tr><td>0.0</td><td>Rotet8Eazj4kjQaHJa</td><td>NuHarmony Choir Presents: From Screen to Stage</td><td>Sourced from predicthq.com - Join us for \"NuHarmony Choir Presents: From Screen to Stage\" where we bring your favorite movie and musical soundtracks to life!</td><td>performing-arts</td><td>37</td><td>43</td><td>223.0</td><td>List()</td><td>12600</td><td>2025-05-31T11:30:00Z</td><td>2025-05-31T19:30:00</td><td>2025-05-31T15:00:00Z</td><td>2025-05-31T23:00:00</td><td>2025-04-03T07:22:33Z</td><td>2025-04-03T07:22:00Z</td><td>Asia/Singapore</td><td>List(List(phq_attendance, List(List(2025-05-31, event_day, 223)), accommodation), List(phq_attendance, List(List(2025-05-31, event_day, 223)), hospitality), List(phq_attendance, List(List(2025-05-31, event_day, 223)), retail))</td><td>locality</td><td>SG</td><td>List(List(6295630, 6255147, 1880251, 7281987), List(6295630, 6255147, 1880251, 1880252))</td><td>active</td><td>true</td><td>false</td><td>4005.0</td><td>List(0, 3083, 922)</td><td>List(List(general-theatre, 0.36), List(concert, 0.341), List(movie, 0.299))</td><td>null</td><td>null</td><td>null</td><td>103.8410082</td><td>1.3337256</td><td>PredictHQ</td><td>2025-05-26T11:10:48.769Z</td><td>2025-05-31</td></tr><tr><td>0.0</td><td>93WGY5RrwzT3ernqB2</td><td>INDULGE IN REST: CRYSTAL BOWLS + CHIMES SOUND HEALING</td><td>Sourced from predicthq.com - Amidst the fast-paced nature of today’s world, finding time for rest has peculiarly transformed into a form of luxury.</td><td>concerts</td><td>35</td><td>44</td><td>179.0</td><td>List(List(null, null, n92UGPhhPdTbU6Pijza2YB, 2B Stanley St, Singapore 068721, null, SPACE2B, null, venue), List(concerts, Amidst the fast-paced nature of today’s world, finding time for rest has peculiarly transformed into a form of luxury., 4j8Zam8BqsmF5rxK4b5H9D, 2B Stanley Street, Singapore, 068721, Singapore, List(concert, event-group, music, religion), INDULGE IN REST: CRYSTAL BOWLS + CHIMES SOUND HEALING, Asia/Singapore, event-group))</td><td>3600</td><td>2025-05-31T09:00:00Z</td><td>2025-05-31T17:00:00</td><td>2025-05-31T10:00:00Z</td><td>2025-05-31T18:00:00</td><td>2025-05-24T16:37:23Z</td><td>2025-05-24T16:31:13Z</td><td>Asia/Singapore</td><td>List(List(phq_attendance, List(List(2025-05-31, event_day, 179)), accommodation), List(phq_attendance, List(List(2025-05-31, event_day, 179)), hospitality), List(phq_attendance, List(List(2025-05-31, event_day, 179)), retail))</td><td>locality</td><td>SG</td><td>List(List(6295630, 6255147, 1880251, 1880252))</td><td>active</td><td>true</td><td>false</td><td>3215.0</td><td>List(0, 2475, 740)</td><td>null</td><td>null</td><td>null</td><td>null</td><td>103.847686</td><td>1.279795</td><td>PredictHQ</td><td>2025-05-26T11:10:48.769Z</td><td>2025-05-31</td></tr><tr><td>0.0</td><td>Bni4AgkSe5vPJcWavq</td><td>SELF-LOVE AND GRATITUDE SOUND BATH</td><td>Sourced from predicthq.com - Come join us for a relaxing sound bath to cultivate self-love and gratitude!</td><td>concerts</td><td>35</td><td>44</td><td>169.0</td><td>List(List(null, null, n92UGPhhPdTbU6Pijza2YB, 2B Stanley St, Singapore 068721, null, SPACE2B, null, venue), List(concerts, Come join us for a relaxing sound bath to cultivate self-love and gratitude!, 8avefdQEGS4NAdHeqSe52z, 2B Stanley Street, Singapore, 068721, Singapore, List(concert, event-group, music, religion), SELF-LOVE AND GRATITUDE SOUND BATH, Asia/Singapore, event-group))</td><td>3600</td><td>2025-05-31T07:30:00Z</td><td>2025-05-31T15:30:00</td><td>2025-05-31T08:30:00Z</td><td>2025-05-31T16:30:00</td><td>2025-05-24T16:37:31Z</td><td>2025-05-24T16:30:36Z</td><td>Asia/Singapore</td><td>List(List(phq_attendance, List(List(2025-05-31, event_day, 169)), accommodation), List(phq_attendance, List(List(2025-05-31, event_day, 169)), hospitality), List(phq_attendance, List(List(2025-05-31, event_day, 169)), retail))</td><td>locality</td><td>SG</td><td>List(List(6295630, 6255147, 1880251, 1880252))</td><td>active</td><td>true</td><td>false</td><td>3035.0</td><td>List(0, 2337, 698)</td><td>null</td><td>null</td><td>null</td><td>null</td><td>103.847686</td><td>1.279795</td><td>PredictHQ</td><td>2025-05-26T11:10:48.769Z</td><td>2025-05-31</td></tr><tr><td>0.0</td><td>7hod4fxkNieSedsEhk</td><td>EQ Café - Authenticity: Tapping into what’s real</td><td>Sourced from predicthq.com - EQ Cafés are interactive, informal workshops created by Six Seconds, the global nonprofit supporting a more emotionally intelligent world.</td><td>conferences</td><td>29</td><td>30</td><td>85.0</td><td>List(List(null, null, 3BvyGZbZB9Nj8KYQKq3hDgv, 30A Yishun Central 1, Singapore 768796, null, Tzu Chi Humanistic Youth Centre, null, venue))</td><td>5400</td><td>2025-05-31T06:00:00Z</td><td>2025-05-31T14:00:00</td><td>2025-05-31T07:30:00Z</td><td>2025-05-31T15:30:00</td><td>2025-04-17T02:14:35Z</td><td>2025-04-17T01:56:56Z</td><td>Asia/Singapore</td><td>List(List(phq_attendance, List(List(2025-05-31, event_day, 85)), accommodation), List(phq_attendance, List(List(2025-05-31, event_day, 85)), hospitality), List(phq_attendance, List(List(2025-05-31, event_day, 85)), retail))</td><td>locality</td><td>SG</td><td>List(List(6295630, 6255147, 1880251, 1882155), List(6295630, 6255147, 1880251, 1880252))</td><td>active</td><td>true</td><td>false</td><td>1820.0</td><td>List(0, 1469, 351)</td><td>List(List(education-and-careers, 0.439), List(lifestyle, 0.299), List(art-and-cultural, 0.262))</td><td>null</td><td>null</td><td>null</td><td>103.8383565</td><td>1.4266024</td><td>PredictHQ</td><td>2025-05-26T11:10:48.769Z</td><td>2025-05-31</td></tr><tr><td>0.0</td><td>9LcjXLT8iwEwhEjMPR</td><td>CHAKRA HARMONY: A SOUND JOURNEY FOR WELL-BEING AND BALANCE</td><td>Sourced from predicthq.com - Unlock the flow of energy and restore harmony within your body through a powerful chakra balancing session.</td><td>concerts</td><td>35</td><td>44</td><td>179.0</td><td>List(List(null, null, n92UGPhhPdTbU6Pijza2YB, 2B Stanley St, Singapore 068721, null, SPACE2B, null, venue), List(concerts, Unlock the flow of energy and restore harmony within your body through a powerful chakra balancing session., 3BDfvS3iPjq7kAz7pb9VKkN, 2B Stanley Street, Singapore, 068721, Singapore, List(concert, event-group, music, religion), CHAKRA HARMONY: A SOUND JOURNEY FOR WELL-BEING AND BALANCE, Asia/Singapore, event-group))</td><td>3600</td><td>2025-05-31T06:00:00Z</td><td>2025-05-31T14:00:00</td><td>2025-05-31T07:00:00Z</td><td>2025-05-31T15:00:00</td><td>2025-05-24T16:37:08Z</td><td>2025-05-24T16:31:13Z</td><td>Asia/Singapore</td><td>List(List(phq_attendance, List(List(2025-05-31, event_day, 179)), accommodation), List(phq_attendance, List(List(2025-05-31, event_day, 179)), hospitality), List(phq_attendance, List(List(2025-05-31, event_day, 179)), retail))</td><td>locality</td><td>SG</td><td>List(List(6295630, 6255147, 1880251, 1880252))</td><td>active</td><td>true</td><td>false</td><td>3215.0</td><td>List(0, 2475, 740)</td><td>null</td><td>null</td><td>null</td><td>null</td><td>103.847686</td><td>1.279795</td><td>PredictHQ</td><td>2025-05-26T11:10:48.769Z</td><td>2025-05-31</td></tr><tr><td>0.0</td><td>EoHgPFsTcxA3Nossp9</td><td>UNDER THE STARS PLANET SOUND HEALING</td><td>Sourced from predicthq.com - Imagine lying down under the stars while tuning into Crystal bowls vibrations and planetary energies..</td><td>concerts</td><td>35</td><td>44</td><td>169.0</td><td>List(List(null, null, n92UGPhhPdTbU6Pijza2YB, 2B Stanley St, Singapore 068721, null, SPACE2B, null, venue), List(concerts, Imagine lying down under the stars while tuning into Crystal bowls vibrations and planetary energies.., sTg7XVvupW54xFXUzr8q65, 2B Stanley Street, Singapore, 068721, Singapore, List(concert, event-group, health, music), UNDER THE STARS PLANET SOUND HEALING, Asia/Singapore, event-group))</td><td>3600</td><td>2025-05-28T12:00:00Z</td><td>2025-05-28T20:00:00</td><td>2025-05-28T13:00:00Z</td><td>2025-05-28T21:00:00</td><td>2025-05-22T04:25:56Z</td><td>2025-05-22T04:25:40Z</td><td>Asia/Singapore</td><td>List(List(phq_attendance, List(List(2025-05-28, event_day, 169)), accommodation), List(phq_attendance, List(List(2025-05-28, event_day, 169)), hospitality), List(phq_attendance, List(List(2025-05-28, event_day, 169)), retail))</td><td>locality</td><td>SG</td><td>List(List(6295630, 6255147, 1880251, 1880252))</td><td>active</td><td>true</td><td>false</td><td>3035.0</td><td>List(0, 2337, 698)</td><td>null</td><td>null</td><td>null</td><td>null</td><td>103.847686</td><td>1.279795</td><td>PredictHQ</td><td>2025-05-26T11:10:48.769Z</td><td>2025-05-28</td></tr><tr><td>0.0</td><td>4EuSRkm5D7V9MXSauE</td><td>LEMURIAN CRYSTAL TEMPLE- SACRED LIGHT & LOVE CRYSTAL SOUND HEALING</td><td>Sourced from predicthq.com - Lemurian Crystal Bowls connect us to the ancient world of Lemuria, where a wealth of knowledge has been preserved since the dawn of time.</td><td>concerts</td><td>39</td><td>48</td><td>272.0</td><td>List(List(null, null, n92UGPhhPdTbU6Pijza2YB, 2B Stanley St, Singapore 068721, null, SPACE2B, null, venue), List(concerts, Lemurian Crystal Bowls connect us to the ancient world of Lemuria, where a wealth of knowledge has been preserved since the dawn of time., HKr7sAsCEW6yZtBfizbgid, 2B Stanley Street, Singapore, 068721, Singapore, List(concert, event-group, music, religion), LEMURIAN CRYSTAL TEMPLE- SACRED LIGHT & LOVE CRYSTAL SOUND HEALING, Asia/Singapore, event-group))</td><td>3600</td><td>2025-05-28T10:30:00Z</td><td>2025-05-28T18:30:00</td><td>2025-05-28T11:30:00Z</td><td>2025-05-28T19:30:00</td><td>2025-05-15T03:19:42Z</td><td>2025-05-15T03:10:35Z</td><td>Asia/Singapore</td><td>List(List(phq_attendance, List(List(2025-05-28, event_day, 272)), accommodation), List(phq_attendance, List(List(2025-05-28, event_day, 272)), hospitality), List(phq_attendance, List(List(2025-05-28, event_day, 272)), retail))</td><td>locality</td><td>SG</td><td>List(List(6295630, 6255147, 1880251, 1880252))</td><td>active</td><td>true</td><td>false</td><td>4886.0</td><td>List(0, 3761, 1124)</td><td>null</td><td>null</td><td>null</td><td>null</td><td>103.847686</td><td>1.279795</td><td>PredictHQ</td><td>2025-05-26T11:10:48.769Z</td><td>2025-05-28</td></tr><tr><td>0.0</td><td>AJmyqco9BGwEedMVCj</td><td>Cosmic Resonance Gong Bath</td><td>Sourced from predicthq.com - Immerse yourself in an extraordinary sonic experience that resonates with the rhythm of the universe.</td><td>concerts</td><td>35</td><td>44</td><td>179.0</td><td>List(List(null, null, n92UGPhhPdTbU6Pijza2YB, 2B Stanley St, Singapore 068721, null, SPACE2B, null, venue), List(concerts, Immerse yourself in an extraordinary sonic experience that resonates with the rhythm of the universe., aCLzhNijzhE36Gt3jrc7q5, 2B Stanley Street, Singapore, 068721, Singapore, List(concert, event-group, music, religion), Cosmic Resonance Gong Bath, Asia/Singapore, event-group))</td><td>3600</td><td>2025-05-28T06:00:00Z</td><td>2025-05-28T14:00:00</td><td>2025-05-28T07:00:00Z</td><td>2025-05-28T15:00:00</td><td>2025-05-22T04:33:23Z</td><td>2025-05-22T04:31:40Z</td><td>Asia/Singapore</td><td>List(List(phq_attendance, List(List(2025-05-28, event_day, 179)), accommodation), List(phq_attendance, List(List(2025-05-28, event_day, 179)), hospitality), List(phq_attendance, List(List(2025-05-28, event_day, 179)), retail))</td><td>locality</td><td>SG</td><td>List(List(6295630, 6255147, 1880251, 1880252))</td><td>active</td><td>true</td><td>false</td><td>3215.0</td><td>List(0, 2475, 740)</td><td>null</td><td>null</td><td>null</td><td>null</td><td>103.847686</td><td>1.279795</td><td>PredictHQ</td><td>2025-05-26T11:10:48.769Z</td><td>2025-05-28</td></tr><tr><td>0.0</td><td>8FA5uhzup5rubwA9K9</td><td>Coming Home to Yourself with Tibetan Singing Bowls</td><td>Sourced from predicthq.com - Embark on a transformative sound healing session with Tibetan Singing bowls</td><td>concerts</td><td>35</td><td>44</td><td>169.0</td><td>List(List(null, null, n92UGPhhPdTbU6Pijza2YB, 2B Stanley St, Singapore 068721, null, SPACE2B, null, venue), List(concerts, Embark on a transformative sound healing session with Tibetan Singing bowls, bQ3vFD5Tn7T9yvHWTPfgy5, 2B Stanley Street, Singapore, 068721, Singapore, List(concert, event-group, music, religion), Coming Home to Yourself with Tibetan Singing Bowls, Asia/Singapore, event-group))</td><td>3600</td><td>2025-05-28T04:30:00Z</td><td>2025-05-28T12:30:00</td><td>2025-05-28T05:30:00Z</td><td>2025-05-28T13:30:00</td><td>2025-05-24T18:53:03Z</td><td>2025-05-24T18:52:51Z</td><td>Asia/Singapore</td><td>List(List(phq_attendance, List(List(2025-05-28, event_day, 169)), accommodation), List(phq_attendance, List(List(2025-05-28, event_day, 169)), hospitality), List(phq_attendance, List(List(2025-05-28, event_day, 169)), retail))</td><td>locality</td><td>SG</td><td>List(List(6295630, 6255147, 1880251, 1880252))</td><td>active</td><td>true</td><td>false</td><td>3035.0</td><td>List(0, 2337, 698)</td><td>null</td><td>null</td><td>null</td><td>null</td><td>103.847686</td><td>1.279795</td><td>PredictHQ</td><td>2025-05-26T11:10:48.769Z</td><td>2025-05-28</td></tr><tr><td>0.0</td><td>Gijny6ikbFbum6YzPA</td><td>GROUND YOURSELF, CLARITY OF MIND – SOUND BATH WITH SINGING BOWLS AND DRUMS</td><td>Sourced from predicthq.com - Come into this session, to ground yourself and clear your mind. With singing bowls and ocean drum.</td><td>concerts</td><td>35</td><td>44</td><td>169.0</td><td>List(List(null, null, n92UGPhhPdTbU6Pijza2YB, 2B Stanley St, Singapore 068721, null, SPACE2B, null, venue), List(concerts, Come into this session, to ground yourself and clear your mind. With singing bowls and ocean drum., 9WVWaVMA3g2Ukhm4VJ9akd, 2B Stanley Street, Singapore, 068721, Singapore, List(concert, event-group, music, religion), GROUND YOURSELF, CLARITY OF MIND – SOUND BATH WITH SINGING BOWLS AND DRUMS, Asia/Singapore, event-group))</td><td>3600</td><td>2025-05-28T03:00:00Z</td><td>2025-05-28T11:00:00</td><td>2025-05-28T04:00:00Z</td><td>2025-05-28T12:00:00</td><td>2025-05-24T18:53:03Z</td><td>2025-05-24T18:52:51Z</td><td>Asia/Singapore</td><td>List(List(phq_attendance, List(List(2025-05-28, event_day, 169)), accommodation), List(phq_attendance, List(List(2025-05-28, event_day, 169)), hospitality), List(phq_attendance, List(List(2025-05-28, event_day, 169)), retail))</td><td>locality</td><td>SG</td><td>List(List(6295630, 6255147, 1880251, 1880252))</td><td>active</td><td>true</td><td>false</td><td>3035.0</td><td>List(0, 2337, 698)</td><td>null</td><td>null</td><td>null</td><td>null</td><td>103.847686</td><td>1.279795</td><td>PredictHQ</td><td>2025-05-26T11:10:48.769Z</td><td>2025-05-28</td></tr><tr><td>0.0</td><td>HJwN8y3wdHrLSxCH9B</td><td>HEAL FROM WITHIN: AFFIRMATIONS + TIBETAN SINGING BOWLS + OCEAN DRUM</td><td>Sourced from predicthq.com - This practice allows you to reignite your own self-healing ability.</td><td>concerts</td><td>35</td><td>44</td><td>179.0</td><td>List(List(null, null, n92UGPhhPdTbU6Pijza2YB, 2B Stanley St, Singapore 068721, null, SPACE2B, null, venue), List(concerts, This practice allows you to reignite your own self-healing ability., usY8XBHsRn9aetZetrMgdt, 2B Stanley Street, Singapore, 068721, Singapore, List(concert, event-group, health, music), HEAL FROM WITHIN: AFFIRMATIONS + TIBETAN SINGING BOWLS + OCEAN DRUM, Asia/Singapore, event-group))</td><td>3600</td><td>2025-05-27T12:00:00Z</td><td>2025-05-27T20:00:00</td><td>2025-05-27T13:00:00Z</td><td>2025-05-27T21:00:00</td><td>2025-05-22T13:30:44Z</td><td>2025-05-22T13:29:22Z</td><td>Asia/Singapore</td><td>List(List(phq_attendance, List(List(2025-05-27, event_day, 179)), accommodation), List(phq_attendance, List(List(2025-05-27, event_day, 179)), hospitality), List(phq_attendance, List(List(2025-05-27, event_day, 179)), retail))</td><td>locality</td><td>SG</td><td>List(List(6295630, 6255147, 1880251, 1880252))</td><td>active</td><td>true</td><td>false</td><td>3215.0</td><td>List(0, 2475, 740)</td><td>null</td><td>null</td><td>null</td><td>null</td><td>103.847686</td><td>1.279795</td><td>PredictHQ</td><td>2025-05-26T11:10:48.769Z</td><td>2025-05-27</td></tr><tr><td>0.0</td><td>4fap8QjcxeNsybopy7</td><td>How The Top 1% Of Leaders Manage Their Time Like Clockwork Using T5 System</td><td>Sourced from predicthq.com - You will learn essential skills that will increase your productivity so you have more margin in your life and business.</td><td>conferences</td><td>29</td><td>30</td><td>93.0</td><td>List()</td><td>3600</td><td>2025-05-27T11:00:00Z</td><td>2025-05-27T19:00:00</td><td>2025-05-27T12:00:00Z</td><td>2025-05-27T20:00:00</td><td>2025-05-08T02:01:14Z</td><td>2025-05-08T02:00:43Z</td><td>Asia/Singapore</td><td>List(List(phq_attendance, List(List(2025-05-27, event_day, 93)), accommodation), List(phq_attendance, List(List(2025-05-27, event_day, 93)), hospitality), List(phq_attendance, List(List(2025-05-27, event_day, 93)), retail))</td><td>locality</td><td>SG</td><td>List(List(6295630, 6255147, 1880251, 1880469), List(6295630, 6255147, 1880251, 1880252))</td><td>active</td><td>true</td><td>false</td><td>1992.0</td><td>List(0, 1607, 384)</td><td>List(List(education-and-careers, 1.0))</td><td>null</td><td>null</td><td>null</td><td>103.775964</td><td>1.441188</td><td>PredictHQ</td><td>2025-05-26T11:10:48.769Z</td><td>2025-05-27</td></tr></tbody></table></div>"
      ]
     },
     "metadata": {
      "application/vnd.databricks.v1+output": {
       "addedWidgets": {},
       "aggData": [],
       "aggError": "",
       "aggOverflow": false,
       "aggSchema": [],
       "aggSeriesLimitReached": false,
       "aggType": "",
       "arguments": {},
       "columnCustomDisplayInfos": {},
       "data": [
        [
         0.0,
         "EcrqqgZe5zeDnVdZTd",
         "Tell Me a JazzTime Story by Eric Lee Trio",
         "Sourced from predicthq.com - Maduro presents Eric Lee Trio on this unforgettably fun evening of timeless jazz tales that tell stories of mischief, memories and more",
         "concerts",
         40,
         47,
         330.0,
         [],
         10800,
         "2025-05-31T12:30:00Z",
         "2025-05-31T20:30:00",
         "2025-05-31T15:30:00Z",
         "2025-05-31T23:30:00",
         "2025-05-01T08:28:42Z",
         "2025-05-01T07:37:08Z",
         "Asia/Singapore",
         [
          [
           "phq_attendance",
           [
            [
             "2025-05-31",
             "event_day",
             330
            ]
           ],
           "accommodation"
          ],
          [
           "phq_attendance",
           [
            [
             "2025-05-31",
             "event_day",
             330
            ]
           ],
           "hospitality"
          ],
          [
           "phq_attendance",
           [
            [
             "2025-05-31",
             "event_day",
             330
            ]
           ],
           "retail"
          ]
         ],
         "locality",
         "SG",
         [
          [
           "6295630",
           "6255147",
           "1880251",
           "7289766"
          ],
          [
           "6295630",
           "6255147",
           "1880251",
           "1880252"
          ]
         ],
         "active",
         true,
         false,
         5927.0,
         [
          0,
          4563,
          1364
         ],
         [
          [
           "jazz-and-classical",
           1.0
          ]
         ],
         null,
         null,
         null,
         103.8278754,
         1.2456916,
         "PredictHQ",
         "2025-05-26T11:10:48.769Z",
         "2025-05-31"
        ],
        [
         0.0,
         "Rotet8Eazj4kjQaHJa",
         "NuHarmony Choir Presents: From Screen to Stage",
         "Sourced from predicthq.com - Join us for \"NuHarmony Choir Presents: From Screen to Stage\" where we bring your favorite movie and musical soundtracks to life!",
         "performing-arts",
         37,
         43,
         223.0,
         [],
         12600,
         "2025-05-31T11:30:00Z",
         "2025-05-31T19:30:00",
         "2025-05-31T15:00:00Z",
         "2025-05-31T23:00:00",
         "2025-04-03T07:22:33Z",
         "2025-04-03T07:22:00Z",
         "Asia/Singapore",
         [
          [
           "phq_attendance",
           [
            [
             "2025-05-31",
             "event_day",
             223
            ]
           ],
           "accommodation"
          ],
          [
           "phq_attendance",
           [
            [
             "2025-05-31",
             "event_day",
             223
            ]
           ],
           "hospitality"
          ],
          [
           "phq_attendance",
           [
            [
             "2025-05-31",
             "event_day",
             223
            ]
           ],
           "retail"
          ]
         ],
         "locality",
         "SG",
         [
          [
           "6295630",
           "6255147",
           "1880251",
           "7281987"
          ],
          [
           "6295630",
           "6255147",
           "1880251",
           "1880252"
          ]
         ],
         "active",
         true,
         false,
         4005.0,
         [
          0,
          3083,
          922
         ],
         [
          [
           "general-theatre",
           0.36
          ],
          [
           "concert",
           0.341
          ],
          [
           "movie",
           0.299
          ]
         ],
         null,
         null,
         null,
         103.8410082,
         1.3337256,
         "PredictHQ",
         "2025-05-26T11:10:48.769Z",
         "2025-05-31"
        ],
        [
         0.0,
         "93WGY5RrwzT3ernqB2",
         "INDULGE IN REST: CRYSTAL BOWLS + CHIMES SOUND HEALING",
         "Sourced from predicthq.com - Amidst the fast-paced nature of today’s world, finding time for rest has peculiarly transformed into a form of luxury.",
         "concerts",
         35,
         44,
         179.0,
         [
          [
           null,
           null,
           "n92UGPhhPdTbU6Pijza2YB",
           "2B Stanley St, Singapore 068721",
           null,
           "SPACE2B",
           null,
           "venue"
          ],
          [
           "concerts",
           "Amidst the fast-paced nature of today’s world, finding time for rest has peculiarly transformed into a form of luxury.",
           "4j8Zam8BqsmF5rxK4b5H9D",
           "2B Stanley Street, Singapore, 068721, Singapore",
           [
            "concert",
            "event-group",
            "music",
            "religion"
           ],
           "INDULGE IN REST: CRYSTAL BOWLS + CHIMES SOUND HEALING",
           "Asia/Singapore",
           "event-group"
          ]
         ],
         3600,
         "2025-05-31T09:00:00Z",
         "2025-05-31T17:00:00",
         "2025-05-31T10:00:00Z",
         "2025-05-31T18:00:00",
         "2025-05-24T16:37:23Z",
         "2025-05-24T16:31:13Z",
         "Asia/Singapore",
         [
          [
           "phq_attendance",
           [
            [
             "2025-05-31",
             "event_day",
             179
            ]
           ],
           "accommodation"
          ],
          [
           "phq_attendance",
           [
            [
             "2025-05-31",
             "event_day",
             179
            ]
           ],
           "hospitality"
          ],
          [
           "phq_attendance",
           [
            [
             "2025-05-31",
             "event_day",
             179
            ]
           ],
           "retail"
          ]
         ],
         "locality",
         "SG",
         [
          [
           "6295630",
           "6255147",
           "1880251",
           "1880252"
          ]
         ],
         "active",
         true,
         false,
         3215.0,
         [
          0,
          2475,
          740
         ],
         null,
         null,
         null,
         null,
         103.847686,
         1.279795,
         "PredictHQ",
         "2025-05-26T11:10:48.769Z",
         "2025-05-31"
        ],
        [
         0.0,
         "Bni4AgkSe5vPJcWavq",
         "SELF-LOVE AND GRATITUDE SOUND BATH",
         "Sourced from predicthq.com - Come join us for a relaxing sound bath to cultivate self-love and gratitude!",
         "concerts",
         35,
         44,
         169.0,
         [
          [
           null,
           null,
           "n92UGPhhPdTbU6Pijza2YB",
           "2B Stanley St, Singapore 068721",
           null,
           "SPACE2B",
           null,
           "venue"
          ],
          [
           "concerts",
           "Come join us for a relaxing sound bath to cultivate self-love and gratitude!",
           "8avefdQEGS4NAdHeqSe52z",
           "2B Stanley Street, Singapore, 068721, Singapore",
           [
            "concert",
            "event-group",
            "music",
            "religion"
           ],
           "SELF-LOVE AND GRATITUDE SOUND BATH",
           "Asia/Singapore",
           "event-group"
          ]
         ],
         3600,
         "2025-05-31T07:30:00Z",
         "2025-05-31T15:30:00",
         "2025-05-31T08:30:00Z",
         "2025-05-31T16:30:00",
         "2025-05-24T16:37:31Z",
         "2025-05-24T16:30:36Z",
         "Asia/Singapore",
         [
          [
           "phq_attendance",
           [
            [
             "2025-05-31",
             "event_day",
             169
            ]
           ],
           "accommodation"
          ],
          [
           "phq_attendance",
           [
            [
             "2025-05-31",
             "event_day",
             169
            ]
           ],
           "hospitality"
          ],
          [
           "phq_attendance",
           [
            [
             "2025-05-31",
             "event_day",
             169
            ]
           ],
           "retail"
          ]
         ],
         "locality",
         "SG",
         [
          [
           "6295630",
           "6255147",
           "1880251",
           "1880252"
          ]
         ],
         "active",
         true,
         false,
         3035.0,
         [
          0,
          2337,
          698
         ],
         null,
         null,
         null,
         null,
         103.847686,
         1.279795,
         "PredictHQ",
         "2025-05-26T11:10:48.769Z",
         "2025-05-31"
        ],
        [
         0.0,
         "7hod4fxkNieSedsEhk",
         "EQ Café - Authenticity: Tapping into what’s real",
         "Sourced from predicthq.com - EQ Cafés are interactive, informal workshops created by Six Seconds, the global nonprofit supporting a more emotionally intelligent world.",
         "conferences",
         29,
         30,
         85.0,
         [
          [
           null,
           null,
           "3BvyGZbZB9Nj8KYQKq3hDgv",
           "30A Yishun Central 1, Singapore 768796",
           null,
           "Tzu Chi Humanistic Youth Centre",
           null,
           "venue"
          ]
         ],
         5400,
         "2025-05-31T06:00:00Z",
         "2025-05-31T14:00:00",
         "2025-05-31T07:30:00Z",
         "2025-05-31T15:30:00",
         "2025-04-17T02:14:35Z",
         "2025-04-17T01:56:56Z",
         "Asia/Singapore",
         [
          [
           "phq_attendance",
           [
            [
             "2025-05-31",
             "event_day",
             85
            ]
           ],
           "accommodation"
          ],
          [
           "phq_attendance",
           [
            [
             "2025-05-31",
             "event_day",
             85
            ]
           ],
           "hospitality"
          ],
          [
           "phq_attendance",
           [
            [
             "2025-05-31",
             "event_day",
             85
            ]
           ],
           "retail"
          ]
         ],
         "locality",
         "SG",
         [
          [
           "6295630",
           "6255147",
           "1880251",
           "1882155"
          ],
          [
           "6295630",
           "6255147",
           "1880251",
           "1880252"
          ]
         ],
         "active",
         true,
         false,
         1820.0,
         [
          0,
          1469,
          351
         ],
         [
          [
           "education-and-careers",
           0.439
          ],
          [
           "lifestyle",
           0.299
          ],
          [
           "art-and-cultural",
           0.262
          ]
         ],
         null,
         null,
         null,
         103.8383565,
         1.4266024,
         "PredictHQ",
         "2025-05-26T11:10:48.769Z",
         "2025-05-31"
        ],
        [
         0.0,
         "9LcjXLT8iwEwhEjMPR",
         "CHAKRA HARMONY: A SOUND JOURNEY FOR WELL-BEING AND BALANCE",
         "Sourced from predicthq.com - Unlock the flow of energy and restore harmony within your body through a powerful chakra balancing session.",
         "concerts",
         35,
         44,
         179.0,
         [
          [
           null,
           null,
           "n92UGPhhPdTbU6Pijza2YB",
           "2B Stanley St, Singapore 068721",
           null,
           "SPACE2B",
           null,
           "venue"
          ],
          [
           "concerts",
           "Unlock the flow of energy and restore harmony within your body through a powerful chakra balancing session.",
           "3BDfvS3iPjq7kAz7pb9VKkN",
           "2B Stanley Street, Singapore, 068721, Singapore",
           [
            "concert",
            "event-group",
            "music",
            "religion"
           ],
           "CHAKRA HARMONY: A SOUND JOURNEY FOR WELL-BEING AND BALANCE",
           "Asia/Singapore",
           "event-group"
          ]
         ],
         3600,
         "2025-05-31T06:00:00Z",
         "2025-05-31T14:00:00",
         "2025-05-31T07:00:00Z",
         "2025-05-31T15:00:00",
         "2025-05-24T16:37:08Z",
         "2025-05-24T16:31:13Z",
         "Asia/Singapore",
         [
          [
           "phq_attendance",
           [
            [
             "2025-05-31",
             "event_day",
             179
            ]
           ],
           "accommodation"
          ],
          [
           "phq_attendance",
           [
            [
             "2025-05-31",
             "event_day",
             179
            ]
           ],
           "hospitality"
          ],
          [
           "phq_attendance",
           [
            [
             "2025-05-31",
             "event_day",
             179
            ]
           ],
           "retail"
          ]
         ],
         "locality",
         "SG",
         [
          [
           "6295630",
           "6255147",
           "1880251",
           "1880252"
          ]
         ],
         "active",
         true,
         false,
         3215.0,
         [
          0,
          2475,
          740
         ],
         null,
         null,
         null,
         null,
         103.847686,
         1.279795,
         "PredictHQ",
         "2025-05-26T11:10:48.769Z",
         "2025-05-31"
        ],
        [
         0.0,
         "EoHgPFsTcxA3Nossp9",
         "UNDER THE STARS PLANET SOUND HEALING",
         "Sourced from predicthq.com - Imagine lying down under the stars while tuning into Crystal bowls vibrations and planetary energies..",
         "concerts",
         35,
         44,
         169.0,
         [
          [
           null,
           null,
           "n92UGPhhPdTbU6Pijza2YB",
           "2B Stanley St, Singapore 068721",
           null,
           "SPACE2B",
           null,
           "venue"
          ],
          [
           "concerts",
           "Imagine lying down under the stars while tuning into Crystal bowls vibrations and planetary energies..",
           "sTg7XVvupW54xFXUzr8q65",
           "2B Stanley Street, Singapore, 068721, Singapore",
           [
            "concert",
            "event-group",
            "health",
            "music"
           ],
           "UNDER THE STARS PLANET SOUND HEALING",
           "Asia/Singapore",
           "event-group"
          ]
         ],
         3600,
         "2025-05-28T12:00:00Z",
         "2025-05-28T20:00:00",
         "2025-05-28T13:00:00Z",
         "2025-05-28T21:00:00",
         "2025-05-22T04:25:56Z",
         "2025-05-22T04:25:40Z",
         "Asia/Singapore",
         [
          [
           "phq_attendance",
           [
            [
             "2025-05-28",
             "event_day",
             169
            ]
           ],
           "accommodation"
          ],
          [
           "phq_attendance",
           [
            [
             "2025-05-28",
             "event_day",
             169
            ]
           ],
           "hospitality"
          ],
          [
           "phq_attendance",
           [
            [
             "2025-05-28",
             "event_day",
             169
            ]
           ],
           "retail"
          ]
         ],
         "locality",
         "SG",
         [
          [
           "6295630",
           "6255147",
           "1880251",
           "1880252"
          ]
         ],
         "active",
         true,
         false,
         3035.0,
         [
          0,
          2337,
          698
         ],
         null,
         null,
         null,
         null,
         103.847686,
         1.279795,
         "PredictHQ",
         "2025-05-26T11:10:48.769Z",
         "2025-05-28"
        ],
        [
         0.0,
         "4EuSRkm5D7V9MXSauE",
         "LEMURIAN CRYSTAL TEMPLE- SACRED LIGHT & LOVE CRYSTAL SOUND HEALING",
         "Sourced from predicthq.com - Lemurian Crystal Bowls connect us to the ancient world of Lemuria, where a wealth of knowledge has been preserved since the dawn of time.",
         "concerts",
         39,
         48,
         272.0,
         [
          [
           null,
           null,
           "n92UGPhhPdTbU6Pijza2YB",
           "2B Stanley St, Singapore 068721",
           null,
           "SPACE2B",
           null,
           "venue"
          ],
          [
           "concerts",
           "Lemurian Crystal Bowls connect us to the ancient world of Lemuria, where a wealth of knowledge has been preserved since the dawn of time.",
           "HKr7sAsCEW6yZtBfizbgid",
           "2B Stanley Street, Singapore, 068721, Singapore",
           [
            "concert",
            "event-group",
            "music",
            "religion"
           ],
           "LEMURIAN CRYSTAL TEMPLE- SACRED LIGHT & LOVE CRYSTAL SOUND HEALING",
           "Asia/Singapore",
           "event-group"
          ]
         ],
         3600,
         "2025-05-28T10:30:00Z",
         "2025-05-28T18:30:00",
         "2025-05-28T11:30:00Z",
         "2025-05-28T19:30:00",
         "2025-05-15T03:19:42Z",
         "2025-05-15T03:10:35Z",
         "Asia/Singapore",
         [
          [
           "phq_attendance",
           [
            [
             "2025-05-28",
             "event_day",
             272
            ]
           ],
           "accommodation"
          ],
          [
           "phq_attendance",
           [
            [
             "2025-05-28",
             "event_day",
             272
            ]
           ],
           "hospitality"
          ],
          [
           "phq_attendance",
           [
            [
             "2025-05-28",
             "event_day",
             272
            ]
           ],
           "retail"
          ]
         ],
         "locality",
         "SG",
         [
          [
           "6295630",
           "6255147",
           "1880251",
           "1880252"
          ]
         ],
         "active",
         true,
         false,
         4886.0,
         [
          0,
          3761,
          1124
         ],
         null,
         null,
         null,
         null,
         103.847686,
         1.279795,
         "PredictHQ",
         "2025-05-26T11:10:48.769Z",
         "2025-05-28"
        ],
        [
         0.0,
         "AJmyqco9BGwEedMVCj",
         "Cosmic Resonance Gong Bath",
         "Sourced from predicthq.com - Immerse yourself in an extraordinary sonic experience that resonates with the rhythm of the universe.",
         "concerts",
         35,
         44,
         179.0,
         [
          [
           null,
           null,
           "n92UGPhhPdTbU6Pijza2YB",
           "2B Stanley St, Singapore 068721",
           null,
           "SPACE2B",
           null,
           "venue"
          ],
          [
           "concerts",
           "Immerse yourself in an extraordinary sonic experience that resonates with the rhythm of the universe.",
           "aCLzhNijzhE36Gt3jrc7q5",
           "2B Stanley Street, Singapore, 068721, Singapore",
           [
            "concert",
            "event-group",
            "music",
            "religion"
           ],
           "Cosmic Resonance Gong Bath",
           "Asia/Singapore",
           "event-group"
          ]
         ],
         3600,
         "2025-05-28T06:00:00Z",
         "2025-05-28T14:00:00",
         "2025-05-28T07:00:00Z",
         "2025-05-28T15:00:00",
         "2025-05-22T04:33:23Z",
         "2025-05-22T04:31:40Z",
         "Asia/Singapore",
         [
          [
           "phq_attendance",
           [
            [
             "2025-05-28",
             "event_day",
             179
            ]
           ],
           "accommodation"
          ],
          [
           "phq_attendance",
           [
            [
             "2025-05-28",
             "event_day",
             179
            ]
           ],
           "hospitality"
          ],
          [
           "phq_attendance",
           [
            [
             "2025-05-28",
             "event_day",
             179
            ]
           ],
           "retail"
          ]
         ],
         "locality",
         "SG",
         [
          [
           "6295630",
           "6255147",
           "1880251",
           "1880252"
          ]
         ],
         "active",
         true,
         false,
         3215.0,
         [
          0,
          2475,
          740
         ],
         null,
         null,
         null,
         null,
         103.847686,
         1.279795,
         "PredictHQ",
         "2025-05-26T11:10:48.769Z",
         "2025-05-28"
        ],
        [
         0.0,
         "8FA5uhzup5rubwA9K9",
         "Coming Home to Yourself with Tibetan Singing Bowls",
         "Sourced from predicthq.com - Embark on a transformative sound healing session with Tibetan Singing bowls",
         "concerts",
         35,
         44,
         169.0,
         [
          [
           null,
           null,
           "n92UGPhhPdTbU6Pijza2YB",
           "2B Stanley St, Singapore 068721",
           null,
           "SPACE2B",
           null,
           "venue"
          ],
          [
           "concerts",
           "Embark on a transformative sound healing session with Tibetan Singing bowls",
           "bQ3vFD5Tn7T9yvHWTPfgy5",
           "2B Stanley Street, Singapore, 068721, Singapore",
           [
            "concert",
            "event-group",
            "music",
            "religion"
           ],
           "Coming Home to Yourself with Tibetan Singing Bowls",
           "Asia/Singapore",
           "event-group"
          ]
         ],
         3600,
         "2025-05-28T04:30:00Z",
         "2025-05-28T12:30:00",
         "2025-05-28T05:30:00Z",
         "2025-05-28T13:30:00",
         "2025-05-24T18:53:03Z",
         "2025-05-24T18:52:51Z",
         "Asia/Singapore",
         [
          [
           "phq_attendance",
           [
            [
             "2025-05-28",
             "event_day",
             169
            ]
           ],
           "accommodation"
          ],
          [
           "phq_attendance",
           [
            [
             "2025-05-28",
             "event_day",
             169
            ]
           ],
           "hospitality"
          ],
          [
           "phq_attendance",
           [
            [
             "2025-05-28",
             "event_day",
             169
            ]
           ],
           "retail"
          ]
         ],
         "locality",
         "SG",
         [
          [
           "6295630",
           "6255147",
           "1880251",
           "1880252"
          ]
         ],
         "active",
         true,
         false,
         3035.0,
         [
          0,
          2337,
          698
         ],
         null,
         null,
         null,
         null,
         103.847686,
         1.279795,
         "PredictHQ",
         "2025-05-26T11:10:48.769Z",
         "2025-05-28"
        ],
        [
         0.0,
         "Gijny6ikbFbum6YzPA",
         "GROUND YOURSELF, CLARITY OF MIND – SOUND BATH WITH SINGING BOWLS AND DRUMS",
         "Sourced from predicthq.com - Come into this session, to ground yourself and clear your mind. With singing bowls and ocean drum.",
         "concerts",
         35,
         44,
         169.0,
         [
          [
           null,
           null,
           "n92UGPhhPdTbU6Pijza2YB",
           "2B Stanley St, Singapore 068721",
           null,
           "SPACE2B",
           null,
           "venue"
          ],
          [
           "concerts",
           "Come into this session, to ground yourself and clear your mind. With singing bowls and ocean drum.",
           "9WVWaVMA3g2Ukhm4VJ9akd",
           "2B Stanley Street, Singapore, 068721, Singapore",
           [
            "concert",
            "event-group",
            "music",
            "religion"
           ],
           "GROUND YOURSELF, CLARITY OF MIND – SOUND BATH WITH SINGING BOWLS AND DRUMS",
           "Asia/Singapore",
           "event-group"
          ]
         ],
         3600,
         "2025-05-28T03:00:00Z",
         "2025-05-28T11:00:00",
         "2025-05-28T04:00:00Z",
         "2025-05-28T12:00:00",
         "2025-05-24T18:53:03Z",
         "2025-05-24T18:52:51Z",
         "Asia/Singapore",
         [
          [
           "phq_attendance",
           [
            [
             "2025-05-28",
             "event_day",
             169
            ]
           ],
           "accommodation"
          ],
          [
           "phq_attendance",
           [
            [
             "2025-05-28",
             "event_day",
             169
            ]
           ],
           "hospitality"
          ],
          [
           "phq_attendance",
           [
            [
             "2025-05-28",
             "event_day",
             169
            ]
           ],
           "retail"
          ]
         ],
         "locality",
         "SG",
         [
          [
           "6295630",
           "6255147",
           "1880251",
           "1880252"
          ]
         ],
         "active",
         true,
         false,
         3035.0,
         [
          0,
          2337,
          698
         ],
         null,
         null,
         null,
         null,
         103.847686,
         1.279795,
         "PredictHQ",
         "2025-05-26T11:10:48.769Z",
         "2025-05-28"
        ],
        [
         0.0,
         "HJwN8y3wdHrLSxCH9B",
         "HEAL FROM WITHIN: AFFIRMATIONS + TIBETAN SINGING BOWLS + OCEAN DRUM",
         "Sourced from predicthq.com - This practice allows you to reignite your own self-healing ability.",
         "concerts",
         35,
         44,
         179.0,
         [
          [
           null,
           null,
           "n92UGPhhPdTbU6Pijza2YB",
           "2B Stanley St, Singapore 068721",
           null,
           "SPACE2B",
           null,
           "venue"
          ],
          [
           "concerts",
           "This practice allows you to reignite your own self-healing ability.",
           "usY8XBHsRn9aetZetrMgdt",
           "2B Stanley Street, Singapore, 068721, Singapore",
           [
            "concert",
            "event-group",
            "health",
            "music"
           ],
           "HEAL FROM WITHIN: AFFIRMATIONS + TIBETAN SINGING BOWLS + OCEAN DRUM",
           "Asia/Singapore",
           "event-group"
          ]
         ],
         3600,
         "2025-05-27T12:00:00Z",
         "2025-05-27T20:00:00",
         "2025-05-27T13:00:00Z",
         "2025-05-27T21:00:00",
         "2025-05-22T13:30:44Z",
         "2025-05-22T13:29:22Z",
         "Asia/Singapore",
         [
          [
           "phq_attendance",
           [
            [
             "2025-05-27",
             "event_day",
             179
            ]
           ],
           "accommodation"
          ],
          [
           "phq_attendance",
           [
            [
             "2025-05-27",
             "event_day",
             179
            ]
           ],
           "hospitality"
          ],
          [
           "phq_attendance",
           [
            [
             "2025-05-27",
             "event_day",
             179
            ]
           ],
           "retail"
          ]
         ],
         "locality",
         "SG",
         [
          [
           "6295630",
           "6255147",
           "1880251",
           "1880252"
          ]
         ],
         "active",
         true,
         false,
         3215.0,
         [
          0,
          2475,
          740
         ],
         null,
         null,
         null,
         null,
         103.847686,
         1.279795,
         "PredictHQ",
         "2025-05-26T11:10:48.769Z",
         "2025-05-27"
        ],
        [
         0.0,
         "4fap8QjcxeNsybopy7",
         "How The Top 1% Of Leaders Manage Their Time Like Clockwork Using T5 System",
         "Sourced from predicthq.com - You will learn essential skills that will increase your productivity so you have more margin in your life and business.",
         "conferences",
         29,
         30,
         93.0,
         [],
         3600,
         "2025-05-27T11:00:00Z",
         "2025-05-27T19:00:00",
         "2025-05-27T12:00:00Z",
         "2025-05-27T20:00:00",
         "2025-05-08T02:01:14Z",
         "2025-05-08T02:00:43Z",
         "Asia/Singapore",
         [
          [
           "phq_attendance",
           [
            [
             "2025-05-27",
             "event_day",
             93
            ]
           ],
           "accommodation"
          ],
          [
           "phq_attendance",
           [
            [
             "2025-05-27",
             "event_day",
             93
            ]
           ],
           "hospitality"
          ],
          [
           "phq_attendance",
           [
            [
             "2025-05-27",
             "event_day",
             93
            ]
           ],
           "retail"
          ]
         ],
         "locality",
         "SG",
         [
          [
           "6295630",
           "6255147",
           "1880251",
           "1880469"
          ],
          [
           "6295630",
           "6255147",
           "1880251",
           "1880252"
          ]
         ],
         "active",
         true,
         false,
         1992.0,
         [
          0,
          1607,
          384
         ],
         [
          [
           "education-and-careers",
           1.0
          ]
         ],
         null,
         null,
         null,
         103.775964,
         1.441188,
         "PredictHQ",
         "2025-05-26T11:10:48.769Z",
         "2025-05-27"
        ]
       ],
       "datasetInfos": [],
       "dbfsResultPath": null,
       "isJsonSchema": true,
       "metadata": {},
       "overflow": false,
       "plotOptions": {
        "customPlotOptions": {},
        "displayType": "table",
        "pivotAggregation": null,
        "pivotColumns": null,
        "xColumns": null,
        "yColumns": null
       },
       "removedWidgets": [],
       "schema": [
        {
         "metadata": "{}",
         "name": "relevance",
         "type": "\"double\""
        },
        {
         "metadata": "{}",
         "name": "id",
         "type": "\"string\""
        },
        {
         "metadata": "{}",
         "name": "title",
         "type": "\"string\""
        },
        {
         "metadata": "{}",
         "name": "description",
         "type": "\"string\""
        },
        {
         "metadata": "{}",
         "name": "category",
         "type": "\"string\""
        },
        {
         "metadata": "{}",
         "name": "rank",
         "type": "\"long\""
        },
        {
         "metadata": "{}",
         "name": "local_rank",
         "type": "\"long\""
        },
        {
         "metadata": "{}",
         "name": "phq_attendance",
         "type": "\"double\""
        },
        {
         "metadata": "{}",
         "name": "entities",
         "type": "{\"containsNull\":true,\"elementType\":{\"fields\":[{\"metadata\":{},\"name\":\"category\",\"nullable\":true,\"type\":\"string\"},{\"metadata\":{},\"name\":\"description\",\"nullable\":true,\"type\":\"string\"},{\"metadata\":{},\"name\":\"entity_id\",\"nullable\":true,\"type\":\"string\"},{\"metadata\":{},\"name\":\"formatted_address\",\"nullable\":true,\"type\":\"string\"},{\"metadata\":{},\"name\":\"labels\",\"nullable\":true,\"type\":{\"containsNull\":true,\"elementType\":\"string\",\"type\":\"array\"}},{\"metadata\":{},\"name\":\"name\",\"nullable\":true,\"type\":\"string\"},{\"metadata\":{},\"name\":\"timezone\",\"nullable\":true,\"type\":\"string\"},{\"metadata\":{},\"name\":\"type\",\"nullable\":true,\"type\":\"string\"}],\"type\":\"struct\"},\"type\":\"array\"}"
        },
        {
         "metadata": "{}",
         "name": "duration",
         "type": "\"long\""
        },
        {
         "metadata": "{}",
         "name": "start",
         "type": "\"string\""
        },
        {
         "metadata": "{}",
         "name": "start_local",
         "type": "\"string\""
        },
        {
         "metadata": "{}",
         "name": "end",
         "type": "\"string\""
        },
        {
         "metadata": "{}",
         "name": "end_local",
         "type": "\"string\""
        },
        {
         "metadata": "{}",
         "name": "updated",
         "type": "\"string\""
        },
        {
         "metadata": "{}",
         "name": "first_seen",
         "type": "\"string\""
        },
        {
         "metadata": "{}",
         "name": "timezone",
         "type": "\"string\""
        },
        {
         "metadata": "{}",
         "name": "impact_patterns",
         "type": "{\"containsNull\":true,\"elementType\":{\"fields\":[{\"metadata\":{},\"name\":\"impact_type\",\"nullable\":true,\"type\":\"string\"},{\"metadata\":{},\"name\":\"impacts\",\"nullable\":true,\"type\":{\"containsNull\":true,\"elementType\":{\"fields\":[{\"metadata\":{},\"name\":\"date_local\",\"nullable\":true,\"type\":\"string\"},{\"metadata\":{},\"name\":\"position\",\"nullable\":true,\"type\":\"string\"},{\"metadata\":{},\"name\":\"value\",\"nullable\":true,\"type\":\"long\"}],\"type\":\"struct\"},\"type\":\"array\"}},{\"metadata\":{},\"name\":\"vertical\",\"nullable\":true,\"type\":\"string\"}],\"type\":\"struct\"},\"type\":\"array\"}"
        },
        {
         "metadata": "{}",
         "name": "scope",
         "type": "\"string\""
        },
        {
         "metadata": "{}",
         "name": "country",
         "type": "\"string\""
        },
        {
         "metadata": "{}",
         "name": "place_hierarchies",
         "type": "{\"containsNull\":true,\"elementType\":{\"containsNull\":true,\"elementType\":\"string\",\"type\":\"array\"},\"type\":\"array\"}"
        },
        {
         "metadata": "{}",
         "name": "state",
         "type": "\"string\""
        },
        {
         "metadata": "{}",
         "name": "brand_safe",
         "type": "\"boolean\""
        },
        {
         "metadata": "{}",
         "name": "private",
         "type": "\"boolean\""
        },
        {
         "metadata": "{}",
         "name": "predicted_event_spend",
         "type": "\"double\""
        },
        {
         "metadata": "{}",
         "name": "predicted_event_spend_industries",
         "type": "{\"fields\":[{\"metadata\":{},\"name\":\"accommodation\",\"nullable\":true,\"type\":\"long\"},{\"metadata\":{},\"name\":\"hospitality\",\"nullable\":true,\"type\":\"long\"},{\"metadata\":{},\"name\":\"transportation\",\"nullable\":true,\"type\":\"long\"}],\"type\":\"struct\"}"
        },
        {
         "metadata": "{}",
         "name": "phq_labels",
         "type": "{\"containsNull\":true,\"elementType\":{\"fields\":[{\"metadata\":{},\"name\":\"label\",\"nullable\":true,\"type\":\"string\"},{\"metadata\":{},\"name\":\"weight\",\"nullable\":true,\"type\":\"double\"}],\"type\":\"struct\"},\"type\":\"array\"}"
        },
        {
         "metadata": "{}",
         "name": "predicted_end",
         "type": "\"string\""
        },
        {
         "metadata": "{}",
         "name": "predicted_end_local",
         "type": "\"string\""
        },
        {
         "metadata": "{}",
         "name": "alternate_titles",
         "type": "{\"containsNull\":true,\"elementType\":\"string\",\"type\":\"array\"}"
        },
        {
         "metadata": "{}",
         "name": "lon",
         "type": "\"double\""
        },
        {
         "metadata": "{}",
         "name": "lat",
         "type": "\"double\""
        },
        {
         "metadata": "{}",
         "name": "source",
         "type": "\"string\""
        },
        {
         "metadata": "{}",
         "name": "ingestion_timestamp",
         "type": "\"timestamp\""
        },
        {
         "metadata": "{}",
         "name": "date_only",
         "type": "\"date\""
        }
       ],
       "type": "table"
      }
     },
     "output_type": "display_data"
    },
    {
     "output_type": "display_data",
     "data": {
      "text/html": [
       "<style scoped>\n",
       "  .table-result-container {\n",
       "    max-height: 300px;\n",
       "    overflow: auto;\n",
       "  }\n",
       "  table, th, td {\n",
       "    border: 1px solid black;\n",
       "    border-collapse: collapse;\n",
       "  }\n",
       "  th, td {\n",
       "    padding: 5px;\n",
       "  }\n",
       "  th {\n",
       "    text-align: left;\n",
       "  }\n",
       "</style><div class='table-result-container'><table class='table-result'><thead style='background-color: white'><tr><th>lat</th><th>lon</th><th>relevance</th><th>id</th><th>title</th><th>description</th><th>category</th><th>rank</th><th>local_rank</th><th>phq_attendance</th><th>entities</th><th>duration</th><th>start</th><th>start_local</th><th>end</th><th>end_local</th><th>updated</th><th>first_seen</th><th>timezone</th><th>impact_patterns</th><th>scope</th><th>country</th><th>place_hierarchies</th><th>state</th><th>brand_safe</th><th>private</th><th>predicted_event_spend</th><th>predicted_event_spend_industries</th><th>phq_labels</th><th>predicted_end</th><th>predicted_end_local</th><th>alternate_titles</th><th>source</th><th>ingestion_timestamp</th><th>date_only</th><th>location_key</th></tr></thead><tbody><tr><td>1.2456916</td><td>103.8278754</td><td>0.0</td><td>EcrqqgZe5zeDnVdZTd</td><td>Tell Me a JazzTime Story by Eric Lee Trio</td><td>Sourced from predicthq.com - Maduro presents Eric Lee Trio on this unforgettably fun evening of timeless jazz tales that tell stories of mischief, memories and more</td><td>concerts</td><td>40</td><td>47</td><td>330.0</td><td>List()</td><td>10800</td><td>2025-05-31T12:30:00Z</td><td>2025-05-31T20:30:00</td><td>2025-05-31T15:30:00Z</td><td>2025-05-31T23:30:00</td><td>2025-05-01T08:28:42Z</td><td>2025-05-01T07:37:08Z</td><td>Asia/Singapore</td><td>List(List(phq_attendance, List(List(2025-05-31, event_day, 330)), accommodation), List(phq_attendance, List(List(2025-05-31, event_day, 330)), hospitality), List(phq_attendance, List(List(2025-05-31, event_day, 330)), retail))</td><td>locality</td><td>SG</td><td>List(List(6295630, 6255147, 1880251, 7289766), List(6295630, 6255147, 1880251, 1880252))</td><td>active</td><td>true</td><td>false</td><td>5927.0</td><td>List(0, 4563, 1364)</td><td>List(List(jazz-and-classical, 1.0))</td><td>null</td><td>null</td><td>null</td><td>PredictHQ</td><td>2025-05-26T11:10:48.769Z</td><td>2025-05-31</td><td>300597</td></tr><tr><td>1.3337256</td><td>103.8410082</td><td>0.0</td><td>Rotet8Eazj4kjQaHJa</td><td>NuHarmony Choir Presents: From Screen to Stage</td><td>Sourced from predicthq.com - Join us for \"NuHarmony Choir Presents: From Screen to Stage\" where we bring your favorite movie and musical soundtracks to life!</td><td>performing-arts</td><td>37</td><td>43</td><td>223.0</td><td>List()</td><td>12600</td><td>2025-05-31T11:30:00Z</td><td>2025-05-31T19:30:00</td><td>2025-05-31T15:00:00Z</td><td>2025-05-31T23:00:00</td><td>2025-04-03T07:22:33Z</td><td>2025-04-03T07:22:00Z</td><td>Asia/Singapore</td><td>List(List(phq_attendance, List(List(2025-05-31, event_day, 223)), accommodation), List(phq_attendance, List(List(2025-05-31, event_day, 223)), hospitality), List(phq_attendance, List(List(2025-05-31, event_day, 223)), retail))</td><td>locality</td><td>SG</td><td>List(List(6295630, 6255147, 1880251, 7281987), List(6295630, 6255147, 1880251, 1880252))</td><td>active</td><td>true</td><td>false</td><td>4005.0</td><td>List(0, 3083, 922)</td><td>List(List(general-theatre, 0.36), List(concert, 0.341), List(movie, 0.299))</td><td>null</td><td>null</td><td>null</td><td>PredictHQ</td><td>2025-05-26T11:10:48.769Z</td><td>2025-05-31</td><td>300597</td></tr><tr><td>1.279795</td><td>103.847686</td><td>0.0</td><td>93WGY5RrwzT3ernqB2</td><td>INDULGE IN REST: CRYSTAL BOWLS + CHIMES SOUND HEALING</td><td>Sourced from predicthq.com - Amidst the fast-paced nature of today’s world, finding time for rest has peculiarly transformed into a form of luxury.</td><td>concerts</td><td>35</td><td>44</td><td>179.0</td><td>List(List(null, null, n92UGPhhPdTbU6Pijza2YB, 2B Stanley St, Singapore 068721, null, SPACE2B, null, venue), List(concerts, Amidst the fast-paced nature of today’s world, finding time for rest has peculiarly transformed into a form of luxury., 4j8Zam8BqsmF5rxK4b5H9D, 2B Stanley Street, Singapore, 068721, Singapore, List(concert, event-group, music, religion), INDULGE IN REST: CRYSTAL BOWLS + CHIMES SOUND HEALING, Asia/Singapore, event-group))</td><td>3600</td><td>2025-05-31T09:00:00Z</td><td>2025-05-31T17:00:00</td><td>2025-05-31T10:00:00Z</td><td>2025-05-31T18:00:00</td><td>2025-05-24T16:37:23Z</td><td>2025-05-24T16:31:13Z</td><td>Asia/Singapore</td><td>List(List(phq_attendance, List(List(2025-05-31, event_day, 179)), accommodation), List(phq_attendance, List(List(2025-05-31, event_day, 179)), hospitality), List(phq_attendance, List(List(2025-05-31, event_day, 179)), retail))</td><td>locality</td><td>SG</td><td>List(List(6295630, 6255147, 1880251, 1880252))</td><td>active</td><td>true</td><td>false</td><td>3215.0</td><td>List(0, 2475, 740)</td><td>null</td><td>null</td><td>null</td><td>null</td><td>PredictHQ</td><td>2025-05-26T11:10:48.769Z</td><td>2025-05-31</td><td>300597</td></tr><tr><td>1.279795</td><td>103.847686</td><td>0.0</td><td>Bni4AgkSe5vPJcWavq</td><td>SELF-LOVE AND GRATITUDE SOUND BATH</td><td>Sourced from predicthq.com - Come join us for a relaxing sound bath to cultivate self-love and gratitude!</td><td>concerts</td><td>35</td><td>44</td><td>169.0</td><td>List(List(null, null, n92UGPhhPdTbU6Pijza2YB, 2B Stanley St, Singapore 068721, null, SPACE2B, null, venue), List(concerts, Come join us for a relaxing sound bath to cultivate self-love and gratitude!, 8avefdQEGS4NAdHeqSe52z, 2B Stanley Street, Singapore, 068721, Singapore, List(concert, event-group, music, religion), SELF-LOVE AND GRATITUDE SOUND BATH, Asia/Singapore, event-group))</td><td>3600</td><td>2025-05-31T07:30:00Z</td><td>2025-05-31T15:30:00</td><td>2025-05-31T08:30:00Z</td><td>2025-05-31T16:30:00</td><td>2025-05-24T16:37:31Z</td><td>2025-05-24T16:30:36Z</td><td>Asia/Singapore</td><td>List(List(phq_attendance, List(List(2025-05-31, event_day, 169)), accommodation), List(phq_attendance, List(List(2025-05-31, event_day, 169)), hospitality), List(phq_attendance, List(List(2025-05-31, event_day, 169)), retail))</td><td>locality</td><td>SG</td><td>List(List(6295630, 6255147, 1880251, 1880252))</td><td>active</td><td>true</td><td>false</td><td>3035.0</td><td>List(0, 2337, 698)</td><td>null</td><td>null</td><td>null</td><td>null</td><td>PredictHQ</td><td>2025-05-26T11:10:48.769Z</td><td>2025-05-31</td><td>300597</td></tr><tr><td>1.4266024</td><td>103.8383565</td><td>0.0</td><td>7hod4fxkNieSedsEhk</td><td>EQ Café - Authenticity: Tapping into what’s real</td><td>Sourced from predicthq.com - EQ Cafés are interactive, informal workshops created by Six Seconds, the global nonprofit supporting a more emotionally intelligent world.</td><td>conferences</td><td>29</td><td>30</td><td>85.0</td><td>List(List(null, null, 3BvyGZbZB9Nj8KYQKq3hDgv, 30A Yishun Central 1, Singapore 768796, null, Tzu Chi Humanistic Youth Centre, null, venue))</td><td>5400</td><td>2025-05-31T06:00:00Z</td><td>2025-05-31T14:00:00</td><td>2025-05-31T07:30:00Z</td><td>2025-05-31T15:30:00</td><td>2025-04-17T02:14:35Z</td><td>2025-04-17T01:56:56Z</td><td>Asia/Singapore</td><td>List(List(phq_attendance, List(List(2025-05-31, event_day, 85)), accommodation), List(phq_attendance, List(List(2025-05-31, event_day, 85)), hospitality), List(phq_attendance, List(List(2025-05-31, event_day, 85)), retail))</td><td>locality</td><td>SG</td><td>List(List(6295630, 6255147, 1880251, 1882155), List(6295630, 6255147, 1880251, 1880252))</td><td>active</td><td>true</td><td>false</td><td>1820.0</td><td>List(0, 1469, 351)</td><td>List(List(education-and-careers, 0.439), List(lifestyle, 0.299), List(art-and-cultural, 0.262))</td><td>null</td><td>null</td><td>null</td><td>PredictHQ</td><td>2025-05-26T11:10:48.769Z</td><td>2025-05-31</td><td>1603568</td></tr><tr><td>1.279795</td><td>103.847686</td><td>0.0</td><td>9LcjXLT8iwEwhEjMPR</td><td>CHAKRA HARMONY: A SOUND JOURNEY FOR WELL-BEING AND BALANCE</td><td>Sourced from predicthq.com - Unlock the flow of energy and restore harmony within your body through a powerful chakra balancing session.</td><td>concerts</td><td>35</td><td>44</td><td>179.0</td><td>List(List(null, null, n92UGPhhPdTbU6Pijza2YB, 2B Stanley St, Singapore 068721, null, SPACE2B, null, venue), List(concerts, Unlock the flow of energy and restore harmony within your body through a powerful chakra balancing session., 3BDfvS3iPjq7kAz7pb9VKkN, 2B Stanley Street, Singapore, 068721, Singapore, List(concert, event-group, music, religion), CHAKRA HARMONY: A SOUND JOURNEY FOR WELL-BEING AND BALANCE, Asia/Singapore, event-group))</td><td>3600</td><td>2025-05-31T06:00:00Z</td><td>2025-05-31T14:00:00</td><td>2025-05-31T07:00:00Z</td><td>2025-05-31T15:00:00</td><td>2025-05-24T16:37:08Z</td><td>2025-05-24T16:31:13Z</td><td>Asia/Singapore</td><td>List(List(phq_attendance, List(List(2025-05-31, event_day, 179)), accommodation), List(phq_attendance, List(List(2025-05-31, event_day, 179)), hospitality), List(phq_attendance, List(List(2025-05-31, event_day, 179)), retail))</td><td>locality</td><td>SG</td><td>List(List(6295630, 6255147, 1880251, 1880252))</td><td>active</td><td>true</td><td>false</td><td>3215.0</td><td>List(0, 2475, 740)</td><td>null</td><td>null</td><td>null</td><td>null</td><td>PredictHQ</td><td>2025-05-26T11:10:48.769Z</td><td>2025-05-31</td><td>300597</td></tr><tr><td>1.279795</td><td>103.847686</td><td>0.0</td><td>EoHgPFsTcxA3Nossp9</td><td>UNDER THE STARS PLANET SOUND HEALING</td><td>Sourced from predicthq.com - Imagine lying down under the stars while tuning into Crystal bowls vibrations and planetary energies..</td><td>concerts</td><td>35</td><td>44</td><td>169.0</td><td>List(List(null, null, n92UGPhhPdTbU6Pijza2YB, 2B Stanley St, Singapore 068721, null, SPACE2B, null, venue), List(concerts, Imagine lying down under the stars while tuning into Crystal bowls vibrations and planetary energies.., sTg7XVvupW54xFXUzr8q65, 2B Stanley Street, Singapore, 068721, Singapore, List(concert, event-group, health, music), UNDER THE STARS PLANET SOUND HEALING, Asia/Singapore, event-group))</td><td>3600</td><td>2025-05-28T12:00:00Z</td><td>2025-05-28T20:00:00</td><td>2025-05-28T13:00:00Z</td><td>2025-05-28T21:00:00</td><td>2025-05-22T04:25:56Z</td><td>2025-05-22T04:25:40Z</td><td>Asia/Singapore</td><td>List(List(phq_attendance, List(List(2025-05-28, event_day, 169)), accommodation), List(phq_attendance, List(List(2025-05-28, event_day, 169)), hospitality), List(phq_attendance, List(List(2025-05-28, event_day, 169)), retail))</td><td>locality</td><td>SG</td><td>List(List(6295630, 6255147, 1880251, 1880252))</td><td>active</td><td>true</td><td>false</td><td>3035.0</td><td>List(0, 2337, 698)</td><td>null</td><td>null</td><td>null</td><td>null</td><td>PredictHQ</td><td>2025-05-26T11:10:48.769Z</td><td>2025-05-28</td><td>300597</td></tr><tr><td>1.279795</td><td>103.847686</td><td>0.0</td><td>4EuSRkm5D7V9MXSauE</td><td>LEMURIAN CRYSTAL TEMPLE- SACRED LIGHT & LOVE CRYSTAL SOUND HEALING</td><td>Sourced from predicthq.com - Lemurian Crystal Bowls connect us to the ancient world of Lemuria, where a wealth of knowledge has been preserved since the dawn of time.</td><td>concerts</td><td>39</td><td>48</td><td>272.0</td><td>List(List(null, null, n92UGPhhPdTbU6Pijza2YB, 2B Stanley St, Singapore 068721, null, SPACE2B, null, venue), List(concerts, Lemurian Crystal Bowls connect us to the ancient world of Lemuria, where a wealth of knowledge has been preserved since the dawn of time., HKr7sAsCEW6yZtBfizbgid, 2B Stanley Street, Singapore, 068721, Singapore, List(concert, event-group, music, religion), LEMURIAN CRYSTAL TEMPLE- SACRED LIGHT & LOVE CRYSTAL SOUND HEALING, Asia/Singapore, event-group))</td><td>3600</td><td>2025-05-28T10:30:00Z</td><td>2025-05-28T18:30:00</td><td>2025-05-28T11:30:00Z</td><td>2025-05-28T19:30:00</td><td>2025-05-15T03:19:42Z</td><td>2025-05-15T03:10:35Z</td><td>Asia/Singapore</td><td>List(List(phq_attendance, List(List(2025-05-28, event_day, 272)), accommodation), List(phq_attendance, List(List(2025-05-28, event_day, 272)), hospitality), List(phq_attendance, List(List(2025-05-28, event_day, 272)), retail))</td><td>locality</td><td>SG</td><td>List(List(6295630, 6255147, 1880251, 1880252))</td><td>active</td><td>true</td><td>false</td><td>4886.0</td><td>List(0, 3761, 1124)</td><td>null</td><td>null</td><td>null</td><td>null</td><td>PredictHQ</td><td>2025-05-26T11:10:48.769Z</td><td>2025-05-28</td><td>300597</td></tr><tr><td>1.279795</td><td>103.847686</td><td>0.0</td><td>AJmyqco9BGwEedMVCj</td><td>Cosmic Resonance Gong Bath</td><td>Sourced from predicthq.com - Immerse yourself in an extraordinary sonic experience that resonates with the rhythm of the universe.</td><td>concerts</td><td>35</td><td>44</td><td>179.0</td><td>List(List(null, null, n92UGPhhPdTbU6Pijza2YB, 2B Stanley St, Singapore 068721, null, SPACE2B, null, venue), List(concerts, Immerse yourself in an extraordinary sonic experience that resonates with the rhythm of the universe., aCLzhNijzhE36Gt3jrc7q5, 2B Stanley Street, Singapore, 068721, Singapore, List(concert, event-group, music, religion), Cosmic Resonance Gong Bath, Asia/Singapore, event-group))</td><td>3600</td><td>2025-05-28T06:00:00Z</td><td>2025-05-28T14:00:00</td><td>2025-05-28T07:00:00Z</td><td>2025-05-28T15:00:00</td><td>2025-05-22T04:33:23Z</td><td>2025-05-22T04:31:40Z</td><td>Asia/Singapore</td><td>List(List(phq_attendance, List(List(2025-05-28, event_day, 179)), accommodation), List(phq_attendance, List(List(2025-05-28, event_day, 179)), hospitality), List(phq_attendance, List(List(2025-05-28, event_day, 179)), retail))</td><td>locality</td><td>SG</td><td>List(List(6295630, 6255147, 1880251, 1880252))</td><td>active</td><td>true</td><td>false</td><td>3215.0</td><td>List(0, 2475, 740)</td><td>null</td><td>null</td><td>null</td><td>null</td><td>PredictHQ</td><td>2025-05-26T11:10:48.769Z</td><td>2025-05-28</td><td>300597</td></tr><tr><td>1.279795</td><td>103.847686</td><td>0.0</td><td>8FA5uhzup5rubwA9K9</td><td>Coming Home to Yourself with Tibetan Singing Bowls</td><td>Sourced from predicthq.com - Embark on a transformative sound healing session with Tibetan Singing bowls</td><td>concerts</td><td>35</td><td>44</td><td>169.0</td><td>List(List(null, null, n92UGPhhPdTbU6Pijza2YB, 2B Stanley St, Singapore 068721, null, SPACE2B, null, venue), List(concerts, Embark on a transformative sound healing session with Tibetan Singing bowls, bQ3vFD5Tn7T9yvHWTPfgy5, 2B Stanley Street, Singapore, 068721, Singapore, List(concert, event-group, music, religion), Coming Home to Yourself with Tibetan Singing Bowls, Asia/Singapore, event-group))</td><td>3600</td><td>2025-05-28T04:30:00Z</td><td>2025-05-28T12:30:00</td><td>2025-05-28T05:30:00Z</td><td>2025-05-28T13:30:00</td><td>2025-05-24T18:53:03Z</td><td>2025-05-24T18:52:51Z</td><td>Asia/Singapore</td><td>List(List(phq_attendance, List(List(2025-05-28, event_day, 169)), accommodation), List(phq_attendance, List(List(2025-05-28, event_day, 169)), hospitality), List(phq_attendance, List(List(2025-05-28, event_day, 169)), retail))</td><td>locality</td><td>SG</td><td>List(List(6295630, 6255147, 1880251, 1880252))</td><td>active</td><td>true</td><td>false</td><td>3035.0</td><td>List(0, 2337, 698)</td><td>null</td><td>null</td><td>null</td><td>null</td><td>PredictHQ</td><td>2025-05-26T11:10:48.769Z</td><td>2025-05-28</td><td>300597</td></tr><tr><td>1.279795</td><td>103.847686</td><td>0.0</td><td>Gijny6ikbFbum6YzPA</td><td>GROUND YOURSELF, CLARITY OF MIND – SOUND BATH WITH SINGING BOWLS AND DRUMS</td><td>Sourced from predicthq.com - Come into this session, to ground yourself and clear your mind. With singing bowls and ocean drum.</td><td>concerts</td><td>35</td><td>44</td><td>169.0</td><td>List(List(null, null, n92UGPhhPdTbU6Pijza2YB, 2B Stanley St, Singapore 068721, null, SPACE2B, null, venue), List(concerts, Come into this session, to ground yourself and clear your mind. With singing bowls and ocean drum., 9WVWaVMA3g2Ukhm4VJ9akd, 2B Stanley Street, Singapore, 068721, Singapore, List(concert, event-group, music, religion), GROUND YOURSELF, CLARITY OF MIND – SOUND BATH WITH SINGING BOWLS AND DRUMS, Asia/Singapore, event-group))</td><td>3600</td><td>2025-05-28T03:00:00Z</td><td>2025-05-28T11:00:00</td><td>2025-05-28T04:00:00Z</td><td>2025-05-28T12:00:00</td><td>2025-05-24T18:53:03Z</td><td>2025-05-24T18:52:51Z</td><td>Asia/Singapore</td><td>List(List(phq_attendance, List(List(2025-05-28, event_day, 169)), accommodation), List(phq_attendance, List(List(2025-05-28, event_day, 169)), hospitality), List(phq_attendance, List(List(2025-05-28, event_day, 169)), retail))</td><td>locality</td><td>SG</td><td>List(List(6295630, 6255147, 1880251, 1880252))</td><td>active</td><td>true</td><td>false</td><td>3035.0</td><td>List(0, 2337, 698)</td><td>null</td><td>null</td><td>null</td><td>null</td><td>PredictHQ</td><td>2025-05-26T11:10:48.769Z</td><td>2025-05-28</td><td>300597</td></tr><tr><td>1.279795</td><td>103.847686</td><td>0.0</td><td>HJwN8y3wdHrLSxCH9B</td><td>HEAL FROM WITHIN: AFFIRMATIONS + TIBETAN SINGING BOWLS + OCEAN DRUM</td><td>Sourced from predicthq.com - This practice allows you to reignite your own self-healing ability.</td><td>concerts</td><td>35</td><td>44</td><td>179.0</td><td>List(List(null, null, n92UGPhhPdTbU6Pijza2YB, 2B Stanley St, Singapore 068721, null, SPACE2B, null, venue), List(concerts, This practice allows you to reignite your own self-healing ability., usY8XBHsRn9aetZetrMgdt, 2B Stanley Street, Singapore, 068721, Singapore, List(concert, event-group, health, music), HEAL FROM WITHIN: AFFIRMATIONS + TIBETAN SINGING BOWLS + OCEAN DRUM, Asia/Singapore, event-group))</td><td>3600</td><td>2025-05-27T12:00:00Z</td><td>2025-05-27T20:00:00</td><td>2025-05-27T13:00:00Z</td><td>2025-05-27T21:00:00</td><td>2025-05-22T13:30:44Z</td><td>2025-05-22T13:29:22Z</td><td>Asia/Singapore</td><td>List(List(phq_attendance, List(List(2025-05-27, event_day, 179)), accommodation), List(phq_attendance, List(List(2025-05-27, event_day, 179)), hospitality), List(phq_attendance, List(List(2025-05-27, event_day, 179)), retail))</td><td>locality</td><td>SG</td><td>List(List(6295630, 6255147, 1880251, 1880252))</td><td>active</td><td>true</td><td>false</td><td>3215.0</td><td>List(0, 2475, 740)</td><td>null</td><td>null</td><td>null</td><td>null</td><td>PredictHQ</td><td>2025-05-26T11:10:48.769Z</td><td>2025-05-27</td><td>300597</td></tr><tr><td>1.441188</td><td>103.775964</td><td>0.0</td><td>4fap8QjcxeNsybopy7</td><td>How The Top 1% Of Leaders Manage Their Time Like Clockwork Using T5 System</td><td>Sourced from predicthq.com - You will learn essential skills that will increase your productivity so you have more margin in your life and business.</td><td>conferences</td><td>29</td><td>30</td><td>93.0</td><td>List()</td><td>3600</td><td>2025-05-27T11:00:00Z</td><td>2025-05-27T19:00:00</td><td>2025-05-27T12:00:00Z</td><td>2025-05-27T20:00:00</td><td>2025-05-08T02:01:14Z</td><td>2025-05-08T02:00:43Z</td><td>Asia/Singapore</td><td>List(List(phq_attendance, List(List(2025-05-27, event_day, 93)), accommodation), List(phq_attendance, List(List(2025-05-27, event_day, 93)), hospitality), List(phq_attendance, List(List(2025-05-27, event_day, 93)), retail))</td><td>locality</td><td>SG</td><td>List(List(6295630, 6255147, 1880251, 1880469), List(6295630, 6255147, 1880251, 1880252))</td><td>active</td><td>true</td><td>false</td><td>1992.0</td><td>List(0, 1607, 384)</td><td>List(List(education-and-careers, 1.0))</td><td>null</td><td>null</td><td>null</td><td>PredictHQ</td><td>2025-05-26T11:10:48.769Z</td><td>2025-05-27</td><td>300563</td></tr></tbody></table></div>"
      ]
     },
     "metadata": {
      "application/vnd.databricks.v1+output": {
       "addedWidgets": {},
       "aggData": [],
       "aggError": "",
       "aggOverflow": false,
       "aggSchema": [],
       "aggSeriesLimitReached": false,
       "aggType": "",
       "arguments": {},
       "columnCustomDisplayInfos": {},
       "data": [
        [
         1.2456916,
         103.8278754,
         0.0,
         "EcrqqgZe5zeDnVdZTd",
         "Tell Me a JazzTime Story by Eric Lee Trio",
         "Sourced from predicthq.com - Maduro presents Eric Lee Trio on this unforgettably fun evening of timeless jazz tales that tell stories of mischief, memories and more",
         "concerts",
         40,
         47,
         330.0,
         [],
         10800,
         "2025-05-31T12:30:00Z",
         "2025-05-31T20:30:00",
         "2025-05-31T15:30:00Z",
         "2025-05-31T23:30:00",
         "2025-05-01T08:28:42Z",
         "2025-05-01T07:37:08Z",
         "Asia/Singapore",
         [
          [
           "phq_attendance",
           [
            [
             "2025-05-31",
             "event_day",
             330
            ]
           ],
           "accommodation"
          ],
          [
           "phq_attendance",
           [
            [
             "2025-05-31",
             "event_day",
             330
            ]
           ],
           "hospitality"
          ],
          [
           "phq_attendance",
           [
            [
             "2025-05-31",
             "event_day",
             330
            ]
           ],
           "retail"
          ]
         ],
         "locality",
         "SG",
         [
          [
           "6295630",
           "6255147",
           "1880251",
           "7289766"
          ],
          [
           "6295630",
           "6255147",
           "1880251",
           "1880252"
          ]
         ],
         "active",
         true,
         false,
         5927.0,
         [
          0,
          4563,
          1364
         ],
         [
          [
           "jazz-and-classical",
           1.0
          ]
         ],
         null,
         null,
         null,
         "PredictHQ",
         "2025-05-26T11:10:48.769Z",
         "2025-05-31",
         "300597"
        ],
        [
         1.3337256,
         103.8410082,
         0.0,
         "Rotet8Eazj4kjQaHJa",
         "NuHarmony Choir Presents: From Screen to Stage",
         "Sourced from predicthq.com - Join us for \"NuHarmony Choir Presents: From Screen to Stage\" where we bring your favorite movie and musical soundtracks to life!",
         "performing-arts",
         37,
         43,
         223.0,
         [],
         12600,
         "2025-05-31T11:30:00Z",
         "2025-05-31T19:30:00",
         "2025-05-31T15:00:00Z",
         "2025-05-31T23:00:00",
         "2025-04-03T07:22:33Z",
         "2025-04-03T07:22:00Z",
         "Asia/Singapore",
         [
          [
           "phq_attendance",
           [
            [
             "2025-05-31",
             "event_day",
             223
            ]
           ],
           "accommodation"
          ],
          [
           "phq_attendance",
           [
            [
             "2025-05-31",
             "event_day",
             223
            ]
           ],
           "hospitality"
          ],
          [
           "phq_attendance",
           [
            [
             "2025-05-31",
             "event_day",
             223
            ]
           ],
           "retail"
          ]
         ],
         "locality",
         "SG",
         [
          [
           "6295630",
           "6255147",
           "1880251",
           "7281987"
          ],
          [
           "6295630",
           "6255147",
           "1880251",
           "1880252"
          ]
         ],
         "active",
         true,
         false,
         4005.0,
         [
          0,
          3083,
          922
         ],
         [
          [
           "general-theatre",
           0.36
          ],
          [
           "concert",
           0.341
          ],
          [
           "movie",
           0.299
          ]
         ],
         null,
         null,
         null,
         "PredictHQ",
         "2025-05-26T11:10:48.769Z",
         "2025-05-31",
         "300597"
        ],
        [
         1.279795,
         103.847686,
         0.0,
         "93WGY5RrwzT3ernqB2",
         "INDULGE IN REST: CRYSTAL BOWLS + CHIMES SOUND HEALING",
         "Sourced from predicthq.com - Amidst the fast-paced nature of today’s world, finding time for rest has peculiarly transformed into a form of luxury.",
         "concerts",
         35,
         44,
         179.0,
         [
          [
           null,
           null,
           "n92UGPhhPdTbU6Pijza2YB",
           "2B Stanley St, Singapore 068721",
           null,
           "SPACE2B",
           null,
           "venue"
          ],
          [
           "concerts",
           "Amidst the fast-paced nature of today’s world, finding time for rest has peculiarly transformed into a form of luxury.",
           "4j8Zam8BqsmF5rxK4b5H9D",
           "2B Stanley Street, Singapore, 068721, Singapore",
           [
            "concert",
            "event-group",
            "music",
            "religion"
           ],
           "INDULGE IN REST: CRYSTAL BOWLS + CHIMES SOUND HEALING",
           "Asia/Singapore",
           "event-group"
          ]
         ],
         3600,
         "2025-05-31T09:00:00Z",
         "2025-05-31T17:00:00",
         "2025-05-31T10:00:00Z",
         "2025-05-31T18:00:00",
         "2025-05-24T16:37:23Z",
         "2025-05-24T16:31:13Z",
         "Asia/Singapore",
         [
          [
           "phq_attendance",
           [
            [
             "2025-05-31",
             "event_day",
             179
            ]
           ],
           "accommodation"
          ],
          [
           "phq_attendance",
           [
            [
             "2025-05-31",
             "event_day",
             179
            ]
           ],
           "hospitality"
          ],
          [
           "phq_attendance",
           [
            [
             "2025-05-31",
             "event_day",
             179
            ]
           ],
           "retail"
          ]
         ],
         "locality",
         "SG",
         [
          [
           "6295630",
           "6255147",
           "1880251",
           "1880252"
          ]
         ],
         "active",
         true,
         false,
         3215.0,
         [
          0,
          2475,
          740
         ],
         null,
         null,
         null,
         null,
         "PredictHQ",
         "2025-05-26T11:10:48.769Z",
         "2025-05-31",
         "300597"
        ],
        [
         1.279795,
         103.847686,
         0.0,
         "Bni4AgkSe5vPJcWavq",
         "SELF-LOVE AND GRATITUDE SOUND BATH",
         "Sourced from predicthq.com - Come join us for a relaxing sound bath to cultivate self-love and gratitude!",
         "concerts",
         35,
         44,
         169.0,
         [
          [
           null,
           null,
           "n92UGPhhPdTbU6Pijza2YB",
           "2B Stanley St, Singapore 068721",
           null,
           "SPACE2B",
           null,
           "venue"
          ],
          [
           "concerts",
           "Come join us for a relaxing sound bath to cultivate self-love and gratitude!",
           "8avefdQEGS4NAdHeqSe52z",
           "2B Stanley Street, Singapore, 068721, Singapore",
           [
            "concert",
            "event-group",
            "music",
            "religion"
           ],
           "SELF-LOVE AND GRATITUDE SOUND BATH",
           "Asia/Singapore",
           "event-group"
          ]
         ],
         3600,
         "2025-05-31T07:30:00Z",
         "2025-05-31T15:30:00",
         "2025-05-31T08:30:00Z",
         "2025-05-31T16:30:00",
         "2025-05-24T16:37:31Z",
         "2025-05-24T16:30:36Z",
         "Asia/Singapore",
         [
          [
           "phq_attendance",
           [
            [
             "2025-05-31",
             "event_day",
             169
            ]
           ],
           "accommodation"
          ],
          [
           "phq_attendance",
           [
            [
             "2025-05-31",
             "event_day",
             169
            ]
           ],
           "hospitality"
          ],
          [
           "phq_attendance",
           [
            [
             "2025-05-31",
             "event_day",
             169
            ]
           ],
           "retail"
          ]
         ],
         "locality",
         "SG",
         [
          [
           "6295630",
           "6255147",
           "1880251",
           "1880252"
          ]
         ],
         "active",
         true,
         false,
         3035.0,
         [
          0,
          2337,
          698
         ],
         null,
         null,
         null,
         null,
         "PredictHQ",
         "2025-05-26T11:10:48.769Z",
         "2025-05-31",
         "300597"
        ],
        [
         1.4266024,
         103.8383565,
         0.0,
         "7hod4fxkNieSedsEhk",
         "EQ Café - Authenticity: Tapping into what’s real",
         "Sourced from predicthq.com - EQ Cafés are interactive, informal workshops created by Six Seconds, the global nonprofit supporting a more emotionally intelligent world.",
         "conferences",
         29,
         30,
         85.0,
         [
          [
           null,
           null,
           "3BvyGZbZB9Nj8KYQKq3hDgv",
           "30A Yishun Central 1, Singapore 768796",
           null,
           "Tzu Chi Humanistic Youth Centre",
           null,
           "venue"
          ]
         ],
         5400,
         "2025-05-31T06:00:00Z",
         "2025-05-31T14:00:00",
         "2025-05-31T07:30:00Z",
         "2025-05-31T15:30:00",
         "2025-04-17T02:14:35Z",
         "2025-04-17T01:56:56Z",
         "Asia/Singapore",
         [
          [
           "phq_attendance",
           [
            [
             "2025-05-31",
             "event_day",
             85
            ]
           ],
           "accommodation"
          ],
          [
           "phq_attendance",
           [
            [
             "2025-05-31",
             "event_day",
             85
            ]
           ],
           "hospitality"
          ],
          [
           "phq_attendance",
           [
            [
             "2025-05-31",
             "event_day",
             85
            ]
           ],
           "retail"
          ]
         ],
         "locality",
         "SG",
         [
          [
           "6295630",
           "6255147",
           "1880251",
           "1882155"
          ],
          [
           "6295630",
           "6255147",
           "1880251",
           "1880252"
          ]
         ],
         "active",
         true,
         false,
         1820.0,
         [
          0,
          1469,
          351
         ],
         [
          [
           "education-and-careers",
           0.439
          ],
          [
           "lifestyle",
           0.299
          ],
          [
           "art-and-cultural",
           0.262
          ]
         ],
         null,
         null,
         null,
         "PredictHQ",
         "2025-05-26T11:10:48.769Z",
         "2025-05-31",
         "1603568"
        ],
        [
         1.279795,
         103.847686,
         0.0,
         "9LcjXLT8iwEwhEjMPR",
         "CHAKRA HARMONY: A SOUND JOURNEY FOR WELL-BEING AND BALANCE",
         "Sourced from predicthq.com - Unlock the flow of energy and restore harmony within your body through a powerful chakra balancing session.",
         "concerts",
         35,
         44,
         179.0,
         [
          [
           null,
           null,
           "n92UGPhhPdTbU6Pijza2YB",
           "2B Stanley St, Singapore 068721",
           null,
           "SPACE2B",
           null,
           "venue"
          ],
          [
           "concerts",
           "Unlock the flow of energy and restore harmony within your body through a powerful chakra balancing session.",
           "3BDfvS3iPjq7kAz7pb9VKkN",
           "2B Stanley Street, Singapore, 068721, Singapore",
           [
            "concert",
            "event-group",
            "music",
            "religion"
           ],
           "CHAKRA HARMONY: A SOUND JOURNEY FOR WELL-BEING AND BALANCE",
           "Asia/Singapore",
           "event-group"
          ]
         ],
         3600,
         "2025-05-31T06:00:00Z",
         "2025-05-31T14:00:00",
         "2025-05-31T07:00:00Z",
         "2025-05-31T15:00:00",
         "2025-05-24T16:37:08Z",
         "2025-05-24T16:31:13Z",
         "Asia/Singapore",
         [
          [
           "phq_attendance",
           [
            [
             "2025-05-31",
             "event_day",
             179
            ]
           ],
           "accommodation"
          ],
          [
           "phq_attendance",
           [
            [
             "2025-05-31",
             "event_day",
             179
            ]
           ],
           "hospitality"
          ],
          [
           "phq_attendance",
           [
            [
             "2025-05-31",
             "event_day",
             179
            ]
           ],
           "retail"
          ]
         ],
         "locality",
         "SG",
         [
          [
           "6295630",
           "6255147",
           "1880251",
           "1880252"
          ]
         ],
         "active",
         true,
         false,
         3215.0,
         [
          0,
          2475,
          740
         ],
         null,
         null,
         null,
         null,
         "PredictHQ",
         "2025-05-26T11:10:48.769Z",
         "2025-05-31",
         "300597"
        ],
        [
         1.279795,
         103.847686,
         0.0,
         "EoHgPFsTcxA3Nossp9",
         "UNDER THE STARS PLANET SOUND HEALING",
         "Sourced from predicthq.com - Imagine lying down under the stars while tuning into Crystal bowls vibrations and planetary energies..",
         "concerts",
         35,
         44,
         169.0,
         [
          [
           null,
           null,
           "n92UGPhhPdTbU6Pijza2YB",
           "2B Stanley St, Singapore 068721",
           null,
           "SPACE2B",
           null,
           "venue"
          ],
          [
           "concerts",
           "Imagine lying down under the stars while tuning into Crystal bowls vibrations and planetary energies..",
           "sTg7XVvupW54xFXUzr8q65",
           "2B Stanley Street, Singapore, 068721, Singapore",
           [
            "concert",
            "event-group",
            "health",
            "music"
           ],
           "UNDER THE STARS PLANET SOUND HEALING",
           "Asia/Singapore",
           "event-group"
          ]
         ],
         3600,
         "2025-05-28T12:00:00Z",
         "2025-05-28T20:00:00",
         "2025-05-28T13:00:00Z",
         "2025-05-28T21:00:00",
         "2025-05-22T04:25:56Z",
         "2025-05-22T04:25:40Z",
         "Asia/Singapore",
         [
          [
           "phq_attendance",
           [
            [
             "2025-05-28",
             "event_day",
             169
            ]
           ],
           "accommodation"
          ],
          [
           "phq_attendance",
           [
            [
             "2025-05-28",
             "event_day",
             169
            ]
           ],
           "hospitality"
          ],
          [
           "phq_attendance",
           [
            [
             "2025-05-28",
             "event_day",
             169
            ]
           ],
           "retail"
          ]
         ],
         "locality",
         "SG",
         [
          [
           "6295630",
           "6255147",
           "1880251",
           "1880252"
          ]
         ],
         "active",
         true,
         false,
         3035.0,
         [
          0,
          2337,
          698
         ],
         null,
         null,
         null,
         null,
         "PredictHQ",
         "2025-05-26T11:10:48.769Z",
         "2025-05-28",
         "300597"
        ],
        [
         1.279795,
         103.847686,
         0.0,
         "4EuSRkm5D7V9MXSauE",
         "LEMURIAN CRYSTAL TEMPLE- SACRED LIGHT & LOVE CRYSTAL SOUND HEALING",
         "Sourced from predicthq.com - Lemurian Crystal Bowls connect us to the ancient world of Lemuria, where a wealth of knowledge has been preserved since the dawn of time.",
         "concerts",
         39,
         48,
         272.0,
         [
          [
           null,
           null,
           "n92UGPhhPdTbU6Pijza2YB",
           "2B Stanley St, Singapore 068721",
           null,
           "SPACE2B",
           null,
           "venue"
          ],
          [
           "concerts",
           "Lemurian Crystal Bowls connect us to the ancient world of Lemuria, where a wealth of knowledge has been preserved since the dawn of time.",
           "HKr7sAsCEW6yZtBfizbgid",
           "2B Stanley Street, Singapore, 068721, Singapore",
           [
            "concert",
            "event-group",
            "music",
            "religion"
           ],
           "LEMURIAN CRYSTAL TEMPLE- SACRED LIGHT & LOVE CRYSTAL SOUND HEALING",
           "Asia/Singapore",
           "event-group"
          ]
         ],
         3600,
         "2025-05-28T10:30:00Z",
         "2025-05-28T18:30:00",
         "2025-05-28T11:30:00Z",
         "2025-05-28T19:30:00",
         "2025-05-15T03:19:42Z",
         "2025-05-15T03:10:35Z",
         "Asia/Singapore",
         [
          [
           "phq_attendance",
           [
            [
             "2025-05-28",
             "event_day",
             272
            ]
           ],
           "accommodation"
          ],
          [
           "phq_attendance",
           [
            [
             "2025-05-28",
             "event_day",
             272
            ]
           ],
           "hospitality"
          ],
          [
           "phq_attendance",
           [
            [
             "2025-05-28",
             "event_day",
             272
            ]
           ],
           "retail"
          ]
         ],
         "locality",
         "SG",
         [
          [
           "6295630",
           "6255147",
           "1880251",
           "1880252"
          ]
         ],
         "active",
         true,
         false,
         4886.0,
         [
          0,
          3761,
          1124
         ],
         null,
         null,
         null,
         null,
         "PredictHQ",
         "2025-05-26T11:10:48.769Z",
         "2025-05-28",
         "300597"
        ],
        [
         1.279795,
         103.847686,
         0.0,
         "AJmyqco9BGwEedMVCj",
         "Cosmic Resonance Gong Bath",
         "Sourced from predicthq.com - Immerse yourself in an extraordinary sonic experience that resonates with the rhythm of the universe.",
         "concerts",
         35,
         44,
         179.0,
         [
          [
           null,
           null,
           "n92UGPhhPdTbU6Pijza2YB",
           "2B Stanley St, Singapore 068721",
           null,
           "SPACE2B",
           null,
           "venue"
          ],
          [
           "concerts",
           "Immerse yourself in an extraordinary sonic experience that resonates with the rhythm of the universe.",
           "aCLzhNijzhE36Gt3jrc7q5",
           "2B Stanley Street, Singapore, 068721, Singapore",
           [
            "concert",
            "event-group",
            "music",
            "religion"
           ],
           "Cosmic Resonance Gong Bath",
           "Asia/Singapore",
           "event-group"
          ]
         ],
         3600,
         "2025-05-28T06:00:00Z",
         "2025-05-28T14:00:00",
         "2025-05-28T07:00:00Z",
         "2025-05-28T15:00:00",
         "2025-05-22T04:33:23Z",
         "2025-05-22T04:31:40Z",
         "Asia/Singapore",
         [
          [
           "phq_attendance",
           [
            [
             "2025-05-28",
             "event_day",
             179
            ]
           ],
           "accommodation"
          ],
          [
           "phq_attendance",
           [
            [
             "2025-05-28",
             "event_day",
             179
            ]
           ],
           "hospitality"
          ],
          [
           "phq_attendance",
           [
            [
             "2025-05-28",
             "event_day",
             179
            ]
           ],
           "retail"
          ]
         ],
         "locality",
         "SG",
         [
          [
           "6295630",
           "6255147",
           "1880251",
           "1880252"
          ]
         ],
         "active",
         true,
         false,
         3215.0,
         [
          0,
          2475,
          740
         ],
         null,
         null,
         null,
         null,
         "PredictHQ",
         "2025-05-26T11:10:48.769Z",
         "2025-05-28",
         "300597"
        ],
        [
         1.279795,
         103.847686,
         0.0,
         "8FA5uhzup5rubwA9K9",
         "Coming Home to Yourself with Tibetan Singing Bowls",
         "Sourced from predicthq.com - Embark on a transformative sound healing session with Tibetan Singing bowls",
         "concerts",
         35,
         44,
         169.0,
         [
          [
           null,
           null,
           "n92UGPhhPdTbU6Pijza2YB",
           "2B Stanley St, Singapore 068721",
           null,
           "SPACE2B",
           null,
           "venue"
          ],
          [
           "concerts",
           "Embark on a transformative sound healing session with Tibetan Singing bowls",
           "bQ3vFD5Tn7T9yvHWTPfgy5",
           "2B Stanley Street, Singapore, 068721, Singapore",
           [
            "concert",
            "event-group",
            "music",
            "religion"
           ],
           "Coming Home to Yourself with Tibetan Singing Bowls",
           "Asia/Singapore",
           "event-group"
          ]
         ],
         3600,
         "2025-05-28T04:30:00Z",
         "2025-05-28T12:30:00",
         "2025-05-28T05:30:00Z",
         "2025-05-28T13:30:00",
         "2025-05-24T18:53:03Z",
         "2025-05-24T18:52:51Z",
         "Asia/Singapore",
         [
          [
           "phq_attendance",
           [
            [
             "2025-05-28",
             "event_day",
             169
            ]
           ],
           "accommodation"
          ],
          [
           "phq_attendance",
           [
            [
             "2025-05-28",
             "event_day",
             169
            ]
           ],
           "hospitality"
          ],
          [
           "phq_attendance",
           [
            [
             "2025-05-28",
             "event_day",
             169
            ]
           ],
           "retail"
          ]
         ],
         "locality",
         "SG",
         [
          [
           "6295630",
           "6255147",
           "1880251",
           "1880252"
          ]
         ],
         "active",
         true,
         false,
         3035.0,
         [
          0,
          2337,
          698
         ],
         null,
         null,
         null,
         null,
         "PredictHQ",
         "2025-05-26T11:10:48.769Z",
         "2025-05-28",
         "300597"
        ],
        [
         1.279795,
         103.847686,
         0.0,
         "Gijny6ikbFbum6YzPA",
         "GROUND YOURSELF, CLARITY OF MIND – SOUND BATH WITH SINGING BOWLS AND DRUMS",
         "Sourced from predicthq.com - Come into this session, to ground yourself and clear your mind. With singing bowls and ocean drum.",
         "concerts",
         35,
         44,
         169.0,
         [
          [
           null,
           null,
           "n92UGPhhPdTbU6Pijza2YB",
           "2B Stanley St, Singapore 068721",
           null,
           "SPACE2B",
           null,
           "venue"
          ],
          [
           "concerts",
           "Come into this session, to ground yourself and clear your mind. With singing bowls and ocean drum.",
           "9WVWaVMA3g2Ukhm4VJ9akd",
           "2B Stanley Street, Singapore, 068721, Singapore",
           [
            "concert",
            "event-group",
            "music",
            "religion"
           ],
           "GROUND YOURSELF, CLARITY OF MIND – SOUND BATH WITH SINGING BOWLS AND DRUMS",
           "Asia/Singapore",
           "event-group"
          ]
         ],
         3600,
         "2025-05-28T03:00:00Z",
         "2025-05-28T11:00:00",
         "2025-05-28T04:00:00Z",
         "2025-05-28T12:00:00",
         "2025-05-24T18:53:03Z",
         "2025-05-24T18:52:51Z",
         "Asia/Singapore",
         [
          [
           "phq_attendance",
           [
            [
             "2025-05-28",
             "event_day",
             169
            ]
           ],
           "accommodation"
          ],
          [
           "phq_attendance",
           [
            [
             "2025-05-28",
             "event_day",
             169
            ]
           ],
           "hospitality"
          ],
          [
           "phq_attendance",
           [
            [
             "2025-05-28",
             "event_day",
             169
            ]
           ],
           "retail"
          ]
         ],
         "locality",
         "SG",
         [
          [
           "6295630",
           "6255147",
           "1880251",
           "1880252"
          ]
         ],
         "active",
         true,
         false,
         3035.0,
         [
          0,
          2337,
          698
         ],
         null,
         null,
         null,
         null,
         "PredictHQ",
         "2025-05-26T11:10:48.769Z",
         "2025-05-28",
         "300597"
        ],
        [
         1.279795,
         103.847686,
         0.0,
         "HJwN8y3wdHrLSxCH9B",
         "HEAL FROM WITHIN: AFFIRMATIONS + TIBETAN SINGING BOWLS + OCEAN DRUM",
         "Sourced from predicthq.com - This practice allows you to reignite your own self-healing ability.",
         "concerts",
         35,
         44,
         179.0,
         [
          [
           null,
           null,
           "n92UGPhhPdTbU6Pijza2YB",
           "2B Stanley St, Singapore 068721",
           null,
           "SPACE2B",
           null,
           "venue"
          ],
          [
           "concerts",
           "This practice allows you to reignite your own self-healing ability.",
           "usY8XBHsRn9aetZetrMgdt",
           "2B Stanley Street, Singapore, 068721, Singapore",
           [
            "concert",
            "event-group",
            "health",
            "music"
           ],
           "HEAL FROM WITHIN: AFFIRMATIONS + TIBETAN SINGING BOWLS + OCEAN DRUM",
           "Asia/Singapore",
           "event-group"
          ]
         ],
         3600,
         "2025-05-27T12:00:00Z",
         "2025-05-27T20:00:00",
         "2025-05-27T13:00:00Z",
         "2025-05-27T21:00:00",
         "2025-05-22T13:30:44Z",
         "2025-05-22T13:29:22Z",
         "Asia/Singapore",
         [
          [
           "phq_attendance",
           [
            [
             "2025-05-27",
             "event_day",
             179
            ]
           ],
           "accommodation"
          ],
          [
           "phq_attendance",
           [
            [
             "2025-05-27",
             "event_day",
             179
            ]
           ],
           "hospitality"
          ],
          [
           "phq_attendance",
           [
            [
             "2025-05-27",
             "event_day",
             179
            ]
           ],
           "retail"
          ]
         ],
         "locality",
         "SG",
         [
          [
           "6295630",
           "6255147",
           "1880251",
           "1880252"
          ]
         ],
         "active",
         true,
         false,
         3215.0,
         [
          0,
          2475,
          740
         ],
         null,
         null,
         null,
         null,
         "PredictHQ",
         "2025-05-26T11:10:48.769Z",
         "2025-05-27",
         "300597"
        ],
        [
         1.441188,
         103.775964,
         0.0,
         "4fap8QjcxeNsybopy7",
         "How The Top 1% Of Leaders Manage Their Time Like Clockwork Using T5 System",
         "Sourced from predicthq.com - You will learn essential skills that will increase your productivity so you have more margin in your life and business.",
         "conferences",
         29,
         30,
         93.0,
         [],
         3600,
         "2025-05-27T11:00:00Z",
         "2025-05-27T19:00:00",
         "2025-05-27T12:00:00Z",
         "2025-05-27T20:00:00",
         "2025-05-08T02:01:14Z",
         "2025-05-08T02:00:43Z",
         "Asia/Singapore",
         [
          [
           "phq_attendance",
           [
            [
             "2025-05-27",
             "event_day",
             93
            ]
           ],
           "accommodation"
          ],
          [
           "phq_attendance",
           [
            [
             "2025-05-27",
             "event_day",
             93
            ]
           ],
           "hospitality"
          ],
          [
           "phq_attendance",
           [
            [
             "2025-05-27",
             "event_day",
             93
            ]
           ],
           "retail"
          ]
         ],
         "locality",
         "SG",
         [
          [
           "6295630",
           "6255147",
           "1880251",
           "1880469"
          ],
          [
           "6295630",
           "6255147",
           "1880251",
           "1880252"
          ]
         ],
         "active",
         true,
         false,
         1992.0,
         [
          0,
          1607,
          384
         ],
         [
          [
           "education-and-careers",
           1.0
          ]
         ],
         null,
         null,
         null,
         "PredictHQ",
         "2025-05-26T11:10:48.769Z",
         "2025-05-27",
         "300563"
        ]
       ],
       "datasetInfos": [],
       "dbfsResultPath": null,
       "isJsonSchema": true,
       "metadata": {},
       "overflow": false,
       "plotOptions": {
        "customPlotOptions": {},
        "displayType": "table",
        "pivotAggregation": null,
        "pivotColumns": null,
        "xColumns": null,
        "yColumns": null
       },
       "removedWidgets": [],
       "schema": [
        {
         "metadata": "{}",
         "name": "lat",
         "type": "\"double\""
        },
        {
         "metadata": "{}",
         "name": "lon",
         "type": "\"double\""
        },
        {
         "metadata": "{}",
         "name": "relevance",
         "type": "\"double\""
        },
        {
         "metadata": "{}",
         "name": "id",
         "type": "\"string\""
        },
        {
         "metadata": "{}",
         "name": "title",
         "type": "\"string\""
        },
        {
         "metadata": "{}",
         "name": "description",
         "type": "\"string\""
        },
        {
         "metadata": "{}",
         "name": "category",
         "type": "\"string\""
        },
        {
         "metadata": "{}",
         "name": "rank",
         "type": "\"long\""
        },
        {
         "metadata": "{}",
         "name": "local_rank",
         "type": "\"long\""
        },
        {
         "metadata": "{}",
         "name": "phq_attendance",
         "type": "\"double\""
        },
        {
         "metadata": "{}",
         "name": "entities",
         "type": "{\"containsNull\":true,\"elementType\":{\"fields\":[{\"metadata\":{},\"name\":\"category\",\"nullable\":true,\"type\":\"string\"},{\"metadata\":{},\"name\":\"description\",\"nullable\":true,\"type\":\"string\"},{\"metadata\":{},\"name\":\"entity_id\",\"nullable\":true,\"type\":\"string\"},{\"metadata\":{},\"name\":\"formatted_address\",\"nullable\":true,\"type\":\"string\"},{\"metadata\":{},\"name\":\"labels\",\"nullable\":true,\"type\":{\"containsNull\":true,\"elementType\":\"string\",\"type\":\"array\"}},{\"metadata\":{},\"name\":\"name\",\"nullable\":true,\"type\":\"string\"},{\"metadata\":{},\"name\":\"timezone\",\"nullable\":true,\"type\":\"string\"},{\"metadata\":{},\"name\":\"type\",\"nullable\":true,\"type\":\"string\"}],\"type\":\"struct\"},\"type\":\"array\"}"
        },
        {
         "metadata": "{}",
         "name": "duration",
         "type": "\"long\""
        },
        {
         "metadata": "{}",
         "name": "start",
         "type": "\"string\""
        },
        {
         "metadata": "{}",
         "name": "start_local",
         "type": "\"string\""
        },
        {
         "metadata": "{}",
         "name": "end",
         "type": "\"string\""
        },
        {
         "metadata": "{}",
         "name": "end_local",
         "type": "\"string\""
        },
        {
         "metadata": "{}",
         "name": "updated",
         "type": "\"string\""
        },
        {
         "metadata": "{}",
         "name": "first_seen",
         "type": "\"string\""
        },
        {
         "metadata": "{}",
         "name": "timezone",
         "type": "\"string\""
        },
        {
         "metadata": "{}",
         "name": "impact_patterns",
         "type": "{\"containsNull\":true,\"elementType\":{\"fields\":[{\"metadata\":{},\"name\":\"impact_type\",\"nullable\":true,\"type\":\"string\"},{\"metadata\":{},\"name\":\"impacts\",\"nullable\":true,\"type\":{\"containsNull\":true,\"elementType\":{\"fields\":[{\"metadata\":{},\"name\":\"date_local\",\"nullable\":true,\"type\":\"string\"},{\"metadata\":{},\"name\":\"position\",\"nullable\":true,\"type\":\"string\"},{\"metadata\":{},\"name\":\"value\",\"nullable\":true,\"type\":\"long\"}],\"type\":\"struct\"},\"type\":\"array\"}},{\"metadata\":{},\"name\":\"vertical\",\"nullable\":true,\"type\":\"string\"}],\"type\":\"struct\"},\"type\":\"array\"}"
        },
        {
         "metadata": "{}",
         "name": "scope",
         "type": "\"string\""
        },
        {
         "metadata": "{}",
         "name": "country",
         "type": "\"string\""
        },
        {
         "metadata": "{}",
         "name": "place_hierarchies",
         "type": "{\"containsNull\":true,\"elementType\":{\"containsNull\":true,\"elementType\":\"string\",\"type\":\"array\"},\"type\":\"array\"}"
        },
        {
         "metadata": "{}",
         "name": "state",
         "type": "\"string\""
        },
        {
         "metadata": "{}",
         "name": "brand_safe",
         "type": "\"boolean\""
        },
        {
         "metadata": "{}",
         "name": "private",
         "type": "\"boolean\""
        },
        {
         "metadata": "{}",
         "name": "predicted_event_spend",
         "type": "\"double\""
        },
        {
         "metadata": "{}",
         "name": "predicted_event_spend_industries",
         "type": "{\"fields\":[{\"metadata\":{},\"name\":\"accommodation\",\"nullable\":true,\"type\":\"long\"},{\"metadata\":{},\"name\":\"hospitality\",\"nullable\":true,\"type\":\"long\"},{\"metadata\":{},\"name\":\"transportation\",\"nullable\":true,\"type\":\"long\"}],\"type\":\"struct\"}"
        },
        {
         "metadata": "{}",
         "name": "phq_labels",
         "type": "{\"containsNull\":true,\"elementType\":{\"fields\":[{\"metadata\":{},\"name\":\"label\",\"nullable\":true,\"type\":\"string\"},{\"metadata\":{},\"name\":\"weight\",\"nullable\":true,\"type\":\"double\"}],\"type\":\"struct\"},\"type\":\"array\"}"
        },
        {
         "metadata": "{}",
         "name": "predicted_end",
         "type": "\"string\""
        },
        {
         "metadata": "{}",
         "name": "predicted_end_local",
         "type": "\"string\""
        },
        {
         "metadata": "{}",
         "name": "alternate_titles",
         "type": "{\"containsNull\":true,\"elementType\":\"string\",\"type\":\"array\"}"
        },
        {
         "metadata": "{}",
         "name": "source",
         "type": "\"string\""
        },
        {
         "metadata": "{}",
         "name": "ingestion_timestamp",
         "type": "\"timestamp\""
        },
        {
         "metadata": "{}",
         "name": "date_only",
         "type": "\"date\""
        },
        {
         "metadata": "{}",
         "name": "location_key",
         "type": "\"string\""
        }
       ],
       "type": "table"
      }
     },
     "output_type": "display_data"
    }
   ],
   "source": [
    "from pyspark.sql.functions import to_date, to_timestamp\n",
    "\n",
    "\n",
    "coord_location_mapping = {\n",
    "    (1.2456916, 103.8278754): {'location_key': '300597',\n",
    "  'location_name': 'Singapore',\n",
    "  'country': 'Singapore'},\n",
    " (1.279795, 103.847686): {'location_key': '300597',\n",
    "  'location_name': 'Singapore',\n",
    "  'country': 'Singapore'},\n",
    " (1.3337256, 103.8410082): {'location_key': '300597',\n",
    "  'location_name': 'Singapore',\n",
    "  'country': 'Singapore'},\n",
    " (1.4266024, 103.8383565): {'location_key': '1603568',\n",
    "  'location_name': 'Yishun',\n",
    "  'country': 'Singapore'},\n",
    " (1.441188, 103.775964): {'location_key': '300563',\n",
    "  'location_name': 'Woodlands New Town',\n",
    "  'country': 'Singapore'}\n",
    " }\n",
    "\n",
    " #add location key to each row of combined_predict_hq based on lat and long\n",
    "from pyspark.sql import Row\n",
    "\n",
    "# Create mapping as list of Rows\n",
    "mapping_rows = [Row(lat=k[0], lon=k[1], location_key=v['location_key']) for k, v in coord_location_mapping.items()]\n",
    "\n",
    "# Create Spark DataFrame from mapping\n",
    "mapping_df = spark.createDataFrame(mapping_rows)\n",
    "\n",
    "#extract date from timestamp column named \"Date\" in combined_predict_hq_spark\n",
    "combined_predict_hq_spark = combined_predict_hq_spark.withColumn(\"date_only\", to_date(to_timestamp(\"start\")))\n",
    "\n",
    "display(combined_predict_hq_spark)\n",
    "\n",
    "\n",
    "# Join with your main DataFrame on lat and lon\n",
    "df_with_location = combined_predict_hq_spark.join(mapping_df, on=[\"lat\", \"lon\"], how=\"left\")\n",
    "display(df_with_location)\n"
   ]
  },
  {
   "cell_type": "code",
   "execution_count": 0,
   "metadata": {
    "application/vnd.databricks.v1+cell": {
     "cellMetadata": {
      "byteLimit": 2048000,
      "rowLimit": 10000
     },
     "inputWidgets": {},
     "nuid": "1278f4ab-ea07-4ff2-8ac1-6cd619b32f05",
     "showTitle": false,
     "tableResultSettingsMap": {},
     "title": ""
    }
   },
   "outputs": [],
   "source": [
    "spark.sql(\"DROP TABLE IF EXISTS civAI.raw.predict_hq_demo\")\n",
    "df_with_location.write.format('delta').mode(\"overwrite\").option(\"overwriteSchema\", \"true\").saveAsTable(\"civAI.raw.predict_hq_demo\")"
   ]
  },
  {
   "cell_type": "code",
   "execution_count": 0,
   "metadata": {
    "application/vnd.databricks.v1+cell": {
     "cellMetadata": {
      "byteLimit": 2048000,
      "rowLimit": 10000
     },
     "inputWidgets": {},
     "nuid": "91cd8559-36b4-4711-9a5b-ca325e1aed13",
     "showTitle": false,
     "tableResultSettingsMap": {},
     "title": ""
    }
   },
   "outputs": [
    {
     "output_type": "stream",
     "name": "stdout",
     "output_type": "stream",
     "text": [
      "root\n |-- lat: double (nullable = true)\n |-- lon: double (nullable = true)\n |-- relevance: double (nullable = true)\n |-- id: string (nullable = true)\n |-- title: string (nullable = true)\n |-- description: string (nullable = true)\n |-- category: string (nullable = true)\n |-- rank: long (nullable = true)\n |-- local_rank: long (nullable = true)\n |-- phq_attendance: double (nullable = true)\n |-- entities: array (nullable = true)\n |    |-- element: struct (containsNull = true)\n |    |    |-- category: string (nullable = true)\n |    |    |-- description: string (nullable = true)\n |    |    |-- entity_id: string (nullable = true)\n |    |    |-- formatted_address: string (nullable = true)\n |    |    |-- labels: array (nullable = true)\n |    |    |    |-- element: string (containsNull = true)\n |    |    |-- name: string (nullable = true)\n |    |    |-- timezone: string (nullable = true)\n |    |    |-- type: string (nullable = true)\n |-- duration: long (nullable = true)\n |-- start: string (nullable = true)\n |-- start_local: string (nullable = true)\n |-- end: string (nullable = true)\n |-- end_local: string (nullable = true)\n |-- updated: string (nullable = true)\n |-- first_seen: string (nullable = true)\n |-- timezone: string (nullable = true)\n |-- impact_patterns: array (nullable = true)\n |    |-- element: struct (containsNull = true)\n |    |    |-- impact_type: string (nullable = true)\n |    |    |-- impacts: array (nullable = true)\n |    |    |    |-- element: struct (containsNull = true)\n |    |    |    |    |-- date_local: string (nullable = true)\n |    |    |    |    |-- position: string (nullable = true)\n |    |    |    |    |-- value: long (nullable = true)\n |    |    |-- vertical: string (nullable = true)\n |-- scope: string (nullable = true)\n |-- country: string (nullable = true)\n |-- place_hierarchies: array (nullable = true)\n |    |-- element: array (containsNull = true)\n |    |    |-- element: string (containsNull = true)\n |-- state: string (nullable = true)\n |-- brand_safe: boolean (nullable = true)\n |-- private: boolean (nullable = true)\n |-- predicted_event_spend: double (nullable = true)\n |-- predicted_event_spend_industries: struct (nullable = true)\n |    |-- accommodation: long (nullable = true)\n |    |-- hospitality: long (nullable = true)\n |    |-- transportation: long (nullable = true)\n |-- phq_labels: array (nullable = true)\n |    |-- element: struct (containsNull = true)\n |    |    |-- label: string (nullable = true)\n |    |    |-- weight: double (nullable = true)\n |-- predicted_end: string (nullable = true)\n |-- predicted_end_local: string (nullable = true)\n |-- alternate_titles: array (nullable = true)\n |    |-- element: string (containsNull = true)\n |-- source: string (nullable = true)\n |-- ingestion_timestamp: timestamp (nullable = true)\n |-- date_only: date (nullable = true)\n |-- location_key: string (nullable = true)\n\n"
     ]
    }
   ],
   "source": [
    "df_with_location.printSchema()"
   ]
  },
  {
   "cell_type": "code",
   "execution_count": 0,
   "metadata": {
    "application/vnd.databricks.v1+cell": {
     "cellMetadata": {},
     "inputWidgets": {},
     "nuid": "59adbac5-f01e-41db-8cc5-ac8be34a2c14",
     "showTitle": false,
     "tableResultSettingsMap": {},
     "title": ""
    }
   },
   "outputs": [],
   "source": []
  },
  {
   "cell_type": "code",
   "execution_count": 0,
   "metadata": {
    "application/vnd.databricks.v1+cell": {
     "cellMetadata": {},
     "inputWidgets": {},
     "nuid": "2ca60952-6a9a-455d-8aca-3cb353116337",
     "showTitle": false,
     "tableResultSettingsMap": {},
     "title": ""
    }
   },
   "outputs": [],
   "source": []
  },
  {
   "cell_type": "code",
   "execution_count": 0,
   "metadata": {
    "application/vnd.databricks.v1+cell": {
     "cellMetadata": {},
     "inputWidgets": {},
     "nuid": "7f6822b7-397f-4eef-a382-735e344d67c4",
     "showTitle": false,
     "tableResultSettingsMap": {},
     "title": ""
    }
   },
   "outputs": [],
   "source": []
  },
  {
   "cell_type": "code",
   "execution_count": 0,
   "metadata": {
    "application/vnd.databricks.v1+cell": {
     "cellMetadata": {},
     "inputWidgets": {},
     "nuid": "8e52e88e-e60d-4948-9a97-4ac0a62767c4",
     "showTitle": false,
     "tableResultSettingsMap": {},
     "title": ""
    }
   },
   "outputs": [
    {
     "output_type": "execute_result",
     "data": {
      "text/plain": [
       "[Row(lat=1.2456916, lon=103.8278754),\n",
       " Row(lat=1.279795, lon=103.847686),\n",
       " Row(lat=1.3337256, lon=103.8410082),\n",
       " Row(lat=1.4266024, lon=103.8383565),\n",
       " Row(lat=1.441188, lon=103.775964)]"
      ]
     },
     "execution_count": 237,
     "metadata": {},
     "output_type": "execute_result"
    }
   ],
   "source": [
    "unique_lat_long_pairs = combined_predict_hq_spark.select('lat','lon').distinct().collect()\n",
    "len(unique_lat_long_pairs)\n",
    "unique_lat_long_pairs"
   ]
  },
  {
   "cell_type": "code",
   "execution_count": 0,
   "metadata": {
    "application/vnd.databricks.v1+cell": {
     "cellMetadata": {},
     "collapsed": true,
     "inputWidgets": {},
     "nuid": "460f5609-ee05-4ccf-abac-43538dc2c54e",
     "showTitle": false,
     "tableResultSettingsMap": {},
     "title": ""
    }
   },
   "outputs": [],
   "source": [
    "unique_lat_long_pairs=[(1.2456916,103.8278754),\n",
    "(1.279795,103.847686),\n",
    "(1.3337256,103.8410082),\n",
    "(1.4266024,103.8383565),\n",
    "(1.441188,103.775964)]\n"
   ]
  },
  {
   "cell_type": "code",
   "execution_count": 0,
   "metadata": {
    "application/vnd.databricks.v1+cell": {
     "cellMetadata": {
      "byteLimit": 2048000,
      "rowLimit": 10000
     },
     "inputWidgets": {},
     "nuid": "4cfe17d3-da12-492d-a136-aa357abb3bbc",
     "showTitle": false,
     "tableResultSettingsMap": {},
     "title": ""
    }
   },
   "outputs": [
    {
     "output_type": "stream",
     "name": "stdout",
     "output_type": "stream",
     "text": [
      "{'apikey': 'aACDtSGWzTBo3l5AJXWBNc9E1fHvrxB1', 'q': '1.2456916,103.8278754', 'details': 'false', 'toplevel': 'true'}\nlocation data present\n{'apikey': 'aACDtSGWzTBo3l5AJXWBNc9E1fHvrxB1', 'q': '1.279795,103.847686', 'details': 'false', 'toplevel': 'true'}\nlocation data present\n{'apikey': 'aACDtSGWzTBo3l5AJXWBNc9E1fHvrxB1', 'q': '1.3337256,103.8410082', 'details': 'false', 'toplevel': 'true'}\nlocation data present\n{'apikey': 'aACDtSGWzTBo3l5AJXWBNc9E1fHvrxB1', 'q': '1.4266024,103.8383565', 'details': 'false', 'toplevel': 'true'}\nlocation data present\n{'apikey': 'aACDtSGWzTBo3l5AJXWBNc9E1fHvrxB1', 'q': '1.441188,103.775964', 'details': 'false', 'toplevel': 'true'}\nlocation data present\n"
     ]
    }
   ],
   "source": [
    "import requests\n",
    "import json\n",
    "\n",
    "coord_location_mapping = {}\n",
    "geoposition_search_url = \"http://dataservice.accuweather.com/locations/v1/cities/geoposition/search\"\n",
    "new_api_key = 'aACDtSGWzTBo3l5AJXWBNc9E1fHvrxB1'\n",
    "# for i in unique_lat_long_pairs:\n",
    "#     latitude, longitude = i.lat, i.lon\n",
    "for latitude, longitude in unique_lat_long_pairs:\n",
    "    params_geoposition = {\n",
    "        \"apikey\": new_api_key,\n",
    "        \"q\": f\"{float(latitude)},{float(longitude)}\", # Latitude,Longitude format\n",
    "        \"details\": \"false\", # Set to true for more location details if needed\n",
    "        \"toplevel\": \"true\" # Returns the highest rank city (e.g., New York, not a neighborhood)\n",
    "    }\n",
    "    print(params_geoposition)\n",
    "    try:\n",
    "        response_geoposition = requests.get(geoposition_search_url, params=params_geoposition)\n",
    "        #response_geoposition.raise_for_status() # Raise an exception for HTTP errors\n",
    "        #print(\"response : \",response_geoposition)\n",
    "        location_data = response_geoposition.json()\n",
    "        #print(location_data)\n",
    "    \n",
    "        if location_data:\n",
    "            print(\"location data present\")\n",
    "            # AccuWeather Geoposition Search returns a list of matching locations.\n",
    "            # We usually take the first one, which is typically the most relevant.\n",
    "            location_key = location_data['Key']\n",
    "            location_name = location_data['EnglishName']\n",
    "            country = location_data['Country']['EnglishName']\n",
    "            admin_area = location_data['AdministrativeArea']['EnglishName']\n",
    "            coord_location_mapping[(latitude,longitude)] = {\n",
    "                \"location_key\": location_key,\n",
    "                \"location_name\": location_name,\n",
    "                \"country\": country\n",
    "                }\n",
    "            #print(coord_location_key)\n",
    "        else:\n",
    "            print(f\"No location data found for coordinates: {latitude},{longitude}\")\n",
    "    except Exception as e:\n",
    "        print('Exception for coordinates: ({latitude},{longitude})')\n",
    "        print(e)"
   ]
  },
  {
   "cell_type": "code",
   "execution_count": 0,
   "metadata": {
    "application/vnd.databricks.v1+cell": {
     "cellMetadata": {
      "byteLimit": 2048000,
      "rowLimit": 10000
     },
     "inputWidgets": {},
     "nuid": "7845c2b7-1511-44aa-afc1-e8b45366b3f0",
     "showTitle": false,
     "tableResultSettingsMap": {},
     "title": ""
    }
   },
   "outputs": [
    {
     "output_type": "execute_result",
     "data": {
      "text/plain": [
       "{(1.2456916, 103.8278754): {'location_key': '300597',\n",
       "  'location_name': 'Singapore',\n",
       "  'country': 'Singapore'},\n",
       " (1.279795, 103.847686): {'location_key': '300597',\n",
       "  'location_name': 'Singapore',\n",
       "  'country': 'Singapore'},\n",
       " (1.3337256, 103.8410082): {'location_key': '300597',\n",
       "  'location_name': 'Singapore',\n",
       "  'country': 'Singapore'},\n",
       " (1.4266024, 103.8383565): {'location_key': '1603568',\n",
       "  'location_name': 'Yishun',\n",
       "  'country': 'Singapore'},\n",
       " (1.441188, 103.775964): {'location_key': '300563',\n",
       "  'location_name': 'Woodlands New Town',\n",
       "  'country': 'Singapore'}}"
      ]
     },
     "execution_count": 239,
     "metadata": {},
     "output_type": "execute_result"
    }
   ],
   "source": [
    "coord_location_mapping"
   ]
  },
  {
   "cell_type": "code",
   "execution_count": 0,
   "metadata": {
    "application/vnd.databricks.v1+cell": {
     "cellMetadata": {
      "byteLimit": 2048000,
      "rowLimit": 10000
     },
     "inputWidgets": {},
     "nuid": "fbfb5851-fe6a-4a4e-84f0-8cf14db858c6",
     "showTitle": false,
     "tableResultSettingsMap": {},
     "title": ""
    }
   },
   "outputs": [],
   "source": [
    "location_keys = ['300597','1603568','300563']\n",
    "forecast_data = {}\n",
    "for key in location_keys:\n",
    "    url = f\"http://dataservice.accuweather.com/forecasts/v1/daily/5day/{key}?apikey={new_api_key}&metric=true\"\n",
    "    response = requests.get(url)\n",
    "    forecast_data[key] = response.json()\n"
   ]
  },
  {
   "cell_type": "code",
   "execution_count": 0,
   "metadata": {
    "application/vnd.databricks.v1+cell": {
     "cellMetadata": {
      "byteLimit": 2048000,
      "rowLimit": 10000
     },
     "inputWidgets": {},
     "nuid": "ac164bd6-d36d-49f1-a1b0-d37b47f43bdd",
     "showTitle": false,
     "tableResultSettingsMap": {},
     "title": ""
    }
   },
   "outputs": [
    {
     "output_type": "execute_result",
     "data": {
      "text/plain": [
       "{'300597': {'Headline': {'EffectiveDate': '2025-05-29T07:00:00+08:00',\n",
       "   'EffectiveEpochDate': 1748473200,\n",
       "   'Severity': 2,\n",
       "   'Text': 'Thunderstorms, some heavy, Thursday morning',\n",
       "   'Category': 'thunderstorm',\n",
       "   'EndDate': '2025-05-29T13:00:00+08:00',\n",
       "   'EndEpochDate': 1748494800,\n",
       "   'MobileLink': 'http://www.accuweather.com/en/sg/singapore/300597/daily-weather-forecast/300597?unit=c&lang=en-us',\n",
       "   'Link': 'http://www.accuweather.com/en/sg/singapore/300597/daily-weather-forecast/300597?unit=c&lang=en-us'},\n",
       "  'DailyForecasts': [{'Date': '2025-05-28T07:00:00+08:00',\n",
       "    'EpochDate': 1748386800,\n",
       "    'Temperature': {'Minimum': {'Value': 27.7, 'Unit': 'C', 'UnitType': 17},\n",
       "     'Maximum': {'Value': 33.6, 'Unit': 'C', 'UnitType': 17}},\n",
       "    'Day': {'Icon': 17,\n",
       "     'IconPhrase': 'Partly sunny w/ t-storms',\n",
       "     'HasPrecipitation': True,\n",
       "     'PrecipitationType': 'Rain',\n",
       "     'PrecipitationIntensity': 'Light'},\n",
       "    'Night': {'Icon': 36,\n",
       "     'IconPhrase': 'Intermittent clouds',\n",
       "     'HasPrecipitation': False},\n",
       "    'Sources': ['AccuWeather'],\n",
       "    'MobileLink': 'http://www.accuweather.com/en/sg/singapore/300597/daily-weather-forecast/300597?day=1&unit=c&lang=en-us',\n",
       "    'Link': 'http://www.accuweather.com/en/sg/singapore/300597/daily-weather-forecast/300597?day=1&unit=c&lang=en-us'},\n",
       "   {'Date': '2025-05-29T07:00:00+08:00',\n",
       "    'EpochDate': 1748473200,\n",
       "    'Temperature': {'Minimum': {'Value': 26.6, 'Unit': 'C', 'UnitType': 17},\n",
       "     'Maximum': {'Value': 31.1, 'Unit': 'C', 'UnitType': 17}},\n",
       "    'Day': {'Icon': 15,\n",
       "     'IconPhrase': 'Thunderstorms',\n",
       "     'HasPrecipitation': True,\n",
       "     'PrecipitationType': 'Rain',\n",
       "     'PrecipitationIntensity': 'Heavy'},\n",
       "    'Night': {'Icon': 7, 'IconPhrase': 'Cloudy', 'HasPrecipitation': False},\n",
       "    'Sources': ['AccuWeather'],\n",
       "    'MobileLink': 'http://www.accuweather.com/en/sg/singapore/300597/daily-weather-forecast/300597?day=2&unit=c&lang=en-us',\n",
       "    'Link': 'http://www.accuweather.com/en/sg/singapore/300597/daily-weather-forecast/300597?day=2&unit=c&lang=en-us'},\n",
       "   {'Date': '2025-05-30T07:00:00+08:00',\n",
       "    'EpochDate': 1748559600,\n",
       "    'Temperature': {'Minimum': {'Value': 27.1, 'Unit': 'C', 'UnitType': 17},\n",
       "     'Maximum': {'Value': 32.9, 'Unit': 'C', 'UnitType': 17}},\n",
       "    'Day': {'Icon': 15,\n",
       "     'IconPhrase': 'Thunderstorms',\n",
       "     'HasPrecipitation': True,\n",
       "     'PrecipitationType': 'Rain',\n",
       "     'PrecipitationIntensity': 'Light'},\n",
       "    'Night': {'Icon': 42,\n",
       "     'IconPhrase': 'Mostly cloudy w/ t-storms',\n",
       "     'HasPrecipitation': True,\n",
       "     'PrecipitationType': 'Rain',\n",
       "     'PrecipitationIntensity': 'Heavy'},\n",
       "    'Sources': ['AccuWeather'],\n",
       "    'MobileLink': 'http://www.accuweather.com/en/sg/singapore/300597/daily-weather-forecast/300597?day=3&unit=c&lang=en-us',\n",
       "    'Link': 'http://www.accuweather.com/en/sg/singapore/300597/daily-weather-forecast/300597?day=3&unit=c&lang=en-us'},\n",
       "   {'Date': '2025-05-31T07:00:00+08:00',\n",
       "    'EpochDate': 1748646000,\n",
       "    'Temperature': {'Minimum': {'Value': 27.3, 'Unit': 'C', 'UnitType': 17},\n",
       "     'Maximum': {'Value': 33.1, 'Unit': 'C', 'UnitType': 17}},\n",
       "    'Day': {'Icon': 7,\n",
       "     'IconPhrase': 'Cloudy',\n",
       "     'HasPrecipitation': True,\n",
       "     'PrecipitationType': 'Rain',\n",
       "     'PrecipitationIntensity': 'Heavy'},\n",
       "    'Night': {'Icon': 38,\n",
       "     'IconPhrase': 'Mostly cloudy',\n",
       "     'HasPrecipitation': False},\n",
       "    'Sources': ['AccuWeather'],\n",
       "    'MobileLink': 'http://www.accuweather.com/en/sg/singapore/300597/daily-weather-forecast/300597?day=4&unit=c&lang=en-us',\n",
       "    'Link': 'http://www.accuweather.com/en/sg/singapore/300597/daily-weather-forecast/300597?day=4&unit=c&lang=en-us'},\n",
       "   {'Date': '2025-06-01T07:00:00+08:00',\n",
       "    'EpochDate': 1748732400,\n",
       "    'Temperature': {'Minimum': {'Value': 27.5, 'Unit': 'C', 'UnitType': 17},\n",
       "     'Maximum': {'Value': 33.6, 'Unit': 'C', 'UnitType': 17}},\n",
       "    'Day': {'Icon': 4,\n",
       "     'IconPhrase': 'Intermittent clouds',\n",
       "     'HasPrecipitation': False},\n",
       "    'Night': {'Icon': 35,\n",
       "     'IconPhrase': 'Partly cloudy',\n",
       "     'HasPrecipitation': False},\n",
       "    'Sources': ['AccuWeather'],\n",
       "    'MobileLink': 'http://www.accuweather.com/en/sg/singapore/300597/daily-weather-forecast/300597?day=5&unit=c&lang=en-us',\n",
       "    'Link': 'http://www.accuweather.com/en/sg/singapore/300597/daily-weather-forecast/300597?day=5&unit=c&lang=en-us'}]},\n",
       " '1603568': {'Headline': {'EffectiveDate': '2025-05-29T07:00:00+08:00',\n",
       "   'EffectiveEpochDate': 1748473200,\n",
       "   'Severity': 2,\n",
       "   'Text': 'Thunderstorms, some heavy, Thursday morning',\n",
       "   'Category': 'thunderstorm',\n",
       "   'EndDate': '2025-05-29T13:00:00+08:00',\n",
       "   'EndEpochDate': 1748494800,\n",
       "   'MobileLink': 'http://www.accuweather.com/en/sg/yishun/1603568/daily-weather-forecast/1603568?unit=c&lang=en-us',\n",
       "   'Link': 'http://www.accuweather.com/en/sg/yishun/1603568/daily-weather-forecast/1603568?unit=c&lang=en-us'},\n",
       "  'DailyForecasts': [{'Date': '2025-05-28T07:00:00+08:00',\n",
       "    'EpochDate': 1748386800,\n",
       "    'Temperature': {'Minimum': {'Value': 27.5, 'Unit': 'C', 'UnitType': 17},\n",
       "     'Maximum': {'Value': 33.4, 'Unit': 'C', 'UnitType': 17}},\n",
       "    'Day': {'Icon': 17,\n",
       "     'IconPhrase': 'Partly sunny w/ t-storms',\n",
       "     'HasPrecipitation': True,\n",
       "     'PrecipitationType': 'Rain',\n",
       "     'PrecipitationIntensity': 'Light'},\n",
       "    'Night': {'Icon': 42,\n",
       "     'IconPhrase': 'Mostly cloudy w/ t-storms',\n",
       "     'HasPrecipitation': True,\n",
       "     'PrecipitationType': 'Rain',\n",
       "     'PrecipitationIntensity': 'Moderate'},\n",
       "    'Sources': ['AccuWeather'],\n",
       "    'MobileLink': 'http://www.accuweather.com/en/sg/yishun/1603568/daily-weather-forecast/1603568?day=1&unit=c&lang=en-us',\n",
       "    'Link': 'http://www.accuweather.com/en/sg/yishun/1603568/daily-weather-forecast/1603568?day=1&unit=c&lang=en-us'},\n",
       "   {'Date': '2025-05-29T07:00:00+08:00',\n",
       "    'EpochDate': 1748473200,\n",
       "    'Temperature': {'Minimum': {'Value': 26.5, 'Unit': 'C', 'UnitType': 17},\n",
       "     'Maximum': {'Value': 31.1, 'Unit': 'C', 'UnitType': 17}},\n",
       "    'Day': {'Icon': 15,\n",
       "     'IconPhrase': 'Thunderstorms',\n",
       "     'HasPrecipitation': True,\n",
       "     'PrecipitationType': 'Rain',\n",
       "     'PrecipitationIntensity': 'Heavy'},\n",
       "    'Night': {'Icon': 7, 'IconPhrase': 'Cloudy', 'HasPrecipitation': False},\n",
       "    'Sources': ['AccuWeather'],\n",
       "    'MobileLink': 'http://www.accuweather.com/en/sg/yishun/1603568/daily-weather-forecast/1603568?day=2&unit=c&lang=en-us',\n",
       "    'Link': 'http://www.accuweather.com/en/sg/yishun/1603568/daily-weather-forecast/1603568?day=2&unit=c&lang=en-us'},\n",
       "   {'Date': '2025-05-30T07:00:00+08:00',\n",
       "    'EpochDate': 1748559600,\n",
       "    'Temperature': {'Minimum': {'Value': 27.0, 'Unit': 'C', 'UnitType': 17},\n",
       "     'Maximum': {'Value': 32.9, 'Unit': 'C', 'UnitType': 17}},\n",
       "    'Day': {'Icon': 15,\n",
       "     'IconPhrase': 'Thunderstorms',\n",
       "     'HasPrecipitation': True,\n",
       "     'PrecipitationType': 'Rain',\n",
       "     'PrecipitationIntensity': 'Light'},\n",
       "    'Night': {'Icon': 35,\n",
       "     'IconPhrase': 'Partly cloudy',\n",
       "     'HasPrecipitation': False},\n",
       "    'Sources': ['AccuWeather'],\n",
       "    'MobileLink': 'http://www.accuweather.com/en/sg/yishun/1603568/daily-weather-forecast/1603568?day=3&unit=c&lang=en-us',\n",
       "    'Link': 'http://www.accuweather.com/en/sg/yishun/1603568/daily-weather-forecast/1603568?day=3&unit=c&lang=en-us'},\n",
       "   {'Date': '2025-05-31T07:00:00+08:00',\n",
       "    'EpochDate': 1748646000,\n",
       "    'Temperature': {'Minimum': {'Value': 27.1, 'Unit': 'C', 'UnitType': 17},\n",
       "     'Maximum': {'Value': 33.1, 'Unit': 'C', 'UnitType': 17}},\n",
       "    'Day': {'Icon': 7,\n",
       "     'IconPhrase': 'Cloudy',\n",
       "     'HasPrecipitation': True,\n",
       "     'PrecipitationType': 'Rain',\n",
       "     'PrecipitationIntensity': 'Heavy'},\n",
       "    'Night': {'Icon': 38,\n",
       "     'IconPhrase': 'Mostly cloudy',\n",
       "     'HasPrecipitation': False},\n",
       "    'Sources': ['AccuWeather'],\n",
       "    'MobileLink': 'http://www.accuweather.com/en/sg/yishun/1603568/daily-weather-forecast/1603568?day=4&unit=c&lang=en-us',\n",
       "    'Link': 'http://www.accuweather.com/en/sg/yishun/1603568/daily-weather-forecast/1603568?day=4&unit=c&lang=en-us'},\n",
       "   {'Date': '2025-06-01T07:00:00+08:00',\n",
       "    'EpochDate': 1748732400,\n",
       "    'Temperature': {'Minimum': {'Value': 27.3, 'Unit': 'C', 'UnitType': 17},\n",
       "     'Maximum': {'Value': 33.7, 'Unit': 'C', 'UnitType': 17}},\n",
       "    'Day': {'Icon': 4,\n",
       "     'IconPhrase': 'Intermittent clouds',\n",
       "     'HasPrecipitation': False},\n",
       "    'Night': {'Icon': 35,\n",
       "     'IconPhrase': 'Partly cloudy',\n",
       "     'HasPrecipitation': False},\n",
       "    'Sources': ['AccuWeather'],\n",
       "    'MobileLink': 'http://www.accuweather.com/en/sg/yishun/1603568/daily-weather-forecast/1603568?day=5&unit=c&lang=en-us',\n",
       "    'Link': 'http://www.accuweather.com/en/sg/yishun/1603568/daily-weather-forecast/1603568?day=5&unit=c&lang=en-us'}]},\n",
       " '300563': {'Headline': {'EffectiveDate': '2025-05-29T07:00:00+08:00',\n",
       "   'EffectiveEpochDate': 1748473200,\n",
       "   'Severity': 5,\n",
       "   'Text': 'A thunderstorm Thursday',\n",
       "   'Category': 'thunderstorm',\n",
       "   'EndDate': '2025-05-29T19:00:00+08:00',\n",
       "   'EndEpochDate': 1748516400,\n",
       "   'MobileLink': 'http://www.accuweather.com/en/sg/woodlands-new-town/300563/daily-weather-forecast/300563?unit=c&lang=en-us',\n",
       "   'Link': 'http://www.accuweather.com/en/sg/woodlands-new-town/300563/daily-weather-forecast/300563?unit=c&lang=en-us'},\n",
       "  'DailyForecasts': [{'Date': '2025-05-28T07:00:00+08:00',\n",
       "    'EpochDate': 1748386800,\n",
       "    'Temperature': {'Minimum': {'Value': 26.9, 'Unit': 'C', 'UnitType': 17},\n",
       "     'Maximum': {'Value': 33.9, 'Unit': 'C', 'UnitType': 17}},\n",
       "    'Day': {'Icon': 17,\n",
       "     'IconPhrase': 'Partly sunny w/ t-storms',\n",
       "     'HasPrecipitation': True,\n",
       "     'PrecipitationType': 'Rain',\n",
       "     'PrecipitationIntensity': 'Moderate'},\n",
       "    'Night': {'Icon': 35,\n",
       "     'IconPhrase': 'Partly cloudy',\n",
       "     'HasPrecipitation': False},\n",
       "    'Sources': ['AccuWeather'],\n",
       "    'MobileLink': 'http://www.accuweather.com/en/sg/woodlands-new-town/300563/daily-weather-forecast/300563?day=1&unit=c&lang=en-us',\n",
       "    'Link': 'http://www.accuweather.com/en/sg/woodlands-new-town/300563/daily-weather-forecast/300563?day=1&unit=c&lang=en-us'},\n",
       "   {'Date': '2025-05-29T07:00:00+08:00',\n",
       "    'EpochDate': 1748473200,\n",
       "    'Temperature': {'Minimum': {'Value': 26.1, 'Unit': 'C', 'UnitType': 17},\n",
       "     'Maximum': {'Value': 31.4, 'Unit': 'C', 'UnitType': 17}},\n",
       "    'Day': {'Icon': 15,\n",
       "     'IconPhrase': 'Thunderstorms',\n",
       "     'HasPrecipitation': True,\n",
       "     'PrecipitationType': 'Rain',\n",
       "     'PrecipitationIntensity': 'Moderate'},\n",
       "    'Night': {'Icon': 7, 'IconPhrase': 'Cloudy', 'HasPrecipitation': False},\n",
       "    'Sources': ['AccuWeather'],\n",
       "    'MobileLink': 'http://www.accuweather.com/en/sg/woodlands-new-town/300563/daily-weather-forecast/300563?day=2&unit=c&lang=en-us',\n",
       "    'Link': 'http://www.accuweather.com/en/sg/woodlands-new-town/300563/daily-weather-forecast/300563?day=2&unit=c&lang=en-us'},\n",
       "   {'Date': '2025-05-30T07:00:00+08:00',\n",
       "    'EpochDate': 1748559600,\n",
       "    'Temperature': {'Minimum': {'Value': 26.9, 'Unit': 'C', 'UnitType': 17},\n",
       "     'Maximum': {'Value': 33.1, 'Unit': 'C', 'UnitType': 17}},\n",
       "    'Day': {'Icon': 15,\n",
       "     'IconPhrase': 'Thunderstorms',\n",
       "     'HasPrecipitation': True,\n",
       "     'PrecipitationType': 'Rain',\n",
       "     'PrecipitationIntensity': 'Moderate'},\n",
       "    'Night': {'Icon': 35,\n",
       "     'IconPhrase': 'Partly cloudy',\n",
       "     'HasPrecipitation': False},\n",
       "    'Sources': ['AccuWeather'],\n",
       "    'MobileLink': 'http://www.accuweather.com/en/sg/woodlands-new-town/300563/daily-weather-forecast/300563?day=3&unit=c&lang=en-us',\n",
       "    'Link': 'http://www.accuweather.com/en/sg/woodlands-new-town/300563/daily-weather-forecast/300563?day=3&unit=c&lang=en-us'},\n",
       "   {'Date': '2025-05-31T07:00:00+08:00',\n",
       "    'EpochDate': 1748646000,\n",
       "    'Temperature': {'Minimum': {'Value': 26.9, 'Unit': 'C', 'UnitType': 17},\n",
       "     'Maximum': {'Value': 33.2, 'Unit': 'C', 'UnitType': 17}},\n",
       "    'Day': {'Icon': 15,\n",
       "     'IconPhrase': 'Thunderstorms',\n",
       "     'HasPrecipitation': True,\n",
       "     'PrecipitationType': 'Rain',\n",
       "     'PrecipitationIntensity': 'Heavy'},\n",
       "    'Night': {'Icon': 35,\n",
       "     'IconPhrase': 'Partly cloudy',\n",
       "     'HasPrecipitation': False},\n",
       "    'Sources': ['AccuWeather'],\n",
       "    'MobileLink': 'http://www.accuweather.com/en/sg/woodlands-new-town/300563/daily-weather-forecast/300563?day=4&unit=c&lang=en-us',\n",
       "    'Link': 'http://www.accuweather.com/en/sg/woodlands-new-town/300563/daily-weather-forecast/300563?day=4&unit=c&lang=en-us'},\n",
       "   {'Date': '2025-06-01T07:00:00+08:00',\n",
       "    'EpochDate': 1748732400,\n",
       "    'Temperature': {'Minimum': {'Value': 26.9, 'Unit': 'C', 'UnitType': 17},\n",
       "     'Maximum': {'Value': 33.7, 'Unit': 'C', 'UnitType': 17}},\n",
       "    'Day': {'Icon': 3,\n",
       "     'IconPhrase': 'Partly sunny',\n",
       "     'HasPrecipitation': True,\n",
       "     'PrecipitationType': 'Rain',\n",
       "     'PrecipitationIntensity': 'Light'},\n",
       "    'Night': {'Icon': 35,\n",
       "     'IconPhrase': 'Partly cloudy',\n",
       "     'HasPrecipitation': False},\n",
       "    'Sources': ['AccuWeather'],\n",
       "    'MobileLink': 'http://www.accuweather.com/en/sg/woodlands-new-town/300563/daily-weather-forecast/300563?day=5&unit=c&lang=en-us',\n",
       "    'Link': 'http://www.accuweather.com/en/sg/woodlands-new-town/300563/daily-weather-forecast/300563?day=5&unit=c&lang=en-us'}]}}"
      ]
     },
     "execution_count": 251,
     "metadata": {},
     "output_type": "execute_result"
    }
   ],
   "source": [
    "forecast_data"
   ]
  },
  {
   "cell_type": "code",
   "execution_count": 0,
   "metadata": {
    "application/vnd.databricks.v1+cell": {
     "cellMetadata": {
      "byteLimit": 2048000,
      "rowLimit": 10000
     },
     "inputWidgets": {},
     "nuid": "d44353ec-33d0-4c80-a20a-bf4fbfc0cc66",
     "showTitle": false,
     "tableResultSettingsMap": {},
     "title": ""
    }
   },
   "outputs": [
    {
     "output_type": "display_data",
     "data": {
      "text/html": [
       "<style scoped>\n",
       "  .table-result-container {\n",
       "    max-height: 300px;\n",
       "    overflow: auto;\n",
       "  }\n",
       "  table, th, td {\n",
       "    border: 1px solid black;\n",
       "    border-collapse: collapse;\n",
       "  }\n",
       "  th, td {\n",
       "    padding: 5px;\n",
       "  }\n",
       "  th {\n",
       "    text-align: left;\n",
       "  }\n",
       "</style><div class='table-result-container'><table class='table-result'><thead style='background-color: white'><tr><th>Date</th><th>day_IconPhrase</th><th>day_PrecipitationIntensity</th><th>day_PrecipitationType</th><th>location_key</th><th>max_temperature</th><th>min_temperature</th><th>night_IconPhrase</th><th>night_PrecipitationIntensity</th><th>night_PrecipitationType</th></tr></thead><tbody><tr><td>2025-05-28T07:00:00+08:00</td><td>Partly sunny w/ t-storms</td><td>Light</td><td>Rain</td><td>300597</td><td>33.6</td><td>27.7</td><td>Intermittent clouds</td><td>NA</td><td>NA</td></tr><tr><td>2025-05-29T07:00:00+08:00</td><td>Thunderstorms</td><td>Heavy</td><td>Rain</td><td>300597</td><td>31.1</td><td>26.6</td><td>Cloudy</td><td>NA</td><td>NA</td></tr><tr><td>2025-05-30T07:00:00+08:00</td><td>Thunderstorms</td><td>Light</td><td>Rain</td><td>300597</td><td>32.9</td><td>27.1</td><td>Mostly cloudy w/ t-storms</td><td>Heavy</td><td>Rain</td></tr><tr><td>2025-05-31T07:00:00+08:00</td><td>Cloudy</td><td>Heavy</td><td>Rain</td><td>300597</td><td>33.1</td><td>27.3</td><td>Mostly cloudy</td><td>NA</td><td>NA</td></tr><tr><td>2025-06-01T07:00:00+08:00</td><td>Intermittent clouds</td><td>NA</td><td>NA</td><td>300597</td><td>33.6</td><td>27.5</td><td>Partly cloudy</td><td>NA</td><td>NA</td></tr><tr><td>2025-05-28T07:00:00+08:00</td><td>Partly sunny w/ t-storms</td><td>Light</td><td>Rain</td><td>1603568</td><td>33.4</td><td>27.5</td><td>Mostly cloudy w/ t-storms</td><td>Moderate</td><td>Rain</td></tr><tr><td>2025-05-29T07:00:00+08:00</td><td>Thunderstorms</td><td>Heavy</td><td>Rain</td><td>1603568</td><td>31.1</td><td>26.5</td><td>Cloudy</td><td>NA</td><td>NA</td></tr><tr><td>2025-05-30T07:00:00+08:00</td><td>Thunderstorms</td><td>Light</td><td>Rain</td><td>1603568</td><td>32.9</td><td>27.0</td><td>Partly cloudy</td><td>NA</td><td>NA</td></tr><tr><td>2025-05-31T07:00:00+08:00</td><td>Cloudy</td><td>Heavy</td><td>Rain</td><td>1603568</td><td>33.1</td><td>27.1</td><td>Mostly cloudy</td><td>NA</td><td>NA</td></tr><tr><td>2025-06-01T07:00:00+08:00</td><td>Intermittent clouds</td><td>NA</td><td>NA</td><td>1603568</td><td>33.7</td><td>27.3</td><td>Partly cloudy</td><td>NA</td><td>NA</td></tr><tr><td>2025-05-28T07:00:00+08:00</td><td>Partly sunny w/ t-storms</td><td>Moderate</td><td>Rain</td><td>300563</td><td>33.9</td><td>26.9</td><td>Partly cloudy</td><td>NA</td><td>NA</td></tr><tr><td>2025-05-29T07:00:00+08:00</td><td>Thunderstorms</td><td>Moderate</td><td>Rain</td><td>300563</td><td>31.4</td><td>26.1</td><td>Cloudy</td><td>NA</td><td>NA</td></tr><tr><td>2025-05-30T07:00:00+08:00</td><td>Thunderstorms</td><td>Moderate</td><td>Rain</td><td>300563</td><td>33.1</td><td>26.9</td><td>Partly cloudy</td><td>NA</td><td>NA</td></tr><tr><td>2025-05-31T07:00:00+08:00</td><td>Thunderstorms</td><td>Heavy</td><td>Rain</td><td>300563</td><td>33.2</td><td>26.9</td><td>Partly cloudy</td><td>NA</td><td>NA</td></tr><tr><td>2025-06-01T07:00:00+08:00</td><td>Partly sunny</td><td>Light</td><td>Rain</td><td>300563</td><td>33.7</td><td>26.9</td><td>Partly cloudy</td><td>NA</td><td>NA</td></tr></tbody></table></div>"
      ]
     },
     "metadata": {
      "application/vnd.databricks.v1+output": {
       "addedWidgets": {},
       "aggData": [],
       "aggError": "",
       "aggOverflow": false,
       "aggSchema": [],
       "aggSeriesLimitReached": false,
       "aggType": "",
       "arguments": {},
       "columnCustomDisplayInfos": {},
       "data": [
        [
         "2025-05-28T07:00:00+08:00",
         "Partly sunny w/ t-storms",
         "Light",
         "Rain",
         "300597",
         33.6,
         27.7,
         "Intermittent clouds",
         "NA",
         "NA"
        ],
        [
         "2025-05-29T07:00:00+08:00",
         "Thunderstorms",
         "Heavy",
         "Rain",
         "300597",
         31.1,
         26.6,
         "Cloudy",
         "NA",
         "NA"
        ],
        [
         "2025-05-30T07:00:00+08:00",
         "Thunderstorms",
         "Light",
         "Rain",
         "300597",
         32.9,
         27.1,
         "Mostly cloudy w/ t-storms",
         "Heavy",
         "Rain"
        ],
        [
         "2025-05-31T07:00:00+08:00",
         "Cloudy",
         "Heavy",
         "Rain",
         "300597",
         33.1,
         27.3,
         "Mostly cloudy",
         "NA",
         "NA"
        ],
        [
         "2025-06-01T07:00:00+08:00",
         "Intermittent clouds",
         "NA",
         "NA",
         "300597",
         33.6,
         27.5,
         "Partly cloudy",
         "NA",
         "NA"
        ],
        [
         "2025-05-28T07:00:00+08:00",
         "Partly sunny w/ t-storms",
         "Light",
         "Rain",
         "1603568",
         33.4,
         27.5,
         "Mostly cloudy w/ t-storms",
         "Moderate",
         "Rain"
        ],
        [
         "2025-05-29T07:00:00+08:00",
         "Thunderstorms",
         "Heavy",
         "Rain",
         "1603568",
         31.1,
         26.5,
         "Cloudy",
         "NA",
         "NA"
        ],
        [
         "2025-05-30T07:00:00+08:00",
         "Thunderstorms",
         "Light",
         "Rain",
         "1603568",
         32.9,
         27.0,
         "Partly cloudy",
         "NA",
         "NA"
        ],
        [
         "2025-05-31T07:00:00+08:00",
         "Cloudy",
         "Heavy",
         "Rain",
         "1603568",
         33.1,
         27.1,
         "Mostly cloudy",
         "NA",
         "NA"
        ],
        [
         "2025-06-01T07:00:00+08:00",
         "Intermittent clouds",
         "NA",
         "NA",
         "1603568",
         33.7,
         27.3,
         "Partly cloudy",
         "NA",
         "NA"
        ],
        [
         "2025-05-28T07:00:00+08:00",
         "Partly sunny w/ t-storms",
         "Moderate",
         "Rain",
         "300563",
         33.9,
         26.9,
         "Partly cloudy",
         "NA",
         "NA"
        ],
        [
         "2025-05-29T07:00:00+08:00",
         "Thunderstorms",
         "Moderate",
         "Rain",
         "300563",
         31.4,
         26.1,
         "Cloudy",
         "NA",
         "NA"
        ],
        [
         "2025-05-30T07:00:00+08:00",
         "Thunderstorms",
         "Moderate",
         "Rain",
         "300563",
         33.1,
         26.9,
         "Partly cloudy",
         "NA",
         "NA"
        ],
        [
         "2025-05-31T07:00:00+08:00",
         "Thunderstorms",
         "Heavy",
         "Rain",
         "300563",
         33.2,
         26.9,
         "Partly cloudy",
         "NA",
         "NA"
        ],
        [
         "2025-06-01T07:00:00+08:00",
         "Partly sunny",
         "Light",
         "Rain",
         "300563",
         33.7,
         26.9,
         "Partly cloudy",
         "NA",
         "NA"
        ]
       ],
       "datasetInfos": [],
       "dbfsResultPath": null,
       "isJsonSchema": true,
       "metadata": {},
       "overflow": false,
       "plotOptions": {
        "customPlotOptions": {},
        "displayType": "table",
        "pivotAggregation": null,
        "pivotColumns": null,
        "xColumns": null,
        "yColumns": null
       },
       "removedWidgets": [],
       "schema": [
        {
         "metadata": "{}",
         "name": "Date",
         "type": "\"string\""
        },
        {
         "metadata": "{}",
         "name": "day_IconPhrase",
         "type": "\"string\""
        },
        {
         "metadata": "{}",
         "name": "day_PrecipitationIntensity",
         "type": "\"string\""
        },
        {
         "metadata": "{}",
         "name": "day_PrecipitationType",
         "type": "\"string\""
        },
        {
         "metadata": "{}",
         "name": "location_key",
         "type": "\"string\""
        },
        {
         "metadata": "{}",
         "name": "max_temperature",
         "type": "\"double\""
        },
        {
         "metadata": "{}",
         "name": "min_temperature",
         "type": "\"double\""
        },
        {
         "metadata": "{}",
         "name": "night_IconPhrase",
         "type": "\"string\""
        },
        {
         "metadata": "{}",
         "name": "night_PrecipitationIntensity",
         "type": "\"string\""
        },
        {
         "metadata": "{}",
         "name": "night_PrecipitationType",
         "type": "\"string\""
        }
       ],
       "type": "table"
      }
     },
     "output_type": "display_data"
    }
   ],
   "source": [
    "from pyspark.sql.functions import explode, col\n",
    "\n",
    "# Extract daily forecasts and location key\n",
    "daily_forecasts = []\n",
    "for key, forecast in forecast_data.items():\n",
    "    for daily in forecast.get('DailyForecasts', []):\n",
    "        daily_forecasts.append({\n",
    "            'location_key': key,\n",
    "            'Date': daily.get('Date'),\n",
    "            'min_temperature': daily.get('Temperature', {}).get('Minimum', {}).get('Value'),\n",
    "            'max_temperature': daily.get('Temperature', {}).get('Maximum', {}).get('Value'),\n",
    "            'day_IconPhrase': daily.get('Day', {}).get('IconPhrase'),\n",
    "            'day_PrecipitationType': daily.get('Day', {}).get('PrecipitationType', 'NA'),\n",
    "            'day_PrecipitationIntensity': daily.get('Day', {}).get('PrecipitationIntensity','NA'),\n",
    "            'night_IconPhrase': daily.get('Night', {}).get('IconPhrase'),\n",
    "            'night_PrecipitationType': daily.get('Night', {}).get('PrecipitationType', 'NA'),\n",
    "            'night_PrecipitationIntensity': daily.get('Night', {}).get('PrecipitationIntensity', 'NA')\n",
    "        })\n",
    "\n",
    "# Create DataFrame\n",
    "df_weather = spark.createDataFrame(daily_forecasts)\n",
    "\n",
    "display(df_weather)"
   ]
  },
  {
   "cell_type": "code",
   "execution_count": 0,
   "metadata": {
    "application/vnd.databricks.v1+cell": {
     "cellMetadata": {
      "byteLimit": 2048000,
      "rowLimit": 10000
     },
     "inputWidgets": {},
     "nuid": "09583410-3671-4142-90c0-592b5ba2a946",
     "showTitle": false,
     "tableResultSettingsMap": {},
     "title": ""
    }
   },
   "outputs": [],
   "source": [
    "df_weather = df_weather.withColumn(\"date_only\", to_date(to_timestamp(\"Date\")))\n"
   ]
  },
  {
   "cell_type": "code",
   "execution_count": 0,
   "metadata": {
    "application/vnd.databricks.v1+cell": {
     "cellMetadata": {
      "byteLimit": 2048000,
      "rowLimit": 10000
     },
     "inputWidgets": {},
     "nuid": "6768051d-740d-4f6e-9f3f-c3fdfe202c74",
     "showTitle": false,
     "tableResultSettingsMap": {},
     "title": ""
    }
   },
   "outputs": [
    {
     "output_type": "stream",
     "name": "stdout",
     "output_type": "stream",
     "text": [
      "root\n |-- Date: string (nullable = true)\n |-- day_IconPhrase: string (nullable = true)\n |-- day_PrecipitationIntensity: string (nullable = true)\n |-- day_PrecipitationType: string (nullable = true)\n |-- location_key: string (nullable = true)\n |-- max_temperature: double (nullable = true)\n |-- min_temperature: double (nullable = true)\n |-- night_IconPhrase: string (nullable = true)\n |-- night_PrecipitationIntensity: string (nullable = true)\n |-- night_PrecipitationType: string (nullable = true)\n |-- date_only: date (nullable = true)\n\n"
     ]
    }
   ],
   "source": [
    "df_weather.printSchema()"
   ]
  },
  {
   "cell_type": "code",
   "execution_count": 0,
   "metadata": {
    "application/vnd.databricks.v1+cell": {
     "cellMetadata": {
      "byteLimit": 2048000,
      "rowLimit": 10000
     },
     "inputWidgets": {},
     "nuid": "c7885171-57e6-4e0f-8457-1cab46887146",
     "showTitle": false,
     "tableResultSettingsMap": {},
     "title": ""
    }
   },
   "outputs": [],
   "source": [
    "df_weather.write.format('delta').mode(\"overwrite\").option(\"overwriteSchema\", \"true\").saveAsTable(\"civAI.raw.accuweather_forecast_demo\")"
   ]
  }
 ],
 "metadata": {
  "application/vnd.databricks.v1+notebook": {
   "computePreferences": null,
   "dashboards": [],
   "environmentMetadata": {
    "base_environment": "",
    "environment_version": "2"
   },
   "inputWidgetPreferences": null,
   "language": "python",
   "notebookMetadata": {
    "mostRecentlyExecutedCommandWithImplicitDF": {
     "commandId": 8126433209571104,
     "dataframes": [
      "_sqldf"
     ]
    },
    "pythonIndentUnit": 4
   },
   "notebookName": "accuweather_lat_long",
   "widgets": {}
  },
  "language_info": {
   "name": "python"
  }
 },
 "nbformat": 4,
 "nbformat_minor": 0
}