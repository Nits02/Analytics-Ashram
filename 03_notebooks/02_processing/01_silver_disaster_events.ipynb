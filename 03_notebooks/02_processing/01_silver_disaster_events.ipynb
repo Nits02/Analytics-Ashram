{
 "cells": [
  {
   "cell_type": "code",
   "execution_count": null,
   "id": "a6bfff80",
   "metadata": {
    "vscode": {
     "languageId": "plaintext"
    }
   },
   "outputs": [],
   "source": [
    "from pyspark.sql.functions import col, to_date\n",
    "\n",
    "df = spark.read.table(\"civAI.raw.bronze_disaster_events\")\n",
    "\n",
    "df_cleaned = df.select(\n",
    "    col(\"disaster_id\"),\n",
    "    col(\"event_type\").alias(\"disaster_type\"),\n",
    "    to_date(col(\"start_date\"), \"yyyy-MM-dd\").alias(\"start_date\"),\n",
    "    to_date(col(\"end_date\"), \"yyyy-MM-dd\").alias(\"end_date\"),\n",
    "    col(\"location\").alias(\"region\"),\n",
    "    col(\"severity_index\").cast(\"double\"),\n",
    "    col(\"population_affected\").cast(\"int\"),\n",
    "    col(\"economic_damage_usd\").cast(\"double\")\n",
    ").filter(\n",
    "    col(\"start_date\").isNotNull()\n",
    ")\n",
    "\n",
    "df_cleaned.write.format(\"delta\").mode(\"overwrite\").saveAsTable(\"civAI.silver.silver_disaster_events\")\n"
   ]
  }
 ],
 "metadata": {
  "language_info": {
   "name": "python"
  }
 },
 "nbformat": 4,
 "nbformat_minor": 5
}
