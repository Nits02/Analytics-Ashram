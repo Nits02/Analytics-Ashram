{
 "cells": [
  {
   "cell_type": "code",
   "execution_count": null,
   "id": "f9e4440f",
   "metadata": {
    "vscode": {
     "languageId": "plaintext"
    }
   },
   "outputs": [],
   "source": [
    "from pyspark.sql.functions import col, when\n",
    "\n",
    "df = spark.read.table(\"civAI.raw.combined_age_population\")\n",
    "\n",
    "# Derive vulnerability score based on age brackets\n",
    "df_scored = df.withColumn(\n",
    "    \"vulnerability_score\",\n",
    "    when(col(\"age_group\").rlike(\"^(0|5|10|15)\"), 0.8)\n",
    "    .when(col(\"age_group\").rlike(\"^(65|70|75|80|85|90)\"), 0.9)\n",
    "    .otherwise(0.4)\n",
    ")\n",
    "\n",
    "df_scored.write.format(\"delta\").mode(\"overwrite\").saveAsTable(\"civAI.silver.silver_population_profiles\")\n"
   ]
  }
 ],
 "metadata": {
  "language_info": {
   "name": "python"
  }
 },
 "nbformat": 4,
 "nbformat_minor": 5
}
