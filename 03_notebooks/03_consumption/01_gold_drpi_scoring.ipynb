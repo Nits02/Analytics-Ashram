{
 "cells": [
  {
   "cell_type": "code",
   "execution_count": null,
   "id": "3034e2f0",
   "metadata": {
    "vscode": {
     "languageId": "plaintext"
    }
   },
   "outputs": [],
   "source": [
    "from pyspark.sql.functions import col, when, lit, avg\n",
    "\n",
    "# Read from silver_combined_indicators\n",
    "df = spark.read.table(\"civAI.silver.silver_combined_indicators\")\n",
    "\n",
    "# DRPI Component Scores\n",
    "df = df.withColumn(\"exposure_score\", when(col(\"disaster_type\").isNotNull(), 0.7).otherwise(0.3))\n",
    "df = df.withColumn(\"infra_score\", when(col(\"capacity\") > 1000, 0.9).otherwise(0.5))\n",
    "df = df.withColumn(\"policy_score\", when(col(\"budget_allocation_musd\") > 10, 0.8).otherwise(0.4))\n",
    "\n",
    "# Use normalized vulnerability_score as-is\n",
    "df = df.withColumn(\"vulnerability_score\", col(\"vulnerability_score\").cast(\"double\"))\n",
    "\n",
    "# Final DRPI Score\n",
    "df = df.withColumn(\"drpi_score\",\n",
    "    (col(\"exposure_score\") * 0.30) +\n",
    "    (col(\"vulnerability_score\") * 0.30) +\n",
    "    (col(\"infra_score\") * 0.20) +\n",
    "    (col(\"policy_score\") * 0.20)\n",
    ")\n",
    "\n",
    "# Select essential columns\n",
    "df_result = df.select(\n",
    "    \"region\", \"disaster_type\", \"start_date\", \"drpi_score\"\n",
    ").distinct()\n",
    "\n",
    "# Write to Gold Table\n",
    "df_result.write.format(\"delta\").mode(\"overwrite\").saveAsTable(\"civAI.gold.drpi_scores\")\n"
   ]
  }
 ],
 "metadata": {
  "language_info": {
   "name": "python"
  }
 },
 "nbformat": 4,
 "nbformat_minor": 5
}
