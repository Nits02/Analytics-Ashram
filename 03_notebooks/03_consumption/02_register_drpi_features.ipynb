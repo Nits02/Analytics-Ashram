{
 "cells": [
  {
   "cell_type": "code",
   "execution_count": null,
   "id": "f4ad459c",
   "metadata": {
    "vscode": {
     "languageId": "plaintext"
    }
   },
   "outputs": [],
   "source": [
    "from databricks.feature_store import FeatureStoreClient\n",
    "from pyspark.sql.functions import col\n",
    "\n",
    "fs = FeatureStoreClient()\n",
    "\n",
    "# Load gold data\n",
    "drpi_df = spark.read.table(\"civAI.gold.drpi_scores\")\n",
    "\n",
    "# Register features\n",
    "fs.create_table(\n",
    "    name=\"civAI.feature_store.drpi_features\",\n",
    "    primary_keys=[\"region\"],\n",
    "    df=drpi_df,\n",
    "    description=\"DRPI scores with disaster type and region for CivAI use case\"\n",
    ")\n"
   ]
  }
 ],
 "metadata": {
  "language_info": {
   "name": "python"
  }
 },
 "nbformat": 4,
 "nbformat_minor": 5
}
