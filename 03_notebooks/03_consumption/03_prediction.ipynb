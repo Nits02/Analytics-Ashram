{
 "cells": [
  {
   "cell_type": "code",
   "execution_count": null,
   "id": "074a5c58",
   "metadata": {
    "vscode": {
     "languageId": "plaintext"
    }
   },
   "outputs": [],
   "source": [
    "from databricks.feature_store import FeatureLookup\n",
    "from databricks.feature_store.mlflow import mlflow\n",
    "from sklearn.ensemble import RandomForestRegressor\n",
    "from sklearn.model_selection import train_test_split\n",
    "from sklearn.metrics import mean_squared_error\n",
    "import pandas as pd\n",
    "\n",
    "# Load features\n",
    "features = fs.read_table(\"civAI.feature_store.drpi_features\").toPandas()\n",
    "\n",
    "# ML training\n",
    "X = features[[\"exposure_score\", \"vulnerability_score\", \"infra_score\", \"policy_score\"]]\n",
    "y = features[\"drpi_score\"]\n",
    "\n",
    "X_train, X_test, y_train, y_test = train_test_split(X, y)\n",
    "model = RandomForestRegressor()\n",
    "model.fit(X_train, y_train)\n",
    "\n",
    "# Evaluate\n",
    "mse = mean_squared_error(y_test, model.predict(X_test))\n",
    "print(f\"DRPI Model MSE: {mse:.3f}\")\n"
   ]
  }
 ],
 "metadata": {
  "language_info": {
   "name": "python"
  }
 },
 "nbformat": 4,
 "nbformat_minor": 5
}
